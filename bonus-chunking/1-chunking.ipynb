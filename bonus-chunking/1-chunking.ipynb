{
 "cells": [
  {
   "cell_type": "markdown",
   "metadata": {},
   "source": [
    "## Chunking"
   ]
  },
  {
   "cell_type": "markdown",
   "metadata": {},
   "source": [
    "### What is chunking?\n",
    "\n",
    "![Chunking overview](assets/chunking_overview.jpg)"
   ]
  },
  {
   "cell_type": "markdown",
   "metadata": {},
   "source": [
    "### Why is chunking useful?\n",
    "\n",
    "![Chunking is useful for retrieval](assets/chunking_retrieval.jpg)"
   ]
  },
  {
   "cell_type": "markdown",
   "metadata": {},
   "source": [
    "## Chunking - basic concepts"
   ]
  },
  {
   "cell_type": "markdown",
   "metadata": {},
   "source": [
    "Here is a **long** piece of text:"
   ]
  },
  {
   "cell_type": "code",
   "execution_count": 3,
   "metadata": {},
   "outputs": [
    {
     "name": "stdout",
     "output_type": "stream",
     "text": [
      "[[what_is_git_section]]\n",
      "=== What is Git?\n",
      "\n",
      "So, what is Git in a nutshell?\n",
      "This is an important section to absorb, because if you understand what Git is and the fundamentals of how it works, then using Git effectively will probably be much easier for you.\n",
      "As you learn Git, try to clear your mind of the things you may know about other VCSs, such as CVS, Subversion or Perforce -- doing so will help you avoid subtle confusion when using the tool.\n",
      "Even though Git's user interface is fairly similar to these other VCSs, Git stores and thinks about information in a very different way, and understanding these differences will help you avoid becoming confused while using it.(((Subversion)))(((Perforce)))\n",
      "\n",
      "==== Snapshots, Not Differences\n",
      "\n",
      "The major difference between Git and any other VCS (Subversion and friends included) is the way Git thinks about its data.\n",
      "Conceptually, most other systems store information as a list of file-based changes.\n",
      "These other systems (CVS, Subversion, Perforce, and so on) think of the information they store as a set of files and the changes made to each file over time (this is commonly described as _delta-based_ version control).\n",
      "\n",
      ".Storing data as changes to a base version of each file\n",
      "image::images/deltas.png[Storing data as changes to a base version of each file]\n",
      "\n",
      "Git doesn't think of or store its data this way.\n",
      "Instead, Git thinks of its data more like a series of snapshots of a miniature filesystem.\n",
      "With Git, every time you commit, or save the state of your project, Git basically takes a picture of what all your files look like at that moment and stores a reference to that snapshot.\n",
      "To be efficient, if files have not changed, Git doesn't store the file again, just a link to the previous identical file it has already stored.\n",
      "Git thinks about its data more like a *stream of snapshots*.\n",
      "\n",
      ".Storing data as snapshots of the project over time\n",
      "image::images/snapshots.png[Git stores data as snapshots of the project over time]\n",
      "\n",
      "This is an important distinction between Git and nearly all other VCSs.\n",
      "It makes Git reconsider almost every aspect of version control that most other systems copied from the previous generation.\n",
      "This makes Git more like a mini filesystem with some incredibly powerful tools built on top of it, rather than simply a VCS.\n",
      "We'll explore some of the benefits you gain by thinking of your data this way when we cover Git branching in <<ch03-git-branching#ch03-git-branching>>.\n",
      "\n",
      "==== Nearly Every Operation Is Local\n",
      "\n",
      "Most operations in Git need only local files and resources to operate -- generally no information is needed from another computer on your network.\n",
      "If you're used to a CVCS where most operations have that network latency overhead, this aspect of Git will make you think that the gods of speed have blessed Git with unworldly powers.\n",
      "Because you have the entire history of the project right there on your local disk, most operations seem almost instantaneous.\n",
      "\n",
      "For example, to browse the history of the project, Git doesn't need to go out to the server to get the history and display it for you -- it simply reads it directly from your local database.\n",
      "This means you see the project history almost instantly.\n",
      "If you want to see the changes introduced between the current version of a file and the file a month ago, Git can look up the file a month ago and do a local difference calculation, instead of having to either ask a remote server to do it or pull an older version of the file from the remote server to do it locally.\n",
      "\n",
      "This also means that there is very little you can't do if you're offline or off VPN.\n",
      "If you get on an airplane or a train and want to do a little work, you can commit happily (to your _local_ copy, remember?) until you get to a network connection to upload.\n",
      "If you go home and can't get your VPN client working properly, you can still work.\n",
      "In many other systems, doing so is either impossible or painful.\n",
      "In Perforce, for example, you can't do much when you aren't connected to the server; in Subversion and CVS, you can edit files, but you can't commit changes to your database (because your database is offline).\n",
      "This may not seem like a huge deal, but you may be surprised what a big difference it can make.\n",
      "\n",
      "==== Git Has Integrity\n",
      "\n",
      "Everything in Git is checksummed before it is stored and is then referred to by that checksum.\n",
      "This means it's impossible to change the contents of any file or directory without Git knowing about it.\n",
      "This functionality is built into Git at the lowest levels and is integral to its philosophy.\n",
      "You can't lose information in transit or get file corruption without Git being able to detect it.\n",
      "\n",
      "The mechanism that Git uses for this checksumming is called a SHA-1 hash.(((SHA-1)))\n",
      "This is a 40-character string composed of hexadecimal characters (0–9 and a–f) and calculated based on the contents of a file or directory structure in Git.\n",
      "A SHA-1 hash looks something like this:\n",
      "\n",
      "[source]\n",
      "----\n",
      "24b9da6552252987aa493b52f8696cd6d3b00373\n",
      "----\n",
      "\n",
      "You will see these hash values all over the place in Git because it uses them so much.\n",
      "In fact, Git stores everything in its database not by file name but by the hash value of its contents.\n",
      "\n",
      "==== Git Generally Only Adds Data\n",
      "\n",
      "When you do actions in Git, nearly all of them only _add_ data to the Git database.\n",
      "It is hard to get the system to do anything that is not undoable or to make it erase data in any way.\n",
      "As with any VCS, you can lose or mess up changes you haven't committed yet, but after you commit a snapshot into Git, it is very difficult to lose, especially if you regularly push your database to another repository.\n",
      "\n",
      "This makes using Git a joy because we know we can experiment without the danger of severely screwing things up.\n",
      "For a more in-depth look at how Git stores its data and how you can recover data that seems lost, see <<ch02-git-basics-chapter#_undoing>>.\n",
      "\n",
      "==== The Three States\n",
      "\n",
      "Pay attention now -- here is the main thing to remember about Git if you want the rest of your learning process to go smoothly.\n",
      "Git has three main states that your files can reside in: _modified_, _staged_, and _committed_:\n",
      "\n",
      "* Modified means that you have changed the file but have not committed it to your database yet.\n",
      "* Staged means that you have marked a modified file in its current version to go into your next commit snapshot.\n",
      "* Committed means that the data is safely stored in your local database.\n",
      "\n",
      "This leads us to the three main sections of a Git project: the working tree, the staging area, and the Git directory.\n",
      "\n",
      ".Working tree, staging area, and Git directory\n",
      "image::images/areas.png[\"Working tree, staging area, and Git directory\"]\n",
      "\n",
      "The working tree is a single checkout of one version of the project.\n",
      "These files are pulled out of the compressed database in the Git directory and placed on disk for you to use or modify.\n",
      "\n",
      "The staging area is a file, generally contained in your Git directory, that stores information about what will go into your next commit.\n",
      "Its technical name in Git parlance is the \"`index`\", but the phrase \"`staging area`\" works just as well.\n",
      "\n",
      "The Git directory is where Git stores the metadata and object database for your project.\n",
      "This is the most important part of Git, and it is what is copied when you _clone_ a repository from another computer.\n",
      "\n",
      "The basic Git workflow goes something like this:\n",
      "\n",
      "1. You modify files in your working tree.\n",
      "2. You selectively stage just those changes you want to be part of your next commit, which adds _only_ those changes to the staging area.\n",
      "3. You do a commit, which takes the files as they are in the staging area and stores that snapshot permanently to your Git directory.\n",
      "\n",
      "If a particular version of a file is in the Git directory, it's considered _committed_.\n",
      "If it has been modified and was added to the staging area, it is _staged_.\n",
      "And if it was changed since it was checked out but has not been staged, it is _modified_.\n",
      "In <<ch02-git-basics-chapter#ch02-git-basics-chapter>>, you'll learn more about these states and how you can either take advantage of them or skip the staged part entirely.\n",
      "\n"
     ]
    }
   ],
   "source": [
    "import requests\n",
    "\n",
    "url = \"https://raw.githubusercontent.com/progit/progit2/main/book/01-introduction/sections/what-is-git.asc\"\n",
    "source_text = requests.get(url).text\n",
    "\n",
    "print(source_text)"
   ]
  },
  {
   "cell_type": "markdown",
   "metadata": {},
   "source": [
    "### Chunking by size"
   ]
  },
  {
   "cell_type": "code",
   "execution_count": 1,
   "metadata": {},
   "outputs": [],
   "source": [
    "from typing import List\n",
    "\n",
    "def word_splitter(source_text: str) -> List[str]:\n",
    "    \"\"\"\n",
    "    Split the text into a list of words\n",
    "    Replace multiple whitespaces with a single whitespace, then split by whitespace\n",
    "    \"\"\"\n",
    "    import re\n",
    "    source_text = re.sub(\"\\s+\", \" \", source_text)  # Replace multiple whitespces\n",
    "    return re.split(\"\\s\", source_text)  # Return a list of words\n",
    "\n",
    "def get_chunks_fixed_size(text: str, chunk_size: int) -> List[str]:\n",
    "    \"\"\"\n",
    "    Split the text into chunks of fixed size\n",
    "    Use word_splitter to split the text into groups of `chunk_size` words\n",
    "    \"\"\"\n",
    "    text_words = word_splitter(text)\n",
    "    chunks = []\n",
    "    for i in range(0, len(text_words), chunk_size):\n",
    "        chunk_words = text_words[i: i + chunk_size]\n",
    "        chunk = \" \".join(chunk_words)\n",
    "        chunks.append(chunk)\n",
    "    return chunks"
   ]
  },
  {
   "cell_type": "markdown",
   "metadata": {},
   "source": [
    "#### Try it out\n",
    "\n",
    "Let's use multiple chunk sizes:"
   ]
  },
  {
   "cell_type": "code",
   "execution_count": 4,
   "metadata": {},
   "outputs": [
    {
     "name": "stdout",
     "output_type": "stream",
     "text": [
      "\n",
      "Size 5 - 281 chunks returned.\n",
      "Chunk 1: [[what_is_git_section]] === What is Git?\n",
      "Chunk 2: So, what is Git in\n",
      "Chunk 3: a nutshell? This is an\n",
      "\n",
      "Size 25 - 57 chunks returned.\n",
      "Chunk 1: [[what_is_git_section]] === What is Git? So, what is Git in a nutshell? This is an important section to absorb, because if you understand what Git\n",
      "Chunk 2: is and the fundamentals of how it works, then using Git effectively will probably be much easier for you. As you learn Git, try to\n",
      "Chunk 3: clear your mind of the things you may know about other VCSs, such as CVS, Subversion or Perforce -- doing so will help you avoid\n",
      "\n",
      "Size 100 - 15 chunks returned.\n",
      "Chunk 1: [[what_is_git_section]] === What is Git? So, what is Git in a nutshell? This is an important section to absorb, because if you understand what Git is and the fundamentals of how it works, then using Git effectively will probably be much easier for you. As you learn Git, try to clear your mind of the things you may know about other VCSs, such as CVS, Subversion or Perforce -- doing so will help you avoid subtle confusion when using the tool. Even though Git's user interface is fairly similar to these other VCSs, Git stores and thinks about information in\n",
      "Chunk 2: a very different way, and understanding these differences will help you avoid becoming confused while using it.(((Subversion)))(((Perforce))) ==== Snapshots, Not Differences The major difference between Git and any other VCS (Subversion and friends included) is the way Git thinks about its data. Conceptually, most other systems store information as a list of file-based changes. These other systems (CVS, Subversion, Perforce, and so on) think of the information they store as a set of files and the changes made to each file over time (this is commonly described as _delta-based_ version control). .Storing data as changes to a base version of\n",
      "Chunk 3: each file image::images/deltas.png[Storing data as changes to a base version of each file] Git doesn't think of or store its data this way. Instead, Git thinks of its data more like a series of snapshots of a miniature filesystem. With Git, every time you commit, or save the state of your project, Git basically takes a picture of what all your files look like at that moment and stores a reference to that snapshot. To be efficient, if files have not changed, Git doesn't store the file again, just a link to the previous identical file it has already stored.\n"
     ]
    }
   ],
   "source": [
    "for chosen_size in [5, 25, 100]:\n",
    "    chunks = get_chunks_fixed_size(source_text, chosen_size)\n",
    "    # Print outputs to screen\n",
    "    print(f\"\\nSize {chosen_size} - {len(chunks)} chunks returned.\")\n",
    "    for i in range(3):\n",
    "        print(f\"Chunk {i+1}: {chunks[i]}\")"
   ]
  },
  {
   "cell_type": "markdown",
   "metadata": {},
   "source": [
    "### Chunking by text structure\n",
    "\n",
    "This is another good option, as it preserves natural groups of text, such as paragraphs, or sections of text. \n",
    "\n",
    "If the text includes headings with a specific format, you can use those to chunk the text as well. "
   ]
  },
  {
   "cell_type": "code",
   "execution_count": 7,
   "metadata": {},
   "outputs": [
    {
     "name": "stdout",
     "output_type": "stream",
     "text": [
      "\n",
      "Using the marker: '\\n\\n' - 31 chunks returned.\n",
      "Chunk 1: '[[what_is_git_section]]\\n=== What is Git?'\n",
      "Chunk 2: \"So, what is Git in a nutshell?\\nThis is an important section to absorb, because if you understand what Git is and the fundamentals of how it works, then using Git effectively will probably be much easier for you.\\nAs you learn Git, try to clear your mind of the things you may know about other VCSs, such as CVS, Subversion or Perforce -- doing so will help you avoid subtle confusion when using the tool.\\nEven though Git's user interface is fairly similar to these other VCSs, Git stores and thinks about information in a very different way, and understanding these differences will help you avoid becoming confused while using it.(((Subversion)))(((Perforce)))\"\n",
      "Chunk 3: '==== Snapshots, Not Differences'\n",
      "Chunk 4: 'The major difference between Git and any other VCS (Subversion and friends included) is the way Git thinks about its data.\\nConceptually, most other systems store information as a list of file-based changes.\\nThese other systems (CVS, Subversion, Perforce, and so on) think of the information they store as a set of files and the changes made to each file over time (this is commonly described as _delta-based_ version control).'\n",
      "Chunk 5: '.Storing data as changes to a base version of each file\\nimage::images/deltas.png[Storing data as changes to a base version of each file]'\n",
      "Chunk 6: \"Git doesn't think of or store its data this way.\\nInstead, Git thinks of its data more like a series of snapshots of a miniature filesystem.\\nWith Git, every time you commit, or save the state of your project, Git basically takes a picture of what all your files look like at that moment and stores a reference to that snapshot.\\nTo be efficient, if files have not changed, Git doesn't store the file again, just a link to the previous identical file it has already stored.\\nGit thinks about its data more like a *stream of snapshots*.\"\n",
      "Chunk 7: '.Storing data as snapshots of the project over time\\nimage::images/snapshots.png[Git stores data as snapshots of the project over time]'\n",
      "Chunk 8: \"This is an important distinction between Git and nearly all other VCSs.\\nIt makes Git reconsider almost every aspect of version control that most other systems copied from the previous generation.\\nThis makes Git more like a mini filesystem with some incredibly powerful tools built on top of it, rather than simply a VCS.\\nWe'll explore some of the benefits you gain by thinking of your data this way when we cover Git branching in <<ch03-git-branching#ch03-git-branching>>.\"\n",
      "Chunk 9: '==== Nearly Every Operation Is Local'\n",
      "Chunk 10: \"Most operations in Git need only local files and resources to operate -- generally no information is needed from another computer on your network.\\nIf you're used to a CVCS where most operations have that network latency overhead, this aspect of Git will make you think that the gods of speed have blessed Git with unworldly powers.\\nBecause you have the entire history of the project right there on your local disk, most operations seem almost instantaneous.\"\n",
      "\n",
      "Using the marker: '\\n==' - 7 chunks returned.\n",
      "Chunk 1: '[[what_is_git_section]]'\n",
      "Chunk 2: \"= What is Git?\\n\\nSo, what is Git in a nutshell?\\nThis is an important section to absorb, because if you understand what Git is and the fundamentals of how it works, then using Git effectively will probably be much easier for you.\\nAs you learn Git, try to clear your mind of the things you may know about other VCSs, such as CVS, Subversion or Perforce -- doing so will help you avoid subtle confusion when using the tool.\\nEven though Git's user interface is fairly similar to these other VCSs, Git stores and thinks about information in a very different way, and understanding these differences will help you avoid becoming confused while using it.(((Subversion)))(((Perforce)))\\n\"\n",
      "Chunk 3: \"== Snapshots, Not Differences\\n\\nThe major difference between Git and any other VCS (Subversion and friends included) is the way Git thinks about its data.\\nConceptually, most other systems store information as a list of file-based changes.\\nThese other systems (CVS, Subversion, Perforce, and so on) think of the information they store as a set of files and the changes made to each file over time (this is commonly described as _delta-based_ version control).\\n\\n.Storing data as changes to a base version of each file\\nimage::images/deltas.png[Storing data as changes to a base version of each file]\\n\\nGit doesn't think of or store its data this way.\\nInstead, Git thinks of its data more like a series of snapshots of a miniature filesystem.\\nWith Git, every time you commit, or save the state of your project, Git basically takes a picture of what all your files look like at that moment and stores a reference to that snapshot.\\nTo be efficient, if files have not changed, Git doesn't store the file again, just a link to the previous identical file it has already stored.\\nGit thinks about its data more like a *stream of snapshots*.\\n\\n.Storing data as snapshots of the project over time\\nimage::images/snapshots.png[Git stores data as snapshots of the project over time]\\n\\nThis is an important distinction between Git and nearly all other VCSs.\\nIt makes Git reconsider almost every aspect of version control that most other systems copied from the previous generation.\\nThis makes Git more like a mini filesystem with some incredibly powerful tools built on top of it, rather than simply a VCS.\\nWe'll explore some of the benefits you gain by thinking of your data this way when we cover Git branching in <<ch03-git-branching#ch03-git-branching>>.\\n\"\n",
      "Chunk 4: \"== Nearly Every Operation Is Local\\n\\nMost operations in Git need only local files and resources to operate -- generally no information is needed from another computer on your network.\\nIf you're used to a CVCS where most operations have that network latency overhead, this aspect of Git will make you think that the gods of speed have blessed Git with unworldly powers.\\nBecause you have the entire history of the project right there on your local disk, most operations seem almost instantaneous.\\n\\nFor example, to browse the history of the project, Git doesn't need to go out to the server to get the history and display it for you -- it simply reads it directly from your local database.\\nThis means you see the project history almost instantly.\\nIf you want to see the changes introduced between the current version of a file and the file a month ago, Git can look up the file a month ago and do a local difference calculation, instead of having to either ask a remote server to do it or pull an older version of the file from the remote server to do it locally.\\n\\nThis also means that there is very little you can't do if you're offline or off VPN.\\nIf you get on an airplane or a train and want to do a little work, you can commit happily (to your _local_ copy, remember?) until you get to a network connection to upload.\\nIf you go home and can't get your VPN client working properly, you can still work.\\nIn many other systems, doing so is either impossible or painful.\\nIn Perforce, for example, you can't do much when you aren't connected to the server; in Subversion and CVS, you can edit files, but you can't commit changes to your database (because your database is offline).\\nThis may not seem like a huge deal, but you may be surprised what a big difference it can make.\\n\"\n",
      "Chunk 5: \"== Git Has Integrity\\n\\nEverything in Git is checksummed before it is stored and is then referred to by that checksum.\\nThis means it's impossible to change the contents of any file or directory without Git knowing about it.\\nThis functionality is built into Git at the lowest levels and is integral to its philosophy.\\nYou can't lose information in transit or get file corruption without Git being able to detect it.\\n\\nThe mechanism that Git uses for this checksumming is called a SHA-1 hash.(((SHA-1)))\\nThis is a 40-character string composed of hexadecimal characters (0–9 and a–f) and calculated based on the contents of a file or directory structure in Git.\\nA SHA-1 hash looks something like this:\\n\\n[source]\\n----\\n24b9da6552252987aa493b52f8696cd6d3b00373\\n----\\n\\nYou will see these hash values all over the place in Git because it uses them so much.\\nIn fact, Git stores everything in its database not by file name but by the hash value of its contents.\\n\"\n",
      "Chunk 6: \"== Git Generally Only Adds Data\\n\\nWhen you do actions in Git, nearly all of them only _add_ data to the Git database.\\nIt is hard to get the system to do anything that is not undoable or to make it erase data in any way.\\nAs with any VCS, you can lose or mess up changes you haven't committed yet, but after you commit a snapshot into Git, it is very difficult to lose, especially if you regularly push your database to another repository.\\n\\nThis makes using Git a joy because we know we can experiment without the danger of severely screwing things up.\\nFor a more in-depth look at how Git stores its data and how you can recover data that seems lost, see <<ch02-git-basics-chapter#_undoing>>.\\n\"\n",
      "Chunk 7: '== The Three States\\n\\nPay attention now -- here is the main thing to remember about Git if you want the rest of your learning process to go smoothly.\\nGit has three main states that your files can reside in: _modified_, _staged_, and _committed_:\\n\\n* Modified means that you have changed the file but have not committed it to your database yet.\\n* Staged means that you have marked a modified file in its current version to go into your next commit snapshot.\\n* Committed means that the data is safely stored in your local database.\\n\\nThis leads us to the three main sections of a Git project: the working tree, the staging area, and the Git directory.\\n\\n.Working tree, staging area, and Git directory\\nimage::images/areas.png[\"Working tree, staging area, and Git directory\"]\\n\\nThe working tree is a single checkout of one version of the project.\\nThese files are pulled out of the compressed database in the Git directory and placed on disk for you to use or modify.\\n\\nThe staging area is a file, generally contained in your Git directory, that stores information about what will go into your next commit.\\nIts technical name in Git parlance is the \"`index`\", but the phrase \"`staging area`\" works just as well.\\n\\nThe Git directory is where Git stores the metadata and object database for your project.\\nThis is the most important part of Git, and it is what is copied when you _clone_ a repository from another computer.\\n\\nThe basic Git workflow goes something like this:\\n\\n1. You modify files in your working tree.\\n2. You selectively stage just those changes you want to be part of your next commit, which adds _only_ those changes to the staging area.\\n3. You do a commit, which takes the files as they are in the staging area and stores that snapshot permanently to your Git directory.\\n\\nIf a particular version of a file is in the Git directory, it\\'s considered _committed_.\\nIf it has been modified and was added to the staging area, it is _staged_.\\nAnd if it was changed since it was checked out but has not been staged, it is _modified_.\\nIn <<ch02-git-basics-chapter#ch02-git-basics-chapter>>, you\\'ll learn more about these states and how you can either take advantage of them or skip the staged part entirely.\\n'\n"
     ]
    },
    {
     "ename": "IndexError",
     "evalue": "list index out of range",
     "output_type": "error",
     "traceback": [
      "\u001b[0;31m---------------------------------------------------------------------------\u001b[0m",
      "\u001b[0;31mIndexError\u001b[0m                                Traceback (most recent call last)",
      "Cell \u001b[0;32mIn[7], line 7\u001b[0m\n\u001b[1;32m      5\u001b[0m \u001b[38;5;28mprint\u001b[39m(\u001b[38;5;124mf\u001b[39m\u001b[38;5;124m\"\u001b[39m\u001b[38;5;130;01m\\n\u001b[39;00m\u001b[38;5;124mUsing the marker: \u001b[39m\u001b[38;5;132;01m{\u001b[39;00m\u001b[38;5;28mrepr\u001b[39m(marker)\u001b[38;5;132;01m}\u001b[39;00m\u001b[38;5;124m - \u001b[39m\u001b[38;5;132;01m{\u001b[39;00m\u001b[38;5;28mlen\u001b[39m(chunks)\u001b[38;5;132;01m}\u001b[39;00m\u001b[38;5;124m chunks returned.\u001b[39m\u001b[38;5;124m\"\u001b[39m)\n\u001b[1;32m      6\u001b[0m \u001b[38;5;28;01mfor\u001b[39;00m i \u001b[38;5;129;01min\u001b[39;00m \u001b[38;5;28mrange\u001b[39m(\u001b[38;5;241m10\u001b[39m):\n\u001b[0;32m----> 7\u001b[0m     \u001b[38;5;28mprint\u001b[39m(\u001b[38;5;124mf\u001b[39m\u001b[38;5;124m\"\u001b[39m\u001b[38;5;124mChunk \u001b[39m\u001b[38;5;132;01m{\u001b[39;00mi\u001b[38;5;241m+\u001b[39m\u001b[38;5;241m1\u001b[39m\u001b[38;5;132;01m}\u001b[39;00m\u001b[38;5;124m: \u001b[39m\u001b[38;5;132;01m{\u001b[39;00m\u001b[38;5;28mrepr\u001b[39m(\u001b[43mchunks\u001b[49m\u001b[43m[\u001b[49m\u001b[43mi\u001b[49m\u001b[43m]\u001b[49m)\u001b[38;5;132;01m}\u001b[39;00m\u001b[38;5;124m\"\u001b[39m)\n",
      "\u001b[0;31mIndexError\u001b[0m: list index out of range"
     ]
    }
   ],
   "source": [
    "# Chunk text by particular marker\n",
    "for marker in [\"\\n\\n\", \"\\n==\"]:  # Different markers to try (newline, heading marker in AsciiDoc)\n",
    "    chunks = source_text.split(marker)\n",
    "    # Print outputs to screen\n",
    "    print(f\"\\nUsing the marker: {repr(marker)} - {len(chunks)} chunks returned.\")\n",
    "    for i in range(3):\n",
    "        print(f\"Chunk {i+1}: {repr(chunks[i])}\")"
   ]
  },
  {
   "cell_type": "markdown",
   "metadata": {},
   "source": [
    "### Reflections / Discussions\n",
    "\n",
    "Which of these would be best?"
   ]
  },
  {
   "cell_type": "markdown",
   "metadata": {},
   "source": [
    "It depends, but paragraph-based chunking can be a good choice, and if a word count is used, 100-150 words is a good starting point."
   ]
  },
  {
   "cell_type": "markdown",
   "metadata": {},
   "source": [
    "## Add data to Weaviate"
   ]
  },
  {
   "cell_type": "code",
   "execution_count": 5,
   "metadata": {},
   "outputs": [],
   "source": [
    "import weaviate\n",
    "import weaviate.classes.config as wc\n",
    "import os\n",
    "import requests\n",
    "\n",
    "client = weaviate.connect_to_local(\n",
    "    headers={\n",
    "        \"X-OpenAI-Api-Key\": os.getenv(\"OPENAI_API_KEY\"),\n",
    "        \"X-Cohere-Api-Key\": os.getenv(\"COHERE_API_KEY\"),\n",
    "    }\n",
    ")\n",
    "\n",
    "\n",
    "# Create a new collection\n",
    "client.collections.delete([\"BookChunk\"])  # Delete the collection if it already exists (for the sake of re-runs)\n",
    "\n",
    "client.collections.create(\n",
    "    name=\"BookChunk\",\n",
    "    properties=[\n",
    "        wc.Property(name=\"title\", data_type=wc.DataType.TEXT),\n",
    "        wc.Property(name=\"text\", data_type=wc.DataType.TEXT),\n",
    "        wc.Property(name=\"chunk_no\", data_type=wc.DataType.INT),\n",
    "    ],\n",
    "    vectorizer_config=wc.Configure.Vectorizer.text2vec_cohere(),\n",
    "    generative_config=wc.Configure.Generative.openai(),\n",
    ")\n",
    "\n",
    "\n",
    "# Get chunk data\n",
    "url = \"https://raw.githubusercontent.com/progit/progit2/main/book/01-introduction/sections/what-is-git.asc\"\n",
    "source_text = requests.get(url).text\n",
    "\n",
    "CHUNK_SIZE = 100\n",
    "chunks = get_chunks_fixed_size(source_text, CHUNK_SIZE)\n",
    "\n",
    "\n",
    "# Add the chunks to the collection\n",
    "chunks_collection = client.collections.get(\"BookChunk\")\n",
    "\n",
    "with chunks_collection.batch.rate_limit(2400) as batch:\n",
    "    for i, chunk in enumerate(chunks):\n",
    "        batch.add_object(\n",
    "            properties={\n",
    "                \"title\": \"Pro Git\",\n",
    "                \"text\": chunk,\n",
    "                \"chunk_no\": i+1,  # Start from 1\n",
    "            }\n",
    "        )"
   ]
  },
  {
   "cell_type": "code",
   "execution_count": 6,
   "metadata": {},
   "outputs": [
    {
     "name": "stdout",
     "output_type": "stream",
     "text": [
      "Pro Git text: 1\n",
      "[[what_is_git_section]] === What is Git? So, what is Git in a nutshell? This is an important section to absorb, because if you understand what Git is and the fundamentals of how it works, then using Git effectively will probably be much easier for you. As you learn Git, try to clear your mind of the things you may know about other VCSs, such as CVS, Subversion or Perforce -- doing so will help you avoid subtle confusion when using the tool. Even though Git's user interface is fairly similar to these other VCSs, Git stores and thinks about information in\n",
      "\n",
      "Pro Git text: 13\n",
      "that stores information about what will go into your next commit. Its technical name in Git parlance is the \"`index`\", but the phrase \"`staging area`\" works just as well. The Git directory is where Git stores the metadata and object database for your project. This is the most important part of Git, and it is what is copied when you _clone_ a repository from another computer. The basic Git workflow goes something like this: 1. You modify files in your working tree. 2. You selectively stage just those changes you want to be part of your next commit, which adds\n",
      "\n"
     ]
    }
   ],
   "source": [
    "response = chunks_collection.query.near_text(\"how git works\", limit=2)\n",
    "for o in response.objects:\n",
    "    print(o.properties[\"title\"], \"text:\", o.properties[\"chunk_no\"])\n",
    "    print(o.properties[\"text\"])\n",
    "    print()"
   ]
  },
  {
   "cell_type": "markdown",
   "metadata": {},
   "source": [
    "## Chunking in RAG\n",
    "\n",
    "Chunking is very useful, if not essential in RAG"
   ]
  },
  {
   "cell_type": "markdown",
   "metadata": {},
   "source": [
    "Lets you pass on just relevant parts to the generative AI as context. \n",
    "\n",
    "![Chunking is useful for rag](assets/chunking_rag_one_doc.jpg)"
   ]
  },
  {
   "cell_type": "code",
   "execution_count": 7,
   "metadata": {},
   "outputs": [
    {
     "name": "stdout",
     "output_type": "stream",
     "text": [
      "Git is a tool that helps you keep track of changes you make to your files. It has a staging area where you can choose which changes to save. The Git directory stores important information about your project. The basic workflow involves modifying files, staging changes, and then committing them.\n"
     ]
    }
   ],
   "source": [
    "response = chunks_collection.generate.near_text(\n",
    "    \"how git works\",\n",
    "    limit=2,\n",
    "    grouped_task=\"Summarize the key points here like I am five.\"\n",
    ")\n",
    "print(response.generated)"
   ]
  },
  {
   "cell_type": "code",
   "execution_count": 8,
   "metadata": {},
   "outputs": [
    {
     "name": "stdout",
     "output_type": "stream",
     "text": [
      "🔑 What is Git:\n",
      "- Understand the fundamentals of Git to use it effectively\n",
      "- Clear your mind of knowledge from other VCSs\n",
      "- Git stores information in a staging area and Git directory\n",
      "\n",
      "🔑 Basic Git workflow:\n",
      "- Modify files in working tree\n",
      "- Stage changes for next commit\n",
      "- Git directory stores metadata and object database\n",
      "\n",
      "🔑 Git terminology:\n",
      "- Staging area = index\n",
      "- Git directory is crucial for storing project data\n",
      "\n",
      "🔑 Remember:\n",
      "- Git's user interface is similar to other VCSs\n",
      "- Clear understanding of Git basics is key for effective usage\n"
     ]
    }
   ],
   "source": [
    "response = chunks_collection.generate.near_text(\n",
    "    \"how git works\",\n",
    "    limit=2,\n",
    "    grouped_task=\"Summarize the key points in bullet points. Use many emojis to make it interesting and fun like a social post.\"\n",
    ")\n",
    "print(response.generated)"
   ]
  },
  {
   "cell_type": "markdown",
   "metadata": {},
   "source": [
    "For comparison, try performing RAG with the full document:"
   ]
  },
  {
   "cell_type": "code",
   "execution_count": 9,
   "metadata": {},
   "outputs": [
    {
     "name": "stdout",
     "output_type": "stream",
     "text": [
      "- Git stores data as snapshots 📸\n",
      "- Git is a mini filesystem with powerful tools 🛠️\n",
      "- Most operations in Git are local 🏠\n",
      "- Git has integrity with checksums 🔒\n",
      "- Git generally only adds data, hard to lose 📈\n",
      "- Three main states in Git: modified, staged, committed 🔄\n",
      "- Git workflow: modify files, stage changes, commit snapshot 🔄\n",
      "- Working tree, staging area, Git directory 🌳\n",
      "- Git uses SHA-1 hash for checksumming 🔢\n"
     ]
    }
   ],
   "source": [
    "# Add the full text to the collection\n",
    "client.collections.delete([\"Book\"])  # Delete the collection if it already exists (for the sake of re-runs)\n",
    "book_collection = client.collections.get(\"Book\")\n",
    "\n",
    "client.collections.create(\n",
    "    name=\"Book\",\n",
    "    properties=[\n",
    "        wc.Property(name=\"title\", data_type=wc.DataType.TEXT),\n",
    "        wc.Property(name=\"text\", data_type=wc.DataType.TEXT),\n",
    "    ],\n",
    "    vectorizer_config=wc.Configure.Vectorizer.text2vec_cohere(),\n",
    "    generative_config=wc.Configure.Generative.openai(),\n",
    ")\n",
    "\n",
    "book_collection.data.insert(\n",
    "    properties={\n",
    "        \"title\": \"Pro Git\",\n",
    "        \"text\": source_text,\n",
    "    }\n",
    ")\n",
    "\n",
    "response = book_collection.generate.near_text(\n",
    "    \"how git works\",\n",
    "    limit=2,\n",
    "    grouped_task=\"Summarize the key points in bullet points. Use many emojis to make it interesting and fun like a social post.\"\n",
    ")\n",
    "print(response.generated)"
   ]
  },
  {
   "cell_type": "markdown",
   "metadata": {},
   "source": [
    "⬆️ This is thorough, but it's just summarized the entire chapter, not the specific section we're interested in.\n",
    "\n",
    "**Unless we've chunked the text, there's no way to retrieve just the parts we're interested in.**"
   ]
  },
  {
   "cell_type": "markdown",
   "metadata": {},
   "source": [
    "### This is why chunking is so important in RAG\n",
    "\n",
    "This is even more important when you have many documents, or the document is very long. \n",
    "\n",
    "If we don't filter out information, it might not fit into a context window, or the model might get confused by irrelevant information.\n",
    "\n",
    "![Chunking is useful for rag](assets/chunking_rag_many_docs.jpg)\n",
    "\n",
    "Also, many LLMs work better when the input includes less low-relevance information."
   ]
  }
 ],
 "metadata": {
  "kernelspec": {
   "display_name": ".venv",
   "language": "python",
   "name": "python3"
  },
  "language_info": {
   "codemirror_mode": {
    "name": "ipython",
    "version": 3
   },
   "file_extension": ".py",
   "mimetype": "text/x-python",
   "name": "python",
   "nbconvert_exporter": "python",
   "pygments_lexer": "ipython3",
   "version": "3.11.8"
  }
 },
 "nbformat": 4,
 "nbformat_minor": 2
}
