{
 "cells": [
  {
   "cell_type": "markdown",
   "metadata": {},
   "source": [
    "# Step 1 - connect as the user"
   ]
  },
  {
   "cell_type": "code",
   "execution_count": null,
   "metadata": {},
   "outputs": [],
   "source": [
    "import weaviate\n",
    "from weaviate.classes.init import Auth\n",
    "\n",
    "client = weaviate.connect_to_local(\n",
    "    auth_credentials=Auth.api_key(\"enter-your-user-key-here\")\n",
    ")\n",
    "client.is_ready()"
   ]
  },
  {
   "cell_type": "markdown",
   "metadata": {},
   "source": [
    "# Step 2 - create new collections"
   ]
  },
  {
   "cell_type": "code",
   "execution_count": null,
   "metadata": {},
   "outputs": [],
   "source": [
    "# create collection with no data schema\n",
    "client.collections.create(\"DogsPages\")"
   ]
  },
  {
   "cell_type": "code",
   "execution_count": null,
   "metadata": {},
   "outputs": [],
   "source": [
    "# create collection with no data schema\n",
    "client.collections.create(\"DocsPages\")"
   ]
  },
  {
   "cell_type": "code",
   "execution_count": null,
   "metadata": {},
   "outputs": [],
   "source": [
    "from weaviate.classes.config import Property, DataType\n",
    "\n",
    "# create collection with data schema\n",
    "client.collections.create(\"DocsAuthors\",\n",
    "    properties=[\n",
    "        Property(name=\"name\", data_type=DataType.TEXT),\n",
    "        Property(name=\"title\", data_type=DataType.TEXT),\n",
    "    ]\n",
    ")"
   ]
  },
  {
   "cell_type": "code",
   "execution_count": null,
   "metadata": {},
   "outputs": [],
   "source": [
    "# TODO: list collections\n",
    "client.collections.list_all()"
   ]
  },
  {
   "cell_type": "code",
   "execution_count": null,
   "metadata": {},
   "outputs": [],
   "source": [
    "# TODO: delete collection here\n",
    "client.collections.create(\"DocsTemp\")\n",
    "client.collections.delete(\"DocsTemp\")"
   ]
  },
  {
   "cell_type": "markdown",
   "metadata": {},
   "source": [
    "# Step 3 - data operations"
   ]
  },
  {
   "cell_type": "code",
   "execution_count": null,
   "metadata": {},
   "outputs": [],
   "source": [
    "# TODO: insert some dummy data into one of your collections\n",
    "pages = client.collections.get(\"DocsPages\")\n",
    "pages.data.insert_many([\n",
    "    { \"title\": \"What is RBAC?\" },\n",
    "    { \"title\": \"RBAC Roles\" },\n",
    "    { \"title\": \"RBAC Users\" },\n",
    "])"
   ]
  },
  {
   "cell_type": "code",
   "execution_count": null,
   "metadata": {},
   "outputs": [],
   "source": [
    "# TODO: insert some dummy data into one of your collections\n",
    "authors = client.collections.get(\"DocsAuthors\")\n",
    "authors.data.insert_many([\n",
    "    { \"name\": \"Seba\", \"title\": \"RBAC Instructor\" },\n",
    "    { \"name\": \"JP\", \"title\": \"RBAC Champion\" },\n",
    "])"
   ]
  },
  {
   "cell_type": "code",
   "execution_count": null,
   "metadata": {},
   "outputs": [],
   "source": [
    "# TODO: fetch data\n",
    "result = authors.query.fetch_objects()\n",
    "\n",
    "for author in result.objects:\n",
    "    print(author.properties)"
   ]
  },
  {
   "cell_type": "code",
   "execution_count": null,
   "metadata": {},
   "outputs": [],
   "source": [
    "# TODO: update data\n",
    "authors.data.update(\n",
    "    uuid=\"add-uuid-here\",\n",
    "    properties={ \"name\": \"Sebastian\" }\n",
    ")"
   ]
  },
  {
   "cell_type": "code",
   "execution_count": null,
   "metadata": {},
   "outputs": [],
   "source": [
    "# TODO: delete data by id\n",
    "authors.data.delete_by_id(uuid=\"add-uuid-here\")"
   ]
  },
  {
   "cell_type": "code",
   "execution_count": 4,
   "metadata": {},
   "outputs": [],
   "source": [
    "client.close()"
   ]
  }
 ],
 "metadata": {
  "kernelspec": {
   "display_name": ".venv",
   "language": "python",
   "name": "python3"
  },
  "language_info": {
   "codemirror_mode": {
    "name": "ipython",
    "version": 3
   },
   "file_extension": ".py",
   "mimetype": "text/x-python",
   "name": "python",
   "nbconvert_exporter": "python",
   "pygments_lexer": "ipython3",
   "version": "3.11.8"
  }
 },
 "nbformat": 4,
 "nbformat_minor": 2
}
