{
 "cells": [
  {
   "cell_type": "markdown",
   "metadata": {},
   "source": [
    "# RBAC Setup - Role-Based Access Control\n",
    "\n",
    "This notebook introduces Weaviate's Role-Based Access Control (RBAC) system, which provides fine-grained access control based on user roles and permissions.\n",
    "\n",
    "## What you'll learn:\n",
    "- Basic RBAC concepts in Weaviate\n",
    "- How to set up users and roles\n",
    "- Creating custom permissions\n",
    "- Managing access to collections and data"
   ]
  },
  {
   "cell_type": "markdown",
   "metadata": {},
   "source": [
    "## Weaviate Python Client & RBAC\n",
    "\n",
    "\n",
    "RBAC (Role-Based Access Control) requires:\n",
    "- Weaviate v1.29+ (RBAC introduced)\n",
    "- Root user access or role management permissions"
   ]
  },
  {
   "cell_type": "code",
   "execution_count": 1,
   "metadata": {},
   "outputs": [
    {
     "name": "stdout",
     "output_type": "stream",
     "text": [
      "Weaviate Key:root-user-key\n",
      "OpenAI API Key: sk-dummy-key-for-local-testing\n",
      "OpenAI URL: http://host.docker.internal:11434\n"
     ]
    }
   ],
   "source": [
    "import os\n",
    "from dotenv import load_dotenv\n",
    "\n",
    "load_dotenv()\n",
    "\n",
    "WEAVIATE_KEY = os.getenv(\"WEAVIATE_KEY\")\n",
    "OPENAI_API_KEY = os.getenv(\"OPENAI_API_KEY\")\n",
    "OPENAI_URL = os.getenv(\"OPENAI_URL\")\n",
    "\n",
    "print(f\"Weaviate Key:{WEAVIATE_KEY}\")\n",
    "print(f\"OpenAI API Key: {OPENAI_API_KEY}\")\n",
    "print(f\"OpenAI URL: {OPENAI_URL}\")\n",
    "\n"
   ]
  },
  {
   "cell_type": "code",
   "execution_count": 2,
   "metadata": {},
   "outputs": [
    {
     "name": "stdout",
     "output_type": "stream",
     "text": [
      "True\n"
     ]
    }
   ],
   "source": [
    "import weaviate\n",
    "from weaviate.classes.init import Auth\n",
    "\n",
    "# Connect to the local instance\n",
    "client = weaviate.connect_to_local(\n",
    "  host=\"127.0.0.1\", # the address to the learner's instance\n",
    "  port=8080,\n",
    "  grpc_port=50051,\n",
    "  auth_credentials=Auth.api_key(WEAVIATE_KEY),\n",
    "  headers={\n",
    "    \"X-OpenAI-Api-Key\": OPENAI_API_KEY\n",
    "  }\n",
    ")\n",
    "\n",
    "print(client.is_ready())"
   ]
  },
  {
   "cell_type": "code",
   "execution_count": 13,
   "metadata": {},
   "outputs": [],
   "source": [
    "# Creating a local config for later\n",
    "LOCAL_CONFIG = {\n",
    "    \"host\": \"localhost\",\n",
    "    \"port\": 8080,\n",
    "    \"grpc_port\": 50051,\n",
    "    \"headers\": {\n",
    "        \"X-OpenAI-Api-Key\": OPENAI_API_KEY,\n",
    "        \"X-OpenAI-BaseURL\": OPENAI_URL\n",
    "    }\n",
    "}"
   ]
  },
  {
   "cell_type": "markdown",
   "metadata": {},
   "source": [
    "## Understanding RBAC Components\n",
    "\n",
    "* [Weaviate Docs - Rule Based Access Control (RBAC) Overview](https://docs.weaviate.io/weaviate/configuration/rbac)\n",
    "\n",
    "\n",
    "Weaviate RBAC consists of three main components:\n",
    "\n",
    "* [Weaviate Docs - Managing Users](https://docs.weaviate.io/weaviate/configuration/rbac/manage-users)\n",
    "\n",
    "1. **Users**: Individual accounts with API keys\n",
    "2. **Roles**: Collections of permissions\n",
    "3. **Permissions**: Specific actions on resources\n",
    "\n",
    "### Predefined Roles\n",
    "* [Weaviate Docs - Managing Roles](https://docs.weaviate.io/weaviate/configuration/rbac/manage-roles)\n",
    "- `root`: Full system access\n",
    "- `viewer`: Read-only access to all resources"
   ]
  },
  {
   "cell_type": "markdown",
   "metadata": {},
   "source": [
    "## Create a Test Collection\n",
    "\n",
    "Let's create a collection we can use for our RBAC exercises."
   ]
  },
  {
   "cell_type": "code",
   "execution_count": 3,
   "metadata": {},
   "outputs": [
    {
     "name": "stdout",
     "output_type": "stream",
     "text": [
      "Collections created successfully!\n"
     ]
    }
   ],
   "source": [
    "from weaviate.classes.config import Configure, Property, DataType\n",
    "\n",
    "# Clean up any existing collections\n",
    "collection_names = [\"CompanyData\", \"PublicInfo\"]\n",
    "for name in collection_names:\n",
    "    if client.collections.exists(name):\n",
    "        client.collections.delete(name)\n",
    "\n",
    "# Create CompanyData collection (sensitive data)\n",
    "client.collections.create(\n",
    "    name = \"CompanyData\",\n",
    "    vector_config=Configure.Vectors.self_provided(),\n",
    "    properties=[\n",
    "        Property(name=\"employee_name\", data_type=DataType.TEXT),\n",
    "        Property(name=\"salary\", data_type=DataType.NUMBER),\n",
    "        Property(name=\"department\", data_type=DataType.TEXT),\n",
    "    ],\n",
    ")\n",
    "\n",
    "# Create PublicInfo collection (public data)\n",
    "client.collections.create(\n",
    "   name = \"PublicInfo\",\n",
    "    vector_config=Configure.Vectors.self_provided(),\n",
    "    properties=[\n",
    "        Property(name=\"title\", data_type=DataType.TEXT),\n",
    "        Property(name=\"content\", data_type=DataType.TEXT),\n",
    "    ],\n",
    ")\n",
    "\n",
    "print(\"Collections created successfully!\")"
   ]
  },
  {
   "cell_type": "markdown",
   "metadata": {},
   "source": [
    "## Add Sample Data\n",
    "\n",
    "Let's add some sample data to our collections for testing."
   ]
  },
  {
   "cell_type": "code",
   "execution_count": 4,
   "metadata": {},
   "outputs": [
    {
     "name": "stdout",
     "output_type": "stream",
     "text": [
      "CompanyData objects: 3\n",
      "PublicInfo objects: 2\n"
     ]
    }
   ],
   "source": [
    "# Add sample data to our collections\n",
    "company_data = client.collections.get(\"CompanyData\")\n",
    "company_data.data.insert_many([\n",
    "    {\n",
    "        \"employee_name\": \"Alice Johnson\",\n",
    "        \"salary\": 85000,\n",
    "        \"department\": \"Engineering\"\n",
    "    },\n",
    "    {\n",
    "        \"employee_name\": \"Jim Smith\", \n",
    "        \"salary\": 92000,\n",
    "        \"department\": \"Engineering\"\n",
    "    },\n",
    "    {\n",
    "        \"employee_name\": \"Carol Davis\",\n",
    "        \"salary\": 78000,\n",
    "        \"department\": \"Marketing\"\n",
    "    }\n",
    "])\n",
    "\n",
    "# Add data to PublicInfo\n",
    "public_info = client.collections.get(\"PublicInfo\")\n",
    "public_info.data.insert_many([\n",
    "    {\n",
    "        \"title\": \"Company Mission\",\n",
    "        \"content\": \"To build the world's best vector database\"\n",
    "    },\n",
    "    {\n",
    "        \"title\": \"Office Hours\", \n",
    "        \"content\": \"Monday to Friday, 9 AM to 5 PM\"\n",
    "    }\n",
    "])\n",
    "\n",
    "print(f\"CompanyData objects: {company_data.aggregate.over_all().total_count}\")\n",
    "print(f\"PublicInfo objects: {public_info.aggregate.over_all().total_count}\")"
   ]
  },
  {
   "cell_type": "markdown",
   "metadata": {},
   "source": [
    "## List Existing Roles\n",
    "\n",
    "Let's see what roles are currently available.\n",
    "\n",
    "> **Note**: If RBAC is not enabled on your Weaviate instance, this will show an error - that's expected!"
   ]
  },
  {
   "cell_type": "code",
   "execution_count": 5,
   "metadata": {},
   "outputs": [
    {
     "name": "stderr",
     "output_type": "stream",
     "text": [
      "/Users/scottaskinosie/Documents/weaviate/workshops/nato/weaviate-workshop/.venv/lib/python3.11/site-packages/weaviate/warnings.py:320: UserWarning: RBAC001: Unknown permission {'action': 'assign_and_revoke_groups', 'groups': {'group': '*', 'groupType': 'oidc'}} received, skipping value.\n",
      "  warnings.warn(\n",
      "/Users/scottaskinosie/Documents/weaviate/workshops/nato/weaviate-workshop/.venv/lib/python3.11/site-packages/weaviate/warnings.py:320: UserWarning: RBAC001: Unknown permission {'action': 'read_groups', 'groups': {'group': '*', 'groupType': 'oidc'}} received, skipping value.\n",
      "  warnings.warn(\n"
     ]
    }
   ],
   "source": [
    "# Clean up existing custom roles first\n",
    "custom_roles_to_delete = [\"ceo\", \"dept_manager\", \"employee\", \"hr_manager\"]\n",
    "\n",
    "existing_roles = client.roles.list_all()\n",
    "for role_name in custom_roles_to_delete:\n",
    "    if role_name in existing_roles:\n",
    "        client.roles.delete(role_name=role_name)\n",
    "            "
   ]
  },
  {
   "cell_type": "code",
   "execution_count": 6,
   "metadata": {},
   "outputs": [
    {
     "name": "stdout",
     "output_type": "stream",
     "text": [
      "Current roles:\n",
      "- admin\n",
      "- read-only\n",
      "- root\n",
      "- viewer\n"
     ]
    }
   ],
   "source": [
    "roles = client.roles.list_all()\n",
    "print(\"Current roles:\")\n",
    "for role in roles:\n",
    "    print(f\"- {role}\")"
   ]
  },
  {
   "cell_type": "markdown",
   "metadata": {},
   "source": [
    "## Create Custom Roles\n",
    "\n",
    "Now let's create some custom roles for different types of users in our organization."
   ]
  },
  {
   "cell_type": "code",
   "execution_count": 7,
   "metadata": {},
   "outputs": [
    {
     "name": "stdout",
     "output_type": "stream",
     "text": [
      "Created 'hr_manager' role\n",
      "Created 'employee' role\n",
      "Created 'dept_manager' role\n"
     ]
    }
   ],
   "source": [
    "from weaviate.classes.rbac import Permissions\n",
    "\n",
    "# Role 1: HR Manager - Can access all company data\n",
    "hr_permissions = [\n",
    "    Permissions.data(\n",
    "        collection=\"CompanyData\",\n",
    "        create=True,\n",
    "        read=True,\n",
    "        update=True,\n",
    "        delete=True\n",
    "    ),\n",
    "    Permissions.data(\n",
    "        collection=\"PublicInfo\",\n",
    "        read=True\n",
    "    )\n",
    "]\n",
    "\n",
    "client.roles.create(role_name=\"hr_manager\", permissions=hr_permissions)\n",
    "print(\"Created 'hr_manager' role\")\n",
    "\n",
    "# Role 2: Employee - Can only read public information\n",
    "employee_permissions = [\n",
    "    Permissions.data(\n",
    "        collection=\"PublicInfo\",\n",
    "        read=True\n",
    "    )\n",
    "]\n",
    "\n",
    "client.roles.create(role_name=\"employee\", permissions=employee_permissions)\n",
    "print(\"Created 'employee' role\")\n",
    "\n",
    "# Role 3: Department Manager - Can read company data but not modify\n",
    "dept_manager_permissions = [\n",
    "    Permissions.data(\n",
    "        collection=\"CompanyData\",\n",
    "        read=True\n",
    "    ),\n",
    "    Permissions.data(\n",
    "        collection=\"PublicInfo\",\n",
    "        read=True\n",
    "    )\n",
    "]\n",
    "\n",
    "client.roles.create(role_name=\"dept_manager\", permissions=dept_manager_permissions)\n",
    "print(\"Created 'dept_manager' role\")"
   ]
  },
  {
   "cell_type": "code",
   "execution_count": 8,
   "metadata": {},
   "outputs": [
    {
     "name": "stdout",
     "output_type": "stream",
     "text": [
      "Created roles:\n",
      "- admin\n",
      "- dept_manager\n",
      "- employee\n",
      "- hr_manager\n",
      "- read-only\n",
      "- root\n",
      "- viewer\n"
     ]
    }
   ],
   "source": [
    "# Check what roles were created\n",
    "all_roles = client.roles.list_all()\n",
    "print(\"Created roles:\")\n",
    "for role_name, role in all_roles.items():\n",
    "    print(f\"- {role_name}\")"
   ]
  },
  {
   "cell_type": "code",
   "execution_count": 9,
   "metadata": {},
   "outputs": [
    {
     "name": "stdout",
     "output_type": "stream",
     "text": [
      "admin Role(name='admin', alias_permissions=[AliasPermissionOutput(actions={<AliasAction.DELETE: 'delete_aliases'>, <AliasAction.CREATE: 'create_aliases'>, <AliasAction.UPDATE: 'update_aliases'>, <AliasAction.READ: 'read_aliases'>}, alias='*', collection='*')], cluster_permissions=[ClusterPermissionOutput(actions={<ClusterAction.READ: 'read_cluster'>})], collections_permissions=[CollectionsPermissionOutput(actions={<CollectionsAction.CREATE: 'create_collections'>, <CollectionsAction.UPDATE: 'update_collections'>, <CollectionsAction.DELETE: 'delete_collections'>, <CollectionsAction.READ: 'read_collections'>}, collection='*')], data_permissions=[DataPermissionOutput(actions={<DataAction.CREATE: 'create_data'>, <DataAction.UPDATE: 'update_data'>, <DataAction.DELETE: 'delete_data'>, <DataAction.READ: 'read_data'>}, collection='*', tenant='*')], roles_permissions=[RolesPermissionOutput(actions={<RolesAction.READ: 'read_roles'>, <RolesAction.CREATE: 'create_roles'>, <RolesAction.UPDATE: 'update_roles'>, <RolesAction.DELETE: 'delete_roles'>}, role='*', scope='all')], users_permissions=[UsersPermissionOutput(actions={<UsersAction.CREATE: 'create_users'>, <UsersAction.ASSIGN_AND_REVOKE: 'assign_and_revoke_users'>, <UsersAction.READ: 'read_users'>, <UsersAction.DELETE: 'delete_users'>, <UsersAction.UPDATE: 'update_users'>}, users='*')], backups_permissions=[BackupsPermissionOutput(actions={<BackupsAction.MANAGE: 'manage_backups'>}, collection='*')], nodes_permissions=[NodesPermissionOutput(actions={<NodesAction.READ: 'read_nodes'>}, verbosity='verbose', collection='*')], tenants_permissions=[TenantsPermissionOutput(actions={<TenantsAction.UPDATE: 'update_tenants'>, <TenantsAction.DELETE: 'delete_tenants'>, <TenantsAction.READ: 'read_tenants'>, <TenantsAction.CREATE: 'create_tenants'>}, collection='*', tenant='*')], replicate_permissions=[ReplicatePermissionOutput(actions={<ReplicateAction.DELETE: 'delete_replicate'>, <ReplicateAction.READ: 'read_replicate'>, <ReplicateAction.CREATE: 'create_replicate'>, <ReplicateAction.UPDATE: 'update_replicate'>}, collection='*', shard='*')])\n",
      "dept_manager Role(name='dept_manager', alias_permissions=[], cluster_permissions=[], collections_permissions=[], data_permissions=[DataPermissionOutput(actions={<DataAction.READ: 'read_data'>}, collection='CompanyData', tenant='*'), DataPermissionOutput(actions={<DataAction.READ: 'read_data'>}, collection='PublicInfo', tenant='*')], roles_permissions=[], users_permissions=[], backups_permissions=[], nodes_permissions=[], tenants_permissions=[], replicate_permissions=[])\n",
      "employee Role(name='employee', alias_permissions=[], cluster_permissions=[], collections_permissions=[], data_permissions=[DataPermissionOutput(actions={<DataAction.READ: 'read_data'>}, collection='PublicInfo', tenant='*')], roles_permissions=[], users_permissions=[], backups_permissions=[], nodes_permissions=[], tenants_permissions=[], replicate_permissions=[])\n",
      "hr_manager Role(name='hr_manager', alias_permissions=[], cluster_permissions=[], collections_permissions=[], data_permissions=[DataPermissionOutput(actions={<DataAction.CREATE: 'create_data'>, <DataAction.UPDATE: 'update_data'>, <DataAction.DELETE: 'delete_data'>, <DataAction.READ: 'read_data'>}, collection='CompanyData', tenant='*'), DataPermissionOutput(actions={<DataAction.READ: 'read_data'>}, collection='PublicInfo', tenant='*')], roles_permissions=[], users_permissions=[], backups_permissions=[], nodes_permissions=[], tenants_permissions=[], replicate_permissions=[])\n",
      "read-only Role(name='read-only', alias_permissions=[AliasPermissionOutput(actions={<AliasAction.READ: 'read_aliases'>}, alias='*', collection='*')], cluster_permissions=[ClusterPermissionOutput(actions={<ClusterAction.READ: 'read_cluster'>})], collections_permissions=[CollectionsPermissionOutput(actions={<CollectionsAction.READ: 'read_collections'>}, collection='*')], data_permissions=[DataPermissionOutput(actions={<DataAction.READ: 'read_data'>}, collection='*', tenant='*')], roles_permissions=[RolesPermissionOutput(actions={<RolesAction.READ: 'read_roles'>}, role='*', scope='all')], users_permissions=[UsersPermissionOutput(actions={<UsersAction.READ: 'read_users'>}, users='*')], backups_permissions=[], nodes_permissions=[NodesPermissionOutput(actions={<NodesAction.READ: 'read_nodes'>}, verbosity='verbose', collection='*')], tenants_permissions=[TenantsPermissionOutput(actions={<TenantsAction.READ: 'read_tenants'>}, collection='*', tenant='*')], replicate_permissions=[ReplicatePermissionOutput(actions={<ReplicateAction.READ: 'read_replicate'>}, collection='*', shard='*')])\n",
      "root Role(name='root', alias_permissions=[AliasPermissionOutput(actions={<AliasAction.DELETE: 'delete_aliases'>, <AliasAction.CREATE: 'create_aliases'>, <AliasAction.UPDATE: 'update_aliases'>, <AliasAction.READ: 'read_aliases'>}, alias='*', collection='*')], cluster_permissions=[ClusterPermissionOutput(actions={<ClusterAction.READ: 'read_cluster'>})], collections_permissions=[CollectionsPermissionOutput(actions={<CollectionsAction.CREATE: 'create_collections'>, <CollectionsAction.UPDATE: 'update_collections'>, <CollectionsAction.DELETE: 'delete_collections'>, <CollectionsAction.READ: 'read_collections'>}, collection='*')], data_permissions=[DataPermissionOutput(actions={<DataAction.CREATE: 'create_data'>, <DataAction.UPDATE: 'update_data'>, <DataAction.DELETE: 'delete_data'>, <DataAction.READ: 'read_data'>}, collection='*', tenant='*')], roles_permissions=[RolesPermissionOutput(actions={<RolesAction.READ: 'read_roles'>, <RolesAction.CREATE: 'create_roles'>, <RolesAction.UPDATE: 'update_roles'>, <RolesAction.DELETE: 'delete_roles'>}, role='*', scope='all')], users_permissions=[UsersPermissionOutput(actions={<UsersAction.CREATE: 'create_users'>, <UsersAction.ASSIGN_AND_REVOKE: 'assign_and_revoke_users'>, <UsersAction.READ: 'read_users'>, <UsersAction.DELETE: 'delete_users'>, <UsersAction.UPDATE: 'update_users'>}, users='*')], backups_permissions=[BackupsPermissionOutput(actions={<BackupsAction.MANAGE: 'manage_backups'>}, collection='*')], nodes_permissions=[NodesPermissionOutput(actions={<NodesAction.READ: 'read_nodes'>}, verbosity='verbose', collection='*')], tenants_permissions=[TenantsPermissionOutput(actions={<TenantsAction.UPDATE: 'update_tenants'>, <TenantsAction.DELETE: 'delete_tenants'>, <TenantsAction.READ: 'read_tenants'>, <TenantsAction.CREATE: 'create_tenants'>}, collection='*', tenant='*')], replicate_permissions=[ReplicatePermissionOutput(actions={<ReplicateAction.DELETE: 'delete_replicate'>, <ReplicateAction.READ: 'read_replicate'>, <ReplicateAction.CREATE: 'create_replicate'>, <ReplicateAction.UPDATE: 'update_replicate'>}, collection='*', shard='*')])\n",
      "viewer Role(name='viewer', alias_permissions=[AliasPermissionOutput(actions={<AliasAction.READ: 'read_aliases'>}, alias='*', collection='*')], cluster_permissions=[ClusterPermissionOutput(actions={<ClusterAction.READ: 'read_cluster'>})], collections_permissions=[CollectionsPermissionOutput(actions={<CollectionsAction.READ: 'read_collections'>}, collection='*')], data_permissions=[DataPermissionOutput(actions={<DataAction.READ: 'read_data'>}, collection='*', tenant='*')], roles_permissions=[RolesPermissionOutput(actions={<RolesAction.READ: 'read_roles'>}, role='*', scope='all')], users_permissions=[UsersPermissionOutput(actions={<UsersAction.READ: 'read_users'>}, users='*')], backups_permissions=[], nodes_permissions=[NodesPermissionOutput(actions={<NodesAction.READ: 'read_nodes'>}, verbosity='verbose', collection='*')], tenants_permissions=[TenantsPermissionOutput(actions={<TenantsAction.READ: 'read_tenants'>}, collection='*', tenant='*')], replicate_permissions=[ReplicatePermissionOutput(actions={<ReplicateAction.READ: 'read_replicate'>}, collection='*', shard='*')])\n"
     ]
    }
   ],
   "source": [
    "all_roles = client.roles.list_all()\n",
    "for role_name, role in all_roles.items():\n",
    "    print(role_name, role)"
   ]
  },
  {
   "cell_type": "code",
   "execution_count": 10,
   "metadata": {},
   "outputs": [
    {
     "name": "stdout",
     "output_type": "stream",
     "text": [
      " Created user: hr_alice\n",
      " Assigned hr_manager role to hr_alice\n",
      "API Key: WVk4ZFZPR2FUUkJRVEdF...\n"
     ]
    }
   ],
   "source": [
    "# Create users and assign roles\n",
    "\n",
    "# Clean up any existing user first\n",
    "existing_users = client.users.db.list_all()\n",
    "existing_user_ids = [user.user_id for user in existing_users]\n",
    "\n",
    "if \"hr_alice\" in existing_user_ids:\n",
    "    client.users.db.delete(user_id=\"hr_alice\")\n",
    "    print(\"Deleted existing hr_alice user\")\n",
    "\n",
    "# Create new user\n",
    "hr_alice_key = client.users.db.create(user_id=\"hr_alice\")\n",
    "print(f\" Created user: hr_alice\")\n",
    "\n",
    "client.users.db.assign_roles(user_id=\"hr_alice\", role_names=[\"hr_manager\"])\n",
    "print(f\" Assigned hr_manager role to hr_alice\")\n",
    "\n",
    "print(f\"API Key: {hr_alice_key[:20]}...\")"
   ]
  },
  {
   "cell_type": "code",
   "execution_count": null,
   "metadata": {},
   "outputs": [
    {
     "name": "stdout",
     "output_type": "stream",
     "text": [
      "✅ Created user: employee_jim\n",
      "✅ Assigned employee role to employee_jim\n",
      "✅ Created user: manager_carol\n",
      "✅ Assigned dept_manager role to manager_carol\n",
      "Jim API Key: N0FQOEJwWFhHYWd2R2l0...\n",
      "Carol API Key: MHdPZlAzODFNY0dlTTIz...\n"
     ]
    }
   ],
   "source": [
    "# Create more users and assign roles\n",
    "\n",
    "# Clean up any existing users first\n",
    "existing_users = client.users.db.list_all()\n",
    "existing_user_ids = [user.user_id for user in existing_users]\n",
    "\n",
    "if \"employee_jim\" in existing_user_ids:\n",
    "    client.users.db.delete(user_id=\"employee_jim\")\n",
    "    print(\"Deleted existing employee_jim user\")\n",
    "\n",
    "if \"manager_carol\" in existing_user_ids:\n",
    "    client.users.db.delete(user_id=\"manager_carol\")\n",
    "    print(\"Deleted existing manager_carol user\")\n",
    "\n",
    "# Create employee_bob\n",
    "employee_jim_key = client.users.db.create(user_id=\"employee_jim\")\n",
    "print(f\"Created user: employee_jim\")\n",
    "\n",
    "client.users.db.assign_roles(user_id=\"employee_jim\", role_names=[\"employee\"])\n",
    "print(f\"Assigned employee role to employee_jim\")\n",
    "\n",
    "# Create manager_carol\n",
    "manager_carol_key = client.users.db.create(user_id=\"manager_carol\")\n",
    "print(f\"Created user: manager_carol\")\n",
    "\n",
    "client.users.db.assign_roles(user_id=\"manager_carol\", role_names=[\"dept_manager\"])\n",
    "print(f\"Assigned dept_manager role to manager_carol\")\n",
    "\n",
    "print(f\"Jim API Key: {employee_jim_key[:20]}...\")\n",
    "print(f\"Carol API Key: {manager_carol_key[:20]}...\")"
   ]
  },
  {
   "cell_type": "markdown",
   "metadata": {},
   "source": [
    "## Test Access Control\n",
    "\n",
    "Now let's test our RBAC setup by connecting as different users and trying to access data."
   ]
  },
  {
   "cell_type": "markdown",
   "metadata": {},
   "source": [
    "### Test with HR user, has admin access so should be able to do almost  anything...almost"
   ]
  },
  {
   "cell_type": "code",
   "execution_count": 15,
   "metadata": {},
   "outputs": [
    {
     "data": {
      "text/plain": [
       "True"
      ]
     },
     "execution_count": 15,
     "metadata": {},
     "output_type": "execute_result"
    }
   ],
   "source": [
    "# Create new client with hr_alice's API key\n",
    "\n",
    "alice_client = weaviate.connect_to_local(\n",
    "    **LOCAL_CONFIG,\n",
    "    auth_credentials=Auth.api_key(hr_alice_key),\n",
    ")\n",
    "\n",
    "alice_client.is_ready()"
   ]
  },
  {
   "cell_type": "code",
   "execution_count": 16,
   "metadata": {},
   "outputs": [
    {
     "name": "stdout",
     "output_type": "stream",
     "text": [
      "QueryReturn(objects=[Object(uuid=_WeaviateUUIDInt('75f0cafa-cafb-42ea-83ab-29c824e7414b'), metadata=MetadataReturn(creation_time=None, last_update_time=None, distance=None, certainty=None, score=None, explain_score=None, is_consistent=None, rerank_score=None), properties={'title': 'Company Mission', 'content': \"To build the world's best vector database\"}, references=None, vector={}, collection='PublicInfo')])\n"
     ]
    }
   ],
   "source": [
    "# Test 1: Try to read PublicInfo \n",
    "\n",
    "public_collection = alice_client.collections.get(\"PublicInfo\")\n",
    "result = public_collection.query.fetch_objects(limit=1)\n",
    "    \n",
    "print(result)"
   ]
  },
  {
   "cell_type": "code",
   "execution_count": 17,
   "metadata": {},
   "outputs": [
    {
     "name": "stdout",
     "output_type": "stream",
     "text": [
      "QueryReturn(objects=[Object(uuid=_WeaviateUUIDInt('387b9e79-55b1-47c2-a0e1-a2cdb0930ea7'), metadata=MetadataReturn(creation_time=None, last_update_time=None, distance=None, certainty=None, score=None, explain_score=None, is_consistent=None, rerank_score=None), properties={'department': 'Engineering', 'salary': 85000.0, 'employee_name': 'Alice Johnson'}, references=None, vector={}, collection='CompanyData')])\n"
     ]
    }
   ],
   "source": [
    "# Test 2: Try to read CompanyData \n",
    "\n",
    "company_collection = alice_client.collections.get(\"CompanyData\")\n",
    "result = company_collection.query.fetch_objects(limit=1)\n",
    "\n",
    "print(result)"
   ]
  },
  {
   "cell_type": "code",
   "execution_count": 18,
   "metadata": {},
   "outputs": [
    {
     "data": {
      "text/plain": [
       "UUID('117e0870-0a5c-401b-9761-ab84b5d5f89f')"
      ]
     },
     "execution_count": 18,
     "metadata": {},
     "output_type": "execute_result"
    }
   ],
   "source": [
    "# Test 3: Try to insert into CompanyData \n",
    "\n",
    "company_collection = alice_client.collections.get(\"CompanyData\")\n",
    "company_collection.data.insert({\n",
    "    \"employee_name\": \"Test Employee\",\n",
    "    \"salary\": 50000,\n",
    "    \"department\": \"Test\"\n",
    "})"
   ]
  },
  {
   "cell_type": "code",
   "execution_count": 19,
   "metadata": {},
   "outputs": [
    {
     "ename": "InsufficientPermissionsError",
     "evalue": "forbidden! Unexpected status code: 403, with response body: {'error': [{'message': \"rbac: authorization, forbidden action: user 'hr_alice' has insufficient permissions to create_data [[Domain: data, Collection: PublicInfo, Tenant: *, Object: *]]\"}]}.",
     "output_type": "error",
     "traceback": [
      "\u001b[0;31m---------------------------------------------------------------------------\u001b[0m",
      "\u001b[0;31mInsufficientPermissionsError\u001b[0m              Traceback (most recent call last)",
      "Cell \u001b[0;32mIn[19], line 4\u001b[0m\n\u001b[1;32m      1\u001b[0m \u001b[38;5;66;03m# Test 4: Try to insert into PublicInfo \u001b[39;00m\n\u001b[1;32m      3\u001b[0m company_collection \u001b[38;5;241m=\u001b[39m alice_client\u001b[38;5;241m.\u001b[39mcollections\u001b[38;5;241m.\u001b[39mget(\u001b[38;5;124m\"\u001b[39m\u001b[38;5;124mPublicInfo\u001b[39m\u001b[38;5;124m\"\u001b[39m)\n\u001b[0;32m----> 4\u001b[0m \u001b[43mcompany_collection\u001b[49m\u001b[38;5;241;43m.\u001b[39;49m\u001b[43mdata\u001b[49m\u001b[38;5;241;43m.\u001b[39;49m\u001b[43minsert\u001b[49m\u001b[43m(\u001b[49m\u001b[43m{\u001b[49m\n\u001b[1;32m      5\u001b[0m \u001b[43m        \u001b[49m\u001b[38;5;124;43m\"\u001b[39;49m\u001b[38;5;124;43mtitle\u001b[39;49m\u001b[38;5;124;43m\"\u001b[39;49m\u001b[43m:\u001b[49m\u001b[43m \u001b[49m\u001b[38;5;124;43m\"\u001b[39;49m\u001b[38;5;124;43mDonut Wednesdays\u001b[39;49m\u001b[38;5;124;43m\"\u001b[39;49m\u001b[43m,\u001b[49m\n\u001b[1;32m      6\u001b[0m \u001b[43m        \u001b[49m\u001b[38;5;124;43m\"\u001b[39;49m\u001b[38;5;124;43mcontent\u001b[39;49m\u001b[38;5;124;43m\"\u001b[39;49m\u001b[43m:\u001b[49m\u001b[43m \u001b[49m\u001b[38;5;124;43m\"\u001b[39;49m\u001b[38;5;124;43mFree donuts in the break room all day on Wednesdays\u001b[39;49m\u001b[38;5;124;43m\"\u001b[39;49m\n\u001b[1;32m      7\u001b[0m \u001b[43m    \u001b[49m\u001b[43m}\u001b[49m\u001b[43m)\u001b[49m\n\u001b[1;32m     10\u001b[0m alice_client\u001b[38;5;241m.\u001b[39mclose()\n",
      "File \u001b[0;32m~/Documents/weaviate/workshops/nato/weaviate-workshop/.venv/lib/python3.11/site-packages/weaviate/collections/data/executor.py:135\u001b[0m, in \u001b[0;36m_DataCollectionExecutor.insert\u001b[0;34m(self, properties, references, uuid, vector)\u001b[0m\n\u001b[1;32m    132\u001b[0m \u001b[38;5;28;01mdef\u001b[39;00m\u001b[38;5;250m \u001b[39m\u001b[38;5;21mresp\u001b[39m(res: Response) \u001b[38;5;241m-\u001b[39m\u001b[38;5;241m>\u001b[39m uuid_package\u001b[38;5;241m.\u001b[39mUUID:\n\u001b[1;32m    133\u001b[0m     \u001b[38;5;28;01mreturn\u001b[39;00m uuid_package\u001b[38;5;241m.\u001b[39mUUID(weaviate_obj[\u001b[38;5;124m\"\u001b[39m\u001b[38;5;124mid\u001b[39m\u001b[38;5;124m\"\u001b[39m])\n\u001b[0;32m--> 135\u001b[0m \u001b[38;5;28;01mreturn\u001b[39;00m \u001b[43mexecutor\u001b[49m\u001b[38;5;241;43m.\u001b[39;49m\u001b[43mexecute\u001b[49m\u001b[43m(\u001b[49m\n\u001b[1;32m    136\u001b[0m \u001b[43m    \u001b[49m\u001b[43mresponse_callback\u001b[49m\u001b[38;5;241;43m=\u001b[39;49m\u001b[43mresp\u001b[49m\u001b[43m,\u001b[49m\n\u001b[1;32m    137\u001b[0m \u001b[43m    \u001b[49m\u001b[43mmethod\u001b[49m\u001b[38;5;241;43m=\u001b[39;49m\u001b[38;5;28;43mself\u001b[39;49m\u001b[38;5;241;43m.\u001b[39;49m\u001b[43m_connection\u001b[49m\u001b[38;5;241;43m.\u001b[39;49m\u001b[43mpost\u001b[49m\u001b[43m,\u001b[49m\n\u001b[1;32m    138\u001b[0m \u001b[43m    \u001b[49m\u001b[43mpath\u001b[49m\u001b[38;5;241;43m=\u001b[39;49m\u001b[43mpath\u001b[49m\u001b[43m,\u001b[49m\n\u001b[1;32m    139\u001b[0m \u001b[43m    \u001b[49m\u001b[43mweaviate_object\u001b[49m\u001b[38;5;241;43m=\u001b[39;49m\u001b[43mweaviate_obj\u001b[49m\u001b[43m,\u001b[49m\n\u001b[1;32m    140\u001b[0m \u001b[43m    \u001b[49m\u001b[43mparams\u001b[49m\u001b[38;5;241;43m=\u001b[39;49m\u001b[43mparams\u001b[49m\u001b[43m,\u001b[49m\n\u001b[1;32m    141\u001b[0m \u001b[43m    \u001b[49m\u001b[43merror_msg\u001b[49m\u001b[38;5;241;43m=\u001b[39;49m\u001b[38;5;124;43m\"\u001b[39;49m\u001b[38;5;124;43mObject was not added\u001b[39;49m\u001b[38;5;124;43m\"\u001b[39;49m\u001b[43m,\u001b[49m\n\u001b[1;32m    142\u001b[0m \u001b[43m    \u001b[49m\u001b[43mstatus_codes\u001b[49m\u001b[38;5;241;43m=\u001b[39;49m\u001b[43m_ExpectedStatusCodes\u001b[49m\u001b[43m(\u001b[49m\u001b[43mok_in\u001b[49m\u001b[38;5;241;43m=\u001b[39;49m\u001b[38;5;241;43m200\u001b[39;49m\u001b[43m,\u001b[49m\u001b[43m \u001b[49m\u001b[43merror\u001b[49m\u001b[38;5;241;43m=\u001b[39;49m\u001b[38;5;124;43m\"\u001b[39;49m\u001b[38;5;124;43minsert object\u001b[39;49m\u001b[38;5;124;43m\"\u001b[39;49m\u001b[43m)\u001b[49m\u001b[43m,\u001b[49m\n\u001b[1;32m    143\u001b[0m \u001b[43m\u001b[49m\u001b[43m)\u001b[49m\n",
      "File \u001b[0;32m~/Documents/weaviate/workshops/nato/weaviate-workshop/.venv/lib/python3.11/site-packages/weaviate/connect/executor.py:99\u001b[0m, in \u001b[0;36mexecute\u001b[0;34m(method, response_callback, exception_callback, *args, **kwargs)\u001b[0m\n\u001b[1;32m     97\u001b[0m     \u001b[38;5;28;01mreturn\u001b[39;00m resp_call\n\u001b[1;32m     98\u001b[0m \u001b[38;5;28;01mexcept\u001b[39;00m \u001b[38;5;167;01mException\u001b[39;00m \u001b[38;5;28;01mas\u001b[39;00m e:\n\u001b[0;32m---> 99\u001b[0m     \u001b[38;5;28;01mreturn\u001b[39;00m cast(T, \u001b[43mexception_callback\u001b[49m\u001b[43m(\u001b[49m\u001b[43me\u001b[49m\u001b[43m)\u001b[49m)\n",
      "File \u001b[0;32m~/Documents/weaviate/workshops/nato/weaviate-workshop/.venv/lib/python3.11/site-packages/weaviate/connect/executor.py:38\u001b[0m, in \u001b[0;36mraise_exception\u001b[0;34m(e)\u001b[0m\n\u001b[1;32m     37\u001b[0m \u001b[38;5;28;01mdef\u001b[39;00m\u001b[38;5;250m \u001b[39m\u001b[38;5;21mraise_exception\u001b[39m(e: \u001b[38;5;167;01mException\u001b[39;00m) \u001b[38;5;241m-\u001b[39m\u001b[38;5;241m>\u001b[39m Any:\n\u001b[0;32m---> 38\u001b[0m     \u001b[38;5;28;01mraise\u001b[39;00m e\n",
      "File \u001b[0;32m~/Documents/weaviate/workshops/nato/weaviate-workshop/.venv/lib/python3.11/site-packages/weaviate/connect/executor.py:80\u001b[0m, in \u001b[0;36mexecute\u001b[0;34m(method, response_callback, exception_callback, *args, **kwargs)\u001b[0m\n\u001b[1;32m     71\u001b[0m \u001b[38;5;28;01mdef\u001b[39;00m\u001b[38;5;250m \u001b[39m\u001b[38;5;21mexecute\u001b[39m(\n\u001b[1;32m     72\u001b[0m     method: SyncOrAsyncMethod[P, R],\n\u001b[1;32m     73\u001b[0m     response_callback: SyncOrAsyncCallback[R, T, A],\n\u001b[0;32m   (...)\u001b[0m\n\u001b[1;32m     77\u001b[0m ) \u001b[38;5;241m-\u001b[39m\u001b[38;5;241m>\u001b[39m Union[T, Awaitable[T], Awaitable[A]]:\n\u001b[1;32m     78\u001b[0m     \u001b[38;5;66;03m# wrap method call in try-except to catch exceptions for sync method\u001b[39;00m\n\u001b[1;32m     79\u001b[0m     \u001b[38;5;28;01mtry\u001b[39;00m:\n\u001b[0;32m---> 80\u001b[0m         call \u001b[38;5;241m=\u001b[39m \u001b[43mmethod\u001b[49m\u001b[43m(\u001b[49m\u001b[38;5;241;43m*\u001b[39;49m\u001b[43margs\u001b[49m\u001b[43m,\u001b[49m\u001b[43m \u001b[49m\u001b[38;5;241;43m*\u001b[39;49m\u001b[38;5;241;43m*\u001b[39;49m\u001b[43mkwargs\u001b[49m\u001b[43m)\u001b[49m\n\u001b[1;32m     81\u001b[0m         \u001b[38;5;28;01mif\u001b[39;00m \u001b[38;5;28misinstance\u001b[39m(call, Awaitable):\n\u001b[1;32m     83\u001b[0m             \u001b[38;5;28;01masync\u001b[39;00m \u001b[38;5;28;01mdef\u001b[39;00m\u001b[38;5;250m \u001b[39m\u001b[38;5;21m_execute\u001b[39m() \u001b[38;5;241m-\u001b[39m\u001b[38;5;241m>\u001b[39m T:\n\u001b[1;32m     84\u001b[0m                 \u001b[38;5;66;03m# wrap await in try-except to catch exceptions for async method\u001b[39;00m\n",
      "File \u001b[0;32m~/Documents/weaviate/workshops/nato/weaviate-workshop/.venv/lib/python3.11/site-packages/weaviate/connect/v4.py:824\u001b[0m, in \u001b[0;36m_ConnectionBase.post\u001b[0;34m(self, path, weaviate_object, params, error_msg, status_codes, is_gql_query)\u001b[0m\n\u001b[1;32m    815\u001b[0m \u001b[38;5;28;01mdef\u001b[39;00m\u001b[38;5;250m \u001b[39m\u001b[38;5;21mpost\u001b[39m(\n\u001b[1;32m    816\u001b[0m     \u001b[38;5;28mself\u001b[39m,\n\u001b[1;32m    817\u001b[0m     path: \u001b[38;5;28mstr\u001b[39m,\n\u001b[0;32m   (...)\u001b[0m\n\u001b[1;32m    822\u001b[0m     is_gql_query: \u001b[38;5;28mbool\u001b[39m \u001b[38;5;241m=\u001b[39m \u001b[38;5;28;01mFalse\u001b[39;00m,\n\u001b[1;32m    823\u001b[0m ) \u001b[38;5;241m-\u001b[39m\u001b[38;5;241m>\u001b[39m executor\u001b[38;5;241m.\u001b[39mResult[Response]:\n\u001b[0;32m--> 824\u001b[0m     \u001b[38;5;28;01mreturn\u001b[39;00m \u001b[38;5;28;43mself\u001b[39;49m\u001b[38;5;241;43m.\u001b[39;49m\u001b[43m_send\u001b[49m\u001b[43m(\u001b[49m\n\u001b[1;32m    825\u001b[0m \u001b[43m        \u001b[49m\u001b[38;5;124;43m\"\u001b[39;49m\u001b[38;5;124;43mPOST\u001b[39;49m\u001b[38;5;124;43m\"\u001b[39;49m\u001b[43m,\u001b[49m\n\u001b[1;32m    826\u001b[0m \u001b[43m        \u001b[49m\u001b[43murl\u001b[49m\u001b[38;5;241;43m=\u001b[39;49m\u001b[38;5;28;43mself\u001b[39;49m\u001b[38;5;241;43m.\u001b[39;49m\u001b[43murl\u001b[49m\u001b[43m \u001b[49m\u001b[38;5;241;43m+\u001b[39;49m\u001b[43m \u001b[49m\u001b[38;5;28;43mself\u001b[39;49m\u001b[38;5;241;43m.\u001b[39;49m\u001b[43m_api_version_path\u001b[49m\u001b[43m \u001b[49m\u001b[38;5;241;43m+\u001b[39;49m\u001b[43m \u001b[49m\u001b[43mpath\u001b[49m\u001b[43m,\u001b[49m\n\u001b[1;32m    827\u001b[0m \u001b[43m        \u001b[49m\u001b[43mweaviate_object\u001b[49m\u001b[38;5;241;43m=\u001b[39;49m\u001b[43mweaviate_object\u001b[49m\u001b[43m,\u001b[49m\n\u001b[1;32m    828\u001b[0m \u001b[43m        \u001b[49m\u001b[43mparams\u001b[49m\u001b[38;5;241;43m=\u001b[39;49m\u001b[43mparams\u001b[49m\u001b[43m,\u001b[49m\n\u001b[1;32m    829\u001b[0m \u001b[43m        \u001b[49m\u001b[43merror_msg\u001b[49m\u001b[38;5;241;43m=\u001b[39;49m\u001b[43merror_msg\u001b[49m\u001b[43m,\u001b[49m\n\u001b[1;32m    830\u001b[0m \u001b[43m        \u001b[49m\u001b[43mstatus_codes\u001b[49m\u001b[38;5;241;43m=\u001b[39;49m\u001b[43mstatus_codes\u001b[49m\u001b[43m,\u001b[49m\n\u001b[1;32m    831\u001b[0m \u001b[43m        \u001b[49m\u001b[43mis_gql_query\u001b[49m\u001b[38;5;241;43m=\u001b[39;49m\u001b[43mis_gql_query\u001b[49m\u001b[43m,\u001b[49m\n\u001b[1;32m    832\u001b[0m \u001b[43m    \u001b[49m\u001b[43m)\u001b[49m\n",
      "File \u001b[0;32m~/Documents/weaviate/workshops/nato/weaviate-workshop/.venv/lib/python3.11/site-packages/weaviate/connect/v4.py:718\u001b[0m, in \u001b[0;36m_ConnectionBase._send\u001b[0;34m(self, method, url, error_msg, status_codes, is_gql_query, weaviate_object, params, check_is_connected)\u001b[0m\n\u001b[1;32m    715\u001b[0m \u001b[38;5;28;01mdef\u001b[39;00m\u001b[38;5;250m \u001b[39m\u001b[38;5;21mexc\u001b[39m(e: \u001b[38;5;167;01mException\u001b[39;00m) \u001b[38;5;241m-\u001b[39m\u001b[38;5;241m>\u001b[39m \u001b[38;5;28;01mNone\u001b[39;00m:\n\u001b[1;32m    716\u001b[0m     \u001b[38;5;28mself\u001b[39m\u001b[38;5;241m.\u001b[39m__handle_exceptions(e, error_msg)\n\u001b[0;32m--> 718\u001b[0m \u001b[38;5;28;01mreturn\u001b[39;00m \u001b[43mexecutor\u001b[49m\u001b[38;5;241;43m.\u001b[39;49m\u001b[43mexecute\u001b[49m\u001b[43m(\u001b[49m\n\u001b[1;32m    719\u001b[0m \u001b[43m    \u001b[49m\u001b[43mresponse_callback\u001b[49m\u001b[38;5;241;43m=\u001b[39;49m\u001b[43mresp\u001b[49m\u001b[43m,\u001b[49m\n\u001b[1;32m    720\u001b[0m \u001b[43m    \u001b[49m\u001b[43mexception_callback\u001b[49m\u001b[38;5;241;43m=\u001b[39;49m\u001b[43mexc\u001b[49m\u001b[43m,\u001b[49m\n\u001b[1;32m    721\u001b[0m \u001b[43m    \u001b[49m\u001b[43mmethod\u001b[49m\u001b[38;5;241;43m=\u001b[39;49m\u001b[38;5;28;43mself\u001b[39;49m\u001b[38;5;241;43m.\u001b[39;49m\u001b[43m_client\u001b[49m\u001b[38;5;241;43m.\u001b[39;49m\u001b[43msend\u001b[49m\u001b[43m,\u001b[49m\n\u001b[1;32m    722\u001b[0m \u001b[43m    \u001b[49m\u001b[43mrequest\u001b[49m\u001b[38;5;241;43m=\u001b[39;49m\u001b[43mrequest\u001b[49m\u001b[43m,\u001b[49m\n\u001b[1;32m    723\u001b[0m \u001b[43m\u001b[49m\u001b[43m)\u001b[49m\n",
      "File \u001b[0;32m~/Documents/weaviate/workshops/nato/weaviate-workshop/.venv/lib/python3.11/site-packages/weaviate/connect/executor.py:99\u001b[0m, in \u001b[0;36mexecute\u001b[0;34m(method, response_callback, exception_callback, *args, **kwargs)\u001b[0m\n\u001b[1;32m     97\u001b[0m     \u001b[38;5;28;01mreturn\u001b[39;00m resp_call\n\u001b[1;32m     98\u001b[0m \u001b[38;5;28;01mexcept\u001b[39;00m \u001b[38;5;167;01mException\u001b[39;00m \u001b[38;5;28;01mas\u001b[39;00m e:\n\u001b[0;32m---> 99\u001b[0m     \u001b[38;5;28;01mreturn\u001b[39;00m cast(T, \u001b[43mexception_callback\u001b[49m\u001b[43m(\u001b[49m\u001b[43me\u001b[49m\u001b[43m)\u001b[49m)\n",
      "File \u001b[0;32m~/Documents/weaviate/workshops/nato/weaviate-workshop/.venv/lib/python3.11/site-packages/weaviate/connect/v4.py:716\u001b[0m, in \u001b[0;36m_ConnectionBase._send.<locals>.exc\u001b[0;34m(e)\u001b[0m\n\u001b[1;32m    715\u001b[0m \u001b[38;5;28;01mdef\u001b[39;00m\u001b[38;5;250m \u001b[39m\u001b[38;5;21mexc\u001b[39m(e: \u001b[38;5;167;01mException\u001b[39;00m) \u001b[38;5;241m-\u001b[39m\u001b[38;5;241m>\u001b[39m \u001b[38;5;28;01mNone\u001b[39;00m:\n\u001b[0;32m--> 716\u001b[0m     \u001b[38;5;28;43mself\u001b[39;49m\u001b[38;5;241;43m.\u001b[39;49m\u001b[43m__handle_exceptions\u001b[49m\u001b[43m(\u001b[49m\u001b[43me\u001b[49m\u001b[43m,\u001b[49m\u001b[43m \u001b[49m\u001b[43merror_msg\u001b[49m\u001b[43m)\u001b[49m\n",
      "File \u001b[0;32m~/Documents/weaviate/workshops/nato/weaviate-workshop/.venv/lib/python3.11/site-packages/weaviate/connect/v4.py:672\u001b[0m, in \u001b[0;36m_ConnectionBase.__handle_exceptions\u001b[0;34m(self, e, error_msg)\u001b[0m\n\u001b[1;32m    670\u001b[0m \u001b[38;5;28;01mif\u001b[39;00m \u001b[38;5;28misinstance\u001b[39m(e, ReadTimeout):\n\u001b[1;32m    671\u001b[0m     \u001b[38;5;28;01mraise\u001b[39;00m WeaviateTimeoutError(error_msg) \u001b[38;5;28;01mfrom\u001b[39;00m\u001b[38;5;250m \u001b[39m\u001b[38;5;21;01me\u001b[39;00m\n\u001b[0;32m--> 672\u001b[0m \u001b[38;5;28;01mraise\u001b[39;00m e\n",
      "File \u001b[0;32m~/Documents/weaviate/workshops/nato/weaviate-workshop/.venv/lib/python3.11/site-packages/weaviate/connect/executor.py:95\u001b[0m, in \u001b[0;36mexecute\u001b[0;34m(method, response_callback, exception_callback, *args, **kwargs)\u001b[0m\n\u001b[1;32m     92\u001b[0m             \u001b[38;5;28;01mreturn\u001b[39;00m cast(T, exception_callback(e))\n\u001b[1;32m     94\u001b[0m     \u001b[38;5;28;01mreturn\u001b[39;00m _execute()\n\u001b[0;32m---> 95\u001b[0m resp_call \u001b[38;5;241m=\u001b[39m \u001b[43mresponse_callback\u001b[49m\u001b[43m(\u001b[49m\u001b[43mcall\u001b[49m\u001b[43m)\u001b[49m\n\u001b[1;32m     96\u001b[0m \u001b[38;5;28;01massert\u001b[39;00m \u001b[38;5;129;01mnot\u001b[39;00m \u001b[38;5;28misinstance\u001b[39m(resp_call, Awaitable)\n\u001b[1;32m     97\u001b[0m \u001b[38;5;28;01mreturn\u001b[39;00m resp_call\n",
      "File \u001b[0;32m~/Documents/weaviate/workshops/nato/weaviate-workshop/.venv/lib/python3.11/site-packages/weaviate/connect/v4.py:713\u001b[0m, in \u001b[0;36m_ConnectionBase._send.<locals>.resp\u001b[0;34m(res)\u001b[0m\n\u001b[1;32m    712\u001b[0m \u001b[38;5;28;01mdef\u001b[39;00m\u001b[38;5;250m \u001b[39m\u001b[38;5;21mresp\u001b[39m(res: Response) \u001b[38;5;241m-\u001b[39m\u001b[38;5;241m>\u001b[39m Response:\n\u001b[0;32m--> 713\u001b[0m     \u001b[38;5;28;01mreturn\u001b[39;00m \u001b[38;5;28;43mself\u001b[39;49m\u001b[38;5;241;43m.\u001b[39;49m\u001b[43m__handle_response\u001b[49m\u001b[43m(\u001b[49m\u001b[43mres\u001b[49m\u001b[43m,\u001b[49m\u001b[43m \u001b[49m\u001b[43merror_msg\u001b[49m\u001b[43m,\u001b[49m\u001b[43m \u001b[49m\u001b[43mstatus_codes\u001b[49m\u001b[43m)\u001b[49m\n",
      "File \u001b[0;32m~/Documents/weaviate/workshops/nato/weaviate-workshop/.venv/lib/python3.11/site-packages/weaviate/connect/v4.py:681\u001b[0m, in \u001b[0;36m_ConnectionBase.__handle_response\u001b[0;34m(self, response, error_msg, status_codes)\u001b[0m\n\u001b[1;32m    674\u001b[0m \u001b[38;5;28;01mdef\u001b[39;00m\u001b[38;5;250m \u001b[39m\u001b[38;5;21m__handle_response\u001b[39m(\n\u001b[1;32m    675\u001b[0m     \u001b[38;5;28mself\u001b[39m,\n\u001b[1;32m    676\u001b[0m     response: Response,\n\u001b[1;32m    677\u001b[0m     error_msg: \u001b[38;5;28mstr\u001b[39m,\n\u001b[1;32m    678\u001b[0m     status_codes: Optional[_ExpectedStatusCodes],\n\u001b[1;32m    679\u001b[0m ) \u001b[38;5;241m-\u001b[39m\u001b[38;5;241m>\u001b[39m Response:\n\u001b[1;32m    680\u001b[0m     \u001b[38;5;28;01mif\u001b[39;00m response\u001b[38;5;241m.\u001b[39mstatus_code \u001b[38;5;241m==\u001b[39m \u001b[38;5;241m403\u001b[39m:\n\u001b[0;32m--> 681\u001b[0m         \u001b[38;5;28;01mraise\u001b[39;00m InsufficientPermissionsError(response)\n\u001b[1;32m    682\u001b[0m     \u001b[38;5;28;01mif\u001b[39;00m status_codes \u001b[38;5;129;01mis\u001b[39;00m \u001b[38;5;129;01mnot\u001b[39;00m \u001b[38;5;28;01mNone\u001b[39;00m \u001b[38;5;129;01mand\u001b[39;00m response\u001b[38;5;241m.\u001b[39mstatus_code \u001b[38;5;129;01mnot\u001b[39;00m \u001b[38;5;129;01min\u001b[39;00m status_codes\u001b[38;5;241m.\u001b[39mok:\n\u001b[1;32m    683\u001b[0m         \u001b[38;5;28;01mraise\u001b[39;00m UnexpectedStatusCodeError(error_msg, response)\n",
      "\u001b[0;31mInsufficientPermissionsError\u001b[0m: forbidden! Unexpected status code: 403, with response body: {'error': [{'message': \"rbac: authorization, forbidden action: user 'hr_alice' has insufficient permissions to create_data [[Domain: data, Collection: PublicInfo, Tenant: *, Object: *]]\"}]}."
     ]
    }
   ],
   "source": [
    "# Test 4: Try to insert into PublicInfo \n",
    "\n",
    "company_collection = alice_client.collections.get(\"PublicInfo\")\n",
    "company_collection.data.insert({\n",
    "        \"title\": \"Donut Wednesdays\",\n",
    "        \"content\": \"Free donuts in the break room all day on Wednesdays\"\n",
    "    })\n",
    "\n",
    "\n",
    "alice_client.close()"
   ]
  },
  {
   "cell_type": "code",
   "execution_count": 20,
   "metadata": {},
   "outputs": [],
   "source": [
    "# Set up friendly error handling for Jupyter\n",
    "from IPython.core.interactiveshell import InteractiveShell\n",
    "from weaviate.exceptions import InsufficientPermissionsError\n",
    "\n",
    "def custom_exception_handler(self, exc_type, exc_value, exc_traceback, tb_offset=None):\n",
    "    if exc_type == InsufficientPermissionsError:\n",
    "        print(\"🧙🏻‍♂️You shall not pass - insufficient permissions!\")\n",
    "        return\n",
    "    \n",
    "    # For all other exceptions, use the default handler\n",
    "    self.showtraceback((exc_type, exc_value, exc_traceback), tb_offset=tb_offset)\n",
    "\n",
    "# Get the current IPython instance and override the exception handler\n",
    "shell = InteractiveShell.instance()\n",
    "shell.set_custom_exc((InsufficientPermissionsError,), custom_exception_handler)\n",
    "\n",
    "# !!!Important!!! This will remove the message from all 403 errors, even those related to schema issues"
   ]
  },
  {
   "cell_type": "markdown",
   "metadata": {},
   "source": [
    "### Now, test with employee data, should have limited access based on role and permissions"
   ]
  },
  {
   "cell_type": "code",
   "execution_count": 22,
   "metadata": {},
   "outputs": [
    {
     "data": {
      "text/plain": [
       "True"
      ]
     },
     "execution_count": 22,
     "metadata": {},
     "output_type": "execute_result"
    }
   ],
   "source": [
    "# Create new client with Jim's API key\n",
    "\n",
    "jim_client = weaviate.connect_to_local(\n",
    "    **LOCAL_CONFIG,\n",
    "    auth_credentials=Auth.api_key(employee_jim_key),\n",
    ")\n",
    "\n",
    "jim_client.is_ready()"
   ]
  },
  {
   "cell_type": "code",
   "execution_count": 23,
   "metadata": {},
   "outputs": [
    {
     "name": "stdout",
     "output_type": "stream",
     "text": [
      "QueryReturn(objects=[Object(uuid=_WeaviateUUIDInt('75f0cafa-cafb-42ea-83ab-29c824e7414b'), metadata=MetadataReturn(creation_time=None, last_update_time=None, distance=None, certainty=None, score=None, explain_score=None, is_consistent=None, rerank_score=None), properties={'title': 'Company Mission', 'content': \"To build the world's best vector database\"}, references=None, vector={}, collection='PublicInfo')])\n"
     ]
    }
   ],
   "source": [
    "# Test 1: Try to read PublicInfo \n",
    "\n",
    "public_collection = jim_client.collections.get(\"PublicInfo\")\n",
    "result = public_collection.query.fetch_objects(limit=1)\n",
    "    \n",
    "print(result)"
   ]
  },
  {
   "cell_type": "code",
   "execution_count": 24,
   "metadata": {},
   "outputs": [
    {
     "name": "stdout",
     "output_type": "stream",
     "text": [
      "🧙🏻‍♂️You shall not pass - insufficient permissions!\n"
     ]
    }
   ],
   "source": [
    "# Test 2: Try to read CompanyData \n",
    "\n",
    "company_collection = jim_client.collections.get(\"CompanyData\")\n",
    "result = company_collection.query.fetch_objects(limit=1)\n",
    "\n",
    "print(result)"
   ]
  },
  {
   "cell_type": "code",
   "execution_count": 25,
   "metadata": {},
   "outputs": [
    {
     "name": "stdout",
     "output_type": "stream",
     "text": [
      "🧙🏻‍♂️You shall not pass - insufficient permissions!\n"
     ]
    }
   ],
   "source": [
    "# Test 3: Try to insert into CompanyData \n",
    "\n",
    "company_collection = jim_client.collections.get(\"CompanyData\")\n",
    "company_collection.data.insert({\n",
    "    \"employee_name\": \"Test Employee 1\",\n",
    "    \"salary\": 50000,\n",
    "    \"department\": \"Test\"\n",
    "})\n",
    "\n",
    "\n",
    "david_client.close()"
   ]
  },
  {
   "cell_type": "markdown",
   "metadata": {},
   "source": [
    "### Now, test with a manager, we should see more access than the employe but not as much as HR."
   ]
  },
  {
   "cell_type": "code",
   "execution_count": null,
   "metadata": {},
   "outputs": [
    {
     "name": "stdout",
     "output_type": "stream",
     "text": [
      "Testing PublicInfo access...\n",
      "✅ Can read PublicInfo\n",
      "Testing CompanyData access...\n",
      "✅ Can read CompanyData\n",
      "Testing CompanyData insert...\n",
      "❌ Cannot insert into CompanyData\n"
     ]
    }
   ],
   "source": [
    "# Test manager_carol access (Manager)\n",
    "\n",
    "# Create new client with manager_carol's API key\n",
    "carol_client = weaviate.connect_to_local(\n",
    "    **LOCAL_CONFIG,\n",
    "    auth_credentials=Auth.api_key(manager_carol_key),\n",
    ")\n",
    "\n",
    "# Test 1: Try to read PublicInfo (should work)\n",
    "print(\"Testing PublicInfo access...\")\n",
    "try:\n",
    "    public_collection = carol_client.collections.get(\"PublicInfo\")\n",
    "    result = public_collection.query.fetch_objects(limit=1)\n",
    "    print(\"✅ Can read PublicInfo\")\n",
    "except Exception as e:\n",
    "    print(f\"❌ Cannot read PublicInfo: {e}\")\n",
    "\n",
    "# Test 2: Try to read CompanyData (should work for HR)\n",
    "print(\"Testing CompanyData access...\")\n",
    "try:\n",
    "    company_collection = carol_client.collections.get(\"CompanyData\")\n",
    "    result = company_collection.query.fetch_objects(limit=1)\n",
    "    print(\"✅ Can read CompanyData\")\n",
    "except Exception as e:\n",
    "    print(\"❌ Cannot read CompanyData\")\n",
    "\n",
    "# Test 3: Try to insert into CompanyData (should work for HR)\n",
    "print(\"Testing CompanyData insert...\")\n",
    "try:\n",
    "    company_collection = carol_client.collections.get(\"CompanyData\")\n",
    "    company_collection.data.insert({\n",
    "        \"employee_name\": \"Test Employee\",\n",
    "        \"salary\": 50000,\n",
    "        \"department\": \"Test\"\n",
    "    })\n",
    "    print(\"✅ Can insert into CompanyData\")\n",
    "except Exception as e:\n",
    "    print(\"❌ Cannot insert into CompanyData\")\n",
    "\n",
    "carol_client.close()"
   ]
  },
  {
   "cell_type": "markdown",
   "metadata": {},
   "source": [
    "# BONUS Create a Super User with admin role and access to all collections"
   ]
  },
  {
   "cell_type": "code",
   "execution_count": 27,
   "metadata": {},
   "outputs": [
    {
     "name": "stdout",
     "output_type": "stream",
     "text": [
      "Created 'ceo' role\n"
     ]
    }
   ],
   "source": [
    "ceo_permissions = [\n",
    "    Permissions.data(\n",
    "        collection=\"*\", #This will give access to all collections\n",
    "        create=True,\n",
    "        read=True,\n",
    "        update=True,\n",
    "        delete=True\n",
    "    ),\n",
    "]\n",
    "\n",
    "client.roles.create(role_name=\"ceo\", permissions=ceo_permissions)\n",
    "print(\"Created 'ceo' role\")"
   ]
  },
  {
   "cell_type": "code",
   "execution_count": 29,
   "metadata": {},
   "outputs": [
    {
     "name": "stdout",
     "output_type": "stream",
     "text": [
      "Deleted existing ceo_bob user\n",
      "Created user: ceo_bob\n",
      "Assigned ceo role to ceo_bob\n",
      "API Key: cElTYWUvcGNkWmp1RHpz...\n"
     ]
    }
   ],
   "source": [
    "client.users.db.delete(user_id=\"ceo_bob\")\n",
    "print(\"Deleted existing ceo_bob user\")\n",
    "\n",
    "# Create new user\n",
    "ceo_bob_key = client.users.db.create(user_id=\"ceo_bob\")\n",
    "print(f\"Created user: ceo_bob\")\n",
    "\n",
    "client.users.db.assign_roles(user_id=\"ceo_bob\", role_names=[\"ceo\"])\n",
    "print(f\"Assigned ceo role to ceo_bob\")\n",
    "\n",
    "print(f\"API Key: {ceo_bob_key[:20]}...\")"
   ]
  },
  {
   "cell_type": "code",
   "execution_count": 30,
   "metadata": {},
   "outputs": [],
   "source": [
    "# Test 3: Try to insert into PublicInfo \n",
    "bob_client = weaviate.connect_to_local(\n",
    "    **LOCAL_CONFIG,\n",
    "    auth_credentials=Auth.api_key(ceo_bob_key),\n",
    ")\n",
    "\n",
    "company_collection = bob_client.collections.get(\"PublicInfo\")\n",
    "company_collection.data.insert({\n",
    "        \"title\": \"Vinyl Wednesdays\",\n",
    "        \"content\": \"Vinyl only music played in the breakroom on Wednesdays\"\n",
    "    })\n",
    "\n",
    "\n",
    "bob_client.close()"
   ]
  },
  {
   "cell_type": "markdown",
   "metadata": {},
   "source": [
    "# BONUS Creating Collections"
   ]
  },
  {
   "cell_type": "code",
   "execution_count": 31,
   "metadata": {},
   "outputs": [
    {
     "name": "stdout",
     "output_type": "stream",
     "text": [
      "🧙🏻‍♂️You shall not pass - insufficient permissions!\n"
     ]
    }
   ],
   "source": [
    "alice_client = weaviate.connect_to_local(\n",
    "    **LOCAL_CONFIG,\n",
    "    auth_credentials=Auth.api_key(hr_alice_key),\n",
    ")\n",
    "\n",
    "alice_client.collections.create(\n",
    "    name = \"CompanyDataNew\",\n",
    "    vector_config=Configure.Vectors.self_provided(),\n",
    "    properties=[\n",
    "        Property(name=\"employee_name\", data_type=DataType.TEXT),\n",
    "        Property(name=\"salary\", data_type=DataType.NUMBER),\n",
    "        Property(name=\"department\", data_type=DataType.TEXT),\n",
    "    ],\n",
    ")"
   ]
  },
  {
   "cell_type": "code",
   "execution_count": 32,
   "metadata": {},
   "outputs": [
    {
     "name": "stdout",
     "output_type": "stream",
     "text": [
      "🧙🏻‍♂️You shall not pass - insufficient permissions!\n"
     ]
    }
   ],
   "source": [
    "bob_client = weaviate.connect_to_local(\n",
    "    **LOCAL_CONFIG,\n",
    "    auth_credentials=Auth.api_key(ceo_bob_key),\n",
    ")\n",
    "\n",
    "bob_client.collections.create(\n",
    "    name = \"CompanyDataNew\",\n",
    "    vector_config=Configure.Vectors.self_provided(),\n",
    "    properties=[\n",
    "        Property(name=\"employee_name\", data_type=DataType.TEXT),\n",
    "        Property(name=\"salary\", data_type=DataType.NUMBER),\n",
    "        Property(name=\"department\", data_type=DataType.TEXT),\n",
    "    ],\n",
    ")\n"
   ]
  },
  {
   "cell_type": "code",
   "execution_count": 33,
   "metadata": {},
   "outputs": [
    {
     "data": {
      "text/plain": [
       "<weaviate.collections.collection.sync.Collection at 0x112c91d10>"
      ]
     },
     "execution_count": 33,
     "metadata": {},
     "output_type": "execute_result"
    }
   ],
   "source": [
    "if client.collections.exists(\"CompanyDataNew\"):\n",
    "    client.collections.delete(\"CompanyDataNew\")\n",
    "\n",
    "client.collections.create(\n",
    "    name = \"CompanyDataNew\",\n",
    "    vector_config=Configure.Vectors.self_provided(),\n",
    "    properties=[\n",
    "        Property(name=\"employee_name\", data_type=DataType.TEXT),\n",
    "        Property(name=\"salary\", data_type=DataType.NUMBER),\n",
    "        Property(name=\"department\", data_type=DataType.TEXT),\n",
    "    ],\n",
    ")"
   ]
  },
  {
   "cell_type": "markdown",
   "metadata": {},
   "source": [
    "## Close the Client"
   ]
  },
  {
   "cell_type": "code",
   "execution_count": 34,
   "metadata": {},
   "outputs": [],
   "source": [
    "alice_client.close()"
   ]
  },
  {
   "cell_type": "code",
   "execution_count": 35,
   "metadata": {},
   "outputs": [],
   "source": [
    "bob_client.close()"
   ]
  },
  {
   "cell_type": "code",
   "execution_count": 36,
   "metadata": {},
   "outputs": [],
   "source": [
    "client.close()"
   ]
  }
 ],
 "metadata": {
  "kernelspec": {
   "display_name": ".venv (3.11.9)",
   "language": "python",
   "name": "python3"
  },
  "language_info": {
   "codemirror_mode": {
    "name": "ipython",
    "version": 3
   },
   "file_extension": ".py",
   "mimetype": "text/x-python",
   "name": "python",
   "nbconvert_exporter": "python",
   "pygments_lexer": "ipython3",
   "version": "3.11.9"
  }
 },
 "nbformat": 4,
 "nbformat_minor": 4
}
