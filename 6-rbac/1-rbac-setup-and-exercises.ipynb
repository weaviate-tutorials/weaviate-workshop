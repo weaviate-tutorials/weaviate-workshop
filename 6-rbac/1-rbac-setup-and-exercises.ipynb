{
 "cells": [
  {
   "cell_type": "markdown",
   "metadata": {},
   "source": [
    "# RBAC Setup - Role-Based Access Control\n",
    "\n",
    "This notebook introduces Weaviate's Role-Based Access Control (RBAC) system, which provides fine-grained access control based on user roles and permissions.\n",
    "\n",
    "## What you'll learn:\n",
    "- Basic RBAC concepts in Weaviate\n",
    "- How to set up users and roles\n",
    "- Creating custom permissions\n",
    "- Managing access to collections and data"
   ]
  },
  {
   "cell_type": "markdown",
   "metadata": {},
   "source": [
    "## Weaviate Python Client & RBAC\n",
    "\n",
    "\n",
    "RBAC (Role-Based Access Control) requires:\n",
    "- Weaviate v1.29+ (RBAC introduced)\n",
    "- Root user access or role management permissions"
   ]
  },
  {
   "cell_type": "code",
   "execution_count": null,
   "metadata": {},
   "outputs": [],
   "source": [
    "import os\n",
    "from dotenv import load_dotenv\n",
    "\n",
    "load_dotenv()\n",
    "\n",
    "WEAVIATE_KEY = os.getenv(\"WEAVIATE_KEY\")\n",
    "OPENAI_API_KEY = os.getenv(\"OPENAI_API_KEY\")\n",
    "OPENAI_URL = os.getenv(\"OPENAI_URL\")\n",
    "\n",
    "print(f\"Weaviate Key:{WEAVIATE_KEY}\")\n",
    "print(f\"OpenAI API Key: {OPENAI_API_KEY[:20]}\")\n",
    "print(f\"OpenAI URL: {OPENAI_URL}\")\n",
    "\n"
   ]
  },
  {
   "cell_type": "code",
   "execution_count": null,
   "metadata": {},
   "outputs": [],
   "source": [
    "import weaviate\n",
    "from weaviate.classes.init import Auth\n",
    "\n",
    "# Connect to the local instance\n",
    "client = weaviate.connect_to_local(\n",
    "  host=\"127.0.0.1\", # the address to the learner's instance\n",
    "  port=8080,\n",
    "  grpc_port=50051,\n",
    "  auth_credentials=Auth.api_key(WEAVIATE_KEY),\n",
    "  headers={\n",
    "    \"X-OpenAI-Api-Key\": OPENAI_API_KEY\n",
    "  }\n",
    ")\n",
    "\n",
    "print(client.is_ready())"
   ]
  },
  {
   "cell_type": "code",
   "execution_count": null,
   "metadata": {},
   "outputs": [],
   "source": [
    "# Creating a local config for later\n",
    "LOCAL_CONFIG = {\n",
    "    \"host\": \"localhost\",\n",
    "    \"port\": 8080,\n",
    "    \"grpc_port\": 50051,\n",
    "    \"headers\": {\n",
    "        \"X-OpenAI-Api-Key\": OPENAI_API_KEY,\n",
    "        \"X-OpenAI-BaseURL\": OPENAI_URL\n",
    "    }\n",
    "}"
   ]
  },
  {
   "cell_type": "markdown",
   "metadata": {},
   "source": [
    "## Understanding RBAC Components\n",
    "\n",
    "* [Weaviate Docs - Rule Based Access Control (RBAC) Overview](https://docs.weaviate.io/weaviate/configuration/rbac)\n",
    "\n",
    "\n",
    "Weaviate RBAC consists of three main components:\n",
    "\n",
    "* [Weaviate Docs - Managing Users](https://docs.weaviate.io/weaviate/configuration/rbac/manage-users)\n",
    "\n",
    "1. **Users**: Individual accounts with API keys\n",
    "2. **Roles**: Collections of permissions\n",
    "3. **Permissions**: Specific actions on resources\n",
    "\n",
    "### Predefined Roles\n",
    "* [Weaviate Docs - Managing Roles](https://docs.weaviate.io/weaviate/configuration/rbac/manage-roles)\n",
    "- `root`: Full system access\n",
    "- `viewer`: Read-only access to all resources"
   ]
  },
  {
   "cell_type": "markdown",
   "metadata": {},
   "source": [
    "## Create a Test Collection\n",
    "\n",
    "Let's create a collection we can use for our RBAC exercises."
   ]
  },
  {
   "cell_type": "code",
   "execution_count": null,
   "metadata": {},
   "outputs": [],
   "source": [
    "from weaviate.classes.config import Configure, Property, DataType\n",
    "\n",
    "# Clean up any existing collections\n",
    "collection_names = [\"CompanyData\", \"PublicInfo\"]\n",
    "for name in collection_names:\n",
    "    if client.collections.exists(name):\n",
    "        client.collections.delete(name)\n",
    "\n",
    "# Create CompanyData collection (sensitive data)\n",
    "client.collections.create(\n",
    "    name = \"CompanyData\",\n",
    "    vector_config=Configure.Vectors.self_provided(),\n",
    "    properties=[\n",
    "        Property(name=\"employee_name\", data_type=DataType.TEXT),\n",
    "        Property(name=\"salary\", data_type=DataType.NUMBER),\n",
    "        Property(name=\"department\", data_type=DataType.TEXT),\n",
    "    ],\n",
    ")\n",
    "\n",
    "# Create PublicInfo collection (public data)\n",
    "client.collections.create(\n",
    "   name = \"PublicInfo\",\n",
    "    vector_config=Configure.Vectors.self_provided(),\n",
    "    properties=[\n",
    "        Property(name=\"title\", data_type=DataType.TEXT),\n",
    "        Property(name=\"content\", data_type=DataType.TEXT),\n",
    "    ],\n",
    ")\n",
    "\n",
    "print(\"Collections created successfully!\")"
   ]
  },
  {
   "cell_type": "markdown",
   "metadata": {},
   "source": [
    "## Add Sample Data\n",
    "\n",
    "Let's add some sample data to our collections for testing."
   ]
  },
  {
   "cell_type": "code",
   "execution_count": null,
   "metadata": {},
   "outputs": [],
   "source": [
    "# Add sample data to our collections\n",
    "company_data = client.collections.get(\"CompanyData\")\n",
    "company_data.data.insert_many([\n",
    "    {\n",
    "        \"employee_name\": \"Alice Johnson\",\n",
    "        \"salary\": 85000,\n",
    "        \"department\": \"Engineering\"\n",
    "    },\n",
    "    {\n",
    "        \"employee_name\": \"Jim Smith\", \n",
    "        \"salary\": 92000,\n",
    "        \"department\": \"Engineering\"\n",
    "    },\n",
    "    {\n",
    "        \"employee_name\": \"Carol Davis\",\n",
    "        \"salary\": 78000,\n",
    "        \"department\": \"Marketing\"\n",
    "    }\n",
    "])\n",
    "\n",
    "# Add data to PublicInfo\n",
    "public_info = client.collections.get(\"PublicInfo\")\n",
    "public_info.data.insert_many([\n",
    "    {\n",
    "        \"title\": \"Company Mission\",\n",
    "        \"content\": \"To build the world's best vector database\"\n",
    "    },\n",
    "    {\n",
    "        \"title\": \"Office Hours\", \n",
    "        \"content\": \"Monday to Friday, 9 AM to 5 PM\"\n",
    "    }\n",
    "])\n",
    "\n",
    "print(f\"CompanyData objects: {company_data.aggregate.over_all().total_count}\")\n",
    "print(f\"PublicInfo objects: {public_info.aggregate.over_all().total_count}\")"
   ]
  },
  {
   "cell_type": "markdown",
   "metadata": {},
   "source": [
    "## List Existing Roles\n",
    "\n",
    "Let's see what roles are currently available.\n",
    "\n",
    "> **Note**: If RBAC is not enabled on your Weaviate instance, this will show an error - that's expected!"
   ]
  },
  {
   "cell_type": "code",
   "execution_count": null,
   "metadata": {},
   "outputs": [],
   "source": [
    "# Clean up existing custom roles first\n",
    "custom_roles_to_delete = [\"ceo\", \"dept_manager\", \"employee\", \"hr_manager\"]\n",
    "\n",
    "existing_roles = client.roles.list_all()\n",
    "for role_name in custom_roles_to_delete:\n",
    "    if role_name in existing_roles:\n",
    "        client.roles.delete(role_name=role_name)\n",
    "            "
   ]
  },
  {
   "cell_type": "code",
   "execution_count": null,
   "metadata": {},
   "outputs": [],
   "source": [
    "roles = client.roles.list_all()\n",
    "print(\"Current roles:\")\n",
    "for role in roles:\n",
    "    print(f\"- {role}\")"
   ]
  },
  {
   "cell_type": "markdown",
   "metadata": {},
   "source": [
    "## Create Custom Roles\n",
    "\n",
    "Now let's create some custom roles for different types of users in our organization."
   ]
  },
  {
   "cell_type": "code",
   "execution_count": null,
   "metadata": {},
   "outputs": [],
   "source": [
    "from weaviate.classes.rbac import Permissions\n",
    "\n",
    "# Role 1: HR Manager - Can access all company data\n",
    "hr_permissions = [\n",
    "    Permissions.data(\n",
    "        collection=\"CompanyData\",\n",
    "        create=True,\n",
    "        read=True,\n",
    "        update=True,\n",
    "        delete=True\n",
    "    ),\n",
    "    Permissions.data(\n",
    "        collection=\"PublicInfo\",\n",
    "        read=True\n",
    "    )\n",
    "]\n",
    "\n",
    "client.roles.create(role_name=\"hr_manager\", permissions=hr_permissions)\n",
    "print(\"Created 'hr_manager' role\")\n",
    "\n",
    "# Role 2: Employee - Can only read public information\n",
    "employee_permissions = [\n",
    "    Permissions.data(\n",
    "        collection=\"PublicInfo\",\n",
    "        read=True\n",
    "    )\n",
    "]\n",
    "\n",
    "client.roles.create(role_name=\"employee\", permissions=employee_permissions)\n",
    "print(\"Created 'employee' role\")\n",
    "\n",
    "# Role 3: Department Manager - Can read company data but not modify\n",
    "dept_manager_permissions = [\n",
    "    Permissions.data(\n",
    "        collection=\"CompanyData\",\n",
    "        read=True\n",
    "    ),\n",
    "    Permissions.data(\n",
    "        collection=\"PublicInfo\",\n",
    "        read=True\n",
    "    )\n",
    "]\n",
    "\n",
    "client.roles.create(role_name=\"dept_manager\", permissions=dept_manager_permissions)\n",
    "print(\"Created 'dept_manager' role\")"
   ]
  },
  {
   "cell_type": "code",
   "execution_count": null,
   "metadata": {},
   "outputs": [],
   "source": [
    "# Check what roles were created\n",
    "all_roles = client.roles.list_all()\n",
    "print(\"Created roles:\")\n",
    "for role_name, role in all_roles.items():\n",
    "    print(f\"- {role_name}\")"
   ]
  },
  {
   "cell_type": "code",
   "execution_count": null,
   "metadata": {},
   "outputs": [],
   "source": [
    "all_roles = client.roles.list_all()\n",
    "for role_name, role in all_roles.items():\n",
    "    print(role_name, role)"
   ]
  },
  {
   "cell_type": "code",
   "execution_count": null,
   "metadata": {},
   "outputs": [],
   "source": [
    "# Create users and assign roles\n",
    "\n",
    "# Clean up any existing user first\n",
    "existing_users = client.users.db.list_all()\n",
    "existing_user_ids = [user.user_id for user in existing_users]\n",
    "\n",
    "if \"hr_alice\" in existing_user_ids:\n",
    "    client.users.db.delete(user_id=\"hr_alice\")\n",
    "    print(\"Deleted existing hr_alice user\")\n",
    "\n",
    "# Create new user\n",
    "hr_alice_key = client.users.db.create(user_id=\"hr_alice\")\n",
    "print(f\" Created user: hr_alice\")\n",
    "\n",
    "client.users.db.assign_roles(user_id=\"hr_alice\", role_names=[\"hr_manager\"])\n",
    "print(f\" Assigned hr_manager role to hr_alice\")\n",
    "\n",
    "print(f\"API Key: {hr_alice_key[:20]}...\")"
   ]
  },
  {
   "cell_type": "code",
   "execution_count": null,
   "metadata": {},
   "outputs": [],
   "source": [
    "# Create more users and assign roles\n",
    "\n",
    "# Clean up any existing users first\n",
    "existing_users = client.users.db.list_all()\n",
    "existing_user_ids = [user.user_id for user in existing_users]\n",
    "\n",
    "if \"employee_jim\" in existing_user_ids:\n",
    "    client.users.db.delete(user_id=\"employee_jim\")\n",
    "    print(\"Deleted existing employee_jim user\")\n",
    "\n",
    "if \"manager_carol\" in existing_user_ids:\n",
    "    client.users.db.delete(user_id=\"manager_carol\")\n",
    "    print(\"Deleted existing manager_carol user\")\n",
    "\n",
    "# Create employee_bob\n",
    "employee_jim_key = client.users.db.create(user_id=\"employee_jim\")\n",
    "print(f\"Created user: employee_jim\")\n",
    "\n",
    "client.users.db.assign_roles(user_id=\"employee_jim\", role_names=[\"employee\"])\n",
    "print(f\"Assigned employee role to employee_jim\")\n",
    "\n",
    "# Create manager_carol\n",
    "manager_carol_key = client.users.db.create(user_id=\"manager_carol\")\n",
    "print(f\"Created user: manager_carol\")\n",
    "\n",
    "client.users.db.assign_roles(user_id=\"manager_carol\", role_names=[\"dept_manager\"])\n",
    "print(f\"Assigned dept_manager role to manager_carol\")\n",
    "\n",
    "print(f\"Jim API Key: {employee_jim_key[:20]}...\")\n",
    "print(f\"Carol API Key: {manager_carol_key[:20]}...\")"
   ]
  },
  {
   "cell_type": "markdown",
   "metadata": {},
   "source": [
    "## Test Access Control\n",
    "\n",
    "Now let's test our RBAC setup by connecting as different users and trying to access data."
   ]
  },
  {
   "cell_type": "markdown",
   "metadata": {},
   "source": [
    "### Test with HR user, has admin access so should be able to do almost  anything...almost"
   ]
  },
  {
   "cell_type": "code",
   "execution_count": null,
   "metadata": {},
   "outputs": [],
   "source": [
    "# Create new client with hr_alice's API key\n",
    "\n",
    "alice_client = weaviate.connect_to_local(\n",
    "    **LOCAL_CONFIG,\n",
    "    auth_credentials=Auth.api_key(hr_alice_key),\n",
    ")\n",
    "\n",
    "alice_client.is_ready()"
   ]
  },
  {
   "cell_type": "code",
   "execution_count": null,
   "metadata": {},
   "outputs": [],
   "source": [
    "# Test 1: Try to read PublicInfo \n",
    "\n",
    "public_collection = alice_client.collections.get(\"PublicInfo\")\n",
    "result = public_collection.query.fetch_objects(limit=1)\n",
    "    \n",
    "print(result)"
   ]
  },
  {
   "cell_type": "code",
   "execution_count": null,
   "metadata": {},
   "outputs": [],
   "source": [
    "# Test 2: Try to read CompanyData \n",
    "\n",
    "company_collection = alice_client.collections.get(\"CompanyData\")\n",
    "result = company_collection.query.fetch_objects(limit=1)\n",
    "\n",
    "print(result)"
   ]
  },
  {
   "cell_type": "code",
   "execution_count": null,
   "metadata": {},
   "outputs": [],
   "source": [
    "# Test 3: Try to insert into CompanyData \n",
    "\n",
    "company_collection = alice_client.collections.get(\"CompanyData\")\n",
    "company_collection.data.insert({\n",
    "    \"employee_name\": \"Test Employee\",\n",
    "    \"salary\": 50000,\n",
    "    \"department\": \"Test\"\n",
    "})"
   ]
  },
  {
   "cell_type": "code",
   "execution_count": null,
   "metadata": {},
   "outputs": [],
   "source": [
    "# Test 4: Try to insert into PublicInfo \n",
    "\n",
    "company_collection = alice_client.collections.get(\"PublicInfo\")\n",
    "company_collection.data.insert({\n",
    "        \"title\": \"Donut Wednesdays\",\n",
    "        \"content\": \"Free donuts in the break room all day on Wednesdays\"\n",
    "    })\n",
    "\n",
    "\n",
    "alice_client.close()"
   ]
  },
  {
   "cell_type": "code",
   "execution_count": null,
   "metadata": {},
   "outputs": [],
   "source": [
    "# Set up friendly error handling for Jupyter\n",
    "from IPython.core.interactiveshell import InteractiveShell\n",
    "from weaviate.exceptions import InsufficientPermissionsError\n",
    "\n",
    "def custom_exception_handler(self, exc_type, exc_value, exc_traceback, tb_offset=None):\n",
    "    if exc_type == InsufficientPermissionsError:\n",
    "        print(\"🧙🏻‍♂️You shall not pass - insufficient permissions!\")\n",
    "        return\n",
    "    \n",
    "    # For all other exceptions, use the default handler\n",
    "    self.showtraceback((exc_type, exc_value, exc_traceback), tb_offset=tb_offset)\n",
    "\n",
    "# Get the current IPython instance and override the exception handler\n",
    "shell = InteractiveShell.instance()\n",
    "shell.set_custom_exc((InsufficientPermissionsError,), custom_exception_handler)\n",
    "\n",
    "# !!!Important!!! This will remove the message from all 403 errors, even those related to schema issues"
   ]
  },
  {
   "cell_type": "markdown",
   "metadata": {},
   "source": [
    "### Now, test with employee data, should have limited access based on role and permissions"
   ]
  },
  {
   "cell_type": "code",
   "execution_count": null,
   "metadata": {},
   "outputs": [],
   "source": [
    "# Create new client with Jim's API key\n",
    "\n",
    "jim_client = weaviate.connect_to_local(\n",
    "    **LOCAL_CONFIG,\n",
    "    auth_credentials=Auth.api_key(employee_jim_key),\n",
    ")\n",
    "\n",
    "jim_client.is_ready()"
   ]
  },
  {
   "cell_type": "code",
   "execution_count": null,
   "metadata": {},
   "outputs": [],
   "source": [
    "# Test 1: Try to read PublicInfo \n",
    "\n",
    "public_collection = jim_client.collections.get(\"PublicInfo\")\n",
    "result = public_collection.query.fetch_objects(limit=1)\n",
    "    \n",
    "print(result)"
   ]
  },
  {
   "cell_type": "code",
   "execution_count": null,
   "metadata": {},
   "outputs": [],
   "source": [
    "# Test 2: Try to read CompanyData \n",
    "\n",
    "company_collection = jim_client.collections.get(\"CompanyData\")\n",
    "result = company_collection.query.fetch_objects(limit=1)\n",
    "\n",
    "print(result)"
   ]
  },
  {
   "cell_type": "code",
   "execution_count": null,
   "metadata": {},
   "outputs": [],
   "source": [
    "# Test 3: Try to insert into CompanyData \n",
    "\n",
    "company_collection = jim_client.collections.get(\"CompanyData\")\n",
    "company_collection.data.insert({\n",
    "    \"employee_name\": \"Test Employee 1\",\n",
    "    \"salary\": 50000,\n",
    "    \"department\": \"Test\"\n",
    "})\n",
    "\n",
    "\n",
    "david_client.close()"
   ]
  },
  {
   "cell_type": "markdown",
   "metadata": {},
   "source": [
    "### Now, test with a manager, we should see more access than the employe but not as much as HR."
   ]
  },
  {
   "cell_type": "code",
   "execution_count": null,
   "metadata": {},
   "outputs": [],
   "source": [
    "# Test manager_carol access (Manager)\n",
    "\n",
    "# Create new client with manager_carol's API key\n",
    "carol_client = weaviate.connect_to_local(\n",
    "    **LOCAL_CONFIG,\n",
    "    auth_credentials=Auth.api_key(manager_carol_key),\n",
    ")\n",
    "\n",
    "# Test 1: Try to read PublicInfo (should work)\n",
    "print(\"Testing PublicInfo access...\")\n",
    "try:\n",
    "    public_collection = carol_client.collections.get(\"PublicInfo\")\n",
    "    result = public_collection.query.fetch_objects(limit=1)\n",
    "    print(\"✅ Can read PublicInfo\")\n",
    "except Exception as e:\n",
    "    print(f\"❌ Cannot read PublicInfo: {e}\")\n",
    "\n",
    "# Test 2: Try to read CompanyData (should work for HR)\n",
    "print(\"Testing CompanyData access...\")\n",
    "try:\n",
    "    company_collection = carol_client.collections.get(\"CompanyData\")\n",
    "    result = company_collection.query.fetch_objects(limit=1)\n",
    "    print(\"✅ Can read CompanyData\")\n",
    "except Exception as e:\n",
    "    print(\"❌ Cannot read CompanyData\")\n",
    "\n",
    "# Test 3: Try to insert into CompanyData (should work for HR)\n",
    "print(\"Testing CompanyData insert...\")\n",
    "try:\n",
    "    company_collection = carol_client.collections.get(\"CompanyData\")\n",
    "    company_collection.data.insert({\n",
    "        \"employee_name\": \"Test Employee\",\n",
    "        \"salary\": 50000,\n",
    "        \"department\": \"Test\"\n",
    "    })\n",
    "    print(\"✅ Can insert into CompanyData\")\n",
    "except Exception as e:\n",
    "    print(\"❌ Cannot insert into CompanyData\")\n",
    "\n",
    "carol_client.close()"
   ]
  },
  {
   "cell_type": "markdown",
   "metadata": {},
   "source": [
    "# BONUS Create a Super User with admin role and access to all collections"
   ]
  },
  {
   "cell_type": "code",
   "execution_count": null,
   "metadata": {},
   "outputs": [],
   "source": [
    "ceo_permissions = [\n",
    "    Permissions.data(\n",
    "        collection=\"*\", #This will give access to all collections\n",
    "        create=True,\n",
    "        read=True,\n",
    "        update=True,\n",
    "        delete=True\n",
    "    ),\n",
    "]\n",
    "\n",
    "client.roles.create(role_name=\"ceo\", permissions=ceo_permissions)\n",
    "print(\"Created 'ceo' role\")"
   ]
  },
  {
   "cell_type": "code",
   "execution_count": null,
   "metadata": {},
   "outputs": [],
   "source": [
    "client.users.db.delete(user_id=\"ceo_bob\")\n",
    "print(\"Deleted existing ceo_bob user\")\n",
    "\n",
    "# Create new user\n",
    "ceo_bob_key = client.users.db.create(user_id=\"ceo_bob\")\n",
    "print(f\"Created user: ceo_bob\")\n",
    "\n",
    "client.users.db.assign_roles(user_id=\"ceo_bob\", role_names=[\"ceo\"])\n",
    "print(f\"Assigned ceo role to ceo_bob\")\n",
    "\n",
    "print(f\"API Key: {ceo_bob_key[:20]}...\")"
   ]
  },
  {
   "cell_type": "code",
   "execution_count": null,
   "metadata": {},
   "outputs": [],
   "source": [
    "# Test 3: Try to insert into PublicInfo \n",
    "bob_client = weaviate.connect_to_local(\n",
    "    **LOCAL_CONFIG,\n",
    "    auth_credentials=Auth.api_key(ceo_bob_key),\n",
    ")\n",
    "\n",
    "company_collection = bob_client.collections.get(\"PublicInfo\")\n",
    "company_collection.data.insert({\n",
    "        \"title\": \"Vinyl Wednesdays\",\n",
    "        \"content\": \"Vinyl only music played in the breakroom on Wednesdays\"\n",
    "    })\n",
    "\n",
    "\n",
    "bob_client.close()"
   ]
  },
  {
   "cell_type": "markdown",
   "metadata": {},
   "source": [
    "# BONUS Creating Collections"
   ]
  },
  {
   "cell_type": "code",
   "execution_count": null,
   "metadata": {},
   "outputs": [],
   "source": [
    "alice_client = weaviate.connect_to_local(\n",
    "    **LOCAL_CONFIG,\n",
    "    auth_credentials=Auth.api_key(hr_alice_key),\n",
    ")\n",
    "\n",
    "alice_client.collections.create(\n",
    "    name = \"CompanyDataNew\",\n",
    "    vector_config=Configure.Vectors.self_provided(),\n",
    "    properties=[\n",
    "        Property(name=\"employee_name\", data_type=DataType.TEXT),\n",
    "        Property(name=\"salary\", data_type=DataType.NUMBER),\n",
    "        Property(name=\"department\", data_type=DataType.TEXT),\n",
    "    ],\n",
    ")"
   ]
  },
  {
   "cell_type": "code",
   "execution_count": null,
   "metadata": {},
   "outputs": [],
   "source": [
    "bob_client = weaviate.connect_to_local(\n",
    "    **LOCAL_CONFIG,\n",
    "    auth_credentials=Auth.api_key(ceo_bob_key),\n",
    ")\n",
    "\n",
    "bob_client.collections.create(\n",
    "    name = \"CompanyDataNew\",\n",
    "    vector_config=Configure.Vectors.self_provided(),\n",
    "    properties=[\n",
    "        Property(name=\"employee_name\", data_type=DataType.TEXT),\n",
    "        Property(name=\"salary\", data_type=DataType.NUMBER),\n",
    "        Property(name=\"department\", data_type=DataType.TEXT),\n",
    "    ],\n",
    ")\n"
   ]
  },
  {
   "cell_type": "code",
   "execution_count": null,
   "metadata": {},
   "outputs": [],
   "source": [
    "if client.collections.exists(\"CompanyDataNew\"):\n",
    "    client.collections.delete(\"CompanyDataNew\")\n",
    "\n",
    "client.collections.create(\n",
    "    name = \"CompanyDataNew\",\n",
    "    vector_config=Configure.Vectors.self_provided(),\n",
    "    properties=[\n",
    "        Property(name=\"employee_name\", data_type=DataType.TEXT),\n",
    "        Property(name=\"salary\", data_type=DataType.NUMBER),\n",
    "        Property(name=\"department\", data_type=DataType.TEXT),\n",
    "    ],\n",
    ")"
   ]
  },
  {
   "cell_type": "markdown",
   "metadata": {},
   "source": [
    "## Close the Client"
   ]
  },
  {
   "cell_type": "code",
   "execution_count": null,
   "metadata": {},
   "outputs": [],
   "source": [
    "alice_client.close()"
   ]
  },
  {
   "cell_type": "code",
   "execution_count": null,
   "metadata": {},
   "outputs": [],
   "source": [
    "bob_client.close()"
   ]
  },
  {
   "cell_type": "code",
   "execution_count": null,
   "metadata": {},
   "outputs": [],
   "source": [
    "client.close()"
   ]
  }
 ],
 "metadata": {
  "kernelspec": {
   "display_name": ".venv (3.11.9)",
   "language": "python",
   "name": "python3"
  },
  "language_info": {
   "codemirror_mode": {
    "name": "ipython",
    "version": 3
   },
   "file_extension": ".py",
   "mimetype": "text/x-python",
   "name": "python",
   "nbconvert_exporter": "python",
   "pygments_lexer": "ipython3",
   "version": "3.11.9"
  }
 },
 "nbformat": 4,
 "nbformat_minor": 4
}
