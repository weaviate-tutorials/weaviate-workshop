{
 "cells": [
  {
   "cell_type": "markdown",
   "metadata": {},
   "source": [
    "# Query the data\n",
    "\n",
    "## Get keys and urls"
   ]
  },
  {
   "cell_type": "code",

   "execution_count": 26,
   "metadata": {},
   "outputs": [
    {
     "name": "stdout",
     "output_type": "stream",
     "text": [
      "https://vm7vt6fttjqqoh2riw9mvg.c0.europe-west3.gcp.weaviate.cloud\n",
      "6VxSJTcUZ7GY0l986XYFTt3mkEMeIm7F0pNc\n",
      "jina_0dbcfcbf17fe431aa4e4ebb2d7e31a6caI4V-9CeQnNfQcpnqys_hQzR4f3y\n"
     ]
    }
   ],

   "source": [
    "import os\n",
    "from dotenv import load_dotenv\n",
    "\n",
    "load_dotenv()\n",
    "\n",
    "WEAVIATE_URL = os.getenv(\"WEAVIATE_URL\")\n",
    "WEAVIATE_KEY = os.getenv(\"WEAVIATE_KEY\")\n",

    "JINAAI_API_KEY = os.getenv(\"JINAAI_API_KEY\")\n",
    "\n",
    "print(WEAVIATE_URL)\n",
    "print(WEAVIATE_KEY)\n",
    "print(JINAAI_API_KEY)\n",

    "\n",
    "if(WEAVIATE_URL == \"UPDATE_ME_WEAVIATE_URL\"):\n",
    "    raise Exception(\"Please update .env and Restart the notebook (see Restart button, next to Run All)\")"
   ]
  },
  {
   "cell_type": "markdown",
   "metadata": {},
   "source": [
    "## Connect to Weaviate"
   ]
  },
  {
   "cell_type": "code",
   "execution_count": 31,
   "metadata": {},
   "outputs": [
    {
     "data": {
      "text/plain": [
       "True"
      ]
     },
     "execution_count": 31,
     "metadata": {},
     "output_type": "execute_result"
    }
   ],
   "source": [
    "import weaviate\n",
    "from weaviate.classes.init import Auth\n",

    "from weaviate.classes.init import AdditionalConfig, Timeout\n",

    "\n",
    "client = weaviate.connect_to_weaviate_cloud(\n",
    "    cluster_url=WEAVIATE_URL,\n",
    "    auth_credentials=Auth.api_key(WEAVIATE_KEY),\n",
    "\n",
    "    headers = {\n",

    "        \"X-JinaAI-Api-Key\": JINAAI_API_KEY,\n",
    "    },\n",
    "\n",
    "    # additional_config=AdditionalConfig(\n",
    "    #     timeout=Timeout(init=30, query=120, insert=120)  # Values in seconds\n",
    "    #)\n",
    "    additional_config=AdditionalConfig(\n",
    "         timeout=Timeout(init=2, query=120, insert=120),  # Values in seconds\n",
    "    )\n",
    ")\n",
    "\n",

    "client.is_ready()"
   ]
  },
  {
   "cell_type": "markdown",
   "metadata": {},
   "source": [
    "### Helper function"
   ]
  },
  {
   "cell_type": "code",

   "execution_count": 32,

   "metadata": {},
   "outputs": [],
   "source": [
    "import json\n",
    "def print_properties(item):\n",
    "    print(\n",
    "        json.dumps(\n",
    "            item.properties,\n",
    "            indent=2, sort_keys=True, default=str\n",
    "        )\n",
    "    )"
   ]
  },
  {
   "cell_type": "markdown",
   "metadata": {},
   "source": [
    "## Vector search\n",
    "[Docs - near_text](https://weaviate.io/developers/weaviate/search/similarity#an-input-medium)"
   ]
  },
  {
   "cell_type": "code",
   "execution_count": 34,
   "metadata": {},
   "outputs": [
    {
     "name": "stdout",
     "output_type": "stream",
     "text": [
      "{\n",
      "  \"text\": \"Bagpipes have always been folk instruments, but after the 15th century some were used for court music, and others have survived as military instruments. For the chanter, two single-reed cane pipes are placed parallel, one pipe often sounding a drone or other accompaniment to the other pipe.Oct 6, 2023.\",\n",
      "  \"title\": \"Bagpipes\",\n",
      "  \"url\": \"https://simple.wikipedia.org/wiki/Bagpipes\",\n",
      "  \"wiki_id\": \"20231101.simple_112374_3\"\n",
      "}\n",
      "{\n",
      "  \"text\": \"A shepherd had a lot of time to sit and think or amuse himself.  He often made simple instruments out of reeds that grew where he sat.  These instruments were often simple pan flutes or just pipes which were similar to bamboo pipes or a modern recorder.  Some shepherds learned to carve instruments out of wood.  An example is the fujara from Slovakia and southern Poland.\",\n",
      "  \"title\": \"Shepherd\",\n",
      "  \"url\": \"https://simple.wikipedia.org/wiki/Shepherd\",\n",
      "  \"wiki_id\": \"20231101.simple_70678_5\"\n",
      "}\n",
      "{\n",
      "  \"text\": \"An Aeolian harp is just a box with tuned strings on it, and is not played by a human. It is just placed outdoors where the wind blows. The wind makes the strings move so that they make notes.\",\n",
      "  \"title\": \"Harp\",\n",
      "  \"url\": \"https://simple.wikipedia.org/wiki/Harp\",\n",
      "  \"wiki_id\": \"20231101.simple_19456_11\"\n",
      "}\n",
      "{\n",
      "  \"text\": \"The simplest type of mechanical aid is the use of wooden \\\"fingers\\\" that can be closed to press the string down and fret the C#, D, Eb, or E notes. This system is particularly useful for basslines that have a repeating pedal point such as a low D, because once the note is locked in place with the mechanical \\\"finger\\\", the lowest string then sounds a different note when it is played \\\"open\\\" (e.g., a low D).\",\n",
      "  \"title\": \"Double bass\",\n",
      "  \"url\": \"https://simple.wikipedia.org/wiki/Double%20bass\",\n",
      "  \"wiki_id\": \"20231101.simple_16629_10\"\n",
      "}\n",
      "{\n",
      "  \"text\": \"Beck, John (1995). Encyclopedia of percussion instruments. New York: Garland Publishing. . Google Books preview. Accessed 8 September 2009.\",\n",
      "  \"title\": \"Snare drum\",\n",
      "  \"url\": \"https://simple.wikipedia.org/wiki/Snare%20drum\",\n",
      "  \"wiki_id\": \"20231101.simple_306810_3\"\n",
      "}\n"
     ]
    }
   ],
   "source": [
    "# TODO: get the Wiki collection\n",
    "# wiki = \n",
    "wiki = client.collections.get(\"Wiki\")\n",
    "\n",
    "# TODO: run a near text query, search for musical instruments, with limit 5\n",
    "# response = wiki.query.\n",
    "response = wiki.query.near_text(\"musikinstrumente\", limit=5 )\n",
    "# response = wiki.query.near_text(\"music instruments\", limit=5 )\n",
    "for item in response.objects:\n",
    "    print_properties(item)"
   ]
  },
  {
   "cell_type": "code",
   "execution_count": 36,
   "metadata": {},
   "outputs": [
    {
     "name": "stdout",
     "output_type": "stream",
     "text": [
      "{\n",
      "  \"text\": \"Bagpipes have always been folk instruments, but after the 15th century some were used for court music, and others have survived as military instruments. For the chanter, two single-reed cane pipes are placed parallel, one pipe often sounding a drone or other accompaniment to the other pipe.Oct 6, 2023.\",\n",
      "  \"title\": \"Bagpipes\",\n",
      "  \"url\": \"https://simple.wikipedia.org/wiki/Bagpipes\",\n",
      "  \"wiki_id\": \"20231101.simple_112374_3\"\n",
      "}\n",
      "0.3550281524658203\n"
     ]
    }
   ],
   "source": [
    "from weaviate.classes.query import MetadataQuery\n",
    "\n",
    "## wiki = client.collections.get(WIKI_NAME)\n",
    "\n",
    "response = wiki.query.near_text(\n",
    "    query=\"musical instruments\",\n",
    "    # limit=5,\n",
    "    auto_limit=2,\n",
    "    distance=0.361,\n",
    "    # TODO: add MetadataQuery - request distance\n",
    "    # return_metadata=\n",
    "    return_metadata=MetadataQuery(distance=True)\n",
    ")\n",
    "\n",
    "\n",
    "for item in response.objects:\n",
    "    print_properties(item)\n",
    "    print(item.metadata.distance)"
   ]
  },
  {
   "cell_type": "markdown",
   "metadata": {},
   "source": [

    "### Autocut\n",
    "\n",
    "Return groups of results based on the quality/distance jumps"
   ]
  },
  {
   "cell_type": "code",

   "execution_count": 37,
   "metadata": {},
   "outputs": [
    {
     "name": "stdout",
     "output_type": "stream",
     "text": [
      "Returned object count: 2\n",
      "{\n",
      "  \"text\": \"Bagpipes have always been folk instruments, but after the 15th century some were used for court music, and others have survived as military instruments. For the chanter, two single-reed cane pipes are placed parallel, one pipe often sounding a drone or other accompaniment to the other pipe.Oct 6, 2023.\",\n",
      "  \"title\": \"Bagpipes\",\n",
      "  \"url\": \"https://simple.wikipedia.org/wiki/Bagpipes\",\n",
      "  \"wiki_id\": \"20231101.simple_112374_3\"\n",
      "}\n",
      "0.3550281524658203\n",
      "{\n",
      "  \"text\": \"The simplest type of mechanical aid is the use of wooden \\\"fingers\\\" that can be closed to press the string down and fret the C#, D, Eb, or E notes. This system is particularly useful for basslines that have a repeating pedal point such as a low D, because once the note is locked in place with the mechanical \\\"finger\\\", the lowest string then sounds a different note when it is played \\\"open\\\" (e.g., a low D).\",\n",
      "  \"title\": \"Double bass\",\n",
      "  \"url\": \"https://simple.wikipedia.org/wiki/Double%20bass\",\n",
      "  \"wiki_id\": \"20231101.simple_16629_10\"\n",
      "}\n",
      "0.36138200759887695\n"
     ]
    }
   ],
   "source": [
    "from weaviate.classes.query import MetadataQuery\n",
    "\n",
    "#wiki = client.collections.get(WIKI_NAME)\n",
    "\n",
    "response = wiki.query.near_text(\n",
    "    query=\"musical instruments\",\n",
    "    # query=\"techno\",\n",
    "    auto_limit=1,\n",

    "    # TODO: use auto_limit instead if limit, set it to 1\n",
    "\n",
    "    return_metadata=MetadataQuery(distance=True)\n",
    ")\n",
    "\n",
    "print(f\"Returned object count: {len(response.objects)}\")\n",
    "\n",
    "for item in response.objects:\n",
    "    print_properties(item)\n",
    "    print(item.metadata.distance)"
   ]
  },
  {
   "cell_type": "markdown",
   "metadata": {},
   "source": [
    "## Filters"
   ]
  },
  {
   "cell_type": "markdown",
   "metadata": {},
   "source": [
    "### Fetch with filters"
   ]
  },
  {
   "cell_type": "code",

   "execution_count": 41,
   "metadata": {},
   "outputs": [
    {
     "name": "stdout",
     "output_type": "stream",
     "text": [
      "{\n",
      "  \"text\": \"In 1886, Adolf Mayer first described the tobacco mosaic disease that could be transferred between plants, similar to bacterial infections.\",\n",
      "  \"title\": \"Tobacco mosaic virus\",\n",
      "  \"url\": \"https://simple.wikipedia.org/wiki/Tobacco%20mosaic%20virus\",\n",
      "  \"wiki_id\": \"20231101.simple_528724_2\"\n",
      "}\n",
      "{\n",
      "  \"text\": \"By its very nature, the evidence for this idea comes mainly from palaeontology. It is not claimed that this pattern is universal, but it is common. There are now a wide range of examples from many different taxa.\",\n",
      "  \"title\": \"Mosaic evolution\",\n",
      "  \"url\": \"https://simple.wikipedia.org/wiki/Mosaic%20evolution\",\n",
      "  \"wiki_id\": \"20231101.simple_290228_4\"\n",
      "}\n",
      "{\n",
      "  \"text\": \"\\\"Magic\\\" by Pilot is used, its 3rd use in a movie soundtrack after Disney's Herbie Fully Loaded and Happy Gilmore\",\n",
      "  \"title\": \"The Magic Roundabout (movie)\",\n",
      "  \"url\": \"https://simple.wikipedia.org/wiki/The%20Magic%20Roundabout%20%28movie%29\",\n",
      "  \"wiki_id\": \"20231101.simple_117801_2\"\n",
      "}\n",
      "{\n",
      "  \"text\": \"What enables the Krebs cycle to perform metabolic changes to fats, carbohydrates, and proteins is energy, which can be defined as the ability or capacity to do work.\",\n",
      "  \"title\": \"Metabolic rate\",\n",
      "  \"url\": \"https://simple.wikipedia.org/wiki/Metabolic%20rate\",\n",
      "  \"wiki_id\": \"20231101.simple_368779_5\"\n",
      "}\n",
      "{\n",
      "  \"text\": \"The electrons and the positive ions in the metal have a strong attractive force between them.  Therefore, metals often have high melting or boiling points. The principle is similar to that of ionic bonds.\",\n",
      "  \"title\": \"Metallic bond\",\n",
      "  \"url\": \"https://simple.wikipedia.org/wiki/Metallic%20bond\",\n",
      "  \"wiki_id\": \"20231101.simple_54960_2\"\n",
      "}\n"
     ]
    }
   ],
   "source": [
    "from weaviate.classes.query import Filter\n",
    "\n",
    "# wiki = client.collections.get(WIKI_NAME)\n",
    "\n",
    "response = wiki.query.fetch_objects(\n",
    "    limit=5,\n",
    "    # TODO: filter by property title, search for something like m_sic without music\n",
    "    # filters=\n",
    "    filters=Filter.by_property(\"title\").like(\"m*ic\") \n",
    "        & Filter.by_property(\"title\").not_equal(\"music\")\n",
    "    , return_metadata=MetadataQuery(distance=True)\n",

    ")\n",
    "\n",
    "for item in response.objects:\n",
    "    print_properties(item)"
   ]
  },
  {
   "cell_type": "code",

   "execution_count": 17,
   "metadata": {},
   "outputs": [
    {
     "name": "stdout",
     "output_type": "stream",
     "text": [
      "{\n",
      "  \"text\": \"In 1886, Adolf Mayer first described the tobacco mosaic disease that could be transferred between plants, similar to bacterial infections.\",\n",
      "  \"title\": \"Tobacco mosaic virus\",\n",
      "  \"url\": \"https://simple.wikipedia.org/wiki/Tobacco%20mosaic%20virus\",\n",
      "  \"wiki_id\": \"20231101.simple_528724_2\"\n",
      "}\n",
      "{\n",
      "  \"text\": \"By its very nature, the evidence for this idea comes mainly from palaeontology. It is not claimed that this pattern is universal, but it is common. There are now a wide range of examples from many different taxa.\",\n",
      "  \"title\": \"Mosaic evolution\",\n",
      "  \"url\": \"https://simple.wikipedia.org/wiki/Mosaic%20evolution\",\n",
      "  \"wiki_id\": \"20231101.simple_290228_4\"\n",
      "}\n",
      "{\n",
      "  \"text\": \"\\\"Magic\\\" by Pilot is used, its 3rd use in a movie soundtrack after Disney's Herbie Fully Loaded and Happy Gilmore\",\n",
      "  \"title\": \"The Magic Roundabout (movie)\",\n",
      "  \"url\": \"https://simple.wikipedia.org/wiki/The%20Magic%20Roundabout%20%28movie%29\",\n",
      "  \"wiki_id\": \"20231101.simple_117801_2\"\n",
      "}\n",
      "{\n",
      "  \"text\": \"What enables the Krebs cycle to perform metabolic changes to fats, carbohydrates, and proteins is energy, which can be defined as the ability or capacity to do work.\",\n",
      "  \"title\": \"Metabolic rate\",\n",
      "  \"url\": \"https://simple.wikipedia.org/wiki/Metabolic%20rate\",\n",
      "  \"wiki_id\": \"20231101.simple_368779_5\"\n",
      "}\n",
      "{\n",
      "  \"text\": \"The electrons and the positive ions in the metal have a strong attractive force between them.  Therefore, metals often have high melting or boiling points. The principle is similar to that of ionic bonds.\",\n",
      "  \"title\": \"Metallic bond\",\n",
      "  \"url\": \"https://simple.wikipedia.org/wiki/Metallic%20bond\",\n",
      "  \"wiki_id\": \"20231101.simple_54960_2\"\n",
      "}\n"
     ]
    }
   ],

   "source": [
    "from weaviate.classes.query import Filter\n",
    "\n",
    "response = wiki.query.fetch_objects(\n",
    "    limit=5,\n",
    "    # NOTE: you can use & as AND operator and | as OR operator\n",
    "    filters=Filter.by_property(\"title\").like(\"m*ic\") & Filter.by_property(\"title\").not_equal(\"music\")\n",
    ")\n",
    "\n",
    "for item in response.objects:\n",
    "    print_properties(item)"
   ]
  },
  {
   "cell_type": "markdown",
   "metadata": {},
   "source": [
    "## Search with filters\n",
    "[Docs - Filters](https://weaviate.io/developers/weaviate/search/filters)"
   ]
  },
  {
   "cell_type": "code",
   "execution_count": 42,
   "metadata": {},
   "outputs": [
    {
     "name": "stdout",
     "output_type": "stream",
     "text": [
      "{\n",
      "  \"text\": \"Bagpipes have always been folk instruments, but after the 15th century some were used for court music, and others have survived as military instruments. For the chanter, two single-reed cane pipes are placed parallel, one pipe often sounding a drone or other accompaniment to the other pipe.Oct 6, 2023.\",\n",
      "  \"title\": \"Bagpipes\",\n",
      "  \"url\": \"https://simple.wikipedia.org/wiki/Bagpipes\",\n",
      "  \"wiki_id\": \"20231101.simple_112374_3\"\n",
      "}\n",
      "0.3550281524658203\n",
      "{\n",
      "  \"text\": \"The simplest type of mechanical aid is the use of wooden \\\"fingers\\\" that can be closed to press the string down and fret the C#, D, Eb, or E notes. This system is particularly useful for basslines that have a repeating pedal point such as a low D, because once the note is locked in place with the mechanical \\\"finger\\\", the lowest string then sounds a different note when it is played \\\"open\\\" (e.g., a low D).\",\n",
      "  \"title\": \"Double bass\",\n",
      "  \"url\": \"https://simple.wikipedia.org/wiki/Double%20bass\",\n",
      "  \"wiki_id\": \"20231101.simple_16629_10\"\n",
      "}\n",
      "0.36138200759887695\n",
      "{\n",
      "  \"text\": \"An Aeolian harp is just a box with tuned strings on it, and is not played by a human. It is just placed outdoors where the wind blows. The wind makes the strings move so that they make notes.\",\n",
      "  \"title\": \"Harp\",\n",
      "  \"url\": \"https://simple.wikipedia.org/wiki/Harp\",\n",
      "  \"wiki_id\": \"20231101.simple_19456_11\"\n",
      "}\n",
      "0.3744468688964844\n",
      "{\n",
      "  \"text\": \"A shepherd had a lot of time to sit and think or amuse himself.  He often made simple instruments out of reeds that grew where he sat.  These instruments were often simple pan flutes or just pipes which were similar to bamboo pipes or a modern recorder.  Some shepherds learned to carve instruments out of wood.  An example is the fujara from Slovakia and southern Poland.\",\n",
      "  \"title\": \"Shepherd\",\n",
      "  \"url\": \"https://simple.wikipedia.org/wiki/Shepherd\",\n",
      "  \"wiki_id\": \"20231101.simple_70678_5\"\n",
      "}\n",
      "0.3769087791442871\n"
     ]
    }
   ],
   "source": [
    "from weaviate.classes.query import Filter\n",
    "\n",
    "response = wiki.query.near_text(\n",
    "    query=\"musical instruments\",\n",

    "    limit=4,\n",
    "    filters=Filter.by_property(\"title\").not_equal(\"music\")\n",
    "    , return_metadata=MetadataQuery(distance=True)\n",
    ")\n",
    "\n",
    "for item in response.objects:\n",
    "    print_properties(item)\n",
    "    print(item.metadata.distance)"

   ]
  },
  {
   "cell_type": "markdown",
   "metadata": {},
   "source": [
    "## Keyword Search\n",
    "\n",
    "[Docs - keyword/bm25](https://weaviate.io/developers/weaviate/search/bm25)"
   ]
  },
  {
   "cell_type": "code",

   "execution_count": 50,
   "metadata": {},
   "outputs": [
    {
     "name": "stdout",
     "output_type": "stream",
     "text": [
      "{\n",
      "  \"text\": \"Thousands of years ago people used the horns of dead animals for musical instruments (see horn (postal horn)). In later times, they were used for carrying gunpowder.\",\n",
      "  \"title\": \"Horn (anatomy)\",\n",
      "  \"url\": \"https://simple.wikipedia.org/wiki/Horn%20%28anatomy%29\",\n",
      "  \"wiki_id\": \"20231101.simple_43954_2\"\n",
      "}\n",
      "None\n",
      "3.833294153213501\n",
      "{\n",
      "  \"text\": \"Cats premiered at the New London Theatre in the West End on 11 May 1981. It closed on 11 May 2002 after 8,949 performances. It opened on Broadway on 7 October 1982 at the Winter Garden Theatre. It closed on 10 September 2000, after 7,485 performances.\",\n",
      "  \"title\": \"Cats (musical)\",\n",
      "  \"url\": \"https://simple.wikipedia.org/wiki/Cats%20%28musical%29\",\n",
      "  \"wiki_id\": \"20231101.simple_70788_1\"\n",
      "}\n",
      "None\n",
      "3.671945333480835\n",
      "{\n",
      "  \"text\": \"Equal temperament (a special case of well-temperament), in which notes of the scale which are next to one another are all separated by logarithmically equal distances, which are integer powers of 21/12.\",\n",
      "  \"title\": \"Musical tuning\",\n",
      "  \"url\": \"https://simple.wikipedia.org/wiki/Musical%20tuning\",\n",
      "  \"wiki_id\": \"20231101.simple_72590_18\"\n",
      "}\n",
      "None\n",
      "3.5921764373779297\n",
      "{\n",
      "  \"text\": \"MTV Unplugged is a TV series. It showcases many popular musical artists usually playing acoustic instruments. It received the George Foster Peabody Award and 3 Primetime Emmy nominations.\",\n",
      "  \"title\": \"MTV Unplugged\",\n",
      "  \"url\": \"https://simple.wikipedia.org/wiki/MTV%20Unplugged\",\n",
      "  \"wiki_id\": \"20231101.simple_474372_0\"\n",
      "}\n",
      "None\n",
      "3.491394519805908\n",
      "{\n",
      "  \"text\": \"The Life - Book by Cy Coleman, David Newman, and Ira Gasman; lyrics by Ira Gasman; music by Cy Coleman\",\n",
      "  \"title\": \"Tony Award for Best Musical\",\n",
      "  \"url\": \"https://simple.wikipedia.org/wiki/Tony%20Award%20for%20Best%20Musical\",\n",
      "  \"wiki_id\": \"20231101.simple_73570_51\"\n",
      "}\n",
      "None\n",
      "3.189788818359375\n"
     ]
    }
   ],

   "source": [
    "# TODO: use bm25 query, search for musical instruments, set limit to 5\n",
    "\n",
    "# response = wiki.\n",
    "\n",

    "response = wiki.query.bm25(\n",
    "    query=\"musical instruments\",\n",
    "    limit=5,\n",
    "    filters=Filter.by_property(\"title\").not_equal(\"music\"),\n",
    "    # return_metadata=MetadataQuery(distance=True)\n",
    "    # return_metadata=MetadataQuery(score=True)\n",
    "    return_metadata=MetadataQuery(distance=True, score=True)\n",
    " \n",
    ")\n",
    "\n",
    "for item in response.objects:\n",
    "    print_properties(item)\n",
    "    print(item.metadata.distance)\n",
    "    print(item.metadata.score)"

   ]
  },
  {
   "cell_type": "code",

   "execution_count": 51,
   "metadata": {},
   "outputs": [
    {
     "name": "stdout",
     "output_type": "stream",
     "text": [
      "{\n",
      "  \"text\": \"Thousands of years ago people used the horns of dead animals for musical instruments (see horn (postal horn)). In later times, they were used for carrying gunpowder.\",\n",
      "  \"title\": \"Horn (anatomy)\",\n",
      "  \"url\": \"https://simple.wikipedia.org/wiki/Horn%20%28anatomy%29\",\n",
      "  \"wiki_id\": \"20231101.simple_43954_2\"\n",
      "}\n",
      "3.833294153213501\n",
      "{\n",
      "  \"text\": \"Cats premiered at the New London Theatre in the West End on 11 May 1981. It closed on 11 May 2002 after 8,949 performances. It opened on Broadway on 7 October 1982 at the Winter Garden Theatre. It closed on 10 September 2000, after 7,485 performances.\",\n",
      "  \"title\": \"Cats (musical)\",\n",
      "  \"url\": \"https://simple.wikipedia.org/wiki/Cats%20%28musical%29\",\n",
      "  \"wiki_id\": \"20231101.simple_70788_1\"\n",
      "}\n",
      "3.671945333480835\n",
      "{\n",
      "  \"text\": \"Equal temperament (a special case of well-temperament), in which notes of the scale which are next to one another are all separated by logarithmically equal distances, which are integer powers of 21/12.\",\n",
      "  \"title\": \"Musical tuning\",\n",
      "  \"url\": \"https://simple.wikipedia.org/wiki/Musical%20tuning\",\n",
      "  \"wiki_id\": \"20231101.simple_72590_18\"\n",
      "}\n",
      "3.5921764373779297\n",
      "{\n",
      "  \"text\": \"MTV Unplugged is a TV series. It showcases many popular musical artists usually playing acoustic instruments. It received the George Foster Peabody Award and 3 Primetime Emmy nominations.\",\n",
      "  \"title\": \"MTV Unplugged\",\n",
      "  \"url\": \"https://simple.wikipedia.org/wiki/MTV%20Unplugged\",\n",
      "  \"wiki_id\": \"20231101.simple_474372_0\"\n",
      "}\n",
      "3.491394519805908\n",
      "{\n",
      "  \"text\": \"The Life - Book by Cy Coleman, David Newman, and Ira Gasman; lyrics by Ira Gasman; music by Cy Coleman\",\n",
      "  \"title\": \"Tony Award for Best Musical\",\n",
      "  \"url\": \"https://simple.wikipedia.org/wiki/Tony%20Award%20for%20Best%20Musical\",\n",
      "  \"wiki_id\": \"20231101.simple_73570_51\"\n",
      "}\n",
      "3.189788818359375\n"
     ]
    }
   ],

   "source": [
    "from weaviate.classes.query import MetadataQuery\n",
    "\n",
    "response = wiki.query.bm25(\n",
    "    query=\"musical instruments\",\n",
    "    # TODO: add query properties for \"text\" and \"title\"\n",
    "    # query_properties=[],\n",
    "    limit=5,\n",
    "    return_metadata=MetadataQuery(score=True)\n",
    ")\n",
    "\n",
    "for item in response.objects:\n",
    "    print_properties(item)\n",
    "    print(item.metadata.score)"
   ]
  },
  {
   "cell_type": "code",

   "execution_count": 58,
   "metadata": {},
   "outputs": [
    {
     "ename": "WeaviateQueryError",
     "evalue": "Query call with protocol GRPC search failed with message <AioRpcError of RPC that terminated with:\n\tstatus = StatusCode.DEADLINE_EXCEEDED\n\tdetails = \"Deadline Exceeded\"\n\tdebug_error_string = \"UNKNOWN:Error received from peer  {grpc_message:\"Deadline Exceeded\", grpc_status:4, created_time:\"2024-09-28T15:46:37.698836711+00:00\"}\"\n>.",
     "output_type": "error",
     "traceback": [
      "\u001b[0;31m---------------------------------------------------------------------------\u001b[0m",
      "\u001b[0;31mAioRpcError\u001b[0m                               Traceback (most recent call last)",
      "File \u001b[0;32m~/.local/lib/python3.12/site-packages/weaviate/collections/grpc/query.py:762\u001b[0m, in \u001b[0;36m_QueryGRPC.__call\u001b[0;34m(self, request)\u001b[0m\n\u001b[1;32m    761\u001b[0m \u001b[38;5;28;01massert\u001b[39;00m \u001b[38;5;28mself\u001b[39m\u001b[38;5;241m.\u001b[39m_connection\u001b[38;5;241m.\u001b[39mgrpc_stub \u001b[38;5;129;01mis\u001b[39;00m \u001b[38;5;129;01mnot\u001b[39;00m \u001b[38;5;28;01mNone\u001b[39;00m\n\u001b[0;32m--> 762\u001b[0m res \u001b[38;5;241m=\u001b[39m \u001b[38;5;28;01mawait\u001b[39;00m \u001b[38;5;28mself\u001b[39m\u001b[38;5;241m.\u001b[39m_connection\u001b[38;5;241m.\u001b[39mgrpc_stub\u001b[38;5;241m.\u001b[39mSearch(\n\u001b[1;32m    763\u001b[0m     request,\n\u001b[1;32m    764\u001b[0m     metadata\u001b[38;5;241m=\u001b[39m\u001b[38;5;28mself\u001b[39m\u001b[38;5;241m.\u001b[39m_connection\u001b[38;5;241m.\u001b[39mgrpc_headers(),\n\u001b[1;32m    765\u001b[0m     timeout\u001b[38;5;241m=\u001b[39m\u001b[38;5;28mself\u001b[39m\u001b[38;5;241m.\u001b[39m_connection\u001b[38;5;241m.\u001b[39mtimeout_config\u001b[38;5;241m.\u001b[39mquery,\n\u001b[1;32m    766\u001b[0m )\n\u001b[1;32m    767\u001b[0m \u001b[38;5;28;01mreturn\u001b[39;00m cast(search_get_pb2\u001b[38;5;241m.\u001b[39mSearchReply, res)\n",
      "File \u001b[0;32m~/.local/lib/python3.12/site-packages/grpc/aio/_call.py:327\u001b[0m, in \u001b[0;36m_UnaryResponseMixin.__await__\u001b[0;34m(self)\u001b[0m\n\u001b[1;32m    326\u001b[0m     \u001b[38;5;28;01melse\u001b[39;00m:\n\u001b[0;32m--> 327\u001b[0m         \u001b[38;5;28;01mraise\u001b[39;00m _create_rpc_error(\n\u001b[1;32m    328\u001b[0m             \u001b[38;5;28mself\u001b[39m\u001b[38;5;241m.\u001b[39m_cython_call\u001b[38;5;241m.\u001b[39m_initial_metadata,\n\u001b[1;32m    329\u001b[0m             \u001b[38;5;28mself\u001b[39m\u001b[38;5;241m.\u001b[39m_cython_call\u001b[38;5;241m.\u001b[39m_status,\n\u001b[1;32m    330\u001b[0m         )\n\u001b[1;32m    331\u001b[0m \u001b[38;5;28;01melse\u001b[39;00m:\n",
      "\u001b[0;31mAioRpcError\u001b[0m: <AioRpcError of RPC that terminated with:\n\tstatus = StatusCode.DEADLINE_EXCEEDED\n\tdetails = \"Deadline Exceeded\"\n\tdebug_error_string = \"UNKNOWN:Error received from peer  {grpc_message:\"Deadline Exceeded\", grpc_status:4, created_time:\"2024-09-28T15:46:37.698836711+00:00\"}\"\n>",
      "\nDuring handling of the above exception, another exception occurred:\n",
      "\u001b[0;31mWeaviateQueryError\u001b[0m                        Traceback (most recent call last)",
      "Cell \u001b[0;32mIn[58], line 3\u001b[0m\n\u001b[1;32m      1\u001b[0m \u001b[38;5;28;01mfrom\u001b[39;00m \u001b[38;5;21;01mweaviate\u001b[39;00m\u001b[38;5;21;01m.\u001b[39;00m\u001b[38;5;21;01mclasses\u001b[39;00m\u001b[38;5;21;01m.\u001b[39;00m\u001b[38;5;21;01mquery\u001b[39;00m \u001b[38;5;28;01mimport\u001b[39;00m MetadataQuery\n\u001b[0;32m----> 3\u001b[0m response \u001b[38;5;241m=\u001b[39m \u001b[43mwiki\u001b[49m\u001b[38;5;241;43m.\u001b[39;49m\u001b[43mquery\u001b[49m\u001b[38;5;241;43m.\u001b[39;49m\u001b[43mbm25\u001b[49m\u001b[43m(\u001b[49m\n\u001b[1;32m      4\u001b[0m \u001b[43m    \u001b[49m\u001b[43mquery\u001b[49m\u001b[38;5;241;43m=\u001b[39;49m\u001b[38;5;124;43m\"\u001b[39;49m\u001b[38;5;124;43mmusical instruments\u001b[39;49m\u001b[38;5;124;43m\"\u001b[39;49m\u001b[43m,\u001b[49m\n\u001b[1;32m      5\u001b[0m \u001b[43m    \u001b[49m\u001b[43mquery_properties\u001b[49m\u001b[38;5;241;43m=\u001b[39;49m\u001b[43m[\u001b[49m\u001b[38;5;124;43m\"\u001b[39;49m\u001b[38;5;124;43mtext\u001b[39;49m\u001b[38;5;124;43m\"\u001b[39;49m\u001b[43m,\u001b[49m\u001b[43m \u001b[49m\u001b[38;5;124;43m\"\u001b[39;49m\u001b[38;5;124;43mtitle^5\u001b[39;49m\u001b[38;5;124;43m\"\u001b[39;49m\u001b[43m]\u001b[49m\u001b[43m,\u001b[49m\n\u001b[1;32m      6\u001b[0m \u001b[43m    \u001b[49m\u001b[43mlimit\u001b[49m\u001b[38;5;241;43m=\u001b[39;49m\u001b[38;5;241;43m5\u001b[39;49m\u001b[43m,\u001b[49m\n\u001b[1;32m      7\u001b[0m \u001b[43m    \u001b[49m\u001b[43mreturn_metadata\u001b[49m\u001b[38;5;241;43m=\u001b[39;49m\u001b[43mMetadataQuery\u001b[49m\u001b[43m(\u001b[49m\u001b[43mscore\u001b[49m\u001b[38;5;241;43m=\u001b[39;49m\u001b[38;5;28;43;01mTrue\u001b[39;49;00m\u001b[43m)\u001b[49m\n\u001b[1;32m      8\u001b[0m \u001b[43m)\u001b[49m\n\u001b[1;32m     10\u001b[0m \u001b[38;5;28;01mfor\u001b[39;00m item \u001b[38;5;129;01min\u001b[39;00m response\u001b[38;5;241m.\u001b[39mobjects:\n\u001b[1;32m     11\u001b[0m     print_properties(item)\n",
      "File \u001b[0;32m~/.local/lib/python3.12/site-packages/weaviate/syncify.py:23\u001b[0m, in \u001b[0;36mconvert.<locals>.sync_method\u001b[0;34m(self, __new_name, *args, **kwargs)\u001b[0m\n\u001b[1;32m     20\u001b[0m \u001b[38;5;129m@wraps\u001b[39m(method)  \u001b[38;5;66;03m# type: ignore\u001b[39;00m\n\u001b[1;32m     21\u001b[0m \u001b[38;5;28;01mdef\u001b[39;00m \u001b[38;5;21msync_method\u001b[39m(\u001b[38;5;28mself\u001b[39m, \u001b[38;5;241m*\u001b[39margs, __new_name\u001b[38;5;241m=\u001b[39mnew_name, \u001b[38;5;241m*\u001b[39m\u001b[38;5;241m*\u001b[39mkwargs):\n\u001b[1;32m     22\u001b[0m     async_func \u001b[38;5;241m=\u001b[39m \u001b[38;5;28mgetattr\u001b[39m(\u001b[38;5;28mcls\u001b[39m, __new_name)\n\u001b[0;32m---> 23\u001b[0m     \u001b[38;5;28;01mreturn\u001b[39;00m \u001b[43m_EventLoopSingleton\u001b[49m\u001b[38;5;241;43m.\u001b[39;49m\u001b[43mget_instance\u001b[49m\u001b[43m(\u001b[49m\u001b[43m)\u001b[49m\u001b[38;5;241;43m.\u001b[39;49m\u001b[43mrun_until_complete\u001b[49m\u001b[43m(\u001b[49m\n\u001b[1;32m     24\u001b[0m \u001b[43m        \u001b[49m\u001b[43masync_func\u001b[49m\u001b[43m,\u001b[49m\u001b[43m \u001b[49m\u001b[38;5;28;43mself\u001b[39;49m\u001b[43m,\u001b[49m\u001b[43m \u001b[49m\u001b[38;5;241;43m*\u001b[39;49m\u001b[43margs\u001b[49m\u001b[43m,\u001b[49m\u001b[43m \u001b[49m\u001b[38;5;241;43m*\u001b[39;49m\u001b[38;5;241;43m*\u001b[39;49m\u001b[43mkwargs\u001b[49m\n\u001b[1;32m     25\u001b[0m \u001b[43m    \u001b[49m\u001b[43m)\u001b[49m\n",
      "File \u001b[0;32m~/.local/lib/python3.12/site-packages/weaviate/event_loop.py:40\u001b[0m, in \u001b[0;36m_EventLoop.run_until_complete\u001b[0;34m(self, f, *args, **kwargs)\u001b[0m\n\u001b[1;32m     38\u001b[0m     \u001b[38;5;28;01mraise\u001b[39;00m WeaviateClosedClientError()\n\u001b[1;32m     39\u001b[0m fut \u001b[38;5;241m=\u001b[39m asyncio\u001b[38;5;241m.\u001b[39mrun_coroutine_threadsafe(f(\u001b[38;5;241m*\u001b[39margs, \u001b[38;5;241m*\u001b[39m\u001b[38;5;241m*\u001b[39mkwargs), \u001b[38;5;28mself\u001b[39m\u001b[38;5;241m.\u001b[39mloop)\n\u001b[0;32m---> 40\u001b[0m \u001b[38;5;28;01mreturn\u001b[39;00m \u001b[43mfut\u001b[49m\u001b[38;5;241;43m.\u001b[39;49m\u001b[43mresult\u001b[49m\u001b[43m(\u001b[49m\u001b[43m)\u001b[49m\n",
      "File \u001b[0;32m/usr/local/lib/python3.12/concurrent/futures/_base.py:456\u001b[0m, in \u001b[0;36mFuture.result\u001b[0;34m(self, timeout)\u001b[0m\n\u001b[1;32m    454\u001b[0m     \u001b[38;5;28;01mraise\u001b[39;00m CancelledError()\n\u001b[1;32m    455\u001b[0m \u001b[38;5;28;01melif\u001b[39;00m \u001b[38;5;28mself\u001b[39m\u001b[38;5;241m.\u001b[39m_state \u001b[38;5;241m==\u001b[39m FINISHED:\n\u001b[0;32m--> 456\u001b[0m     \u001b[38;5;28;01mreturn\u001b[39;00m \u001b[38;5;28;43mself\u001b[39;49m\u001b[38;5;241;43m.\u001b[39;49m\u001b[43m__get_result\u001b[49m\u001b[43m(\u001b[49m\u001b[43m)\u001b[49m\n\u001b[1;32m    457\u001b[0m \u001b[38;5;28;01melse\u001b[39;00m:\n\u001b[1;32m    458\u001b[0m     \u001b[38;5;28;01mraise\u001b[39;00m \u001b[38;5;167;01mTimeoutError\u001b[39;00m()\n",
      "File \u001b[0;32m/usr/local/lib/python3.12/concurrent/futures/_base.py:401\u001b[0m, in \u001b[0;36mFuture.__get_result\u001b[0;34m(self)\u001b[0m\n\u001b[1;32m    399\u001b[0m \u001b[38;5;28;01mif\u001b[39;00m \u001b[38;5;28mself\u001b[39m\u001b[38;5;241m.\u001b[39m_exception:\n\u001b[1;32m    400\u001b[0m     \u001b[38;5;28;01mtry\u001b[39;00m:\n\u001b[0;32m--> 401\u001b[0m         \u001b[38;5;28;01mraise\u001b[39;00m \u001b[38;5;28mself\u001b[39m\u001b[38;5;241m.\u001b[39m_exception\n\u001b[1;32m    402\u001b[0m     \u001b[38;5;28;01mfinally\u001b[39;00m:\n\u001b[1;32m    403\u001b[0m         \u001b[38;5;66;03m# Break a reference cycle with the exception in self._exception\u001b[39;00m\n\u001b[1;32m    404\u001b[0m         \u001b[38;5;28mself\u001b[39m \u001b[38;5;241m=\u001b[39m \u001b[38;5;28;01mNone\u001b[39;00m\n",
      "File \u001b[0;32m~/.local/lib/python3.12/site-packages/weaviate/collections/queries/bm25/query.py:85\u001b[0m, in \u001b[0;36m_BM25QueryAsync.bm25\u001b[0;34m(self, query, query_properties, limit, offset, auto_limit, filters, group_by, rerank, include_vector, return_metadata, return_properties, return_references)\u001b[0m\n\u001b[1;32m     81\u001b[0m \u001b[38;5;28;01mif\u001b[39;00m group_by \u001b[38;5;129;01mis\u001b[39;00m \u001b[38;5;129;01mnot\u001b[39;00m \u001b[38;5;28;01mNone\u001b[39;00m \u001b[38;5;129;01mand\u001b[39;00m \u001b[38;5;129;01mnot\u001b[39;00m \u001b[38;5;28mself\u001b[39m\u001b[38;5;241m.\u001b[39m_connection\u001b[38;5;241m.\u001b[39msupports_groupby_in_bm25_and_hybrid():\n\u001b[1;32m     82\u001b[0m     \u001b[38;5;28;01mraise\u001b[39;00m WeaviateUnsupportedFeatureError(\n\u001b[1;32m     83\u001b[0m         \u001b[38;5;124m\"\u001b[39m\u001b[38;5;124mBM25 group by\u001b[39m\u001b[38;5;124m\"\u001b[39m, \u001b[38;5;28mself\u001b[39m\u001b[38;5;241m.\u001b[39m_connection\u001b[38;5;241m.\u001b[39mserver_version, \u001b[38;5;124m\"\u001b[39m\u001b[38;5;124m1.25.0\u001b[39m\u001b[38;5;124m\"\u001b[39m\n\u001b[1;32m     84\u001b[0m     )\n\u001b[0;32m---> 85\u001b[0m res \u001b[38;5;241m=\u001b[39m \u001b[38;5;28;01mawait\u001b[39;00m \u001b[38;5;28mself\u001b[39m\u001b[38;5;241m.\u001b[39m_query\u001b[38;5;241m.\u001b[39mbm25(\n\u001b[1;32m     86\u001b[0m     query\u001b[38;5;241m=\u001b[39mquery,\n\u001b[1;32m     87\u001b[0m     properties\u001b[38;5;241m=\u001b[39mquery_properties,\n\u001b[1;32m     88\u001b[0m     limit\u001b[38;5;241m=\u001b[39mlimit,\n\u001b[1;32m     89\u001b[0m     offset\u001b[38;5;241m=\u001b[39moffset,\n\u001b[1;32m     90\u001b[0m     autocut\u001b[38;5;241m=\u001b[39mauto_limit,\n\u001b[1;32m     91\u001b[0m     filters\u001b[38;5;241m=\u001b[39mfilters,\n\u001b[1;32m     92\u001b[0m     group_by\u001b[38;5;241m=\u001b[39m_GroupBy\u001b[38;5;241m.\u001b[39mfrom_input(group_by),\n\u001b[1;32m     93\u001b[0m     return_metadata\u001b[38;5;241m=\u001b[39m\u001b[38;5;28mself\u001b[39m\u001b[38;5;241m.\u001b[39m_parse_return_metadata(return_metadata, include_vector),\n\u001b[1;32m     94\u001b[0m     return_properties\u001b[38;5;241m=\u001b[39m\u001b[38;5;28mself\u001b[39m\u001b[38;5;241m.\u001b[39m_parse_return_properties(return_properties),\n\u001b[1;32m     95\u001b[0m     return_references\u001b[38;5;241m=\u001b[39m\u001b[38;5;28mself\u001b[39m\u001b[38;5;241m.\u001b[39m_parse_return_references(return_references),\n\u001b[1;32m     96\u001b[0m     rerank\u001b[38;5;241m=\u001b[39mrerank,\n\u001b[1;32m     97\u001b[0m )\n\u001b[1;32m     98\u001b[0m \u001b[38;5;28;01mreturn\u001b[39;00m \u001b[38;5;28mself\u001b[39m\u001b[38;5;241m.\u001b[39m_result_to_query_or_groupby_return(\n\u001b[1;32m     99\u001b[0m     res,\n\u001b[1;32m    100\u001b[0m     _QueryOptions\u001b[38;5;241m.\u001b[39mfrom_input(\n\u001b[0;32m   (...)\u001b[0m\n\u001b[1;32m    110\u001b[0m     return_references,\n\u001b[1;32m    111\u001b[0m )\n",
      "File \u001b[0;32m~/.local/lib/python3.12/site-packages/weaviate/collections/grpc/query.py:769\u001b[0m, in \u001b[0;36m_QueryGRPC.__call\u001b[0;34m(self, request)\u001b[0m\n\u001b[1;32m    767\u001b[0m     \u001b[38;5;28;01mreturn\u001b[39;00m cast(search_get_pb2\u001b[38;5;241m.\u001b[39mSearchReply, res)\n\u001b[1;32m    768\u001b[0m \u001b[38;5;28;01mexcept\u001b[39;00m AioRpcError \u001b[38;5;28;01mas\u001b[39;00m e:\n\u001b[0;32m--> 769\u001b[0m     \u001b[38;5;28;01mraise\u001b[39;00m WeaviateQueryError(\u001b[38;5;28mstr\u001b[39m(e), \u001b[38;5;124m\"\u001b[39m\u001b[38;5;124mGRPC search\u001b[39m\u001b[38;5;124m\"\u001b[39m)\n",
      "\u001b[0;31mWeaviateQueryError\u001b[0m: Query call with protocol GRPC search failed with message <AioRpcError of RPC that terminated with:\n\tstatus = StatusCode.DEADLINE_EXCEEDED\n\tdetails = \"Deadline Exceeded\"\n\tdebug_error_string = \"UNKNOWN:Error received from peer  {grpc_message:\"Deadline Exceeded\", grpc_status:4, created_time:\"2024-09-28T15:46:37.698836711+00:00\"}\"\n>."
     ]
    }
   ],

   "source": [
    "from weaviate.classes.query import MetadataQuery\n",
    "\n",
    "response = wiki.query.bm25(\n",
    "    query=\"musical instruments\",\n",

    "    query_properties=[\"text\", \"title^5\"],\n",

    "    limit=5,\n",
    "    return_metadata=MetadataQuery(score=True)\n",
    ")\n",
    "\n",
    "for item in response.objects:\n",
    "    print_properties(item)\n",
    "    print(item.metadata.score)"
   ]
  },
  {
   "cell_type": "markdown",
   "metadata": {},
   "source": [
    "## Hybrid search\n",
    "[Docs - hybrid](https://weaviate.io/developers/weaviate/search/hybrid)"
   ]
  },
  {
   "cell_type": "code",
   "execution_count": 57,
   "metadata": {},
   "outputs": [
    {
     "ename": "WeaviateQueryError",
     "evalue": "Query call with protocol GRPC search failed with message <AioRpcError of RPC that terminated with:\n\tstatus = StatusCode.DEADLINE_EXCEEDED\n\tdetails = \"Deadline Exceeded\"\n\tdebug_error_string = \"UNKNOWN:Error received from peer  {created_time:\"2024-09-28T15:39:54.958668032+00:00\", grpc_status:4, grpc_message:\"Deadline Exceeded\"}\"\n>.",
     "output_type": "error",
     "traceback": [
      "\u001b[0;31m---------------------------------------------------------------------------\u001b[0m",
      "\u001b[0;31mAioRpcError\u001b[0m                               Traceback (most recent call last)",
      "File \u001b[0;32m~/.local/lib/python3.12/site-packages/weaviate/collections/grpc/query.py:762\u001b[0m, in \u001b[0;36m_QueryGRPC.__call\u001b[0;34m(self, request)\u001b[0m\n\u001b[1;32m    761\u001b[0m \u001b[38;5;28;01massert\u001b[39;00m \u001b[38;5;28mself\u001b[39m\u001b[38;5;241m.\u001b[39m_connection\u001b[38;5;241m.\u001b[39mgrpc_stub \u001b[38;5;129;01mis\u001b[39;00m \u001b[38;5;129;01mnot\u001b[39;00m \u001b[38;5;28;01mNone\u001b[39;00m\n\u001b[0;32m--> 762\u001b[0m res \u001b[38;5;241m=\u001b[39m \u001b[38;5;28;01mawait\u001b[39;00m \u001b[38;5;28mself\u001b[39m\u001b[38;5;241m.\u001b[39m_connection\u001b[38;5;241m.\u001b[39mgrpc_stub\u001b[38;5;241m.\u001b[39mSearch(\n\u001b[1;32m    763\u001b[0m     request,\n\u001b[1;32m    764\u001b[0m     metadata\u001b[38;5;241m=\u001b[39m\u001b[38;5;28mself\u001b[39m\u001b[38;5;241m.\u001b[39m_connection\u001b[38;5;241m.\u001b[39mgrpc_headers(),\n\u001b[1;32m    765\u001b[0m     timeout\u001b[38;5;241m=\u001b[39m\u001b[38;5;28mself\u001b[39m\u001b[38;5;241m.\u001b[39m_connection\u001b[38;5;241m.\u001b[39mtimeout_config\u001b[38;5;241m.\u001b[39mquery,\n\u001b[1;32m    766\u001b[0m )\n\u001b[1;32m    767\u001b[0m \u001b[38;5;28;01mreturn\u001b[39;00m cast(search_get_pb2\u001b[38;5;241m.\u001b[39mSearchReply, res)\n",
      "File \u001b[0;32m~/.local/lib/python3.12/site-packages/grpc/aio/_call.py:327\u001b[0m, in \u001b[0;36m_UnaryResponseMixin.__await__\u001b[0;34m(self)\u001b[0m\n\u001b[1;32m    326\u001b[0m     \u001b[38;5;28;01melse\u001b[39;00m:\n\u001b[0;32m--> 327\u001b[0m         \u001b[38;5;28;01mraise\u001b[39;00m _create_rpc_error(\n\u001b[1;32m    328\u001b[0m             \u001b[38;5;28mself\u001b[39m\u001b[38;5;241m.\u001b[39m_cython_call\u001b[38;5;241m.\u001b[39m_initial_metadata,\n\u001b[1;32m    329\u001b[0m             \u001b[38;5;28mself\u001b[39m\u001b[38;5;241m.\u001b[39m_cython_call\u001b[38;5;241m.\u001b[39m_status,\n\u001b[1;32m    330\u001b[0m         )\n\u001b[1;32m    331\u001b[0m \u001b[38;5;28;01melse\u001b[39;00m:\n",
      "\u001b[0;31mAioRpcError\u001b[0m: <AioRpcError of RPC that terminated with:\n\tstatus = StatusCode.DEADLINE_EXCEEDED\n\tdetails = \"Deadline Exceeded\"\n\tdebug_error_string = \"UNKNOWN:Error received from peer  {created_time:\"2024-09-28T15:39:54.958668032+00:00\", grpc_status:4, grpc_message:\"Deadline Exceeded\"}\"\n>",
      "\nDuring handling of the above exception, another exception occurred:\n",
      "\u001b[0;31mWeaviateQueryError\u001b[0m                        Traceback (most recent call last)",
      "Cell \u001b[0;32mIn[57], line 5\u001b[0m\n\u001b[1;32m      1\u001b[0m \u001b[38;5;66;03m# TODO: use hybrid query, search for musical instruments, set alpha to 0.7, and limit to 5\u001b[39;00m\n\u001b[1;32m      2\u001b[0m \u001b[38;5;66;03m# response = wiki.\u001b[39;00m\n\u001b[0;32m----> 5\u001b[0m response \u001b[38;5;241m=\u001b[39m \u001b[43mwiki\u001b[49m\u001b[38;5;241;43m.\u001b[39;49m\u001b[43mquery\u001b[49m\u001b[38;5;241;43m.\u001b[39;49m\u001b[43mhybrid\u001b[49m\u001b[43m(\u001b[49m\n\u001b[1;32m      6\u001b[0m \u001b[43m    \u001b[49m\u001b[43mquery\u001b[49m\u001b[38;5;241;43m=\u001b[39;49m\u001b[38;5;124;43m\"\u001b[39;49m\u001b[38;5;124;43mmusical notes\u001b[39;49m\u001b[38;5;124;43m\"\u001b[39;49m\u001b[43m,\u001b[49m\n\u001b[1;32m      7\u001b[0m \u001b[43m    \u001b[49m\u001b[43malpha\u001b[49m\u001b[38;5;241;43m=\u001b[39;49m\u001b[38;5;241;43m0.7\u001b[39;49m\u001b[43m,\u001b[49m\n\u001b[1;32m      8\u001b[0m \u001b[43m    \u001b[49m\u001b[43mlimit\u001b[49m\u001b[38;5;241;43m=\u001b[39;49m\u001b[38;5;241;43m5\u001b[39;49m\u001b[43m,\u001b[49m\n\u001b[1;32m      9\u001b[0m \u001b[43m    \u001b[49m\u001b[43mquery_properties\u001b[49m\u001b[38;5;241;43m=\u001b[39;49m\u001b[43m[\u001b[49m\u001b[38;5;124;43m\"\u001b[39;49m\u001b[38;5;124;43mtext\u001b[39;49m\u001b[38;5;124;43m\"\u001b[39;49m\u001b[43m,\u001b[49m\u001b[43m \u001b[49m\u001b[43m]\u001b[49m\u001b[43m,\u001b[49m\u001b[43m \u001b[49m\u001b[38;5;66;43;03m# \"title^5\"],\u001b[39;49;00m\n\u001b[1;32m     10\u001b[0m \u001b[43m    \u001b[49m\u001b[38;5;66;43;03m# TODO: add query properties for \"title\"\u001b[39;49;00m\n\u001b[1;32m     11\u001b[0m \u001b[43m)\u001b[49m\n\u001b[1;32m     12\u001b[0m \u001b[38;5;28;01mfor\u001b[39;00m item \u001b[38;5;129;01min\u001b[39;00m response\u001b[38;5;241m.\u001b[39mobjects:\n\u001b[1;32m     13\u001b[0m     print_properties(item)\n",
      "File \u001b[0;32m~/.local/lib/python3.12/site-packages/weaviate/syncify.py:23\u001b[0m, in \u001b[0;36mconvert.<locals>.sync_method\u001b[0;34m(self, __new_name, *args, **kwargs)\u001b[0m\n\u001b[1;32m     20\u001b[0m \u001b[38;5;129m@wraps\u001b[39m(method)  \u001b[38;5;66;03m# type: ignore\u001b[39;00m\n\u001b[1;32m     21\u001b[0m \u001b[38;5;28;01mdef\u001b[39;00m \u001b[38;5;21msync_method\u001b[39m(\u001b[38;5;28mself\u001b[39m, \u001b[38;5;241m*\u001b[39margs, __new_name\u001b[38;5;241m=\u001b[39mnew_name, \u001b[38;5;241m*\u001b[39m\u001b[38;5;241m*\u001b[39mkwargs):\n\u001b[1;32m     22\u001b[0m     async_func \u001b[38;5;241m=\u001b[39m \u001b[38;5;28mgetattr\u001b[39m(\u001b[38;5;28mcls\u001b[39m, __new_name)\n\u001b[0;32m---> 23\u001b[0m     \u001b[38;5;28;01mreturn\u001b[39;00m \u001b[43m_EventLoopSingleton\u001b[49m\u001b[38;5;241;43m.\u001b[39;49m\u001b[43mget_instance\u001b[49m\u001b[43m(\u001b[49m\u001b[43m)\u001b[49m\u001b[38;5;241;43m.\u001b[39;49m\u001b[43mrun_until_complete\u001b[49m\u001b[43m(\u001b[49m\n\u001b[1;32m     24\u001b[0m \u001b[43m        \u001b[49m\u001b[43masync_func\u001b[49m\u001b[43m,\u001b[49m\u001b[43m \u001b[49m\u001b[38;5;28;43mself\u001b[39;49m\u001b[43m,\u001b[49m\u001b[43m \u001b[49m\u001b[38;5;241;43m*\u001b[39;49m\u001b[43margs\u001b[49m\u001b[43m,\u001b[49m\u001b[43m \u001b[49m\u001b[38;5;241;43m*\u001b[39;49m\u001b[38;5;241;43m*\u001b[39;49m\u001b[43mkwargs\u001b[49m\n\u001b[1;32m     25\u001b[0m \u001b[43m    \u001b[49m\u001b[43m)\u001b[49m\n",
      "File \u001b[0;32m~/.local/lib/python3.12/site-packages/weaviate/event_loop.py:40\u001b[0m, in \u001b[0;36m_EventLoop.run_until_complete\u001b[0;34m(self, f, *args, **kwargs)\u001b[0m\n\u001b[1;32m     38\u001b[0m     \u001b[38;5;28;01mraise\u001b[39;00m WeaviateClosedClientError()\n\u001b[1;32m     39\u001b[0m fut \u001b[38;5;241m=\u001b[39m asyncio\u001b[38;5;241m.\u001b[39mrun_coroutine_threadsafe(f(\u001b[38;5;241m*\u001b[39margs, \u001b[38;5;241m*\u001b[39m\u001b[38;5;241m*\u001b[39mkwargs), \u001b[38;5;28mself\u001b[39m\u001b[38;5;241m.\u001b[39mloop)\n\u001b[0;32m---> 40\u001b[0m \u001b[38;5;28;01mreturn\u001b[39;00m \u001b[43mfut\u001b[49m\u001b[38;5;241;43m.\u001b[39;49m\u001b[43mresult\u001b[49m\u001b[43m(\u001b[49m\u001b[43m)\u001b[49m\n",
      "File \u001b[0;32m/usr/local/lib/python3.12/concurrent/futures/_base.py:456\u001b[0m, in \u001b[0;36mFuture.result\u001b[0;34m(self, timeout)\u001b[0m\n\u001b[1;32m    454\u001b[0m     \u001b[38;5;28;01mraise\u001b[39;00m CancelledError()\n\u001b[1;32m    455\u001b[0m \u001b[38;5;28;01melif\u001b[39;00m \u001b[38;5;28mself\u001b[39m\u001b[38;5;241m.\u001b[39m_state \u001b[38;5;241m==\u001b[39m FINISHED:\n\u001b[0;32m--> 456\u001b[0m     \u001b[38;5;28;01mreturn\u001b[39;00m \u001b[38;5;28;43mself\u001b[39;49m\u001b[38;5;241;43m.\u001b[39;49m\u001b[43m__get_result\u001b[49m\u001b[43m(\u001b[49m\u001b[43m)\u001b[49m\n\u001b[1;32m    457\u001b[0m \u001b[38;5;28;01melse\u001b[39;00m:\n\u001b[1;32m    458\u001b[0m     \u001b[38;5;28;01mraise\u001b[39;00m \u001b[38;5;167;01mTimeoutError\u001b[39;00m()\n",
      "File \u001b[0;32m/usr/local/lib/python3.12/concurrent/futures/_base.py:401\u001b[0m, in \u001b[0;36mFuture.__get_result\u001b[0;34m(self)\u001b[0m\n\u001b[1;32m    399\u001b[0m \u001b[38;5;28;01mif\u001b[39;00m \u001b[38;5;28mself\u001b[39m\u001b[38;5;241m.\u001b[39m_exception:\n\u001b[1;32m    400\u001b[0m     \u001b[38;5;28;01mtry\u001b[39;00m:\n\u001b[0;32m--> 401\u001b[0m         \u001b[38;5;28;01mraise\u001b[39;00m \u001b[38;5;28mself\u001b[39m\u001b[38;5;241m.\u001b[39m_exception\n\u001b[1;32m    402\u001b[0m     \u001b[38;5;28;01mfinally\u001b[39;00m:\n\u001b[1;32m    403\u001b[0m         \u001b[38;5;66;03m# Break a reference cycle with the exception in self._exception\u001b[39;00m\n\u001b[1;32m    404\u001b[0m         \u001b[38;5;28mself\u001b[39m \u001b[38;5;241m=\u001b[39m \u001b[38;5;28;01mNone\u001b[39;00m\n",
      "File \u001b[0;32m~/.local/lib/python3.12/site-packages/weaviate/collections/queries/hybrid/query.py:107\u001b[0m, in \u001b[0;36m_HybridQueryAsync.hybrid\u001b[0;34m(self, query, alpha, vector, query_properties, fusion_type, limit, offset, auto_limit, filters, group_by, rerank, target_vector, include_vector, return_metadata, return_properties, return_references)\u001b[0m\n\u001b[1;32m    103\u001b[0m \u001b[38;5;28;01mif\u001b[39;00m group_by \u001b[38;5;129;01mis\u001b[39;00m \u001b[38;5;129;01mnot\u001b[39;00m \u001b[38;5;28;01mNone\u001b[39;00m \u001b[38;5;129;01mand\u001b[39;00m \u001b[38;5;129;01mnot\u001b[39;00m \u001b[38;5;28mself\u001b[39m\u001b[38;5;241m.\u001b[39m_connection\u001b[38;5;241m.\u001b[39msupports_groupby_in_bm25_and_hybrid():\n\u001b[1;32m    104\u001b[0m     \u001b[38;5;28;01mraise\u001b[39;00m WeaviateUnsupportedFeatureError(\n\u001b[1;32m    105\u001b[0m         \u001b[38;5;124m\"\u001b[39m\u001b[38;5;124mHybrid group by\u001b[39m\u001b[38;5;124m\"\u001b[39m, \u001b[38;5;28mself\u001b[39m\u001b[38;5;241m.\u001b[39m_connection\u001b[38;5;241m.\u001b[39mserver_version, \u001b[38;5;124m\"\u001b[39m\u001b[38;5;124m1.25.0\u001b[39m\u001b[38;5;124m\"\u001b[39m\n\u001b[1;32m    106\u001b[0m     )\n\u001b[0;32m--> 107\u001b[0m res \u001b[38;5;241m=\u001b[39m \u001b[38;5;28;01mawait\u001b[39;00m \u001b[38;5;28mself\u001b[39m\u001b[38;5;241m.\u001b[39m_query\u001b[38;5;241m.\u001b[39mhybrid(\n\u001b[1;32m    108\u001b[0m     query\u001b[38;5;241m=\u001b[39mquery,\n\u001b[1;32m    109\u001b[0m     alpha\u001b[38;5;241m=\u001b[39malpha,\n\u001b[1;32m    110\u001b[0m     vector\u001b[38;5;241m=\u001b[39mvector,\n\u001b[1;32m    111\u001b[0m     properties\u001b[38;5;241m=\u001b[39mquery_properties,\n\u001b[1;32m    112\u001b[0m     fusion_type\u001b[38;5;241m=\u001b[39mfusion_type,\n\u001b[1;32m    113\u001b[0m     limit\u001b[38;5;241m=\u001b[39mlimit,\n\u001b[1;32m    114\u001b[0m     offset\u001b[38;5;241m=\u001b[39moffset,\n\u001b[1;32m    115\u001b[0m     autocut\u001b[38;5;241m=\u001b[39mauto_limit,\n\u001b[1;32m    116\u001b[0m     filters\u001b[38;5;241m=\u001b[39mfilters,\n\u001b[1;32m    117\u001b[0m     group_by\u001b[38;5;241m=\u001b[39m_GroupBy\u001b[38;5;241m.\u001b[39mfrom_input(group_by),\n\u001b[1;32m    118\u001b[0m     rerank\u001b[38;5;241m=\u001b[39mrerank,\n\u001b[1;32m    119\u001b[0m     target_vector\u001b[38;5;241m=\u001b[39mtarget_vector,\n\u001b[1;32m    120\u001b[0m     return_metadata\u001b[38;5;241m=\u001b[39m\u001b[38;5;28mself\u001b[39m\u001b[38;5;241m.\u001b[39m_parse_return_metadata(return_metadata, include_vector),\n\u001b[1;32m    121\u001b[0m     return_properties\u001b[38;5;241m=\u001b[39m\u001b[38;5;28mself\u001b[39m\u001b[38;5;241m.\u001b[39m_parse_return_properties(return_properties),\n\u001b[1;32m    122\u001b[0m     return_references\u001b[38;5;241m=\u001b[39m\u001b[38;5;28mself\u001b[39m\u001b[38;5;241m.\u001b[39m_parse_return_references(return_references),\n\u001b[1;32m    123\u001b[0m )\n\u001b[1;32m    124\u001b[0m \u001b[38;5;28;01mreturn\u001b[39;00m \u001b[38;5;28mself\u001b[39m\u001b[38;5;241m.\u001b[39m_result_to_query_or_groupby_return(\n\u001b[1;32m    125\u001b[0m     res,\n\u001b[1;32m    126\u001b[0m     _QueryOptions\u001b[38;5;241m.\u001b[39mfrom_input(\n\u001b[0;32m   (...)\u001b[0m\n\u001b[1;32m    136\u001b[0m     return_references,\n\u001b[1;32m    137\u001b[0m )\n",
      "File \u001b[0;32m~/.local/lib/python3.12/site-packages/weaviate/collections/grpc/query.py:769\u001b[0m, in \u001b[0;36m_QueryGRPC.__call\u001b[0;34m(self, request)\u001b[0m\n\u001b[1;32m    767\u001b[0m     \u001b[38;5;28;01mreturn\u001b[39;00m cast(search_get_pb2\u001b[38;5;241m.\u001b[39mSearchReply, res)\n\u001b[1;32m    768\u001b[0m \u001b[38;5;28;01mexcept\u001b[39;00m AioRpcError \u001b[38;5;28;01mas\u001b[39;00m e:\n\u001b[0;32m--> 769\u001b[0m     \u001b[38;5;28;01mraise\u001b[39;00m WeaviateQueryError(\u001b[38;5;28mstr\u001b[39m(e), \u001b[38;5;124m\"\u001b[39m\u001b[38;5;124mGRPC search\u001b[39m\u001b[38;5;124m\"\u001b[39m)\n",
      "\u001b[0;31mWeaviateQueryError\u001b[0m: Query call with protocol GRPC search failed with message <AioRpcError of RPC that terminated with:\n\tstatus = StatusCode.DEADLINE_EXCEEDED\n\tdetails = \"Deadline Exceeded\"\n\tdebug_error_string = \"UNKNOWN:Error received from peer  {created_time:\"2024-09-28T15:39:54.958668032+00:00\", grpc_status:4, grpc_message:\"Deadline Exceeded\"}\"\n>."
     ]
    }
   ],
   "source": [
    "# TODO: use hybrid query, search for musical instruments, set alpha to 0.7, and limit to 5\n",
    "# response = wiki.\n",
    "\n",
    "\n",
    "response = wiki.query.hybrid(\n",
    "    query=\"musical notes\",\n",
    "    alpha=0.7,\n",
    "    limit=5,\n",
    "    query_properties=[\"text\", \"title\"],\n",
    "    # TODO: add query properties for \"title\"\n",
    ")\n",
    "for item in response.objects:\n",
    "    print_properties(item)"
   ]
  },
  {
   "cell_type": "markdown",
   "metadata": {},
   "source": [
    "### Hybrid - select properties"
   ]
  },
  {
   "cell_type": "code",
   "execution_count": null,
   "metadata": {},
   "outputs": [],
   "source": [

    "response = wiki.query.hybrid(\n",
    "    query=\"musical instruments\",\n",
    "    alpha=0.7,\n",
    "    limit=5,\n",
    "    # TODO: add query properties for \"title\"\n",
    ")\n",
    "\n",
    "for item in response.objects:\n",
    "    print_properties(item)"

   ]
  },
  {
   "cell_type": "markdown",
   "metadata": {},
   "source": [

    "### Hybrid - Explain score"

   ]
  },
  {
   "cell_type": "code",
   "execution_count": null,
   "metadata": {},
   "outputs": [],
   "source": [

    "from weaviate.classes.query import MetadataQuery\n",
    "\n",
    "response = wiki.query.hybrid(\n",
    "    query=\"musical instruments\",\n",
    "    alpha=0.7,\n",
    "    limit=5,\n",
    "    query_properties=[\"title\"],\n",
    "    return_metadata=MetadataQuery(score=True, explain_score=True)\n",
    ")\n",
    "\n",
    "for item in response.objects:\n",
    "    print_properties(item)\n",
    "    print(item.metadata.score)\n",
    "    print(item.metadata.explain_score)"
   ]
  },
  {
   "cell_type": "markdown",
   "metadata": {},
   "source": [
    "## Close the client"
   ]
  },
  {
   "cell_type": "code",
   "execution_count": 24,
   "metadata": {},
   "outputs": [],
   "source": [

    "client.close()"
   ]
  }
 ],
 "metadata": {
  "kernelspec": {
   "display_name": "Python 3",
   "language": "python",
   "name": "python3"
  },
  "language_info": {
   "codemirror_mode": {
    "name": "ipython",
    "version": 3
   },
   "file_extension": ".py",
   "mimetype": "text/x-python",
   "name": "python",
   "nbconvert_exporter": "python",
   "pygments_lexer": "ipython3",

   "version": "3.12.6"

  }
 },
 "nbformat": 4,
 "nbformat_minor": 2
}
