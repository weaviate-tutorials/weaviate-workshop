{
 "cells": [
  {
   "cell_type": "markdown",
   "metadata": {},
   "source": [
    "# Query the data\n",
    "\n",
    "## Get keys and urls"
   ]
  },
  {
   "cell_type": "code",
   "execution_count": 1,
   "metadata": {},
   "outputs": [
    {
     "name": "stdout",
     "output_type": "stream",
     "text": [
      "Weaviate Key:root-user-key\n",
      "OpenAI API Key: sk-dummy-key-for-local-testing\n",
      "OpenAI URL: http://host.docker.internal:11434\n"
     ]
    }
   ],
   "source": [
    "import os\n",
    "from dotenv import load_dotenv\n",
    "\n",
    "load_dotenv()\n",
    "\n",
    "WEAVIATE_KEY = os.getenv(\"WEAVIATE_KEY\")\n",
    "OPENAI_API_KEY = os.getenv(\"OPENAI_API_KEY\")\n",
    "OPENAI_URL = os.getenv(\"OPENAI_URL\")\n",
    "\n",
    "print(f\"Weaviate Key:{WEAVIATE_KEY}\")\n",
    "print(f\"OpenAI API Key: {OPENAI_API_KEY}\")\n",
    "print(f\"OpenAI URL: {OPENAI_URL}\")\n",
    "\n"
   ]
  },
  {
   "cell_type": "markdown",
   "metadata": {},
   "source": [
    "## Connect to Weaviate"
   ]
  },
  {
   "cell_type": "code",
   "execution_count": 2,
   "metadata": {},
   "outputs": [
    {
     "name": "stdout",
     "output_type": "stream",
     "text": [
      "True\n"
     ]
    }
   ],
   "source": [
    "import weaviate\n",
    "from weaviate.classes.init import Auth\n",
    "\n",
    "# Connect to the local instance\n",
    "client = weaviate.connect_to_local(\n",
    "  host=\"127.0.0.1\", # the address to the learner's instance\n",
    "  port=8080,\n",
    "  grpc_port=50051,\n",
    "  auth_credentials=Auth.api_key(WEAVIATE_KEY),\n",
    "  headers={\n",
    "    \"X-OpenAI-Api-Key\": OPENAI_API_KEY\n",
    "  }\n",
    ")\n",
    "\n",
    "print(client.is_ready())"
   ]
  },
  {
   "cell_type": "markdown",
   "metadata": {},
   "source": [
    "### Helper function"
   ]
  },
  {
   "cell_type": "code",
   "execution_count": 3,
   "metadata": {},
   "outputs": [],
   "source": [
    "import json\n",
    "def print_properties(item):\n",
    "    print(\n",
    "        json.dumps(\n",
    "            item.properties,\n",
    "            indent=2, sort_keys=True, default=str\n",
    "        )\n",
    "    )"
   ]
  },
  {
   "cell_type": "markdown",
   "metadata": {},
   "source": [
    "## Vector search\n",
    "[Docs - near_text](https://weaviate.io/developers/weaviate/search/similarity#an-input-medium)"
   ]
  },
  {
   "cell_type": "code",
   "execution_count": 4,
   "metadata": {},
   "outputs": [
    {
     "name": "stdout",
     "output_type": "stream",
     "text": [
      "{\n",
      "  \"text\": \"A chord in music is when two or more notes are played together (some text books say that it is when three or more notes are played).\",\n",
      "  \"title\": \"Chord\",\n",
      "  \"url\": \"https://simple.wikipedia.org/wiki/Chord\",\n",
      "  \"wiki_id\": \"20231101.simple_40631_0\"\n",
      "}\n",
      "{\n",
      "  \"text\": \"A shepherd had a lot of time to sit and think or amuse himself.  He often made simple instruments out of reeds that grew where he sat.  These instruments were often simple pan flutes or just pipes which were similar to bamboo pipes or a modern recorder.  Some shepherds learned to carve instruments out of wood.  An example is the fujara from Slovakia and southern Poland.\",\n",
      "  \"title\": \"Shepherd\",\n",
      "  \"url\": \"https://simple.wikipedia.org/wiki/Shepherd\",\n",
      "  \"wiki_id\": \"20231101.simple_70678_5\"\n",
      "}\n",
      "{\n",
      "  \"text\": \"Beck, John (1995). Encyclopedia of percussion instruments. New York: Garland Publishing. . Google Books preview. Accessed 8 September 2009.\",\n",
      "  \"title\": \"Snare drum\",\n",
      "  \"url\": \"https://simple.wikipedia.org/wiki/Snare%20drum\",\n",
      "  \"wiki_id\": \"20231101.simple_306810_3\"\n",
      "}\n",
      "{\n",
      "  \"text\": \"Equal temperament (a special case of well-temperament), in which notes of the scale which are next to one another are all separated by logarithmically equal distances, which are integer powers of 21/12.\",\n",
      "  \"title\": \"Musical tuning\",\n",
      "  \"url\": \"https://simple.wikipedia.org/wiki/Musical%20tuning\",\n",
      "  \"wiki_id\": \"20231101.simple_72590_18\"\n",
      "}\n",
      "{\n",
      "  \"text\": \"Syncopation is used in many musical styles, and is fundamental in black-influenced styles such as jazz, ragtime, Cuban music, funk, ska, reggae, rap, jump blues, progressive rock, extreme metal, breakbeat, drum'n'bass, dubstep amd minimalism. \\\"All dance music makes use of syncopation and it's often a vital element that helps tie the whole track together\\\". In the form of a back beat, syncopation is used in virtually all popular music.\",\n",
      "  \"title\": \"Syncopation\",\n",
      "  \"url\": \"https://simple.wikipedia.org/wiki/Syncopation\",\n",
      "  \"wiki_id\": \"20231101.simple_259084_2\"\n",
      "}\n"
     ]
    }
   ],
   "source": [
    "wiki = client.collections.get(\"Wiki\")\n",
    "\n",
    "response = wiki.query.near_text(\n",
    "    query=\"musical instruments\",\n",
    "    limit=5\n",
    ")\n",
    "\n",
    "for item in response.objects:\n",
    "    print_properties(item)"
   ]
  },
  {
   "cell_type": "code",
   "execution_count": 5,
   "metadata": {},
   "outputs": [
    {
     "name": "stdout",
     "output_type": "stream",
     "text": [
      "{\n",
      "  \"text\": \"A chord in music is when two or more notes are played together (some text books say that it is when three or more notes are played).\",\n",
      "  \"title\": \"Chord\",\n",
      "  \"url\": \"https://simple.wikipedia.org/wiki/Chord\",\n",
      "  \"wiki_id\": \"20231101.simple_40631_0\"\n",
      "}\n",
      "0.3645724058151245\n",
      "{\n",
      "  \"text\": \"A shepherd had a lot of time to sit and think or amuse himself.  He often made simple instruments out of reeds that grew where he sat.  These instruments were often simple pan flutes or just pipes which were similar to bamboo pipes or a modern recorder.  Some shepherds learned to carve instruments out of wood.  An example is the fujara from Slovakia and southern Poland.\",\n",
      "  \"title\": \"Shepherd\",\n",
      "  \"url\": \"https://simple.wikipedia.org/wiki/Shepherd\",\n",
      "  \"wiki_id\": \"20231101.simple_70678_5\"\n",
      "}\n",
      "0.37800133228302\n",
      "{\n",
      "  \"text\": \"Beck, John (1995). Encyclopedia of percussion instruments. New York: Garland Publishing. . Google Books preview. Accessed 8 September 2009.\",\n",
      "  \"title\": \"Snare drum\",\n",
      "  \"url\": \"https://simple.wikipedia.org/wiki/Snare%20drum\",\n",
      "  \"wiki_id\": \"20231101.simple_306810_3\"\n",
      "}\n",
      "0.37887752056121826\n",
      "{\n",
      "  \"text\": \"Equal temperament (a special case of well-temperament), in which notes of the scale which are next to one another are all separated by logarithmically equal distances, which are integer powers of 21/12.\",\n",
      "  \"title\": \"Musical tuning\",\n",
      "  \"url\": \"https://simple.wikipedia.org/wiki/Musical%20tuning\",\n",
      "  \"wiki_id\": \"20231101.simple_72590_18\"\n",
      "}\n",
      "0.39349210262298584\n",
      "{\n",
      "  \"text\": \"Syncopation is used in many musical styles, and is fundamental in black-influenced styles such as jazz, ragtime, Cuban music, funk, ska, reggae, rap, jump blues, progressive rock, extreme metal, breakbeat, drum'n'bass, dubstep amd minimalism. \\\"All dance music makes use of syncopation and it's often a vital element that helps tie the whole track together\\\". In the form of a back beat, syncopation is used in virtually all popular music.\",\n",
      "  \"title\": \"Syncopation\",\n",
      "  \"url\": \"https://simple.wikipedia.org/wiki/Syncopation\",\n",
      "  \"wiki_id\": \"20231101.simple_259084_2\"\n",
      "}\n",
      "0.4013105630874634\n"
     ]
    }
   ],
   "source": [
    "from weaviate.classes.query import MetadataQuery\n",
    "\n",
    "wiki = client.collections.get(\"Wiki\")\n",
    "\n",
    "response = wiki.query.near_text(\n",
    "    query=\"musical instruments\",\n",
    "    limit=5,\n",
    "    return_metadata=MetadataQuery(distance=True)\n",
    ")\n",
    "\n",
    "for item in response.objects:\n",
    "    print_properties(item)\n",
    "    print(item.metadata.distance)"
   ]
  },
  {
   "cell_type": "markdown",
   "metadata": {},
   "source": [
    "### Autocut\n",
    "\n",
    "Return groups of results based on the quality/distance jumps"
   ]
  },
  {
   "cell_type": "code",
   "execution_count": 6,
   "metadata": {},
   "outputs": [
    {
     "name": "stdout",
     "output_type": "stream",
     "text": [
      "Returned object count: 1\n",
      "{\n",
      "  \"text\": \"A chord in music is when two or more notes are played together (some text books say that it is when three or more notes are played).\",\n",
      "  \"title\": \"Chord\",\n",
      "  \"url\": \"https://simple.wikipedia.org/wiki/Chord\",\n",
      "  \"wiki_id\": \"20231101.simple_40631_0\"\n",
      "}\n",
      "0.3645724058151245\n"
     ]
    }
   ],
   "source": [
    "from weaviate.classes.query import MetadataQuery\n",
    "\n",
    "wiki = client.collections.get(\"Wiki\")\n",
    "\n",
    "response = wiki.query.near_text(\n",
    "    query=\"musical instruments\",\n",
    "    auto_limit=1,\n",
    "    return_metadata=MetadataQuery(distance=True)\n",
    ")\n",
    "\n",
    "print(f\"Returned object count: {len(response.objects)}\")\n",
    "\n",
    "for item in response.objects:\n",
    "    print_properties(item)\n",
    "    print(item.metadata.distance)"
   ]
  },
  {
   "cell_type": "markdown",
   "metadata": {},
   "source": [
    "## Filters"
   ]
  },
  {
   "cell_type": "markdown",
   "metadata": {},
   "source": [
    "### Fetch with filters"
   ]
  },
  {
   "cell_type": "code",
   "execution_count": 7,
   "metadata": {},
   "outputs": [
    {
     "name": "stdout",
     "output_type": "stream",
     "text": [
      "{\n",
      "  \"text\": \"There are different types of EDM, each varying in style, beats per minute and sound. This is a list of some of the major electronic dance music genres (each genre may additionally have further subgenres, which have not been looked at in too much detail for this section)\",\n",
      "  \"title\": \"Electronic dance music\",\n",
      "  \"url\": \"https://simple.wikipedia.org/wiki/Electronic%20dance%20music\",\n",
      "  \"wiki_id\": \"20231101.simple_319095_3\"\n",
      "}\n",
      "{\n",
      "  \"text\": \"In January 2013, Scottish record producer and DJ Hudson Mohawke, announced that he had signed to the production arm of G.O.O.D. Music - Very G.O.O.D. Beats. On April 2, 2013, Kid Cudi announced on Power 106 that he was no longer with the label, leaving once finding out an old vocal of his was released on Kanye's new album \\\"Yeezus.\\\" Cudi felt he was \\\"underused\\\" and would have preferred to record something particular. They left on seemingly amicable terms. On June 29, 2013 producer Hit-Boy of Very G.O.O.D. Beats announced that his contract expired and that he was no longer signed to GOOD Music. American Apparel model Kacy Hill was signed to the label December 2014, after appearing as a backup dancer on West's Yeezus Tour.\",\n",
      "  \"title\": \"GOOD Music\",\n",
      "  \"url\": \"https://simple.wikipedia.org/wiki/GOOD%20Music\",\n",
      "  \"wiki_id\": \"20231101.simple_980529_8\"\n",
      "}\n",
      "{\n",
      "  \"text\": \"One of the best known is the song \\\"Ooh Poo Pah Doo\\\", written and first recorded by Jessie Hill. The song is said to be \\\"a nonsensical yet rollicking call-and-response workout that perfectly captures the energy of French Quarter life\\\", by a reviewer for Allmusic. The song is so popular, it has over 100 cover versions recorded and performed live over the years by other popular musicians.\",\n",
      "  \"title\": \"Call and response (music)\",\n",
      "  \"url\": \"https://simple.wikipedia.org/wiki/Call%20and%20response%20%28music%29\",\n",
      "  \"wiki_id\": \"20231101.simple_529622_2\"\n",
      "}\n"
     ]
    }
   ],
   "source": [
    "from weaviate.classes.query import Filter\n",
    "\n",
    "wiki = client.collections.get(\"Wiki\")\n",
    "\n",
    "response = wiki.query.fetch_objects(\n",
    "    limit=5,\n",
    "    filters=Filter.by_property(\"title\").like(\"music\")\n",
    ")\n",
    "\n",
    "for item in response.objects:\n",
    "    print_properties(item)"
   ]
  },
  {
   "cell_type": "code",
   "execution_count": 8,
   "metadata": {},
   "outputs": [
    {
     "name": "stdout",
     "output_type": "stream",
     "text": [
      "{\n",
      "  \"text\": \"In 1886, Adolf Mayer first described the tobacco mosaic disease that could be transferred between plants, similar to bacterial infections.\",\n",
      "  \"title\": \"Tobacco mosaic virus\",\n",
      "  \"url\": \"https://simple.wikipedia.org/wiki/Tobacco%20mosaic%20virus\",\n",
      "  \"wiki_id\": \"20231101.simple_528724_2\"\n",
      "}\n",
      "{\n",
      "  \"text\": \"By its very nature, the evidence for this idea comes mainly from palaeontology. It is not claimed that this pattern is universal, but it is common. There are now a wide range of examples from many different taxa.\",\n",
      "  \"title\": \"Mosaic evolution\",\n",
      "  \"url\": \"https://simple.wikipedia.org/wiki/Mosaic%20evolution\",\n",
      "  \"wiki_id\": \"20231101.simple_290228_4\"\n",
      "}\n",
      "{\n",
      "  \"text\": \"\\\"Magic\\\" by Pilot is used, its 3rd use in a movie soundtrack after Disney's Herbie Fully Loaded and Happy Gilmore\",\n",
      "  \"title\": \"The Magic Roundabout (movie)\",\n",
      "  \"url\": \"https://simple.wikipedia.org/wiki/The%20Magic%20Roundabout%20%28movie%29\",\n",
      "  \"wiki_id\": \"20231101.simple_117801_2\"\n",
      "}\n"
     ]
    }
   ],
   "source": [
    "from weaviate.classes.query import Filter\n",
    "\n",
    "response = wiki.query.fetch_objects(\n",
    "    limit=5,\n",
    "    filters=Filter.by_property(\"title\").like(\"m*ic\") & Filter.by_property(\"title\").not_equal(\"music\")\n",
    ")\n",
    "\n",
    "for item in response.objects:\n",
    "    print_properties(item)"
   ]
  },
  {
   "cell_type": "markdown",
   "metadata": {},
   "source": [
    "## Search with filters\n",
    "[Docs - Filters](https://weaviate.io/developers/weaviate/search/filters)"
   ]
  },
  {
   "cell_type": "code",
   "execution_count": 9,
   "metadata": {},
   "outputs": [
    {
     "name": "stdout",
     "output_type": "stream",
     "text": [
      "{\n",
      "  \"text\": \"A chord in music is when two or more notes are played together (some text books say that it is when three or more notes are played).\",\n",
      "  \"title\": \"Chord\",\n",
      "  \"url\": \"https://simple.wikipedia.org/wiki/Chord\",\n",
      "  \"wiki_id\": \"20231101.simple_40631_0\"\n",
      "}\n",
      "{\n",
      "  \"text\": \"A shepherd had a lot of time to sit and think or amuse himself.  He often made simple instruments out of reeds that grew where he sat.  These instruments were often simple pan flutes or just pipes which were similar to bamboo pipes or a modern recorder.  Some shepherds learned to carve instruments out of wood.  An example is the fujara from Slovakia and southern Poland.\",\n",
      "  \"title\": \"Shepherd\",\n",
      "  \"url\": \"https://simple.wikipedia.org/wiki/Shepherd\",\n",
      "  \"wiki_id\": \"20231101.simple_70678_5\"\n",
      "}\n",
      "{\n",
      "  \"text\": \"Beck, John (1995). Encyclopedia of percussion instruments. New York: Garland Publishing. . Google Books preview. Accessed 8 September 2009.\",\n",
      "  \"title\": \"Snare drum\",\n",
      "  \"url\": \"https://simple.wikipedia.org/wiki/Snare%20drum\",\n",
      "  \"wiki_id\": \"20231101.simple_306810_3\"\n",
      "}\n",
      "{\n",
      "  \"text\": \"Equal temperament (a special case of well-temperament), in which notes of the scale which are next to one another are all separated by logarithmically equal distances, which are integer powers of 21/12.\",\n",
      "  \"title\": \"Musical tuning\",\n",
      "  \"url\": \"https://simple.wikipedia.org/wiki/Musical%20tuning\",\n",
      "  \"wiki_id\": \"20231101.simple_72590_18\"\n",
      "}\n",
      "{\n",
      "  \"text\": \"Syncopation is used in many musical styles, and is fundamental in black-influenced styles such as jazz, ragtime, Cuban music, funk, ska, reggae, rap, jump blues, progressive rock, extreme metal, breakbeat, drum'n'bass, dubstep amd minimalism. \\\"All dance music makes use of syncopation and it's often a vital element that helps tie the whole track together\\\". In the form of a back beat, syncopation is used in virtually all popular music.\",\n",
      "  \"title\": \"Syncopation\",\n",
      "  \"url\": \"https://simple.wikipedia.org/wiki/Syncopation\",\n",
      "  \"wiki_id\": \"20231101.simple_259084_2\"\n",
      "}\n"
     ]
    }
   ],
   "source": [
    "from weaviate.classes.query import Filter\n",
    "\n",
    "response = wiki.query.near_text(\n",
    "    query=\"musical instruments\",\n",
    "    limit=5,\n",
    "    filters=Filter.by_property(\"title\").not_equal(\"music\")\n",
    ")\n",
    "\n",
    "for item in response.objects:\n",
    "    print_properties(item)"
   ]
  },
  {
   "cell_type": "markdown",
   "metadata": {},
   "source": [
    "## Keyword Search\n",
    "\n",
    "[Docs - keyword/bm25](https://weaviate.io/developers/weaviate/search/bm25)"
   ]
  },
  {
   "cell_type": "code",
   "execution_count": 10,
   "metadata": {},
   "outputs": [
    {
     "name": "stdout",
     "output_type": "stream",
     "text": [
      "{\n",
      "  \"text\": \"Equal temperament (a special case of well-temperament), in which notes of the scale which are next to one another are all separated by logarithmically equal distances, which are integer powers of 21/12.\",\n",
      "  \"title\": \"Musical tuning\",\n",
      "  \"url\": \"https://simple.wikipedia.org/wiki/Musical%20tuning\",\n",
      "  \"wiki_id\": \"20231101.simple_72590_18\"\n",
      "}\n",
      "{\n",
      "  \"text\": \"A shepherd had a lot of time to sit and think or amuse himself.  He often made simple instruments out of reeds that grew where he sat.  These instruments were often simple pan flutes or just pipes which were similar to bamboo pipes or a modern recorder.  Some shepherds learned to carve instruments out of wood.  An example is the fujara from Slovakia and southern Poland.\",\n",
      "  \"title\": \"Shepherd\",\n",
      "  \"url\": \"https://simple.wikipedia.org/wiki/Shepherd\",\n",
      "  \"wiki_id\": \"20231101.simple_70678_5\"\n",
      "}\n",
      "{\n",
      "  \"text\": \"Oklahoma is the title song from and the finale to the Broadway musical Oklahoma! It is also the state song of Oklahoma.\",\n",
      "  \"title\": \"Oklahoma! (song)\",\n",
      "  \"url\": \"https://simple.wikipedia.org/wiki/Oklahoma%21%20%28song%29\",\n",
      "  \"wiki_id\": \"20231101.simple_127150_0\"\n",
      "}\n",
      "{\n",
      "  \"text\": \"Beck, John (1995). Encyclopedia of percussion instruments. New York: Garland Publishing. . Google Books preview. Accessed 8 September 2009.\",\n",
      "  \"title\": \"Snare drum\",\n",
      "  \"url\": \"https://simple.wikipedia.org/wiki/Snare%20drum\",\n",
      "  \"wiki_id\": \"20231101.simple_306810_3\"\n",
      "}\n",
      "{\n",
      "  \"text\": \"Anna Stadling born 11 July 1970 in Sundsvall, Sweden is a Swedish musical artist. She contributes with background vocals and plays the guitar in the band Hovet. She has also played with Staffan Hellstrand. Also she has worked together with Idde Schultz. Anna Stadling has scored successes at the Swedish charts.\",\n",
      "  \"title\": \"Anna Stadling\",\n",
      "  \"url\": \"https://simple.wikipedia.org/wiki/Anna%20Stadling\",\n",
      "  \"wiki_id\": \"20231101.simple_476709_0\"\n",
      "}\n"
     ]
    }
   ],
   "source": [
    "response = wiki.query.bm25(\n",
    "    query=\"musical instruments\",\n",
    "    limit=5,\n",
    ")\n",
    "\n",
    "for item in response.objects:\n",
    "    print_properties(item)"
   ]
  },
  {
   "cell_type": "code",
   "execution_count": 11,
   "metadata": {},
   "outputs": [
    {
     "name": "stdout",
     "output_type": "stream",
     "text": [
      "{\n",
      "  \"text\": \"A shepherd had a lot of time to sit and think or amuse himself.  He often made simple instruments out of reeds that grew where he sat.  These instruments were often simple pan flutes or just pipes which were similar to bamboo pipes or a modern recorder.  Some shepherds learned to carve instruments out of wood.  An example is the fujara from Slovakia and southern Poland.\",\n",
      "  \"title\": \"Shepherd\",\n",
      "  \"url\": \"https://simple.wikipedia.org/wiki/Shepherd\",\n",
      "  \"wiki_id\": \"20231101.simple_70678_5\"\n",
      "}\n",
      "4.145349502563477\n",
      "{\n",
      "  \"text\": \"Beck, John (1995). Encyclopedia of percussion instruments. New York: Garland Publishing. . Google Books preview. Accessed 8 September 2009.\",\n",
      "  \"title\": \"Snare drum\",\n",
      "  \"url\": \"https://simple.wikipedia.org/wiki/Snare%20drum\",\n",
      "  \"wiki_id\": \"20231101.simple_306810_3\"\n",
      "}\n",
      "3.840554714202881\n",
      "{\n",
      "  \"text\": \"Oklahoma is the title song from and the finale to the Broadway musical Oklahoma! It is also the state song of Oklahoma.\",\n",
      "  \"title\": \"Oklahoma! (song)\",\n",
      "  \"url\": \"https://simple.wikipedia.org/wiki/Oklahoma%21%20%28song%29\",\n",
      "  \"wiki_id\": \"20231101.simple_127150_0\"\n",
      "}\n",
      "3.6665358543395996\n",
      "{\n",
      "  \"text\": \"Equal temperament (a special case of well-temperament), in which notes of the scale which are next to one another are all separated by logarithmically equal distances, which are integer powers of 21/12.\",\n",
      "  \"title\": \"Musical tuning\",\n",
      "  \"url\": \"https://simple.wikipedia.org/wiki/Musical%20tuning\",\n",
      "  \"wiki_id\": \"20231101.simple_72590_18\"\n",
      "}\n",
      "3.2144322395324707\n",
      "{\n",
      "  \"text\": \"Anna Stadling born 11 July 1970 in Sundsvall, Sweden is a Swedish musical artist. She contributes with background vocals and plays the guitar in the band Hovet. She has also played with Staffan Hellstrand. Also she has worked together with Idde Schultz. Anna Stadling has scored successes at the Swedish charts.\",\n",
      "  \"title\": \"Anna Stadling\",\n",
      "  \"url\": \"https://simple.wikipedia.org/wiki/Anna%20Stadling\",\n",
      "  \"wiki_id\": \"20231101.simple_476709_0\"\n",
      "}\n",
      "2.7598986625671387\n"
     ]
    }
   ],
   "source": [
    "from weaviate.classes.query import MetadataQuery\n",
    "\n",
    "response = wiki.query.bm25(\n",
    "    query=\"musical instruments\",\n",
    "    query_properties=[\"text\", \"title\"],\n",
    "    limit=5,\n",
    "    return_metadata=MetadataQuery(score=True)\n",
    ")\n",
    "\n",
    "for item in response.objects:\n",
    "    print_properties(item)\n",
    "    print(item.metadata.score)"
   ]
  },
  {
   "cell_type": "code",
   "execution_count": 12,
   "metadata": {},
   "outputs": [
    {
     "name": "stdout",
     "output_type": "stream",
     "text": [
      "{\n",
      "  \"text\": \"Equal temperament (a special case of well-temperament), in which notes of the scale which are next to one another are all separated by logarithmically equal distances, which are integer powers of 21/12.\",\n",
      "  \"title\": \"Musical tuning\",\n",
      "  \"url\": \"https://simple.wikipedia.org/wiki/Musical%20tuning\",\n",
      "  \"wiki_id\": \"20231101.simple_72590_18\"\n",
      "}\n",
      "9.643296241760254\n",
      "{\n",
      "  \"text\": \"A shepherd had a lot of time to sit and think or amuse himself.  He often made simple instruments out of reeds that grew where he sat.  These instruments were often simple pan flutes or just pipes which were similar to bamboo pipes or a modern recorder.  Some shepherds learned to carve instruments out of wood.  An example is the fujara from Slovakia and southern Poland.\",\n",
      "  \"title\": \"Shepherd\",\n",
      "  \"url\": \"https://simple.wikipedia.org/wiki/Shepherd\",\n",
      "  \"wiki_id\": \"20231101.simple_70678_5\"\n",
      "}\n",
      "4.145349502563477\n",
      "{\n",
      "  \"text\": \"Beck, John (1995). Encyclopedia of percussion instruments. New York: Garland Publishing. . Google Books preview. Accessed 8 September 2009.\",\n",
      "  \"title\": \"Snare drum\",\n",
      "  \"url\": \"https://simple.wikipedia.org/wiki/Snare%20drum\",\n",
      "  \"wiki_id\": \"20231101.simple_306810_3\"\n",
      "}\n",
      "3.840554714202881\n",
      "{\n",
      "  \"text\": \"Oklahoma is the title song from and the finale to the Broadway musical Oklahoma! It is also the state song of Oklahoma.\",\n",
      "  \"title\": \"Oklahoma! (song)\",\n",
      "  \"url\": \"https://simple.wikipedia.org/wiki/Oklahoma%21%20%28song%29\",\n",
      "  \"wiki_id\": \"20231101.simple_127150_0\"\n",
      "}\n",
      "3.6665358543395996\n",
      "{\n",
      "  \"text\": \"Anna Stadling born 11 July 1970 in Sundsvall, Sweden is a Swedish musical artist. She contributes with background vocals and plays the guitar in the band Hovet. She has also played with Staffan Hellstrand. Also she has worked together with Idde Schultz. Anna Stadling has scored successes at the Swedish charts.\",\n",
      "  \"title\": \"Anna Stadling\",\n",
      "  \"url\": \"https://simple.wikipedia.org/wiki/Anna%20Stadling\",\n",
      "  \"wiki_id\": \"20231101.simple_476709_0\"\n",
      "}\n",
      "2.7598986625671387\n"
     ]
    }
   ],
   "source": [
    "from weaviate.classes.query import MetadataQuery\n",
    "\n",
    "response = wiki.query.bm25(\n",
    "    query=\"musical instruments\",\n",
    "    query_properties=[\"text\", \"title^3\"],\n",
    "    limit=5,\n",
    "    return_metadata=MetadataQuery(score=True)\n",
    ")\n",
    "\n",
    "for item in response.objects:\n",
    "    print_properties(item)\n",
    "    print(item.metadata.score)"
   ]
  },
  {
   "cell_type": "markdown",
   "metadata": {},
   "source": [
    "## Hybrid search\n",
    "[Docs - hybrid](https://weaviate.io/developers/weaviate/search/hybrid)"
   ]
  },
  {
   "cell_type": "code",
   "execution_count": 13,
   "metadata": {},
   "outputs": [
    {
     "name": "stdout",
     "output_type": "stream",
     "text": [
      "{\n",
      "  \"text\": \"Equal temperament (a special case of well-temperament), in which notes of the scale which are next to one another are all separated by logarithmically equal distances, which are integer powers of 21/12.\",\n",
      "  \"title\": \"Musical tuning\",\n",
      "  \"url\": \"https://simple.wikipedia.org/wiki/Musical%20tuning\",\n",
      "  \"wiki_id\": \"20231101.simple_72590_18\"\n",
      "}\n",
      "{\n",
      "  \"text\": \"A shepherd had a lot of time to sit and think or amuse himself.  He often made simple instruments out of reeds that grew where he sat.  These instruments were often simple pan flutes or just pipes which were similar to bamboo pipes or a modern recorder.  Some shepherds learned to carve instruments out of wood.  An example is the fujara from Slovakia and southern Poland.\",\n",
      "  \"title\": \"Shepherd\",\n",
      "  \"url\": \"https://simple.wikipedia.org/wiki/Shepherd\",\n",
      "  \"wiki_id\": \"20231101.simple_70678_5\"\n",
      "}\n",
      "{\n",
      "  \"text\": \"Beck, John (1995). Encyclopedia of percussion instruments. New York: Garland Publishing. . Google Books preview. Accessed 8 September 2009.\",\n",
      "  \"title\": \"Snare drum\",\n",
      "  \"url\": \"https://simple.wikipedia.org/wiki/Snare%20drum\",\n",
      "  \"wiki_id\": \"20231101.simple_306810_3\"\n",
      "}\n",
      "{\n",
      "  \"text\": \"A chord in music is when two or more notes are played together (some text books say that it is when three or more notes are played).\",\n",
      "  \"title\": \"Chord\",\n",
      "  \"url\": \"https://simple.wikipedia.org/wiki/Chord\",\n",
      "  \"wiki_id\": \"20231101.simple_40631_0\"\n",
      "}\n",
      "{\n",
      "  \"text\": \"Syncopation is used in many musical styles, and is fundamental in black-influenced styles such as jazz, ragtime, Cuban music, funk, ska, reggae, rap, jump blues, progressive rock, extreme metal, breakbeat, drum'n'bass, dubstep amd minimalism. \\\"All dance music makes use of syncopation and it's often a vital element that helps tie the whole track together\\\". In the form of a back beat, syncopation is used in virtually all popular music.\",\n",
      "  \"title\": \"Syncopation\",\n",
      "  \"url\": \"https://simple.wikipedia.org/wiki/Syncopation\",\n",
      "  \"wiki_id\": \"20231101.simple_259084_2\"\n",
      "}\n"
     ]
    }
   ],
   "source": [
    "response = wiki.query.hybrid(\n",
    "    query=\"musical instruments\",\n",
    "    alpha=0.7,\n",
    "    limit=5,\n",
    ")\n",
    "\n",
    "for item in response.objects:\n",
    "    print_properties(item)"
   ]
  },
  {
   "cell_type": "markdown",
   "metadata": {},
   "source": [
    "### Hybrid - select properties"
   ]
  },
  {
   "cell_type": "code",
   "execution_count": 14,
   "metadata": {},
   "outputs": [
    {
     "name": "stdout",
     "output_type": "stream",
     "text": [
      "{\n",
      "  \"text\": \"Equal temperament (a special case of well-temperament), in which notes of the scale which are next to one another are all separated by logarithmically equal distances, which are integer powers of 21/12.\",\n",
      "  \"title\": \"Musical tuning\",\n",
      "  \"url\": \"https://simple.wikipedia.org/wiki/Musical%20tuning\",\n",
      "  \"wiki_id\": \"20231101.simple_72590_18\"\n",
      "}\n",
      "{\n",
      "  \"text\": \"A chord in music is when two or more notes are played together (some text books say that it is when three or more notes are played).\",\n",
      "  \"title\": \"Chord\",\n",
      "  \"url\": \"https://simple.wikipedia.org/wiki/Chord\",\n",
      "  \"wiki_id\": \"20231101.simple_40631_0\"\n",
      "}\n",
      "{\n",
      "  \"text\": \"A shepherd had a lot of time to sit and think or amuse himself.  He often made simple instruments out of reeds that grew where he sat.  These instruments were often simple pan flutes or just pipes which were similar to bamboo pipes or a modern recorder.  Some shepherds learned to carve instruments out of wood.  An example is the fujara from Slovakia and southern Poland.\",\n",
      "  \"title\": \"Shepherd\",\n",
      "  \"url\": \"https://simple.wikipedia.org/wiki/Shepherd\",\n",
      "  \"wiki_id\": \"20231101.simple_70678_5\"\n",
      "}\n",
      "{\n",
      "  \"text\": \"Beck, John (1995). Encyclopedia of percussion instruments. New York: Garland Publishing. . Google Books preview. Accessed 8 September 2009.\",\n",
      "  \"title\": \"Snare drum\",\n",
      "  \"url\": \"https://simple.wikipedia.org/wiki/Snare%20drum\",\n",
      "  \"wiki_id\": \"20231101.simple_306810_3\"\n",
      "}\n",
      "{\n",
      "  \"text\": \"Syncopation is used in many musical styles, and is fundamental in black-influenced styles such as jazz, ragtime, Cuban music, funk, ska, reggae, rap, jump blues, progressive rock, extreme metal, breakbeat, drum'n'bass, dubstep amd minimalism. \\\"All dance music makes use of syncopation and it's often a vital element that helps tie the whole track together\\\". In the form of a back beat, syncopation is used in virtually all popular music.\",\n",
      "  \"title\": \"Syncopation\",\n",
      "  \"url\": \"https://simple.wikipedia.org/wiki/Syncopation\",\n",
      "  \"wiki_id\": \"20231101.simple_259084_2\"\n",
      "}\n"
     ]
    }
   ],
   "source": [
    "response = wiki.query.hybrid(\n",
    "    query=\"musical instruments\",\n",
    "    alpha=0.7,\n",
    "    limit=5,\n",
    "    query_properties=[\"title\"]\n",
    ")\n",
    "\n",
    "for item in response.objects:\n",
    "    print_properties(item)"
   ]
  },
  {
   "cell_type": "markdown",
   "metadata": {},
   "source": [
    "### Hybrid - Explain score"
   ]
  },
  {
   "cell_type": "code",
   "execution_count": 15,
   "metadata": {},
   "outputs": [
    {
     "name": "stdout",
     "output_type": "stream",
     "text": [
      "{\n",
      "  \"text\": \"Equal temperament (a special case of well-temperament), in which notes of the scale which are next to one another are all separated by logarithmically equal distances, which are integer powers of 21/12.\",\n",
      "  \"title\": \"Musical tuning\",\n",
      "  \"url\": \"https://simple.wikipedia.org/wiki/Musical%20tuning\",\n",
      "  \"wiki_id\": \"20231101.simple_72590_18\"\n",
      "}\n",
      "0.8661721348762512\n",
      "\n",
      "Hybrid (Result Set keyword,bm25) Document 2488a78e-13a0-5cbe-ada0-e974525296f8: original score 3.6434345, normalized score: 0.3 - \n",
      "Hybrid (Result Set vector,hybridVector) Document 2488a78e-13a0-5cbe-ada0-e974525296f8: original score 0.6065079, normalized score: 0.5661721\n",
      "{\n",
      "  \"text\": \"A chord in music is when two or more notes are played together (some text books say that it is when three or more notes are played).\",\n",
      "  \"title\": \"Chord\",\n",
      "  \"url\": \"https://simple.wikipedia.org/wiki/Chord\",\n",
      "  \"wiki_id\": \"20231101.simple_40631_0\"\n",
      "}\n",
      "0.699999988079071\n",
      "\n",
      "Hybrid (Result Set vector,hybridVector) Document 0d04bf40-ff16-5669-b173-f0675a795d14: original score 0.6354276, normalized score: 0.7\n",
      "{\n",
      "  \"text\": \"A shepherd had a lot of time to sit and think or amuse himself.  He often made simple instruments out of reeds that grew where he sat.  These instruments were often simple pan flutes or just pipes which were similar to bamboo pipes or a modern recorder.  Some shepherds learned to carve instruments out of wood.  An example is the fujara from Slovakia and southern Poland.\",\n",
      "  \"title\": \"Shepherd\",\n",
      "  \"url\": \"https://simple.wikipedia.org/wiki/Shepherd\",\n",
      "  \"wiki_id\": \"20231101.simple_70678_5\"\n",
      "}\n",
      "0.6378567218780518\n",
      "\n",
      "Hybrid (Result Set vector,hybridVector) Document 9669ef63-b5fe-5d86-8c4a-3de11fca6769: original score 0.62199867, normalized score: 0.6378567\n",
      "{\n",
      "  \"text\": \"Beck, John (1995). Encyclopedia of percussion instruments. New York: Garland Publishing. . Google Books preview. Accessed 8 September 2009.\",\n",
      "  \"title\": \"Snare drum\",\n",
      "  \"url\": \"https://simple.wikipedia.org/wiki/Snare%20drum\",\n",
      "  \"wiki_id\": \"20231101.simple_306810_3\"\n",
      "}\n",
      "0.6338021159172058\n",
      "\n",
      "Hybrid (Result Set vector,hybridVector) Document ea24bc11-8a9a-5c77-8982-f67c4cc7f765: original score 0.6211225, normalized score: 0.6338021\n",
      "{\n",
      "  \"text\": \"Syncopation is used in many musical styles, and is fundamental in black-influenced styles such as jazz, ragtime, Cuban music, funk, ska, reggae, rap, jump blues, progressive rock, extreme metal, breakbeat, drum'n'bass, dubstep amd minimalism. \\\"All dance music makes use of syncopation and it's often a vital element that helps tie the whole track together\\\". In the form of a back beat, syncopation is used in virtually all popular music.\",\n",
      "  \"title\": \"Syncopation\",\n",
      "  \"url\": \"https://simple.wikipedia.org/wiki/Syncopation\",\n",
      "  \"wiki_id\": \"20231101.simple_259084_2\"\n",
      "}\n",
      "0.5299916863441467\n",
      "\n",
      "Hybrid (Result Set vector,hybridVector) Document 30dd7812-4f12-53fe-8f2b-a29d76fe58ee: original score 0.59868944, normalized score: 0.5299917\n"
     ]
    }
   ],
   "source": [
    "from weaviate.classes.query import MetadataQuery\n",
    "\n",
    "response = wiki.query.hybrid(\n",
    "    query=\"musical instruments\",\n",
    "    alpha=0.7,\n",
    "    limit=5,\n",
    "    query_properties=[\"title\"],\n",
    "    return_metadata=MetadataQuery(score=True, explain_score=True)\n",
    ")\n",
    "\n",
    "for item in response.objects:\n",
    "    print_properties(item)\n",
    "    print(item.metadata.score)\n",
    "    print(item.metadata.explain_score)"
   ]
  },
  {
   "cell_type": "markdown",
   "metadata": {},
   "source": [
    "## Close the client"
   ]
  },
  {
   "cell_type": "code",
   "execution_count": 16,
   "metadata": {},
   "outputs": [],
   "source": [
    "client.close()"
   ]
  }
 ],
 "metadata": {
  "kernelspec": {
   "display_name": ".venv (3.11.9)",
   "language": "python",
   "name": "python3"
  },
  "language_info": {
   "codemirror_mode": {
    "name": "ipython",
    "version": 3
   },
   "file_extension": ".py",
   "mimetype": "text/x-python",
   "name": "python",
   "nbconvert_exporter": "python",
   "pygments_lexer": "ipython3",
   "version": "3.11.9"
  }
 },
 "nbformat": 4,
 "nbformat_minor": 2
}
