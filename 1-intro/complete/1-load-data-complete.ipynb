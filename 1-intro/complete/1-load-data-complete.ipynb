{
 "cells": [
  {
   "cell_type": "markdown",
   "metadata": {},
   "source": [
    "# Collection setup and data load"
   ]
  },
  {
   "cell_type": "markdown",
   "metadata": {},
   "source": [
    "## Get keys and urls"
   ]
  },
  {
   "cell_type": "code",
   "execution_count": 3,
   "metadata": {},
   "outputs": [
    {
     "name": "stdout",
     "output_type": "stream",
     "text": [
      "UPDATE_ME_WEAVIATE_URL\n",
      "UPDATE_ME_WEAVIATE_KEY\n",
      "UPDATE_ME_OPENAI_API_KEY\n"
     ]
    }
   ],
   "source": [
    "import os\n",
    "from dotenv import load_dotenv\n",
    "\n",
    "load_dotenv()\n",
    "\n",
    "WEAVIATE_URL = os.getenv(\"WEAVIATE_URL\")\n",
    "WEAVIATE_KEY = os.getenv(\"WEAVIATE_KEY\")\n",
    "OPENAI_API_KEY = os.getenv(\"OPENAI_API_KEY\")\n",
    "\n",
    "print(WEAVIATE_URL)\n",
    "print(WEAVIATE_KEY)\n",
    "print(OPENAI_API_KEY)"
   ]
  },
  {
   "cell_type": "markdown",
   "metadata": {},
   "source": [
    "## Connect to Weaviate\n",
    "\n",
    "You need to pass in your OpenAI key, which will be used to vectorise your data."
   ]
  },
  {
   "cell_type": "code",
   "execution_count": null,
   "metadata": {},
   "outputs": [],
   "source": [
    "import weaviate\n",
    "from weaviate.classes.init import Auth\n",
    "# from weaviate.classes.init import AdditionalConfig, Timeout\n",
    "\n",
    "client = weaviate.connect_to_weaviate_cloud(\n",
    "    cluster_url=WEAVIATE_URL,\n",
    "    auth_credentials=Auth.api_key(WEAVIATE_KEY),\n",
    "\n",
    "    headers = {\n",
    "        \"X-OpenAI-Api-Key\": OPENAI_API_KEY\n",
    "    },\n",
    "\n",
    "    # additional_config=AdditionalConfig(\n",
    "    #     timeout=Timeout(init=2, query=45, insert=120),  # Values in seconds\n",
    "    # )\n",
    ")\n",
    "\n",
    "client.is_ready()"
   ]
  },
  {
   "cell_type": "markdown",
   "metadata": {},
   "source": [
    "## Create a collection with a vectorizer\n",
    "\n",
    "* [Weaviate Docs - collection creation and configuration](https://weaviate.io/developers/weaviate/manage-data/collections)\n",
    "* [OpenAI integrated embedding models](https://weaviate.io/developers/weaviate/model-providers/openai/embeddings)\n",
    "\n",
    "Examples of other embedding models:\n",
    "* [Cohere](https://weaviate.io/developers/weaviate/model-providers/cohere/embeddings)\n",
    "* [HuggingFace 🤗](https://weaviate.io/developers/weaviate/model-providers/huggingface/embeddings)\n",
    "* [Ollama (self-hosted)](https://weaviate.io/developers/weaviate/model-providers/ollama/embeddings)"
   ]
  },
  {
   "cell_type": "code",
   "execution_count": null,
   "metadata": {},
   "outputs": [],
   "source": [
    "from weaviate.classes.config import Configure\n",
    "\n",
    "if client.collections.exists(\"Jeopardy\"):\n",
    "    client.collections.delete(\"Jeopardy\")\n",
    "\n",
    "# Create a collection - with OpenAI vectorizer\n",
    "client.collections.create(\n",
    "    name=\"Jeopardy\",\n",
    "\n",
    "    vectorizer_config=Configure.Vectorizer.text2vec_openai(\n",
    "        model=\"text-embedding-3-small\", # OpenAI model\n",
    "    ),\n",
    ")"
   ]
  },
  {
   "cell_type": "markdown",
   "metadata": {},
   "source": [
    "## Import data\n",
    "### Sample Data"
   ]
  },
  {
   "cell_type": "code",
   "execution_count": null,
   "metadata": {},
   "outputs": [],
   "source": [
    "import json\n",
    "\n",
    "with open(\"./jeopardy_tiny.json\") as file:\n",
    "    data_10 = json.load(file)\n",
    "\n",
    "print(json.dumps(data_10[0:2], indent=2))"
   ]
  },
  {
   "cell_type": "markdown",
   "metadata": {},
   "source": [
    "### Insert Many\n",
    "\n",
    "> `insert_many` is only used for inserting small batches of data - must complete within the timeout.\n",
    "\n",
    "[Weaviate Docs - insert many](https://weaviate.io/developers/weaviate/manage-data/import)"
   ]
  },
  {
   "cell_type": "code",
   "execution_count": null,
   "metadata": {},
   "outputs": [],
   "source": [
    "# Insert data\n",
    "jeopardy = client.collections.get(\"Jeopardy\")\n",
    "jeopardy.data.insert_many(data_10)"
   ]
  },
  {
   "cell_type": "markdown",
   "metadata": {},
   "source": [
    "### Data preview"
   ]
  },
  {
   "cell_type": "code",
   "execution_count": null,
   "metadata": {},
   "outputs": [],
   "source": [
    "# Show data preview\n",
    "jeopardy = client.collections.get(\"Jeopardy\")\n",
    "response = jeopardy.query.fetch_objects(limit=4)\n",
    "\n",
    "for item in response.objects:\n",
    "    print(item.uuid, item.properties)"
   ]
  },
  {
   "cell_type": "code",
   "execution_count": null,
   "metadata": {},
   "outputs": [],
   "source": [
    "# Show data preview - with vectors\n",
    "jeopardy = client.collections.get(\"Jeopardy\")\n",
    "response = jeopardy.query.fetch_objects(\n",
    "    limit=4,\n",
    "    include_vector=True\n",
    ")\n",
    "\n",
    "for item in response.objects:\n",
    "    print(item.properties)\n",
    "    print(item.vector, '\\n')"
   ]
  },
  {
   "cell_type": "markdown",
   "metadata": {},
   "source": [
    "### Super quick query example"
   ]
  },
  {
   "cell_type": "code",
   "execution_count": null,
   "metadata": {},
   "outputs": [],
   "source": [
    "response = jeopardy.query.near_text(\n",
    "    query=\"African animals\",\n",
    "    # query=\"weather\",\n",
    "    limit=2\n",
    ")\n",
    "\n",
    "for item in response.objects:\n",
    "    print(item.properties)"
   ]
  },
  {
   "cell_type": "markdown",
   "metadata": {},
   "source": [
    "## A bit bigger example - 10k objects"
   ]
  },
  {
   "cell_type": "markdown",
   "metadata": {},
   "source": [
    "### Load data"
   ]
  },
  {
   "cell_type": "code",
   "execution_count": null,
   "metadata": {},
   "outputs": [],
   "source": [
    "import json\n",
    "\n",
    "with open(\"./wiki-10k.json\") as file:\n",
    "    data_10k = json.load(file)\n",
    "\n",
    "print(json.dumps(data_10k[0:2], indent=2))"
   ]
  },
  {
   "cell_type": "markdown",
   "metadata": {},
   "source": [
    "### Create a collection with Named Vectors and SourceProperties"
   ]
  },
  {
   "cell_type": "code",
   "execution_count": null,
   "metadata": {},
   "outputs": [],
   "source": [
    "from weaviate.classes.config import Configure, Property, DataType\n",
    "\n",
    "def create_wiki_collection():\n",
    "    if client.collections.exists(\"Wiki\"):\n",
    "        client.collections.delete(\"Wiki\")\n",
    "\n",
    "    # Create a collection here - with OpenAI vectorizer and define source properties\n",
    "    client.collections.create(\n",
    "        name=\"Wiki\",\n",
    "\n",
    "        vectorizer_config=[\n",
    "            Configure.NamedVectors.text2vec_openai(\n",
    "                name=\"main_vector\",\n",
    "\n",
    "                model=\"text-embedding-3-small\",\n",
    "                source_properties=['title', 'text'] # which properties should be used to generate a vector\n",
    "            )\n",
    "        ],\n",
    "\n",
    "        # Example: how to define property schema (Optional)\n",
    "        # properties=[  \n",
    "        #     Property(name=\"title\", data_type=DataType.TEXT),\n",
    "        #     Property(name=\"text\", data_type=DataType.TEXT),\n",
    "        #     Property(name=\"url\", data_type=DataType.TEXT),\n",
    "        #     Property(name=\"wiki_id\", data_type=DataType.TEXT),\n",
    "        # ],\n",
    "    )\n",
    "\n",
    "create_wiki_collection()"
   ]
  },
  {
   "cell_type": "markdown",
   "metadata": {},
   "source": [
    "### Import data - 10k objects with Batch\n",
    "\n",
    "Batch speeds up the import process by grouping objects to be added in bigger batch groups.\n",
    "\n",
    "Batch creates an internal buffer to collect objects to be added.<br>\n",
    "Each time the buffer count reaches `batch_size`, batch sends the new objects to Weaviate.\n",
    "\n",
    "Types of batch:\n",
    "* `dynamic` - let batch calculate the optimal batch_size based on detected latency\n",
    "* `fixed_size` - provide a fixed batch_size\n",
    "* `rate_limit` - limit the number of requests (per minute), useful for working with models with a rate limit"
   ]
  },
  {
   "cell_type": "markdown",
   "metadata": {},
   "source": [
    "### Take 1 – import sample 100"
   ]
  },
  {
   "cell_type": "code",
   "execution_count": null,
   "metadata": {},
   "outputs": [],
   "source": [
    "from tqdm import tqdm\n",
    "\n",
    "sample_100 = data_10k[0:100]\n",
    "\n",
    "wiki = client.collections.get(\"Wiki\")\n",
    "\n",
    "with wiki.batch.dynamic() as batch:\n",
    "    for item in tqdm(sample_100):\n",
    "        batch.add_object(item)\n",
    "\n",
    "print(f\"Wiki count: {len(wiki)}\")"
   ]
  },
  {
   "cell_type": "code",
   "execution_count": null,
   "metadata": {},
   "outputs": [],
   "source": [
    "# check for errors\n",
    "if(len(wiki.batch.failed_objects)>0):\n",
    "    print(\"Import complete with errors\")\n",
    "    for err in wiki.batch.failed_objects:\n",
    "        print(err)\n",
    "else:\n",
    "    print(\"Import complete with no errors\")"
   ]
  },
  {
   "cell_type": "markdown",
   "metadata": {},
   "source": [
    "### Take 2 – import sample 100 – with UUID\n",
    "\n",
    "To avoid inserting duplicates, you can generate a UUID based on the whole object or a unique property."
   ]
  },
  {
   "cell_type": "code",
   "execution_count": null,
   "metadata": {},
   "outputs": [],
   "source": [
    "from weaviate.util import generate_uuid5\n",
    "\n",
    "print(generate_uuid5(\"This UUID is always the same\"))\n",
    "print(generate_uuid5(\"This UUID is always the same\"))\n",
    "print(generate_uuid5(\"This UUID is always the same\"))\n",
    "print(\"====================================\")\n",
    "\n",
    "print(generate_uuid5(\"This UUID is different\"))\n",
    "print(generate_uuid5(\"This UUID is different\"))\n",
    "print(\"====================================\")\n",
    "\n",
    "obj1 = { \"title\": \"this is an object\", \"count\": 1 }\n",
    "obj2 = { \"title\": \"this is an object\", \"count\": 2 }\n",
    "print(generate_uuid5(obj1))\n",
    "print(generate_uuid5(obj2))\n"
   ]
  },
  {
   "cell_type": "code",
   "execution_count": null,
   "metadata": {},
   "outputs": [],
   "source": [
    "# recreate the collection to start again\n",
    "create_wiki_collection()"
   ]
  },
  {
   "cell_type": "markdown",
   "metadata": {},
   "source": [
    "> Rerun the import script multiple times.\n",
    "\n",
    "> Starting from the second run, the script should finish a lot faster, and the wiki count shouldn't increase."
   ]
  },
  {
   "cell_type": "code",
   "execution_count": null,
   "metadata": {},
   "outputs": [],
   "source": [
    "from tqdm import tqdm\n",
    "from weaviate.util import generate_uuid5\n",
    "\n",
    "sample_100 = data_10k[0:100]\n",
    "\n",
    "wiki = client.collections.get(\"Wiki\")\n",
    "\n",
    "with wiki.batch.fixed_size(batch_size=20, concurrent_requests=2) as batch:\n",
    "    for item in tqdm(sample_100):\n",
    "        id = generate_uuid5(item[\"wiki_id\"])\n",
    "\n",
    "        batch.add_object(\n",
    "            item,\n",
    "            uuid=id\n",
    "        )\n",
    "\n",
    "print(f\"Wiki count: {len(wiki)}\")"
   ]
  },
  {
   "cell_type": "markdown",
   "metadata": {},
   "source": [
    "### Take 2 - import the rest of the data - but break if multiple errors"
   ]
  },
  {
   "cell_type": "code",
   "execution_count": null,
   "metadata": {},
   "outputs": [],
   "source": [
    "from tqdm import tqdm\n",
    "from weaviate.util import generate_uuid5\n",
    "\n",
    "wiki = client.collections.get(\"Wiki\")\n",
    "\n",
    "with wiki.batch.fixed_size(batch_size=2000, concurrent_requests=2) as batch:\n",
    "    for item in tqdm(data_10k):\n",
    "        id = generate_uuid5(item[\"wiki_id\"])\n",
    "        batch.add_object(item, uuid=id)\n",
    "\n",
    "        # Check number of errors while running\n",
    "        if(batch.number_errors > 10):\n",
    "            print(\"Errors during batch import\")\n",
    "            break"
   ]
  },
  {
   "cell_type": "markdown",
   "metadata": {},
   "source": [
    "### Check for errors"
   ]
  },
  {
   "cell_type": "code",
   "execution_count": null,
   "metadata": {},
   "outputs": [],
   "source": [
    "if(len(wiki.batch.failed_objects)>0):\n",
    "    print(\"Import complete with errors\")\n",
    "    for err in wiki.batch.failed_objects:\n",
    "        print(err)\n",
    "else:\n",
    "    print(\"Import complete with no errors\")"
   ]
  },
  {
   "cell_type": "markdown",
   "metadata": {},
   "source": [
    "## Bonus - iterate through all collection data\n",
    "\n",
    "The client has a built-in function that allows you to iterate through all collection data."
   ]
  },
  {
   "cell_type": "code",
   "execution_count": null,
   "metadata": {},
   "outputs": [],
   "source": [
    "wiki = client.collections.get(\"Wiki\")\n",
    "\n",
    "counter = 100\n",
    "\n",
    "for item in wiki.iterator():\n",
    "    print(item.properties)\n",
    "\n",
    "    if (counter == 0): break\n",
    "    \n",
    "    counter -= 1"
   ]
  },
  {
   "cell_type": "markdown",
   "metadata": {},
   "source": [
    "You can also get `vector embeddings`, by using `include_vector`."
   ]
  },
  {
   "cell_type": "code",
   "execution_count": null,
   "metadata": {},
   "outputs": [],
   "source": [
    "counter = 10\n",
    "\n",
    "for item in wiki.iterator(include_vector=True):\n",
    "    print(item.properties)\n",
    "    print(item.vector)\n",
    "\n",
    "    if (counter == 0): break\n",
    "    \n",
    "    counter -= 1"
   ]
  },
  {
   "cell_type": "markdown",
   "metadata": {},
   "source": [
    "## Close the client"
   ]
  },
  {
   "cell_type": "code",
   "execution_count": null,
   "metadata": {},
   "outputs": [],
   "source": [
    "client.close()"
   ]
  }
 ],
 "metadata": {
  "kernelspec": {
   "display_name": "Python 3",
   "language": "python",
   "name": "python3"
  },
  "language_info": {
   "codemirror_mode": {
    "name": "ipython",
    "version": 3
   },
   "file_extension": ".py",
   "mimetype": "text/x-python",
   "name": "python",
   "nbconvert_exporter": "python",
   "pygments_lexer": "ipython3",
   "version": "3.11.8"
  }
 },
 "nbformat": 4,
 "nbformat_minor": 2
}
