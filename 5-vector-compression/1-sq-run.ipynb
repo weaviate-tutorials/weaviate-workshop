{
 "cells": [
  {
   "cell_type": "markdown",
   "metadata": {},
   "source": [
    "# Compression – Load Data and compress vectors\n",
    "\n",
    "## Get keys and urls"
   ]
  },
  {
   "cell_type": "code",
   "execution_count": null,
   "metadata": {},
   "outputs": [],
   "source": [
    "import os\n",
    "from dotenv import load_dotenv\n",
    "\n",
    "load_dotenv()\n",
    "\n",
    "WEAVIATE_URL = os.getenv(\"WEAVIATE_URL\")\n",
    "WEAVIATE_KEY = os.getenv(\"WEAVIATE_KEY\")\n",
    "\n",
    "print(WEAVIATE_URL)\n",
    "print(WEAVIATE_KEY)"
   ]
  },
  {
   "cell_type": "markdown",
   "metadata": {},
   "source": [
    "## Connect to Weaviate"
   ]
  },
  {
   "cell_type": "code",
   "execution_count": null,
   "metadata": {},
   "outputs": [],
   "source": [
    "import weaviate\n",
    "# from weaviate.classes.init import AdditionalConfig, Timeout\n",
    "\n",
    "client = weaviate.connect_to_custom(\n",
    "    http_host=WEAVIATE_URL,\n",
    "    http_port=80,\n",
    "    http_secure=False,\n",
    "    grpc_host=WEAVIATE_KEY,\n",
    "    grpc_port=50051,\n",
    "    grpc_secure=False,\n",
    ")\n",
    "\n",
    "client.is_ready()"
   ]
  },
  {
   "cell_type": "markdown",
   "metadata": {},
   "source": [
    "## Create Collection with SQ configuration\n",
    "\n",
    "[Docs: Scalar Quantization (SQ)](https://weaviate.io/developers/weaviate/configuration/compression/sq-compression)\n",
    "\n",
    "> Note: Scalar Quantization includes a training phase, which is required to determine scalar bucket boundaries.<br/>\n",
    "> In other words, based on your data, it figures out how to best compress your vectors.\n",
    ">\n",
    "> The compression training starts when the collection reaches `training_limit` number of objects.<br/>\n",
    "> Before that, the vectors remain uncompressed, and search happens on uncompressed vectors."
   ]
  },
  {
   "cell_type": "code",
   "execution_count": null,
   "metadata": {},
   "outputs": [],
   "source": [
    "from weaviate.classes.config import Configure\n",
    "\n",
    "client.collections.delete(\"WikiQ\")\n",
    "\n",
    "# Create a collection here - with Cohere as a vectorizer\n",
    "client.collections.create(\n",
    "    name=\"WikiQ\",\n",
    "\n",
    "    vectorizer_config=[\n",
    "        Configure.NamedVectors.text2vec_openai(\n",
    "            name=\"main_vector\",\n",
    "\n",
    "            model=\"text-embedding-3-small\",\n",
    "            source_properties=['title', 'text'],\n",
    "\n",
    "            # Configure SQ\n",
    "            vector_index_config=Configure.VectorIndex.hnsw(\n",
    "                quantizer=Configure.VectorIndex.Quantizer.sq(\n",
    "                    rescore_limit=200,    # the number of overfeteched candidates used for rescoring\n",
    "                    training_limit=10_000  # (default 100k) number of objects needed to train the codebook\n",
    "                )\n",
    "            ),\n",
    "        )\n",
    "    ],\n",
    ")"
   ]
  },
  {
   "cell_type": "markdown",
   "metadata": {},
   "source": [
    "## The rest is the same"
   ]
  },
  {
   "cell_type": "code",
   "execution_count": null,
   "metadata": {},
   "outputs": [],
   "source": [
    "from data_loader import import_wiki_data\n",
    "import_wiki_data(client, \"WikiQ\", 25000)"
   ]
  },
  {
   "cell_type": "code",
   "execution_count": null,
   "metadata": {},
   "outputs": [],
   "source": [
    "WikiQ = client.collections.get(\"WikiQ\")\n",
    "WikiQ.aggregate.over_all()"
   ]
  },
  {
   "cell_type": "markdown",
   "metadata": {},
   "source": [
    "## Clean up"
   ]
  },
  {
   "cell_type": "code",
   "execution_count": null,
   "metadata": {},
   "outputs": [],
   "source": [
    "# client.collections.delete(\"WikiQ\")"
   ]
  },
  {
   "cell_type": "markdown",
   "metadata": {},
   "source": [
    "## Close the client"
   ]
  },
  {
   "cell_type": "code",
   "execution_count": null,
   "metadata": {},
   "outputs": [],
   "source": [
    "client.close()"
   ]
  }
 ],
 "metadata": {
  "kernelspec": {
   "display_name": ".venv",
   "language": "python",
   "name": "python3"
  },
  "language_info": {
   "codemirror_mode": {
    "name": "ipython",
    "version": 3
   },
   "file_extension": ".py",
   "mimetype": "text/x-python",
   "name": "python",
   "nbconvert_exporter": "python",
   "pygments_lexer": "ipython3",
   "version": "3.11.8"
  }
 },
 "nbformat": 4,
 "nbformat_minor": 2
}
