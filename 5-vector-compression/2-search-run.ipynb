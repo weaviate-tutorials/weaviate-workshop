{
 "cells": [
  {
   "cell_type": "code",
   "execution_count": 1,
   "metadata": {},
   "outputs": [
    {
     "name": "stdout",
     "output_type": "stream",
     "text": [
      "cwzujlbgtk\n",
      "L1FUbzRPaU\n"
     ]
    }
   ],
   "source": [
    "import os\n",
    "from dotenv import load_dotenv\n",
    "\n",
    "load_dotenv()\n",
    "\n",
    "WEAVIATE_URL = os.getenv(\"WEAVIATE_URL\")\n",
    "WEAVIATE_KEY = os.getenv(\"WEAVIATE_KEY\")\n",
    "\n",
    "print(WEAVIATE_URL[:10])\n",
    "print(WEAVIATE_KEY[:10])"
   ]
  },
  {
   "cell_type": "code",
   "execution_count": 2,
   "metadata": {},
   "outputs": [
    {
     "data": {
      "text/plain": [
       "True"
      ]
     },
     "execution_count": 2,
     "metadata": {},
     "output_type": "execute_result"
    }
   ],
   "source": [
    "import weaviate\n",
    "from weaviate.classes.init import Auth\n",
    "\n",
    "client = weaviate.connect_to_weaviate_cloud(\n",
    "    cluster_url=WEAVIATE_URL,\n",
    "    auth_credentials=Auth.api_key(WEAVIATE_KEY),\n",
    ")\n",
    "\n",
    "client.is_ready()"
   ]
  },
  {
   "cell_type": "markdown",
   "metadata": {},
   "source": [
    "## Preview data"
   ]
  },
  {
   "cell_type": "code",
   "execution_count": 3,
   "metadata": {},
   "outputs": [
    {
     "name": "stdout",
     "output_type": "stream",
     "text": [
      "20231101.simple_63871_3\n",
      "Hilary Hahn\n",
      "By the age of sixteen, Hahn had completed the Curtis Institute's university requirements, but elected to remain at the Institute for several more years to pursue additional elective courses, until her graduation in May 1999 with a Bachelor Of Music degree. During this time she regularly coached violin with Jaime Laredo, and studied chamber music with Felix Galimir and Gary Graffman.  In an interview with PBS in December 2001, Hahn stated that of all the musical disciplines, she is most interested in musical performance (PBS Interview). \n",
      "\n",
      "20231101.simple_82005_22\n",
      "Wozzeck\n",
      "Another musical technique he uses is the leitmotif, in which particular characters or things are linked to particular themes or musical ideas.  This technique can be very useful to suggest certain things.  For example, there is a leitmotif for the earrings which the Drum major has given to Marie.  When the major makes love to Marie we hear this leitmotif.  The music makes us realize that he is not forcing her to love him but that she is willing.  In another place, the military music tells us that Marie is thinking of the Drum major. \n",
      "\n",
      "20231101.simple_514774_0\n",
      "Yamaha DX7\n",
      "Yamaha DX7 is a digital programmable musical synthesizer. It was first made and released in 1983. The Yamaha DX7 ROM-4A patch \"Synthbrass\" was heard in the Corey Hart song \"Sunglasses at Night\". \n",
      "\n",
      "20231101.simple_734058_0\n",
      "Taron Egerton\n",
      "Taron David Egerton (born 10 November 1989) is a Welsh actor. His movie credits include Kingsman: The Secret Service (2014), Testament of Youth (2014), Legend (2015), Eddie the Eagle (2016), Kingsman: The Golden Circle (2017) and Rocketman (2019). For his role as Elton John in Rocketman, he won the Golden Globe Award for Best Actor – Motion Picture Musical or Comedy. He has also appeared in the miniseries Watership Down (2018) and in the Apple TV+ film Tetris (2023). \n",
      "\n",
      "20231101.simple_203072_19\n",
      "Swan Lake\n",
      "John Warrack points out that Tchaikovsky put the drama in the story into music: \"By making B the key of the tragedy, he initiates a musical \"plot\" with the dark forces of Rothbart tending to drag the tonality down into flatter keys. The main action, on the other hand, lies on the key area of A.\" Tchaikovsky balanced all the musical components of the work. \"The divertissements are in his lightest, most appealing musical manner\", Warrack writes, \"The dances that further the plot have rather greater musical substance, while the scenes of narrative and action are in what was found his \"symphonic\" manner.\" Critics said Tchaikovsky's music was \"too noisy, too 'Wagnerian' and too symphonic\". \n",
      "\n"
     ]
    }
   ],
   "source": [
    "from weaviate.classes.query import Filter\n",
    "\n",
    "wikiQ = client.collections.get(\"WikiQ\")\n",
    "\n",
    "response = wikiQ.query.fetch_objects(\n",
    "    filters=Filter.by_property(\"text\").like(\"musical\"),\n",
    "    limit=5\n",
    ")\n",
    "\n",
    "for item in response.objects:\n",
    "    print(item.properties[\"wiki_id\"])\n",
    "    print(item.properties[\"title\"])\n",
    "    print(item.properties[\"text\"], '\\n')"
   ]
  },
  {
   "cell_type": "markdown",
   "metadata": {},
   "source": [
    "## Vector search"
   ]
  },
  {
   "cell_type": "code",
   "execution_count": 4,
   "metadata": {},
   "outputs": [
    {
     "name": "stdout",
     "output_type": "stream",
     "text": [
      "{'text': 'The term is most used in music. A musical ensemble is a group of people who perform instrumental or vocal music. In classical music, trios or quartets often group together instruments from the same instrument family, such as string ensembles or wind ensembles. The term is also used in jazz, where the instruments typically include wind instruments.', 'title': 'Ensemble', 'wiki_id': '20231101.simple_329705_1', 'url': 'https://simple.wikipedia.org/wiki/Ensemble'}\n",
      "{'text': 'A saxophone is a type of musical instrument in the woodwind family. The saxophone uses a piece of wood, called a reed, to make sound. The player blows air into the mouthpiece, which vibrates the reed. The saxophone also uses keys to change pitch, and the player closes or opens holes to choose the note. Commonly, saxophones have about 22 keys.', 'title': 'Saxophone', 'wiki_id': '20231101.simple_7210_0', 'url': 'https://simple.wikipedia.org/wiki/Saxophone'}\n",
      "{'text': 'Arrangements are often made by people who play instruments that have not had much music written for them.  People who play the viola, guitar, tuba etc. often arrange other music so that they have a larger repertoire (more music to play).', 'title': 'Arrangement (music)', 'wiki_id': '20231101.simple_218679_6', 'url': 'https://simple.wikipedia.org/wiki/Arrangement%20%28music%29'}\n",
      "{'text': 'The African slaves and their descendants made many percussion instruments and preserved rhythms they had known in their homeland. The most important instruments were the drums. Also important are the claves, two short hardwood batons, and the cajón, a wooden box, originally made from crates. Claves are still used often, and cajons (cajones) were used widely during periods when the drum was banned.', 'title': 'Cuban music', 'wiki_id': '20231101.simple_205203_3', 'url': 'https://simple.wikipedia.org/wiki/Cuban%20music'}\n",
      "{'text': 'Untuned percussion instruments include: bass drum, side drum (snare drum), maracas, castanets, cymbals, tambourine, claves and many more.', 'title': 'Percussion instrument', 'wiki_id': '20231101.simple_29852_2', 'url': 'https://simple.wikipedia.org/wiki/Percussion%20instrument'}\n"
     ]
    }
   ],
   "source": [
    "wikiQ = client.collections.get(\"WikiQ\")\n",
    "\n",
    "response = wikiQ.query.near_text(\n",
    "    query=\"musical instruments\",\n",
    "    limit=5\n",
    ")\n",
    "\n",
    "for item in response.objects:\n",
    "    print(item.properties)"
   ]
  },
  {
   "cell_type": "markdown",
   "metadata": {},
   "source": [
    "> Have fun! Add your own queries."
   ]
  },
  {
   "cell_type": "markdown",
   "metadata": {},
   "source": [
    "## Close the client"
   ]
  },
  {
   "cell_type": "code",
   "execution_count": 5,
   "metadata": {},
   "outputs": [],
   "source": [
    "client.close()"
   ]
  }
 ],
 "metadata": {
  "kernelspec": {
   "display_name": ".venv (3.11.9)",
   "language": "python",
   "name": "python3"
  },
  "language_info": {
   "codemirror_mode": {
    "name": "ipython",
    "version": 3
   },
   "file_extension": ".py",
   "mimetype": "text/x-python",
   "name": "python",
   "nbconvert_exporter": "python",
   "pygments_lexer": "ipython3",
   "version": "3.11.9"
  }
 },
 "nbformat": 4,
 "nbformat_minor": 2
}
