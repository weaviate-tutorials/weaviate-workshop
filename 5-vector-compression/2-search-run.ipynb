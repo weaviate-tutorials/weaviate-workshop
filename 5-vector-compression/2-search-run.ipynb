{
 "cells": [
  {
   "cell_type": "code",
   "execution_count": 1,
   "metadata": {},
   "outputs": [
    {
     "name": "stdout",
     "output_type": "stream",
     "text": [
      "Weaviate Key:root-user-key\n",
      "OpenAI API Key: sk-dummy-key-for-local-testing\n",
      "OpenAI URL: http://host.docker.internal:11434\n"
     ]
    }
   ],
   "source": [
    "import os\n",
    "from dotenv import load_dotenv\n",
    "\n",
    "load_dotenv()\n",
    "\n",
    "WEAVIATE_KEY = os.getenv(\"WEAVIATE_KEY\")\n",
    "OPENAI_API_KEY = os.getenv(\"OPENAI_API_KEY\")\n",
    "OPENAI_URL = os.getenv(\"OPENAI_URL\")\n",
    "\n",
    "print(f\"Weaviate Key:{WEAVIATE_KEY}\")\n",
    "print(f\"OpenAI API Key: {OPENAI_API_KEY}\")\n",
    "print(f\"OpenAI URL: {OPENAI_URL}\")\n",
    "\n"
   ]
  },
  {
   "cell_type": "code",
   "execution_count": 2,
   "metadata": {},
   "outputs": [
    {
     "name": "stdout",
     "output_type": "stream",
     "text": [
      "True\n"
     ]
    }
   ],
   "source": [
    "import weaviate\n",
    "from weaviate.classes.init import Auth\n",
    "\n",
    "# Connect to the local instance\n",
    "client = weaviate.connect_to_local(\n",
    "  host=\"127.0.0.1\", # the address to the learner's instance\n",
    "  port=8080,\n",
    "  grpc_port=50051,\n",
    "  auth_credentials=Auth.api_key(WEAVIATE_KEY),\n",
    "  headers={\n",
    "    \"X-OpenAI-Api-Key\": OPENAI_API_KEY\n",
    "  }\n",
    ")\n",
    "\n",
    "print(client.is_ready())"
   ]
  },
  {
   "cell_type": "markdown",
   "metadata": {},
   "source": [
    "## Preview data"
   ]
  },
  {
   "cell_type": "code",
   "execution_count": 3,
   "metadata": {},
   "outputs": [
    {
     "name": "stdout",
     "output_type": "stream",
     "text": [
      "20231101.simple_63871_3\n",
      "Hilary Hahn\n",
      "By the age of sixteen, Hahn had completed the Curtis Institute's university requirements, but elected to remain at the Institute for several more years to pursue additional elective courses, until her graduation in May 1999 with a Bachelor Of Music degree. During this time she regularly coached violin with Jaime Laredo, and studied chamber music with Felix Galimir and Gary Graffman.  In an interview with PBS in December 2001, Hahn stated that of all the musical disciplines, she is most interested in musical performance (PBS Interview). \n",
      "\n",
      "20231101.simple_82005_22\n",
      "Wozzeck\n",
      "Another musical technique he uses is the leitmotif, in which particular characters or things are linked to particular themes or musical ideas.  This technique can be very useful to suggest certain things.  For example, there is a leitmotif for the earrings which the Drum major has given to Marie.  When the major makes love to Marie we hear this leitmotif.  The music makes us realize that he is not forcing her to love him but that she is willing.  In another place, the military music tells us that Marie is thinking of the Drum major. \n",
      "\n",
      "20231101.simple_514774_0\n",
      "Yamaha DX7\n",
      "Yamaha DX7 is a digital programmable musical synthesizer. It was first made and released in 1983. The Yamaha DX7 ROM-4A patch \"Synthbrass\" was heard in the Corey Hart song \"Sunglasses at Night\". \n",
      "\n",
      "20231101.simple_734058_0\n",
      "Taron Egerton\n",
      "Taron David Egerton (born 10 November 1989) is a Welsh actor. His movie credits include Kingsman: The Secret Service (2014), Testament of Youth (2014), Legend (2015), Eddie the Eagle (2016), Kingsman: The Golden Circle (2017) and Rocketman (2019). For his role as Elton John in Rocketman, he won the Golden Globe Award for Best Actor – Motion Picture Musical or Comedy. He has also appeared in the miniseries Watership Down (2018) and in the Apple TV+ film Tetris (2023). \n",
      "\n",
      "20231101.simple_203072_19\n",
      "Swan Lake\n",
      "John Warrack points out that Tchaikovsky put the drama in the story into music: \"By making B the key of the tragedy, he initiates a musical \"plot\" with the dark forces of Rothbart tending to drag the tonality down into flatter keys. The main action, on the other hand, lies on the key area of A.\" Tchaikovsky balanced all the musical components of the work. \"The divertissements are in his lightest, most appealing musical manner\", Warrack writes, \"The dances that further the plot have rather greater musical substance, while the scenes of narrative and action are in what was found his \"symphonic\" manner.\" Critics said Tchaikovsky's music was \"too noisy, too 'Wagnerian' and too symphonic\". \n",
      "\n"
     ]
    }
   ],
   "source": [
    "from weaviate.classes.query import Filter\n",
    "\n",
    "wikiQ = client.collections.get(\"WikiQ\")\n",
    "\n",
    "response = wikiQ.query.fetch_objects(\n",
    "    filters=Filter.by_property(\"text\").like(\"musical\"),\n",
    "    limit=5\n",
    ")\n",
    "\n",
    "for item in response.objects:\n",
    "    print(item.properties[\"wiki_id\"])\n",
    "    print(item.properties[\"title\"])\n",
    "    print(item.properties[\"text\"], '\\n')"
   ]
  },
  {
   "cell_type": "markdown",
   "metadata": {},
   "source": [
    "## Vector search"
   ]
  },
  {
   "cell_type": "code",
   "execution_count": 4,
   "metadata": {},
   "outputs": [
    {
     "ename": "WeaviateQueryError",
     "evalue": "Query call with protocol GRPC search failed with message explorer: get class: concurrentTargetVectorSearch): explorer: get class: vectorize search vector: vectorize params: vectorize params: vectorize keywords: remote client vectorize: cluster URL: no cluster URL found in request header: X-Weaviate-Cluster-Url.",
     "output_type": "error",
     "traceback": [
      "\u001b[0;31m---------------------------------------------------------------------------\u001b[0m",
      "\u001b[0;31m_InactiveRpcError\u001b[0m                         Traceback (most recent call last)",
      "File \u001b[0;32m~/Documents/weaviate/workshops/nato/weaviate-workshop/.venv/lib/python3.11/site-packages/weaviate/connect/v4.py:987\u001b[0m, in \u001b[0;36mConnectionSync.grpc_search\u001b[0;34m(self, request)\u001b[0m\n\u001b[1;32m    986\u001b[0m \u001b[38;5;28;01massert\u001b[39;00m \u001b[38;5;28mself\u001b[39m\u001b[38;5;241m.\u001b[39mgrpc_stub \u001b[38;5;129;01mis\u001b[39;00m \u001b[38;5;129;01mnot\u001b[39;00m \u001b[38;5;28;01mNone\u001b[39;00m\n\u001b[0;32m--> 987\u001b[0m res \u001b[38;5;241m=\u001b[39m \u001b[43m_Retry\u001b[49m\u001b[43m(\u001b[49m\u001b[38;5;241;43m4\u001b[39;49m\u001b[43m)\u001b[49m\u001b[38;5;241;43m.\u001b[39;49m\u001b[43mwith_exponential_backoff\u001b[49m\u001b[43m(\u001b[49m\n\u001b[1;32m    988\u001b[0m \u001b[43m    \u001b[49m\u001b[38;5;241;43m0\u001b[39;49m\u001b[43m,\u001b[49m\n\u001b[1;32m    989\u001b[0m \u001b[43m    \u001b[49m\u001b[38;5;124;43mf\u001b[39;49m\u001b[38;5;124;43m\"\u001b[39;49m\u001b[38;5;124;43mSearching in collection \u001b[39;49m\u001b[38;5;132;43;01m{\u001b[39;49;00m\u001b[43mrequest\u001b[49m\u001b[38;5;241;43m.\u001b[39;49m\u001b[43mcollection\u001b[49m\u001b[38;5;132;43;01m}\u001b[39;49;00m\u001b[38;5;124;43m\"\u001b[39;49m\u001b[43m,\u001b[49m\n\u001b[1;32m    990\u001b[0m \u001b[43m    \u001b[49m\u001b[38;5;28;43mself\u001b[39;49m\u001b[38;5;241;43m.\u001b[39;49m\u001b[43mgrpc_stub\u001b[49m\u001b[38;5;241;43m.\u001b[39;49m\u001b[43mSearch\u001b[49m\u001b[43m,\u001b[49m\n\u001b[1;32m    991\u001b[0m \u001b[43m    \u001b[49m\u001b[43mrequest\u001b[49m\u001b[43m,\u001b[49m\n\u001b[1;32m    992\u001b[0m \u001b[43m    \u001b[49m\u001b[43mmetadata\u001b[49m\u001b[38;5;241;43m=\u001b[39;49m\u001b[38;5;28;43mself\u001b[39;49m\u001b[38;5;241;43m.\u001b[39;49m\u001b[43mgrpc_headers\u001b[49m\u001b[43m(\u001b[49m\u001b[43m)\u001b[49m\u001b[43m,\u001b[49m\n\u001b[1;32m    993\u001b[0m \u001b[43m    \u001b[49m\u001b[43mtimeout\u001b[49m\u001b[38;5;241;43m=\u001b[39;49m\u001b[38;5;28;43mself\u001b[39;49m\u001b[38;5;241;43m.\u001b[39;49m\u001b[43mtimeout_config\u001b[49m\u001b[38;5;241;43m.\u001b[39;49m\u001b[43mquery\u001b[49m\u001b[43m,\u001b[49m\n\u001b[1;32m    994\u001b[0m \u001b[43m\u001b[49m\u001b[43m)\u001b[49m\n\u001b[1;32m    995\u001b[0m \u001b[38;5;28;01mreturn\u001b[39;00m cast(search_get_pb2\u001b[38;5;241m.\u001b[39mSearchReply, res)\n",
      "File \u001b[0;32m~/Documents/weaviate/workshops/nato/weaviate-workshop/.venv/lib/python3.11/site-packages/weaviate/retry.py:54\u001b[0m, in \u001b[0;36m_Retry.with_exponential_backoff\u001b[0;34m(self, count, error, f, *args, **kwargs)\u001b[0m\n\u001b[1;32m     53\u001b[0m \u001b[38;5;28;01mif\u001b[39;00m err\u001b[38;5;241m.\u001b[39mcode() \u001b[38;5;241m!=\u001b[39m StatusCode\u001b[38;5;241m.\u001b[39mUNAVAILABLE:\n\u001b[0;32m---> 54\u001b[0m     \u001b[38;5;28;01mraise\u001b[39;00m e\n\u001b[1;32m     55\u001b[0m logger\u001b[38;5;241m.\u001b[39minfo(\n\u001b[1;32m     56\u001b[0m     \u001b[38;5;124mf\u001b[39m\u001b[38;5;124m\"\u001b[39m\u001b[38;5;132;01m{\u001b[39;00merror\u001b[38;5;132;01m}\u001b[39;00m\u001b[38;5;124m received exception: \u001b[39m\u001b[38;5;132;01m{\u001b[39;00me\u001b[38;5;132;01m}\u001b[39;00m\u001b[38;5;124m. Retrying with exponential backoff in \u001b[39m\u001b[38;5;132;01m{\u001b[39;00m\u001b[38;5;241m2\u001b[39m\u001b[38;5;241m*\u001b[39m\u001b[38;5;241m*\u001b[39mcount\u001b[38;5;132;01m}\u001b[39;00m\u001b[38;5;124m seconds\u001b[39m\u001b[38;5;124m\"\u001b[39m\n\u001b[1;32m     57\u001b[0m )\n",
      "File \u001b[0;32m~/Documents/weaviate/workshops/nato/weaviate-workshop/.venv/lib/python3.11/site-packages/weaviate/retry.py:50\u001b[0m, in \u001b[0;36m_Retry.with_exponential_backoff\u001b[0;34m(self, count, error, f, *args, **kwargs)\u001b[0m\n\u001b[1;32m     49\u001b[0m \u001b[38;5;28;01mtry\u001b[39;00m:\n\u001b[0;32m---> 50\u001b[0m     \u001b[38;5;28;01mreturn\u001b[39;00m \u001b[43mf\u001b[49m\u001b[43m(\u001b[49m\u001b[38;5;241;43m*\u001b[39;49m\u001b[43margs\u001b[49m\u001b[43m,\u001b[49m\u001b[43m \u001b[49m\u001b[38;5;241;43m*\u001b[39;49m\u001b[38;5;241;43m*\u001b[39;49m\u001b[43mkwargs\u001b[49m\u001b[43m)\u001b[49m\n\u001b[1;32m     51\u001b[0m \u001b[38;5;28;01mexcept\u001b[39;00m RpcError \u001b[38;5;28;01mas\u001b[39;00m e:\n",
      "File \u001b[0;32m~/Documents/weaviate/workshops/nato/weaviate-workshop/.venv/lib/python3.11/site-packages/grpc/_channel.py:1181\u001b[0m, in \u001b[0;36m_UnaryUnaryMultiCallable.__call__\u001b[0;34m(self, request, timeout, metadata, credentials, wait_for_ready, compression)\u001b[0m\n\u001b[1;32m   1175\u001b[0m (\n\u001b[1;32m   1176\u001b[0m     state,\n\u001b[1;32m   1177\u001b[0m     call,\n\u001b[1;32m   1178\u001b[0m ) \u001b[38;5;241m=\u001b[39m \u001b[38;5;28mself\u001b[39m\u001b[38;5;241m.\u001b[39m_blocking(\n\u001b[1;32m   1179\u001b[0m     request, timeout, metadata, credentials, wait_for_ready, compression\n\u001b[1;32m   1180\u001b[0m )\n\u001b[0;32m-> 1181\u001b[0m \u001b[38;5;28;01mreturn\u001b[39;00m \u001b[43m_end_unary_response_blocking\u001b[49m\u001b[43m(\u001b[49m\u001b[43mstate\u001b[49m\u001b[43m,\u001b[49m\u001b[43m \u001b[49m\u001b[43mcall\u001b[49m\u001b[43m,\u001b[49m\u001b[43m \u001b[49m\u001b[38;5;28;43;01mFalse\u001b[39;49;00m\u001b[43m,\u001b[49m\u001b[43m \u001b[49m\u001b[38;5;28;43;01mNone\u001b[39;49;00m\u001b[43m)\u001b[49m\n",
      "File \u001b[0;32m~/Documents/weaviate/workshops/nato/weaviate-workshop/.venv/lib/python3.11/site-packages/grpc/_channel.py:1006\u001b[0m, in \u001b[0;36m_end_unary_response_blocking\u001b[0;34m(state, call, with_call, deadline)\u001b[0m\n\u001b[1;32m   1005\u001b[0m \u001b[38;5;28;01melse\u001b[39;00m:\n\u001b[0;32m-> 1006\u001b[0m     \u001b[38;5;28;01mraise\u001b[39;00m _InactiveRpcError(state)\n",
      "\u001b[0;31m_InactiveRpcError\u001b[0m: <_InactiveRpcError of RPC that terminated with:\n\tstatus = StatusCode.UNKNOWN\n\tdetails = \"explorer: get class: concurrentTargetVectorSearch): explorer: get class: vectorize search vector: vectorize params: vectorize params: vectorize keywords: remote client vectorize: cluster URL: no cluster URL found in request header: X-Weaviate-Cluster-Url\"\n\tdebug_error_string = \"UNKNOWN:Error received from peer  {created_time:\"2025-09-19T00:41:20.49725-05:00\", grpc_status:2, grpc_message:\"explorer: get class: concurrentTargetVectorSearch): explorer: get class: vectorize search vector: vectorize params: vectorize params: vectorize keywords: remote client vectorize: cluster URL: no cluster URL found in request header: X-Weaviate-Cluster-Url\"}\"\n>",
      "\nDuring handling of the above exception, another exception occurred:\n",
      "\u001b[0;31mWeaviateQueryError\u001b[0m                        Traceback (most recent call last)",
      "Cell \u001b[0;32mIn[4], line 3\u001b[0m\n\u001b[1;32m      1\u001b[0m wikiQ \u001b[38;5;241m=\u001b[39m client\u001b[38;5;241m.\u001b[39mcollections\u001b[38;5;241m.\u001b[39mget(\u001b[38;5;124m\"\u001b[39m\u001b[38;5;124mWikiQ\u001b[39m\u001b[38;5;124m\"\u001b[39m)\n\u001b[0;32m----> 3\u001b[0m response \u001b[38;5;241m=\u001b[39m \u001b[43mwikiQ\u001b[49m\u001b[38;5;241;43m.\u001b[39;49m\u001b[43mquery\u001b[49m\u001b[38;5;241;43m.\u001b[39;49m\u001b[43mnear_text\u001b[49m\u001b[43m(\u001b[49m\n\u001b[1;32m      4\u001b[0m \u001b[43m    \u001b[49m\u001b[43mquery\u001b[49m\u001b[38;5;241;43m=\u001b[39;49m\u001b[38;5;124;43m\"\u001b[39;49m\u001b[38;5;124;43mmusical instruments\u001b[39;49m\u001b[38;5;124;43m\"\u001b[39;49m\u001b[43m,\u001b[49m\n\u001b[1;32m      5\u001b[0m \u001b[43m    \u001b[49m\u001b[43mlimit\u001b[49m\u001b[38;5;241;43m=\u001b[39;49m\u001b[38;5;241;43m5\u001b[39;49m\n\u001b[1;32m      6\u001b[0m \u001b[43m)\u001b[49m\n\u001b[1;32m      8\u001b[0m \u001b[38;5;28;01mfor\u001b[39;00m item \u001b[38;5;129;01min\u001b[39;00m response\u001b[38;5;241m.\u001b[39mobjects:\n\u001b[1;32m      9\u001b[0m     \u001b[38;5;28mprint\u001b[39m(item\u001b[38;5;241m.\u001b[39mproperties)\n",
      "File \u001b[0;32m~/Documents/weaviate/workshops/nato/weaviate-workshop/.venv/lib/python3.11/site-packages/weaviate/collections/queries/near_text/query/executor.py:424\u001b[0m, in \u001b[0;36m_NearTextQueryExecutor.near_text\u001b[0;34m(self, query, certainty, distance, move_to, move_away, limit, offset, auto_limit, filters, group_by, rerank, target_vector, include_vector, return_metadata, return_properties, return_references)\u001b[0m\n\u001b[1;32m    391\u001b[0m     \u001b[38;5;28;01mreturn\u001b[39;00m cast(\n\u001b[1;32m    392\u001b[0m         Any,\n\u001b[1;32m    393\u001b[0m         \u001b[38;5;28mself\u001b[39m\u001b[38;5;241m.\u001b[39m_result_to_query_or_groupby_return(\n\u001b[0;32m   (...)\u001b[0m\n\u001b[1;32m    404\u001b[0m         ),\n\u001b[1;32m    405\u001b[0m     )\n\u001b[1;32m    407\u001b[0m request \u001b[38;5;241m=\u001b[39m \u001b[38;5;28mself\u001b[39m\u001b[38;5;241m.\u001b[39m_query\u001b[38;5;241m.\u001b[39mnear_text(\n\u001b[1;32m    408\u001b[0m     near_text\u001b[38;5;241m=\u001b[39mquery,\n\u001b[1;32m    409\u001b[0m     certainty\u001b[38;5;241m=\u001b[39mcertainty,\n\u001b[0;32m   (...)\u001b[0m\n\u001b[1;32m    422\u001b[0m     return_references\u001b[38;5;241m=\u001b[39m\u001b[38;5;28mself\u001b[39m\u001b[38;5;241m.\u001b[39m_parse_return_references(return_references),\n\u001b[1;32m    423\u001b[0m )\n\u001b[0;32m--> 424\u001b[0m \u001b[38;5;28;01mreturn\u001b[39;00m \u001b[43mexecutor\u001b[49m\u001b[38;5;241;43m.\u001b[39;49m\u001b[43mexecute\u001b[49m\u001b[43m(\u001b[49m\n\u001b[1;32m    425\u001b[0m \u001b[43m    \u001b[49m\u001b[43mresponse_callback\u001b[49m\u001b[38;5;241;43m=\u001b[39;49m\u001b[43mresp\u001b[49m\u001b[43m,\u001b[49m\n\u001b[1;32m    426\u001b[0m \u001b[43m    \u001b[49m\u001b[43mmethod\u001b[49m\u001b[38;5;241;43m=\u001b[39;49m\u001b[38;5;28;43mself\u001b[39;49m\u001b[38;5;241;43m.\u001b[39;49m\u001b[43m_connection\u001b[49m\u001b[38;5;241;43m.\u001b[39;49m\u001b[43mgrpc_search\u001b[49m\u001b[43m,\u001b[49m\n\u001b[1;32m    427\u001b[0m \u001b[43m    \u001b[49m\u001b[43mrequest\u001b[49m\u001b[38;5;241;43m=\u001b[39;49m\u001b[43mrequest\u001b[49m\u001b[43m,\u001b[49m\n\u001b[1;32m    428\u001b[0m \u001b[43m\u001b[49m\u001b[43m)\u001b[49m\n",
      "File \u001b[0;32m~/Documents/weaviate/workshops/nato/weaviate-workshop/.venv/lib/python3.11/site-packages/weaviate/connect/executor.py:99\u001b[0m, in \u001b[0;36mexecute\u001b[0;34m(method, response_callback, exception_callback, *args, **kwargs)\u001b[0m\n\u001b[1;32m     97\u001b[0m     \u001b[38;5;28;01mreturn\u001b[39;00m resp_call\n\u001b[1;32m     98\u001b[0m \u001b[38;5;28;01mexcept\u001b[39;00m \u001b[38;5;167;01mException\u001b[39;00m \u001b[38;5;28;01mas\u001b[39;00m e:\n\u001b[0;32m---> 99\u001b[0m     \u001b[38;5;28;01mreturn\u001b[39;00m cast(T, \u001b[43mexception_callback\u001b[49m\u001b[43m(\u001b[49m\u001b[43me\u001b[49m\u001b[43m)\u001b[49m)\n",
      "File \u001b[0;32m~/Documents/weaviate/workshops/nato/weaviate-workshop/.venv/lib/python3.11/site-packages/weaviate/connect/executor.py:38\u001b[0m, in \u001b[0;36mraise_exception\u001b[0;34m(e)\u001b[0m\n\u001b[1;32m     37\u001b[0m \u001b[38;5;28;01mdef\u001b[39;00m\u001b[38;5;250m \u001b[39m\u001b[38;5;21mraise_exception\u001b[39m(e: \u001b[38;5;167;01mException\u001b[39;00m) \u001b[38;5;241m-\u001b[39m\u001b[38;5;241m>\u001b[39m Any:\n\u001b[0;32m---> 38\u001b[0m     \u001b[38;5;28;01mraise\u001b[39;00m e\n",
      "File \u001b[0;32m~/Documents/weaviate/workshops/nato/weaviate-workshop/.venv/lib/python3.11/site-packages/weaviate/connect/executor.py:80\u001b[0m, in \u001b[0;36mexecute\u001b[0;34m(method, response_callback, exception_callback, *args, **kwargs)\u001b[0m\n\u001b[1;32m     71\u001b[0m \u001b[38;5;28;01mdef\u001b[39;00m\u001b[38;5;250m \u001b[39m\u001b[38;5;21mexecute\u001b[39m(\n\u001b[1;32m     72\u001b[0m     method: SyncOrAsyncMethod[P, R],\n\u001b[1;32m     73\u001b[0m     response_callback: SyncOrAsyncCallback[R, T, A],\n\u001b[0;32m   (...)\u001b[0m\n\u001b[1;32m     77\u001b[0m ) \u001b[38;5;241m-\u001b[39m\u001b[38;5;241m>\u001b[39m Union[T, Awaitable[T], Awaitable[A]]:\n\u001b[1;32m     78\u001b[0m     \u001b[38;5;66;03m# wrap method call in try-except to catch exceptions for sync method\u001b[39;00m\n\u001b[1;32m     79\u001b[0m     \u001b[38;5;28;01mtry\u001b[39;00m:\n\u001b[0;32m---> 80\u001b[0m         call \u001b[38;5;241m=\u001b[39m \u001b[43mmethod\u001b[49m\u001b[43m(\u001b[49m\u001b[38;5;241;43m*\u001b[39;49m\u001b[43margs\u001b[49m\u001b[43m,\u001b[49m\u001b[43m \u001b[49m\u001b[38;5;241;43m*\u001b[39;49m\u001b[38;5;241;43m*\u001b[39;49m\u001b[43mkwargs\u001b[49m\u001b[43m)\u001b[49m\n\u001b[1;32m     81\u001b[0m         \u001b[38;5;28;01mif\u001b[39;00m \u001b[38;5;28misinstance\u001b[39m(call, Awaitable):\n\u001b[1;32m     83\u001b[0m             \u001b[38;5;28;01masync\u001b[39;00m \u001b[38;5;28;01mdef\u001b[39;00m\u001b[38;5;250m \u001b[39m\u001b[38;5;21m_execute\u001b[39m() \u001b[38;5;241m-\u001b[39m\u001b[38;5;241m>\u001b[39m T:\n\u001b[1;32m     84\u001b[0m                 \u001b[38;5;66;03m# wrap await in try-except to catch exceptions for async method\u001b[39;00m\n",
      "File \u001b[0;32m~/Documents/weaviate/workshops/nato/weaviate-workshop/.venv/lib/python3.11/site-packages/weaviate/connect/v4.py:1000\u001b[0m, in \u001b[0;36mConnectionSync.grpc_search\u001b[0;34m(self, request)\u001b[0m\n\u001b[1;32m    998\u001b[0m     \u001b[38;5;28;01mif\u001b[39;00m error\u001b[38;5;241m.\u001b[39mcode() \u001b[38;5;241m==\u001b[39m StatusCode\u001b[38;5;241m.\u001b[39mPERMISSION_DENIED:\n\u001b[1;32m    999\u001b[0m         \u001b[38;5;28;01mraise\u001b[39;00m InsufficientPermissionsError(error)\n\u001b[0;32m-> 1000\u001b[0m     \u001b[38;5;28;01mraise\u001b[39;00m WeaviateQueryError(\u001b[38;5;28mstr\u001b[39m(error\u001b[38;5;241m.\u001b[39mdetails()), \u001b[38;5;124m\"\u001b[39m\u001b[38;5;124mGRPC search\u001b[39m\u001b[38;5;124m\"\u001b[39m)  \u001b[38;5;66;03m# pyright: ignore\u001b[39;00m\n\u001b[1;32m   1001\u001b[0m \u001b[38;5;28;01mexcept\u001b[39;00m WeaviateRetryError \u001b[38;5;28;01mas\u001b[39;00m e:\n\u001b[1;32m   1002\u001b[0m     \u001b[38;5;28;01mraise\u001b[39;00m WeaviateQueryError(\u001b[38;5;28mstr\u001b[39m(e), \u001b[38;5;124m\"\u001b[39m\u001b[38;5;124mGRPC search\u001b[39m\u001b[38;5;124m\"\u001b[39m)\n",
      "\u001b[0;31mWeaviateQueryError\u001b[0m: Query call with protocol GRPC search failed with message explorer: get class: concurrentTargetVectorSearch): explorer: get class: vectorize search vector: vectorize params: vectorize params: vectorize keywords: remote client vectorize: cluster URL: no cluster URL found in request header: X-Weaviate-Cluster-Url."
     ]
    }
   ],
   "source": [
    "wikiQ = client.collections.get(\"WikiQ\")\n",
    "\n",
    "response = wikiQ.query.near_text(\n",
    "    query=\"musical instruments\",\n",
    "    limit=5\n",
    ")\n",
    "\n",
    "for item in response.objects:\n",
    "    print(item.properties)"
   ]
  },
  {
   "cell_type": "markdown",
   "metadata": {},
   "source": [
    "> Have fun! Add your own queries."
   ]
  },
  {
   "cell_type": "markdown",
   "metadata": {},
   "source": [
    "## Close the client"
   ]
  },
  {
   "cell_type": "code",
   "execution_count": 5,
   "metadata": {},
   "outputs": [],
   "source": [
    "client.close()"
   ]
  }
 ],
 "metadata": {
  "kernelspec": {
   "display_name": ".venv (3.11.9)",
   "language": "python",
   "name": "python3"
  },
  "language_info": {
   "codemirror_mode": {
    "name": "ipython",
    "version": 3
   },
   "file_extension": ".py",
   "mimetype": "text/x-python",
   "name": "python",
   "nbconvert_exporter": "python",
   "pygments_lexer": "ipython3",
   "version": "3.11.9"
  }
 },
 "nbformat": 4,
 "nbformat_minor": 2
}
