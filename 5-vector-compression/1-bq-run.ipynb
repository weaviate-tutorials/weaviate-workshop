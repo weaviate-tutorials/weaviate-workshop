{
 "cells": [
  {
   "cell_type": "markdown",
   "metadata": {},
   "source": [
    "# BQ Compression – Load Data and compress vectors\n",
    "\n",
    "## Get keys and urls"
   ]
  },
  {
   "cell_type": "code",
   "execution_count": null,
   "metadata": {},
   "outputs": [],
   "source": [
    "import os\n",
    "from dotenv import load_dotenv\n",
    "\n",
    "load_dotenv()\n",
    "\n",
    "WEAVIATE_HTTP_URL = os.getenv(\"WEAVIATE_HTTP_URL\")\n",
    "WEAVIATE_GRPC_URL = os.getenv(\"WEAVIATE_GRPC_URL\")\n",
    "AZURE_BASE_URL = os.getenv(\"AZURE_BASE_URL\")\n",
    "AZURE_RESOURCE_NAME = os.getenv(\"AZURE_RESOURCE_NAME\")\n",
    "\n",
    "print(WEAVIATE_HTTP_URL)\n",
    "print(WEAVIATE_GRPC_URL)\n",
    "print(AZURE_BASE_URL)\n",
    "print(AZURE_RESOURCE_NAME)"
   ]
  },
  {
   "cell_type": "markdown",
   "metadata": {},
   "source": [
    "## Connect to Weaviate"
   ]
  },
  {
   "cell_type": "code",
   "execution_count": null,
   "metadata": {},
   "outputs": [],
   "source": [
    "import weaviate\n",
    "# from weaviate.classes.init import AdditionalConfig, Timeout\n",
    "\n",
    "client = weaviate.connect_to_custom(\n",
    "    http_host=WEAVIATE_HTTP_URL,\n",
    "    http_port=80,\n",
    "    http_secure=False,\n",
    "    grpc_host=WEAVIATE_GRPC_URL,\n",
    "    grpc_port=50051,\n",
    "    grpc_secure=False,\n",
    ")\n",
    "\n",
    "client.is_ready()"
   ]
  },
  {
   "cell_type": "markdown",
   "metadata": {},
   "source": [
    "## Create Collection with BQ configuration\n",
    "\n",
    "[Docs: Binary Quantization (BQ)](https://weaviate.io/developers/weaviate/configuration/compression/bq-compression)\n",
    "\n",
    "Note #1: Binary Quantization works from the first object added to the collection. No training required.\n",
    "\n",
    "Note #2: Binary Quantization works both with HNSW and Flat index."
   ]
  },
  {
   "cell_type": "code",
   "execution_count": null,
   "metadata": {},
   "outputs": [],
   "source": [
    "from weaviate.classes.config import Configure, VectorDistances\n",
    "\n",
    "client.collections.delete(\"WikiBQ\")\n",
    "\n",
    "# Create a collection here - with Cohere as a vectorizer\n",
    "client.collections.create(\n",
    "    name=\"WikiBQ\",\n",
    "\n",
    "    vectorizer_config=[\n",
    "        Configure.NamedVectors.text2vec_openai(\n",
    "            name=\"main_vector\",\n",
    "\n",
    "            model=\"text-embedding-3-small\",\n",
    "            base_url=openai_url,\n",
    "\n",
    "            source_properties=['title', 'text'],\n",
    "\n",
    "            # Configure BQ with flat vector index\n",
    "            vector_index_config=Configure.VectorIndex.flat(\n",
    "                distance_metric=VectorDistances.COSINE,\n",
    "                vector_cache_max_objects=100_000,\n",
    "                quantizer=Configure.VectorIndex.Quantizer.bq(\n",
    "                    rescore_limit=200,\n",
    "                    cache=True\n",
    "                )\n",
    "            ),\n",
    "\n",
    "            # HSNW example\n",
    "            # vector_index_config=Configure.VectorIndex.hsnw(\n",
    "            #     quantizer=Configure.VectorIndex.Quantizer.bq(\n",
    "            #         rescore_limit=200,\n",
    "            #         cache=True\n",
    "            #     )\n",
    "            # ),\n",
    "        )\n",
    "    ],\n",
    ")"
   ]
  },
  {
   "cell_type": "markdown",
   "metadata": {},
   "source": [
    "## The rest is the same"
   ]
  },
  {
   "cell_type": "code",
   "execution_count": null,
   "metadata": {},
   "outputs": [],
   "source": [
    "from data_loader import import_wiki_data\n",
    "import_wiki_data(client, \"WikiBQ\", 25000)"
   ]
  },
  {
   "cell_type": "code",
   "execution_count": null,
   "metadata": {},
   "outputs": [],
   "source": [
    "wikiBQ = client.collections.get(\"WikiBQ\")\n",
    "wikiBQ.aggregate.over_all()"
   ]
  },
  {
   "cell_type": "markdown",
   "metadata": {},
   "source": [
    "## Clean up"
   ]
  },
  {
   "cell_type": "code",
   "execution_count": null,
   "metadata": {},
   "outputs": [],
   "source": [
    "# client.collections.delete(\"WikiBQ\")"
   ]
  },
  {
   "cell_type": "markdown",
   "metadata": {},
   "source": [
    "## Close the client"
   ]
  },
  {
   "cell_type": "code",
   "execution_count": null,
   "metadata": {},
   "outputs": [],
   "source": [
    "client.close()"
   ]
  }
 ],
 "metadata": {
  "kernelspec": {
   "display_name": ".venv",
   "language": "python",
   "name": "python3"
  },
  "language_info": {
   "codemirror_mode": {
    "name": "ipython",
    "version": 3
   },
   "file_extension": ".py",
   "mimetype": "text/x-python",
   "name": "python",
   "nbconvert_exporter": "python",
   "pygments_lexer": "ipython3",
   "version": "3.11.8"
  }
 },
 "nbformat": 4,
 "nbformat_minor": 2
}
