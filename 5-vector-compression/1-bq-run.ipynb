{
 "cells": [
  {
   "cell_type": "markdown",
   "metadata": {},
   "source": [
    "# BQ Compression – Load Data and compress vectors\n",
    "\n",
    "## Get keys and urls"
   ]
  },
  {
   "cell_type": "code",
   "execution_count": 1,
   "metadata": {},
   "outputs": [
    {
     "name": "stdout",
     "output_type": "stream",
     "text": [
      "cwzujlbgtk\n",
      "L1FUbzRPaU\n"
     ]
    }
   ],
   "source": [
    "import os\n",
    "from dotenv import load_dotenv\n",
    "\n",
    "load_dotenv()\n",
    "\n",
    "WEAVIATE_URL = os.getenv(\"WEAVIATE_URL\")\n",
    "WEAVIATE_KEY = os.getenv(\"WEAVIATE_KEY\")\n",
    "\n",
    "print(WEAVIATE_URL[:10])\n",
    "print(WEAVIATE_KEY[:10])"
   ]
  },
  {
   "cell_type": "markdown",
   "metadata": {},
   "source": [
    "## Connect to Weaviate"
   ]
  },
  {
   "cell_type": "code",
   "execution_count": 2,
   "metadata": {},
   "outputs": [
    {
     "data": {
      "text/plain": [
       "True"
      ]
     },
     "execution_count": 2,
     "metadata": {},
     "output_type": "execute_result"
    }
   ],
   "source": [
    "import weaviate\n",
    "from weaviate.classes.init import Auth\n",
    "\n",
    "client = weaviate.connect_to_weaviate_cloud(\n",
    "    cluster_url=WEAVIATE_URL,\n",
    "    auth_credentials=Auth.api_key(WEAVIATE_KEY),\n",
    ")\n",
    "\n",
    "client.is_ready()"
   ]
  },
  {
   "cell_type": "markdown",
   "metadata": {},
   "source": [
    "## Create Collection with BQ configuration\n",
    "\n",
    "[Docs: Binary Quantization (BQ)](https://weaviate.io/developers/weaviate/configuration/compression/bq-compression)\n",
    "\n",
    "Note #1: Binary Quantization works from the first object added to the collection. No training required.\n",
    "\n",
    "Note #2: Binary Quantization works both with HNSW and Flat index."
   ]
  },
  {
   "cell_type": "code",
   "execution_count": 3,
   "metadata": {},
   "outputs": [
    {
     "data": {
      "text/plain": [
       "<weaviate.collections.collection.sync.Collection at 0x118f923d0>"
      ]
     },
     "execution_count": 3,
     "metadata": {},
     "output_type": "execute_result"
    }
   ],
   "source": [
    "from weaviate.classes.config import Configure, VectorDistances\n",
    "\n",
    "client.collections.delete(\"WikiQ\")\n",
    "\n",
    "# Create a collection here - with Cohere as a vectorizer\n",
    "client.collections.create(\n",
    "    name=\"WikiQ\",\n",
    "\n",
    "    vector_config=[\n",
    "        Configure.Vectors.text2vec_weaviate(\n",
    "            name=\"main_vector\",\n",
    "\n",
    "            model=\"Snowflake/snowflake-arctic-embed-l-v2.0\",\n",
    "            source_properties=['title', 'text'],\n",
    "\n",
    "            # Configure BQ with flat vector index\n",
    "            vector_index_config=Configure.VectorIndex.flat(\n",
    "                distance_metric=VectorDistances.COSINE,\n",
    "                vector_cache_max_objects=100_000,\n",
    "                quantizer=Configure.VectorIndex.Quantizer.bq(\n",
    "                    rescore_limit=200,\n",
    "                    cache=True\n",
    "                )\n",
    "            ),\n",
    "\n",
    "            # HSNW example\n",
    "            # vector_index_config=Configure.VectorIndex.hsnw(\n",
    "            #     quantizer=Configure.VectorIndex.Quantizer.bq(\n",
    "            #         rescore_limit=200,\n",
    "            #         cache=True\n",
    "            #     )\n",
    "            # ),\n",
    "        )\n",
    "    ],\n",
    ")"
   ]
  },
  {
   "cell_type": "markdown",
   "metadata": {},
   "source": [
    "## The rest is the same"
   ]
  },
  {
   "cell_type": "code",
   "execution_count": 4,
   "metadata": {},
   "outputs": [
    {
     "name": "stdout",
     "output_type": "stream",
     "text": [
      "Importing 25000 data items\n",
      "Loaded Dataset: 'parquet' - Config: 'default'\n"
     ]
    },
    {
     "name": "stderr",
     "output_type": "stream",
     "text": [
      "100%|█████████▉| 24999/25000 [00:21<00:00, 1182.17it/s]\n"
     ]
    },
    {
     "name": "stdout",
     "output_type": "stream",
     "text": [
      "Imported 25000 items\n",
      "-----------------------------------\n"
     ]
    }
   ],
   "source": [
    "from data_loader import import_wiki_data\n",
    "import_wiki_data(client, \"WikiQ\", 25000)"
   ]
  },
  {
   "cell_type": "code",
   "execution_count": 5,
   "metadata": {},
   "outputs": [
    {
     "data": {
      "text/plain": [
       "AggregateReturn(properties={}, total_count=22746)"
      ]
     },
     "execution_count": 5,
     "metadata": {},
     "output_type": "execute_result"
    }
   ],
   "source": [
    "wikiQ = client.collections.get(\"WikiQ\")\n",
    "wikiQ.aggregate.over_all()"
   ]
  },
  {
   "cell_type": "markdown",
   "metadata": {},
   "source": [
    "## Clean up"
   ]
  },
  {
   "cell_type": "code",
   "execution_count": null,
   "metadata": {},
   "outputs": [],
   "source": [
    "# client.collections.delete(\"WikiQ\")"
   ]
  },
  {
   "cell_type": "markdown",
   "metadata": {},
   "source": [
    "## Close the client"
   ]
  },
  {
   "cell_type": "code",
   "execution_count": 6,
   "metadata": {},
   "outputs": [],
   "source": [
    "client.close()"
   ]
  }
 ],
 "metadata": {
  "kernelspec": {
   "display_name": ".venv (3.11.9)",
   "language": "python",
   "name": "python3"
  },
  "language_info": {
   "codemirror_mode": {
    "name": "ipython",
    "version": 3
   },
   "file_extension": ".py",
   "mimetype": "text/x-python",
   "name": "python",
   "nbconvert_exporter": "python",
   "pygments_lexer": "ipython3",
   "version": "3.11.9"
  }
 },
 "nbformat": 4,
 "nbformat_minor": 2
}
