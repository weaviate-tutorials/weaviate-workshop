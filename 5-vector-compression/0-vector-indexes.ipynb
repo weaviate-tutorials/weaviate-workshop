{
 "cells": [
  {
   "cell_type": "markdown",
   "metadata": {},
   "source": [
    "# Vector Indexes\n",
    "\n",
    "## Get keys and urls"
   ]
  },
  {
   "cell_type": "code",
   "execution_count": null,
   "metadata": {},
   "outputs": [],
   "source": [
    "import os\n",
    "from dotenv import load_dotenv\n",
    "\n",
    "load_dotenv()\n",
    "\n",
    "WEAVIATE_URL = os.getenv(\"WEAVIATE_URL\")\n",
    "WEAVIATE_KEY = os.getenv(\"WEAVIATE_KEY\")\n",
    "\n",
    "print(WEAVIATE_URL)\n",
    "print(WEAVIATE_KEY)"
   ]
  },
  {
   "cell_type": "markdown",
   "metadata": {},
   "source": [
    "## Connect to Weaviate"
   ]
  },
  {
   "cell_type": "code",
   "execution_count": null,
   "metadata": {},
   "outputs": [],
   "source": [
    "import weaviate\n",
    "from weaviate.classes.init import Auth\n",
    "\n",
    "client = weaviate.connect_to_weaviate_cloud(\n",
    "    cluster_url=WEAVIATE_URL,\n",
    "    auth_credentials=Auth.api_key(WEAVIATE_KEY),\n",
    ")\n",
    "\n",
    "client.is_ready()"
   ]
  },
  {
   "cell_type": "markdown",
   "metadata": {},
   "source": [
    "## Collection with HNSW index (default)\n",
    "\n",
    "[HNSW params](https://weaviate.io/developers/weaviate/config-refs/schema/vector-index#hnsw-index-parameters)"
   ]
  },
  {
   "cell_type": "code",
   "execution_count": null,
   "metadata": {},
   "outputs": [],
   "source": [
    "from weaviate.classes.config import Configure, VectorDistances\n",
    "\n",
    "client.collections.delete(\"IndexExample\")\n",
    "\n",
    "# Create a collection here - with Cohere as a vectorizer\n",
    "client.collections.create(\n",
    "    name=\"IndexExample\",\n",
    "\n",
    "    vectorizer_config=[\n",
    "        Configure.NamedVectors.text2vec_openai(\n",
    "            name=\"main_vector\",\n",
    "\n",
    "            model=\"text-embedding-3-small\",\n",
    "            source_properties=['title', 'text'],\n",
    "\n",
    "            # HSNW example \n",
    "            vector_index_config=Configure.VectorIndex.hnsw()\n",
    "        )\n",
    "    ],\n",
    ")"
   ]
  },
  {
   "cell_type": "markdown",
   "metadata": {},
   "source": [
    "## Collection with Flat index\n",
    "\n",
    "[Flat params](https://weaviate.io/developers/weaviate/config-refs/schema/vector-index#flat-indexes)"
   ]
  },
  {
   "cell_type": "code",
   "execution_count": null,
   "metadata": {},
   "outputs": [],
   "source": [
    "from weaviate.classes.config import Configure, VectorDistances\n",
    "\n",
    "client.collections.delete(\"IndexExample\")\n",
    "\n",
    "# Create a collection here - with Cohere as a vectorizer\n",
    "client.collections.create(\n",
    "    name=\"IndexExample\",\n",
    "\n",
    "    vectorizer_config=[\n",
    "        Configure.NamedVectors.text2vec_openai(\n",
    "            name=\"main_vector\",\n",
    "\n",
    "            model=\"text-embedding-3-small\",\n",
    "            source_properties=['title', 'text'],\n",
    "\n",
    "            # Flat example\n",
    "            vector_index_config=Configure.VectorIndex.flat(\n",
    "                # distance_metric=VectorDistances.COSINE, # optional\n",
    "                vector_cache_max_objects=100_000,\n",
    "            ),\n",
    "        ),\n",
    "    ],\n",
    ")"
   ]
  },
  {
   "cell_type": "markdown",
   "metadata": {},
   "source": [
    "## Collection with Dynamic index\n",
    "\n",
    "[Dynamic params](https://weaviate.io/developers/weaviate/config-refs/schema/vector-index#dynamic-index-parameters)"
   ]
  },
  {
   "cell_type": "code",
   "execution_count": null,
   "metadata": {},
   "outputs": [],
   "source": [
    "from weaviate.classes.config import Configure\n",
    "\n",
    "client.collections.delete(\"IndexExample\")\n",
    "\n",
    "# Create a collection here - with Cohere as a vectorizer\n",
    "client.collections.create(\n",
    "    name=\"IndexExample\",\n",
    "\n",
    "    vectorizer_config=[\n",
    "        Configure.NamedVectors.text2vec_openai(\n",
    "            name=\"main_vector\",\n",
    "\n",
    "            model=\"text-embedding-3-small\",\n",
    "            source_properties=['title', 'text'],\n",
    "\n",
    "            # Dynamic example\n",
    "            vector_index_config=Configure.VectorIndex.dynamic(\n",
    "                threshold=10_000, # when to switch to HNSW\n",
    "\n",
    "                flat=Configure.VectorIndex.flat(\n",
    "                    vector_cache_max_objects=100_000,\n",
    "                    # note: can also include a quantizer\n",
    "                    quantizer=Configure.VectorIndex.Quantizer.bq()\n",
    "                ),\n",
    "\n",
    "                hnsw=Configure.VectorIndex.hnsw(\n",
    "                    max_connections=32, # optional\n",
    "                    # note: the quantizer can be different between flat and hnsw\n",
    "                    quantizer=Configure.VectorIndex.Quantizer.pq()\n",
    "                ),\n",
    "            ),\n",
    "        )\n",
    "    ],\n",
    ")"
   ]
  },
  {
   "cell_type": "markdown",
   "metadata": {},
   "source": [
    "## The rest is the same"
   ]
  },
  {
   "cell_type": "code",
   "execution_count": null,
   "metadata": {},
   "outputs": [],
   "source": [
    "# comment this out if you want to import 25k objects to your collection to test it\n",
    "# from data_loader import import_wiki_data\n",
    "# import_wiki_data(client, \"IndexExample\", 25_000)"
   ]
  },
  {
   "cell_type": "code",
   "execution_count": null,
   "metadata": {},
   "outputs": [],
   "source": [
    "# index_example = client.collections.get(\"IndexExample\")\n",
    "# index_example.aggregate.over_all()"
   ]
  },
  {
   "cell_type": "markdown",
   "metadata": {},
   "source": [
    "## Clean up"
   ]
  },
  {
   "cell_type": "code",
   "execution_count": null,
   "metadata": {},
   "outputs": [],
   "source": [
    "client.collections.delete(\"IndexExample\")"
   ]
  },
  {
   "cell_type": "markdown",
   "metadata": {},
   "source": [
    "## Close the client"
   ]
  },
  {
   "cell_type": "code",
   "execution_count": null,
   "metadata": {},
   "outputs": [],
   "source": [
    "client.close()"
   ]
  }
 ],
 "metadata": {
  "kernelspec": {
   "display_name": ".venv",
   "language": "python",
   "name": "python3"
  },
  "language_info": {
   "codemirror_mode": {
    "name": "ipython",
    "version": 3
   },
   "file_extension": ".py",
   "mimetype": "text/x-python",
   "name": "python",
   "nbconvert_exporter": "python",
   "pygments_lexer": "ipython3",
   "version": "3.11.8"
  }
 },
 "nbformat": 4,
 "nbformat_minor": 2
}
