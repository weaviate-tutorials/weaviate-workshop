{
 "cells": [
  {
   "cell_type": "markdown",
   "metadata": {},
   "source": [
    "> Keys will be provided during the workshop"
   ]
  },
  {
   "cell_type": "code",
   "execution_count": null,
   "metadata": {},
   "outputs": [],
   "source": [
    "%env WIKI_DEMO_URL=\n",
    "%env WIKI_DEMO_KEY_READ="
   ]
  },
  {
   "cell_type": "code",
   "execution_count": null,
   "metadata": {},
   "outputs": [],
   "source": [
    "import weaviate, os\n",
    "\n",
    "client = weaviate.connect_to_wcs(\n",
    "    cluster_url=os.getenv(\"WIKI_DEMO_URL\"),\n",
    "    auth_credentials=weaviate.auth.AuthApiKey(os.getenv(\"WIKI_DEMO_KEY_READ\")),\n",
    "\n",
    "    headers={\n",
    "        \"X-OpenAI-Api-Key\": os.getenv(\"OPENAI_API_KEY\"),\n",
    "        \"X-Cohere-Api-Key\": os.getenv(\"COHERE_API_KEY\"),\n",
    "    }\n",
    ")\n",
    "\n",
    "client.is_ready()"
   ]
  },
  {
   "cell_type": "code",
   "execution_count": null,
   "metadata": {},
   "outputs": [],
   "source": [
    "wiki = client.collections.get(\"Wikipedia\")\n",
    "\n",
    "response = wiki.query.near_text(\n",
    "    query=\"How do planes fly\",\n",
    "    limit=5,\n",
    "    return_properties=[\"text\", \"title\"]\n",
    ")\n",
    "\n",
    "for item in response.objects:\n",
    "    print(item.properties)"
   ]
  },
  {
   "cell_type": "code",
   "execution_count": null,
   "metadata": {},
   "outputs": [],
   "source": [
    "wiki = client.collections.get(\"Wikipedia\")\n",
    "\n",
    "response = wiki.generate.near_text(\n",
    "    query=\"How do planes fly\",\n",
    "    # auto_limit=1,\n",
    "    limit=5,\n",
    "    single_prompt=\"Explain what this is about? {text}\"\n",
    ")\n",
    "\n",
    "print(\"=== Source ===\")\n",
    "for item in response.objects:\n",
    "    print(item.properties)\n",
    "    print(item.generated)"
   ]
  },
  {
   "cell_type": "code",
   "execution_count": null,
   "metadata": {},
   "outputs": [],
   "source": [
    "wiki = client.collections.get(\"Wikipedia\")\n",
    "\n",
    "response = wiki.generate.near_text(\n",
    "    query=\"How do planes fly\",\n",
    "    # auto_limit=1,\n",
    "    limit=5,\n",
    "    grouped_task=\"Explain, how do planes fly? Please only use the provided content.\"\n",
    ")\n",
    "\n",
    "print(\"=== Generated Response ===\")\n",
    "print(response.generated)\n",
    "\n",
    "print(\"=== Source ===\")\n",
    "for item in response.objects:\n",
    "    print(item.properties)"
   ]
  },
  {
   "cell_type": "code",
   "execution_count": null,
   "metadata": {},
   "outputs": [],
   "source": [
    "wiki = client.collections.get(\"Wikipedia\")\n",
    "\n",
    "response = wiki.generate.near_text(\n",
    "    query=\"How do planes fly\",\n",
    "    auto_limit=1,\n",
    "    grouped_task=\"Explain, how do planes fly? Please only use the provided content.\",\n",
    "    grouped_properties=[\"text\", \"title\"]\n",
    ")\n",
    "\n",
    "print(\"=== Generated Response ===\")\n",
    "print(response.generated)\n",
    "\n",
    "print(\"=== Source ===\")\n",
    "for item in response.objects:\n",
    "    print(item.properties)"
   ]
  }
 ],
 "metadata": {
  "kernelspec": {
   "display_name": ".venv",
   "language": "python",
   "name": "python3"
  },
  "language_info": {
   "codemirror_mode": {
    "name": "ipython",
    "version": 3
   },
   "file_extension": ".py",
   "mimetype": "text/x-python",
   "name": "python",
   "nbconvert_exporter": "python",
   "pygments_lexer": "ipython3",
   "version": "3.11.8"
  }
 },
 "nbformat": 4,
 "nbformat_minor": 2
}
