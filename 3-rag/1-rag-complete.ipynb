{
 "cells": [
  {
   "cell_type": "markdown",
   "metadata": {},
   "source": [
    "# RAG - How to query"
   ]
  },
  {
   "cell_type": "code",
   "execution_count": null,
   "metadata": {},
   "outputs": [],
   "source": [
    "import os\n",
    "from dotenv import load_dotenv\n",
    "\n",
    "load_dotenv()\n",
    "\n",
    "weaviate_url = os.getenv(\"WEAVIATE_URL\")\n",
    "openai_key = os.getenv(\"OPENAI_API_KEY\")\n",
    "openai_url = os.getenv(\"OPENAI_URL\")\n",
    "\n",
    "print(weaviate_url, openai_key, openai_url)"
   ]
  },
  {
   "cell_type": "markdown",
   "metadata": {},
   "source": [
    "## Connect to Weaviate"
   ]
  },
  {
   "cell_type": "code",
   "execution_count": null,
   "metadata": {},
   "outputs": [],
   "source": [
    "import weaviate\n",
    "\n",
    "client = weaviate.connect_to_local(\n",
    "    host=weaviate_url,\n",
    "    headers={\n",
    "        \"X-OpenAI-Api-Key\": openai_key,\n",
    "    }\n",
    ")\n",
    "\n",
    "client.is_ready()"
   ]
  },
  {
   "cell_type": "markdown",
   "metadata": {},
   "source": [
    "### Start with (R) - Retrieval"
   ]
  },
  {
   "cell_type": "code",
   "execution_count": 6,
   "metadata": {},
   "outputs": [
    {
     "name": "stdout",
     "output_type": "stream",
     "text": [
      "{'text': 'There are a number of ways of explaining the production of lift; some are more complicated than others, some have been shown to be false. The simplest explanation is that the wing deflects air downward, and the reaction pushes the wing up.', 'title': 'Lift (force)'}\n",
      "{'text': 'At very high speeds, objects that are inside the atmosphere become very hot. This can cause the previously mentioned boundary layer of the plane to expand. When the boundary layer expands, the aircraft gets even hotter. Put simply, planes moving extremely fast experience lots and lots of drag and get very very hot. This process is caused by the viscosity of air, which is why this is called \"viscous interaction.\"', 'title': 'Hypersonic speed'}\n",
      "{'text': 'Anderson, David F. and Scott Eberhardt. Understanding Flight. Chicago: McGraw Hill Professional, 2009. .', 'title': 'Boeing 737'}\n",
      "{'text': 'A paper plane is a toy airplane made from paper. The paper is folded in a certain way so that the folded paper actually glides. This is a form of origami; the Japanese art of paper folding. Paper planes were used originally for testing real airplanes. Today the making of paper planes is a hobby and a craft.', 'title': 'Paper plane'}\n",
      "{'text': 'Airplanes can measure their windspeed easily (how fast they are going through the air), but not how fast they are moving over the land (called ground speed).  A head wind, tail wind, or cross wind changes the ground speed.  If the altitude of the plane is known, then the ground speed can be found by timing how fast the plane goes past an object on the ground.  (The higher you are, the slower the ground seems to move).  A window on the floor of the airplane can be used to find the ground speed and the drift of the airplane.', 'title': 'Dead reckoning'}\n"
     ]
    }
   ],
   "source": [
    "wiki = client.collections.get(\"Wiki\")\n",
    "\n",
    "response = wiki.query.near_text(\n",
    "    query=\"How do planes fly\",\n",
    "    limit=5,\n",
    "    return_properties=[\"text\", \"title\"]\n",
    ")\n",
    "\n",
    "for item in response.objects:\n",
    "    print(item.properties)"
   ]
  },
  {
   "cell_type": "markdown",
   "metadata": {},
   "source": [
    "### Add (AG) - augmented generation - to make full RAG"
   ]
  },
  {
   "cell_type": "markdown",
   "metadata": {},
   "source": [
    "#### Single Prompt\n",
    "\n",
    "> Generate a response per **retrieved** object."
   ]
  },
  {
   "cell_type": "code",
   "execution_count": 7,
   "metadata": {},
   "outputs": [
    {
     "name": "stdout",
     "output_type": "stream",
     "text": [
      "=== Source ===\n",
      "{'text': 'There are a number of ways of explaining the production of lift; some are more complicated than others, some have been shown to be false. The simplest explanation is that the wing deflects air downward, and the reaction pushes the wing up.', 'title': 'Lift (force)', 'wiki_id': '20231101.simple_45913_3', 'url': 'https://simple.wikipedia.org/wiki/Lift%20%28force%29'}\n",
      "This passage is about the physics of how an airplane wing, or airfoil, generates lift, which is the force that allows the plane to rise and stay in the air. The simplest explanation given is based on Newton's third law of motion: for every action, there is an equal and opposite reaction. So\n",
      "{'text': 'At very high speeds, objects that are inside the atmosphere become very hot. This can cause the previously mentioned boundary layer of the plane to expand. When the boundary layer expands, the aircraft gets even hotter. Put simply, planes moving extremely fast experience lots and lots of drag and get very very hot. This process is caused by the viscosity of air, which is why this is called \"viscous interaction.\"', 'title': 'Hypersonic speed', 'wiki_id': '20231101.simple_99736_4', 'url': 'https://simple.wikipedia.org/wiki/Hypersonic%20speed'}\n",
      "This passage is about the phenomenon of viscous interaction, which occurs when an aircraft moves at very high speeds within the atmosphere. The friction caused by the air's viscosity generates heat, causing the boundary layer of the plane to expand and the aircraft to become even hotter. This also results in increased drag, which can affect the aircraft's performance.\n",
      "{'text': 'Anderson, David F. and Scott Eberhardt. Understanding Flight. Chicago: McGraw Hill Professional, 2009. .', 'title': 'Boeing 737', 'wiki_id': '20231101.simple_19638_56', 'url': 'https://simple.wikipedia.org/wiki/Boeing%20737'}\n",
      "\"Understanding Flight\" is a book written by David F. Anderson and Scott Eberhardt. Published by McGraw Hill Professional in 2009, the book provides an in-depth explanation of the principles\n",
      "{'text': 'A paper plane is a toy airplane made from paper. The paper is folded in a certain way so that the folded paper actually glides. This is a form of origami; the Japanese art of paper folding. Paper planes were used originally for testing real airplanes. Today the making of paper planes is a hobby and a craft.', 'title': 'Paper plane', 'wiki_id': '20231101.simple_453492_0', 'url': 'https://simple.wikipedia.org/wiki/Paper%20plane'}\n",
      "This passage is about paper planes, which are toy airplanes made from folded paper. It explains that the creation of paper planes is a form of origami, a Japanese art form that involves folding paper into various shapes. The passage also mentions that paper planes were originally used for testing real airplanes, but are now primarily made as a hobby or craft.\n",
      "{'text': 'Airplanes can measure their windspeed easily (how fast they are going through the air), but not how fast they are moving over the land (called ground speed).  A head wind, tail wind, or cross wind changes the ground speed.  If the altitude of the plane is known, then the ground speed can be found by timing how fast the plane goes past an object on the ground.  (The higher you are, the slower the ground seems to move).  A window on the floor of the airplane can be used to find the ground speed and the drift of the airplane.', 'title': 'Dead reckoning', 'wiki_id': '20231101.simple_394343_4', 'url': 'https://simple.wikipedia.org/wiki/Dead%20reckoning'}\n",
      "This passage is about how airplanes measure their speed. While they can easily measure their airspeed (the speed at which they're moving through the air), determining their ground speed (the speed at which they're moving over the land) is more challenging. Factors like headwinds, tailwinds, and crosswinds can affect ground speed. One way to determine ground speed is by timing how quickly the plane passes a fixed object on the ground, a method that requires knowing the plane's altitude. The passage also suggests that a window on the floor of the airplane could be used to help determine ground speed and the plane's drift (its deviation from its intended course\n"
     ]
    }
   ],
   "source": [
    "wiki = client.collections.get(\"Wiki\")\n",
    "\n",
    "response = wiki.generate.near_text(\n",
    "    query=\"How do planes fly\",\n",
    "    # auto_limit=1,\n",
    "    limit=5,\n",
    "    single_prompt=\"Explain what this is about? {text}\"\n",
    ")\n",
    "\n",
    "print(\"=== Source ===\")\n",
    "for item in response.objects:\n",
    "    print(item.properties)\n",
    "    print(item.generated)"
   ]
  },
  {
   "cell_type": "markdown",
   "metadata": {},
   "source": [
    "#### Grouped Task\n",
    "\n",
    "> Generate one response based on all **retrieved** objects."
   ]
  },
  {
   "cell_type": "code",
   "execution_count": null,
   "metadata": {},
   "outputs": [],
   "source": [
    "wiki = client.collections.get(\"Wiki\")\n",
    "\n",
    "response = wiki.generate.near_text(\n",
    "    query=\"How do planes fly\",\n",
    "    # auto_limit=1,\n",
    "    limit=5,\n",
    "    grouped_task=\"Explain, how do planes fly? Please only use the provided content.\"\n",
    ")\n",
    "\n",
    "print(\"=== Generated Response ===\")\n",
    "print(response.generated)\n",
    "\n",
    "print(\"=== Source ===\")\n",
    "for item in response.objects:\n",
    "    print(item.properties)"
   ]
  },
  {
   "cell_type": "markdown",
   "metadata": {},
   "source": [
    "#### Specify which properties to use for grouped task"
   ]
  },
  {
   "cell_type": "code",
   "execution_count": 8,
   "metadata": {},
   "outputs": [
    {
     "name": "stdout",
     "output_type": "stream",
     "text": [
      "=== Generated Response ===\n",
      "Planes fly primarily due to a force called lift. The simplest explanation of lift is that the wing of the plane deflects air downward, and the reaction pushes the wing up, allowing the plane to ascend. This process is more complex at very high speeds. When a plane is moving extremely fast, it experiences a lot of drag and gets very hot. This is due to a process called \"viscous interaction,\" caused by the viscosity of air. The boundary layer of the plane expands due to the heat, making the aircraft even hotter. This principle of flight was initially tested using paper planes, which are folded in a specific way to glide through the air. Today, the making of paper planes is a hobby and a craft, but the principles behind their flight are the same as those that allow real planes to fly.\n",
      "=== Source ===\n",
      "{'text': 'There are a number of ways of explaining the production of lift; some are more complicated than others, some have been shown to be false. The simplest explanation is that the wing deflects air downward, and the reaction pushes the wing up.', 'title': 'Lift (force)', 'wiki_id': '20231101.simple_45913_3', 'url': 'https://simple.wikipedia.org/wiki/Lift%20%28force%29'}\n",
      "{'text': 'At very high speeds, objects that are inside the atmosphere become very hot. This can cause the previously mentioned boundary layer of the plane to expand. When the boundary layer expands, the aircraft gets even hotter. Put simply, planes moving extremely fast experience lots and lots of drag and get very very hot. This process is caused by the viscosity of air, which is why this is called \"viscous interaction.\"', 'title': 'Hypersonic speed', 'wiki_id': '20231101.simple_99736_4', 'url': 'https://simple.wikipedia.org/wiki/Hypersonic%20speed'}\n",
      "{'text': 'Anderson, David F. and Scott Eberhardt. Understanding Flight. Chicago: McGraw Hill Professional, 2009. .', 'title': 'Boeing 737', 'wiki_id': '20231101.simple_19638_56', 'url': 'https://simple.wikipedia.org/wiki/Boeing%20737'}\n",
      "{'text': 'A paper plane is a toy airplane made from paper. The paper is folded in a certain way so that the folded paper actually glides. This is a form of origami; the Japanese art of paper folding. Paper planes were used originally for testing real airplanes. Today the making of paper planes is a hobby and a craft.', 'title': 'Paper plane', 'wiki_id': '20231101.simple_453492_0', 'url': 'https://simple.wikipedia.org/wiki/Paper%20plane'}\n"
     ]
    }
   ],
   "source": [
    "wiki = client.collections.get(\"Wiki\")\n",
    "\n",
    "response = wiki.generate.near_text(\n",
    "    query=\"How do planes fly\",\n",
    "    auto_limit=1,\n",
    "    grouped_task=\"Explain, how do planes fly? Please only use the provided content.\",\n",
    "    grouped_properties=[\"text\", \"title\"]\n",
    ")\n",
    "\n",
    "print(\"=== Generated Response ===\")\n",
    "print(response.generated)\n",
    "\n",
    "print(\"=== Source ===\")\n",
    "for item in response.objects:\n",
    "    print(item.properties)"
   ]
  },
  {
   "cell_type": "markdown",
   "metadata": {},
   "source": [
    "## Close the client"
   ]
  },
  {
   "cell_type": "code",
   "execution_count": null,
   "metadata": {},
   "outputs": [],
   "source": [
    "client.close()"
   ]
  }
 ],
 "metadata": {
  "kernelspec": {
   "display_name": ".venv",
   "language": "python",
   "name": "python3"
  },
  "language_info": {
   "codemirror_mode": {
    "name": "ipython",
    "version": 3
   },
   "file_extension": ".py",
   "mimetype": "text/x-python",
   "name": "python",
   "nbconvert_exporter": "python",
   "pygments_lexer": "ipython3",
   "version": "3.11.8"
  }
 },
 "nbformat": 4,
 "nbformat_minor": 2
}
