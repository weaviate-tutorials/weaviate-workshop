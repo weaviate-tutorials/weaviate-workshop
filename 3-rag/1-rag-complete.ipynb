{
 "cells": [
  {
   "cell_type": "markdown",
   "metadata": {},
   "source": [
    "> Keys will be provided during the workshop"
   ]
  },
  {
   "cell_type": "code",
   "execution_count": null,
   "metadata": {},
   "outputs": [],
   "source": [
    "import os\n",
    "from dotenv import load_dotenv\n",
    "\n",
    "load_dotenv()\n",
    "\n",
    "cohere_api_key = os.getenv(\"COHERE_API_KEY\")\n",
    "openai_api_key = os.getenv(\"OPENAI_API_KEY\")\n",
    "weaviate_cloud_url = os.getenv(\"WIKI_DEMO_URL\")\n",
    "weaviate_cloud_key = os.getenv(\"WIKI_DEMO_KEY_READ\")"
   ]
  },
  {
   "cell_type": "code",
   "execution_count": 2,
   "metadata": {},
   "outputs": [
    {
     "data": {
      "text/plain": [
       "True"
      ]
     },
     "execution_count": 2,
     "metadata": {},
     "output_type": "execute_result"
    }
   ],
   "source": [
    "import weaviate, os\n",
    "\n",
    "client = weaviate.connect_to_weaviate_cloud(\n",
    "    cluster_url=weaviate_cloud_url,\n",
    "    auth_credentials=weaviate.auth.AuthApiKey(weaviate_cloud_key),\n",
    "\n",
    "    headers={\n",
    "        \"X-OpenAI-Api-Key\": openai_api_key,\n",
    "        \"X-Cohere-Api-Key\": cohere_api_key,\n",
    "    }\n",
    ")\n",
    "\n",
    "client.is_ready()"
   ]
  },
  {
   "cell_type": "code",
   "execution_count": 3,
   "metadata": {},
   "outputs": [
    {
     "name": "stdout",
     "output_type": "stream",
     "text": [
      "{'text': \"Engines push the plane forward.  This makes air flow over the wings, which makes the plane fly.  Some planes have propellers that the engine turns.  Others have jet engines.  Some fixed-wing aircraft, such as gliders, don't have engines. Instead they use gravity to give them forward speed.\", 'title': 'Fixed-wing aircraft'}\n",
      "{'text': \"The wings are the most important part because they are what makes the plane fly. The wings create a force called lift that goes against gravity which makes the plane get off the ground. When air flows around the wing (which happens when the plane moves forward) the wing pushes air down, which in turn pushes the plane up. Lift can also be explained using Bernoulli's principle; since wings are designed so that air goes faster on the top of the wing than on the bottom, the higher pressure on the bottom will push the plane up.  Some wings have panels on the back called flaps. Flaps can be extended to make the wing bigger. This makes the wing make more lift, but also more drag. This lets the plane fly slower without stalling, so flaps are often used during takeoff and landing.\", 'title': 'Fixed-wing aircraft'}\n",
      "{'text': \"The wings of a fixed-wing aircraft are static planes extending either side of the aircraft. When the aircraft travels forwards, air flows over the wings, which are shaped to create lift. This shape is called an airfoil and is shaped like a bird's wing.\", 'title': 'Airplane'}\n",
      "{'text': 'Airplanes also have wings. Those wings cannot be moved; they are stable, but the wings also produce lift, so the airplane will get off the ground if you move it fast enough.', 'title': 'Wing'}\n",
      "{'text': \"of the ground and moves because of its rotors. A rotor is several small wings, called rotor blades, that spin together around a shaft. For that reason, helicopters are sometimes called rotary-wing aircraft. A helicopter flies differently from an airplane. An airplane must move forward to stay in the air, but because the helicopter's rotor blades are always moving, the helicopter can stop and stay in one place above the ground. Not needing a runway, they can land in places where an airplane cannot. Helicopters can move by tilting their rotor blades, which causes the aircraft to fly in the direction the blades are tilted.\", 'title': 'Helicopter'}\n"
     ]
    }
   ],
   "source": [
    "wiki = client.collections.get(\"Wikipedia\")\n",
    "\n",
    "response = wiki.query.near_text(\n",
    "    query=\"How do planes fly\",\n",
    "    limit=5,\n",
    "    return_properties=[\"text\", \"title\"]\n",
    ")\n",
    "\n",
    "for item in response.objects:\n",
    "    print(item.properties)"
   ]
  },
  {
   "cell_type": "code",
   "execution_count": 4,
   "metadata": {},
   "outputs": [
    {
     "name": "stdout",
     "output_type": "stream",
     "text": [
      "=== Source ===\n",
      "{'text': \"Engines push the plane forward.  This makes air flow over the wings, which makes the plane fly.  Some planes have propellers that the engine turns.  Others have jet engines.  Some fixed-wing aircraft, such as gliders, don't have engines. Instead they use gravity to give them forward speed.\", 'title': 'Fixed-wing aircraft', 'url': 'https://simple.wikipedia.org/wiki/Fixed-wing%20aircraft'}\n",
      "This passage is about how different types of airplanes achieve flight. It explains that engines, whether they are propeller-based or jet engines, push the plane forward, causing air to flow over the wings and lift the plane. It also mentions that some aircraft, like gliders, do not have engines and instead use gravity to move forward.\n",
      "{'text': \"The wings are the most important part because they are what makes the plane fly. The wings create a force called lift that goes against gravity which makes the plane get off the ground. When air flows around the wing (which happens when the plane moves forward) the wing pushes air down, which in turn pushes the plane up. Lift can also be explained using Bernoulli's principle; since wings are designed so that air goes faster on the top of the wing than on the bottom, the higher pressure on the bottom will push the plane up.  Some wings have panels on the back called flaps. Flaps can be extended to make the wing bigger. This makes the wing make more lift, but also more drag. This lets the plane fly slower without stalling, so flaps are often used during takeoff and landing.\", 'title': 'Fixed-wing aircraft', 'url': 'https://simple.wikipedia.org/wiki/Fixed-wing%20aircraft'}\n",
      "This passage is about the function and importance of wings in an airplane. It explains how wings create lift, a force that counteracts gravity and allows the plane to ascend. This lift is created when air flows around the wing as the plane moves forward, pushing the plane upwards. The passage also mentions Bernoulli's principle, which explains that the design of the wing causes air to move faster on the top than the bottom, creating higher pressure below and pushing the plane upwards. Additionally, the passage discusses the role of flaps on the wings, which can be extended to increase lift and drag, allowing the plane to fly slower during takeoff and landing.\n",
      "{'text': \"The wings of a fixed-wing aircraft are static planes extending either side of the aircraft. When the aircraft travels forwards, air flows over the wings, which are shaped to create lift. This shape is called an airfoil and is shaped like a bird's wing.\", 'title': 'Airplane', 'url': 'https://simple.wikipedia.org/wiki/Airplane'}\n",
      "This passage is explaining the basic principles of how an airplane is able to fly. It describes the structure of the wings of a fixed-wing aircraft, which are static and extend on either side of the aircraft. The shape of these wings, known as an airfoil, is designed to create lift as the plane moves forward and air flows\n",
      "{'text': 'Airplanes also have wings. Those wings cannot be moved; they are stable, but the wings also produce lift, so the airplane will get off the ground if you move it fast enough.', 'title': 'Wing', 'url': 'https://simple.wikipedia.org/wiki/Wing'}\n",
      "This passage is explaining the basic principle of how airplanes are able to fly. The wings of an airplane are designed in a specific shape that allows them to produce lift, a force that opposes gravity and allows the plane to rise into the air. This lift is generated\n",
      "{'text': \"of the ground and moves because of its rotors. A rotor is several small wings, called rotor blades, that spin together around a shaft. For that reason, helicopters are sometimes called rotary-wing aircraft. A helicopter flies differently from an airplane. An airplane must move forward to stay in the air, but because the helicopter's rotor blades are always moving, the helicopter can stop and stay in one place above the ground. Not needing a runway, they can land in places where an airplane cannot. Helicopters can move by tilting their rotor blades, which causes the aircraft to fly in the direction the blades are tilted.\", 'title': 'Helicopter', 'url': 'https://simple.wikipedia.org/wiki/Helicopter'}\n",
      "This passage is about how helicopters work and how they differ from airplanes. It explains the function of the rotor blades in a helicopter, which allow it to hover in one place, move in any direction, and land in places where airplanes cannot. The passage also highlights that unlike airplanes, helicopters do not need to move forward to stay in the air.\n"
     ]
    }
   ],
   "source": [
    "wiki = client.collections.get(\"Wikipedia\")\n",
    "\n",
    "response = wiki.generate.near_text(\n",
    "    query=\"How do planes fly\",\n",
    "    # auto_limit=1,\n",
    "    limit=5,\n",
    "    single_prompt=\"Explain what this is about? {text}\"\n",
    ")\n",
    "\n",
    "print(\"=== Source ===\")\n",
    "for item in response.objects:\n",
    "    print(item.properties)\n",
    "    print(item.generated)"
   ]
  },
  {
   "cell_type": "code",
   "execution_count": 5,
   "metadata": {},
   "outputs": [
    {
     "name": "stdout",
     "output_type": "stream",
     "text": [
      "=== Generated Response ===\n",
      "Planes fly due to the combined work of their engines and wings. The engines, which can either be propellers or jet engines, push the plane forward. This forward motion causes air to flow over the wings of the plane. The wings are designed in a specific shape, known as an airfoil, which is similar to a bird's wing. This shape is crucial as it creates a force called lift when air flows around it. \n",
      "\n",
      "The lift is created because the wings are designed in such a way that air moves faster on the top of the wing than on the bottom. This results in higher pressure on the bottom, which pushes the plane upwards, against gravity. This is also explained by Bernoulli's principle. \n",
      "\n",
      "Some wings have additional panels on the back called flaps. These flaps can be extended to increase the size of the wing, which in turn increases the lift but also the drag. The increased lift allows the plane to fly slower without stalling, which is particularly useful during takeoff and landing. \n",
      "\n",
      "It's important to note that some fixed-wing aircraft, like gliders, don't have engines. They rely on gravity to gain forward speed. Unlike helicopters, which can hover in one place due to their rotating rotor blades, airplanes need to move forward to stay in the air.\n",
      "=== Source ===\n",
      "{'text': \"Engines push the plane forward.  This makes air flow over the wings, which makes the plane fly.  Some planes have propellers that the engine turns.  Others have jet engines.  Some fixed-wing aircraft, such as gliders, don't have engines. Instead they use gravity to give them forward speed.\", 'title': 'Fixed-wing aircraft', 'url': 'https://simple.wikipedia.org/wiki/Fixed-wing%20aircraft'}\n",
      "{'text': \"The wings are the most important part because they are what makes the plane fly. The wings create a force called lift that goes against gravity which makes the plane get off the ground. When air flows around the wing (which happens when the plane moves forward) the wing pushes air down, which in turn pushes the plane up. Lift can also be explained using Bernoulli's principle; since wings are designed so that air goes faster on the top of the wing than on the bottom, the higher pressure on the bottom will push the plane up.  Some wings have panels on the back called flaps. Flaps can be extended to make the wing bigger. This makes the wing make more lift, but also more drag. This lets the plane fly slower without stalling, so flaps are often used during takeoff and landing.\", 'title': 'Fixed-wing aircraft', 'url': 'https://simple.wikipedia.org/wiki/Fixed-wing%20aircraft'}\n",
      "{'text': \"The wings of a fixed-wing aircraft are static planes extending either side of the aircraft. When the aircraft travels forwards, air flows over the wings, which are shaped to create lift. This shape is called an airfoil and is shaped like a bird's wing.\", 'title': 'Airplane', 'url': 'https://simple.wikipedia.org/wiki/Airplane'}\n",
      "{'text': 'Airplanes also have wings. Those wings cannot be moved; they are stable, but the wings also produce lift, so the airplane will get off the ground if you move it fast enough.', 'title': 'Wing', 'url': 'https://simple.wikipedia.org/wiki/Wing'}\n",
      "{'text': \"of the ground and moves because of its rotors. A rotor is several small wings, called rotor blades, that spin together around a shaft. For that reason, helicopters are sometimes called rotary-wing aircraft. A helicopter flies differently from an airplane. An airplane must move forward to stay in the air, but because the helicopter's rotor blades are always moving, the helicopter can stop and stay in one place above the ground. Not needing a runway, they can land in places where an airplane cannot. Helicopters can move by tilting their rotor blades, which causes the aircraft to fly in the direction the blades are tilted.\", 'title': 'Helicopter', 'url': 'https://simple.wikipedia.org/wiki/Helicopter'}\n"
     ]
    }
   ],
   "source": [
    "wiki = client.collections.get(\"Wikipedia\")\n",
    "\n",
    "response = wiki.generate.near_text(\n",
    "    query=\"How do planes fly\",\n",
    "    # auto_limit=1,\n",
    "    limit=5,\n",
    "    grouped_task=\"Explain, how do planes fly? Please only use the provided content.\"\n",
    ")\n",
    "\n",
    "print(\"=== Generated Response ===\")\n",
    "print(response.generated)\n",
    "\n",
    "print(\"=== Source ===\")\n",
    "for item in response.objects:\n",
    "    print(item.properties)"
   ]
  },
  {
   "cell_type": "code",
   "execution_count": 6,
   "metadata": {},
   "outputs": [
    {
     "name": "stdout",
     "output_type": "stream",
     "text": [
      "=== Generated Response ===\n",
      "Planes fly due to the combined action of engines and wings. The engines, which can be either propellers or jet engines, push the plane forward. This forward motion causes air to flow over the wings. Some planes, like gliders, don't have engines and instead use gravity to gain forward speed.\n",
      "\n",
      "The wings are crucial in the flight process as they create a force called lift. Lift is generated when air flows around the wing as the plane moves forward. The wing pushes air down, which in turn pushes the plane up, counteracting gravity. This can also be explained using Bernoulli's principle, which states that since wings are designed for air to move faster on the top than the bottom, the higher pressure on the bottom pushes the plane upwards.\n",
      "\n",
      "Additionally, some wings have panels on the back known as flaps. These can be extended to increase the size of the wing, thereby generating more lift but also more drag. Flaps allow the plane to fly slower without stalling, which is particularly useful during takeoff and landing.\n",
      "=== Source ===\n",
      "{'text': \"Engines push the plane forward.  This makes air flow over the wings, which makes the plane fly.  Some planes have propellers that the engine turns.  Others have jet engines.  Some fixed-wing aircraft, such as gliders, don't have engines. Instead they use gravity to give them forward speed.\", 'title': 'Fixed-wing aircraft', 'url': 'https://simple.wikipedia.org/wiki/Fixed-wing%20aircraft'}\n",
      "{'text': \"The wings are the most important part because they are what makes the plane fly. The wings create a force called lift that goes against gravity which makes the plane get off the ground. When air flows around the wing (which happens when the plane moves forward) the wing pushes air down, which in turn pushes the plane up. Lift can also be explained using Bernoulli's principle; since wings are designed so that air goes faster on the top of the wing than on the bottom, the higher pressure on the bottom will push the plane up.  Some wings have panels on the back called flaps. Flaps can be extended to make the wing bigger. This makes the wing make more lift, but also more drag. This lets the plane fly slower without stalling, so flaps are often used during takeoff and landing.\", 'title': 'Fixed-wing aircraft', 'url': 'https://simple.wikipedia.org/wiki/Fixed-wing%20aircraft'}\n"
     ]
    }
   ],
   "source": [
    "wiki = client.collections.get(\"Wikipedia\")\n",
    "\n",
    "response = wiki.generate.near_text(\n",
    "    query=\"How do planes fly\",\n",
    "    auto_limit=1,\n",
    "    grouped_task=\"Explain, how do planes fly? Please only use the provided content.\",\n",
    "    grouped_properties=[\"text\", \"title\"]\n",
    ")\n",
    "\n",
    "print(\"=== Generated Response ===\")\n",
    "print(response.generated)\n",
    "\n",
    "print(\"=== Source ===\")\n",
    "for item in response.objects:\n",
    "    print(item.properties)"
   ]
  }
 ],
 "metadata": {
  "kernelspec": {
   "display_name": ".venv",
   "language": "python",
   "name": "python3"
  },
  "language_info": {
   "codemirror_mode": {
    "name": "ipython",
    "version": 3
   },
   "file_extension": ".py",
   "mimetype": "text/x-python",
   "name": "python",
   "nbconvert_exporter": "python",
   "pygments_lexer": "ipython3",
   "version": "3.11.8"
  }
 },
 "nbformat": 4,
 "nbformat_minor": 2
}
