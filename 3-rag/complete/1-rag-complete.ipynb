{
 "cells": [
  {
   "cell_type": "markdown",
   "metadata": {},
   "source": [
    "# RAG - How to query"
   ]
  },
  {
   "cell_type": "code",
   "execution_count": 2,
   "metadata": {},
   "outputs": [
    {
     "name": "stdout",
     "output_type": "stream",
     "text": [
      "cwzujlbgtk\n",
      "L1FUbzRPaU\n",
      "sk-proj-iu\n"
     ]
    }
   ],
   "source": [
    "import os\n",
    "from dotenv import load_dotenv\n",
    "\n",
    "load_dotenv()\n",
    "\n",
    "WEAVIATE_URL = os.getenv(\"WEAVIATE_URL\")\n",
    "WEAVIATE_KEY = os.getenv(\"WEAVIATE_KEY\")\n",
    "OPENAI_API_KEY = os.getenv(\"OPENAI_API_KEY\")\n",
    "\n",
    "print(WEAVIATE_URL[:10])\n",
    "print(WEAVIATE_KEY[:10])\n",
    "print(OPENAI_API_KEY[:10])"
   ]
  },
  {
   "cell_type": "markdown",
   "metadata": {},
   "source": [
    "## Connect to Weaviate"
   ]
  },
  {
   "cell_type": "code",
   "execution_count": 3,
   "metadata": {},
   "outputs": [
    {
     "data": {
      "text/plain": [
       "True"
      ]
     },
     "execution_count": 3,
     "metadata": {},
     "output_type": "execute_result"
    }
   ],
   "source": [
    "import weaviate\n",
    "from weaviate.classes.init import Auth\n",
    "# from weaviate.classes.init import AdditionalConfig, Timeout\n",
    "\n",
    "client = weaviate.connect_to_weaviate_cloud(\n",
    "    cluster_url=WEAVIATE_URL,\n",
    "    auth_credentials=Auth.api_key(WEAVIATE_KEY),\n",
    "\n",
    "    headers = {\n",
    "        \"X-OpenAI-Api-Key\": OPENAI_API_KEY\n",
    "    },\n",
    "\n",
    "    # additional_config=AdditionalConfig(\n",
    "    #     timeout=Timeout(init=2, query=45, insert=120),  # Values in seconds\n",
    "    # )\n",
    ")\n",
    "\n",
    "client.is_ready()"
   ]
  },
  {
   "cell_type": "markdown",
   "metadata": {},
   "source": [
    "### Start with (R) - Retrieval"
   ]
  },
  {
   "cell_type": "code",
   "execution_count": 4,
   "metadata": {},
   "outputs": [
    {
     "name": "stdout",
     "output_type": "stream",
     "text": [
      "{'text': \"The wings are the most important part because they are what makes the plane fly. The wings create a force called lift that goes against gravity which makes the plane get off the ground. When air flows around the wing (which happens when the plane moves forward) the wing pushes air down, which in turn pushes the plane up. Lift can also be explained using Bernoulli's principle; since wings are designed so that air goes faster on the top of the wing than on the bottom, the higher pressure on the bottom will push the plane up.  Some wings have panels on the back called flaps. Flaps can be extended to make the wing bigger. This makes the wing make more lift, but also more drag. This lets the plane fly slower without stalling, so flaps are often used during takeoff and landing.\", 'title': 'Fixed-wing aircraft'}\n",
      "{'text': 'A wooden plane is entirely wood except for the blade. The iron is held into the plane with a wooden wedge, and is adjusted by striking the plane with a hammer.', 'title': 'Plane (tool)'}\n",
      "{'text': 'Takeoff is the part of flight in which an aircraft goes from moving along the ground (taxiing) to flying in the air, usually on a runway. For balloons, helicopters and some special aircraft (such as the Harrier), no runway is needed.  Takeoff is the opposite of landing.', 'title': 'Takeoff'}\n",
      "{'text': 'Since early times, air has been used to create technology. Ships moved with sails and windmills used the mechanical motion of air. Aircraft use propellers to move air over a wing, which allows them to fly. Pneumatics use air pressure to move things. Since the late 1900s, air power is also used to generate electricity.', 'title': 'Air'}\n",
      "{'text': 'A pilot is a person that drives a vehicle (form of transportation) such as an airplane, spacecraft, or boat. All types of pilots must pass a number of tests and obtain a license before they can operate the vehicle. The pilot of a flying machine is usually in charge for the whole trip. A ship pilot usually only guides the ship through an especially difficult place such as a harbor.', 'title': 'Pilot'}\n"
     ]
    }
   ],
   "source": [
    "wiki = client.collections.get(\"Wiki\")\n",
    "\n",
    "response = wiki.query.near_text(\n",
    "    query=\"How do planes fly\",\n",
    "    limit=5,\n",
    "    return_properties=[\"text\", \"title\"]\n",
    ")\n",
    "\n",
    "for item in response.objects:\n",
    "    print(item.properties)"
   ]
  },
  {
   "cell_type": "markdown",
   "metadata": {},
   "source": [
    "### Add (AG) - augmented generation - to make full RAG"
   ]
  },
  {
   "cell_type": "markdown",
   "metadata": {},
   "source": [
    "#### Single Prompt\n",
    "\n",
    "> Generate a response per **retrieved** object."
   ]
  },
  {
   "cell_type": "code",
   "execution_count": 5,
   "metadata": {},
   "outputs": [],
   "source": [
    "# Let's add some colour to our lives :)\n",
    "BLUE   = \"\\033[94m\"\n",
    "PURPLE = \"\\033[95m\"\n",
    "RESET  = \"\\033[0\""
   ]
  },
  {
   "cell_type": "code",
   "execution_count": 6,
   "metadata": {},
   "outputs": [
    {
     "name": "stdout",
     "output_type": "stream",
     "text": [
      "\u001b[94m=== Source ===\n",
      "{'text': \"The wings are the most important part because they are what makes the plane fly. The wings create a force called lift that goes against gravity which makes the plane get off the ground. When air flows around the wing (which happens when the plane moves forward) the wing pushes air down, which in turn pushes the plane up. Lift can also be explained using Bernoulli's principle; since wings are designed so that air goes faster on the top of the wing than on the bottom, the higher pressure on the bottom will push the plane up.  Some wings have panels on the back called flaps. Flaps can be extended to make the wing bigger. This makes the wing make more lift, but also more drag. This lets the plane fly slower without stalling, so flaps are often used during takeoff and landing.\", 'title': 'Fixed-wing aircraft', 'wiki_id': '20231101.simple_4700_4', 'url': 'https://simple.wikipedia.org/wiki/Fixed-wing%20aircraft'}\n",
      "\u001b[95m=== Generated Response ===\n",
      "The passage explains the role of airplane wings in the process of flight. It discusses how wings generate lift, which is the upward force that allows an airplane to overcome gravity and become airborne. Here are the key points:\n",
      "\n",
      "1. **Lift Creation**: The wings of an airplane are crucial because they create lift. Lift is the force that acts against gravity, allowing the plane to ascend. \n",
      "\n",
      "2. **Airflow Dynamics**: As the airplane moves forward, air flows around the wings. The design of the wings causes the air to flow faster over the top surface than along the bottom surface. According to Bernoulli's principle, this difference in airflow speed creates a difference in pressure—lower pressure on top and higher pressure underneath—resulting in lift.\n",
      "\n",
      "3. **Flaps**: The passage also describes flaps, which are movable surfaces located on the back of the wings. When flaps are extended, they increase the surface area of the wing, thereby increasing lift. However, this also increases drag (air resistance). Flaps are particularly useful during critical phases of flight, such as takeoff and landing, as they allow the airplane to fly at slower speeds without stalling.\n",
      "\n",
      "Overall, the text provides a basic understanding of aerodynamic principles related to how wings allow airplanes to fly, emphasizing lift, airflow, and the functionality of flaps.\n",
      "\n",
      "\n",
      "\u001b[94m=== Source ===\n",
      "{'text': 'A wooden plane is entirely wood except for the blade. The iron is held into the plane with a wooden wedge, and is adjusted by striking the plane with a hammer.', 'title': 'Plane (tool)', 'wiki_id': '20231101.simple_49580_14', 'url': 'https://simple.wikipedia.org/wiki/Plane%20%28tool%29'}\n",
      "\u001b[95m=== Generated Response ===\n",
      "The passage describes a traditional wooden hand plane, a tool used in woodworking to shape or smooth wood surfaces. Here's a breakdown of the key components and their functions:\n",
      "\n",
      "1. **Wooden Plane**: This refers to the body of the tool, which is typically made entirely from wood. This construction is traditional and often used in hand planes before the advent of modern materials.\n",
      "\n",
      "2. **Blade/Iron**: The cutting component of the plane, usually made from metal (often referred to as iron), is responsible for shaving off thin layers of wood to create a smooth finish or to shape the wood.\n",
      "\n",
      "3. **Wedge**: The blade is secured in place within the body of the plane by a wooden wedge. This wedge is crucial for keeping the blade stable and at the correct angle for effective cutting.\n",
      "\n",
      "4. **Adjustment by Hammering**: To adjust the depth of the cut the blade makes, the woodworker can strike the plane with a hammer. This action can help fine-tune the position of the blade by moving it up or down, thereby allowing for greater control over the amount of material being removed during the planing process.\n",
      "\n",
      "Overall, a wooden hand plane is a classic tool in woodworking, valuing craftsmanship and precision. Using a wooden plane requires skill and understanding of wood grain, pressure applied, and the right angle of the blade for the best results.\n",
      "\n",
      "\n",
      "\u001b[94m=== Source ===\n",
      "{'text': 'Takeoff is the part of flight in which an aircraft goes from moving along the ground (taxiing) to flying in the air, usually on a runway. For balloons, helicopters and some special aircraft (such as the Harrier), no runway is needed.  Takeoff is the opposite of landing.', 'title': 'Takeoff', 'wiki_id': '20231101.simple_68945_0', 'url': 'https://simple.wikipedia.org/wiki/Takeoff'}\n",
      "\u001b[95m=== Generated Response ===\n",
      "The text you provided explains the process of takeoff in aviation. Takeoff is a critical phase in a flight where an aircraft transitions from ground movement, known as taxiing, to becoming airborne. This typically occurs on a runway, where the aircraft accelerates to a speed that allows it to lift off the ground.\n",
      "\n",
      "The text also mentions that not all flying vehicles require a runway for takeoff. For instance, balloons (which rely on buoyancy), helicopters (which can ascend vertically), and certain specialized aircraft like the Harrier (which has vertical takeoff and landing capabilities) can take off without a traditional runway.\n",
      "\n",
      "Additionally, takeoff is presented as the opposite of landing, which is the process of an aircraft returning to the ground and coming to a stop at the end of a flight. Overall, the text summarizes the concept of takeoff and highlights the different methods by which various types of aircraft can initiate flight.\n",
      "\n",
      "\n",
      "\u001b[94m=== Source ===\n",
      "{'text': 'Since early times, air has been used to create technology. Ships moved with sails and windmills used the mechanical motion of air. Aircraft use propellers to move air over a wing, which allows them to fly. Pneumatics use air pressure to move things. Since the late 1900s, air power is also used to generate electricity.', 'title': 'Air', 'wiki_id': '20231101.simple_9_4', 'url': 'https://simple.wikipedia.org/wiki/Air'}\n",
      "\u001b[95m=== Generated Response ===\n",
      "The passage discusses the historical and modern uses of air in technological applications. It highlights how air has been harnessed in various ways throughout history for human benefit:\n",
      "\n",
      "1. **Transportation** - Ships utilized sails to catch the wind and move across water, illustrating one of the earliest uses of air (in the form of wind) for transportation.\n",
      "\n",
      "2. **Mechanical Devices** - Windmills are mentioned as an example of how the mechanical motion of air has been used to perform work, such as grinding grain or pumping water.\n",
      "\n",
      "3. **Aviation** - The passage notes that aircraft employ propellers to manipulate air, allowing them to generate lift and achieve flight. This represents a significant advancement in technology related to air.\n",
      "\n",
      "4. **Pneumatics** - The text also refers to the use of air pressure in pneumatic systems, which can move objects, operate machinery, and perform tasks in various industries.\n",
      "\n",
      "5. **Electricity Generation** - Finally, it mentions the use of air power for generating electricity since the late 1900s, likely referring to wind turbines that convert wind energy into electrical energy.\n",
      "\n",
      "Overall, the passage outlines the evolution of human ingenuity in leveraging air, from simple mechanical devices to advanced technologies that harness wind power for electricity generation.\n",
      "\n",
      "\n",
      "\u001b[94m=== Source ===\n",
      "{'text': 'A pilot is a person that drives a vehicle (form of transportation) such as an airplane, spacecraft, or boat. All types of pilots must pass a number of tests and obtain a license before they can operate the vehicle. The pilot of a flying machine is usually in charge for the whole trip. A ship pilot usually only guides the ship through an especially difficult place such as a harbor.', 'title': 'Pilot', 'wiki_id': '20231101.simple_19076_0', 'url': 'https://simple.wikipedia.org/wiki/Pilot'}\n",
      "\u001b[95m=== Generated Response ===\n",
      "The passage describes the role and responsibilities of pilots across different modes of transportation, specifically focusing on airplane, spacecraft, and boat pilots. It highlights several key points:\n",
      "\n",
      "1. **Definition of a Pilot**: A pilot is defined as an individual who operates various vehicles, primarily in air and water transportation.\n",
      "\n",
      "2. **Licensing and Training**: Pilots must undergo rigorous testing and training to obtain the necessary licenses to legally operate their vehicles. This implies that safety and competence are critical in these roles.\n",
      "\n",
      "3. **Responsibilities**: The passage notes that the pilot of an aircraft typically has overall responsibility for the flight from start to finish. In contrast, a ship pilot may have a more limited role, specifically providing guidance through challenging navigation areas, such as entering or exiting a harbor.\n",
      "\n",
      "Overall, the text outlines the qualification process, responsibilities, and distinctions in the roles of pilots in different transportation contexts.\n",
      "\n",
      "\n"
     ]
    }
   ],
   "source": [
    "from weaviate.classes.generate import GenerativeConfig\n",
    "\n",
    "wiki = client.collections.get(\"Wiki\")\n",
    "\n",
    "response = wiki.generate.near_text(\n",
    "    query=\"How do planes fly\",\n",
    "    # auto_limit=1,\n",
    "    limit=5,\n",
    "\n",
    "    # TODO: add GenerativeConfig with OpenAI and \"gpt-4o-mini\"\n",
    "    generative_provider=GenerativeConfig.openai(\n",
    "        model=\"gpt-4o-mini\",\n",
    "    ),\n",
    "    \n",
    "    # TODO: add a single prompt \"Explain what this is about? {text}\"\n",
    "    single_prompt=\"Explain what this is about? {text}\"\n",
    ")\n",
    "\n",
    "for item in response.objects:\n",
    "    print(f\"{BLUE}=== Source ===\")\n",
    "    print(item.properties)\n",
    "\n",
    "    print(f\"{PURPLE}=== Generated Response ===\")\n",
    "    print(item.generative.text)\n",
    "    print(\"\\n\")"
   ]
  },
  {
   "cell_type": "markdown",
   "metadata": {},
   "source": [
    "#### Grouped Task\n",
    "\n",
    "> Generate one response based on all **retrieved** objects."
   ]
  },
  {
   "cell_type": "code",
   "execution_count": 7,
   "metadata": {},
   "outputs": [
    {
     "name": "stdout",
     "output_type": "stream",
     "text": [
      "\u001b[95m=== Generated Response ===\n",
      "Planes fly primarily due to their wings, which create a force known as lift that counteracts gravity, allowing the plane to ascend. As the plane moves forward, air flows around the wings. The design of the wings is such that air travels faster over the top of the wing than underneath, resulting in lower pressure on top and higher pressure beneath, which pushes the plane upwards. \n",
      "\n",
      "Additionally, some wings are equipped with flaps on their trailing edges. These flaps can be extended to increase the wing's surface area, which enhances lift, albeit at the cost of increased drag. This feature allows the plane to fly at slower speeds without stalling, making flaps particularly useful during takeoff and landing.\n",
      "\n",
      "Furthermore, aircraft utilize propellers to move air over their wings, facilitating flight by enhancing lift. This combination of wing design and aerodynamics is essential for a plane's ability to fly.\n",
      "\u001b[94m=== Source ===\n",
      "{'text': \"The wings are the most important part because they are what makes the plane fly. The wings create a force called lift that goes against gravity which makes the plane get off the ground. When air flows around the wing (which happens when the plane moves forward) the wing pushes air down, which in turn pushes the plane up. Lift can also be explained using Bernoulli's principle; since wings are designed so that air goes faster on the top of the wing than on the bottom, the higher pressure on the bottom will push the plane up.  Some wings have panels on the back called flaps. Flaps can be extended to make the wing bigger. This makes the wing make more lift, but also more drag. This lets the plane fly slower without stalling, so flaps are often used during takeoff and landing.\", 'title': 'Fixed-wing aircraft', 'wiki_id': '20231101.simple_4700_4', 'url': 'https://simple.wikipedia.org/wiki/Fixed-wing%20aircraft'}\n",
      "{'text': 'A wooden plane is entirely wood except for the blade. The iron is held into the plane with a wooden wedge, and is adjusted by striking the plane with a hammer.', 'title': 'Plane (tool)', 'wiki_id': '20231101.simple_49580_14', 'url': 'https://simple.wikipedia.org/wiki/Plane%20%28tool%29'}\n",
      "{'text': 'Takeoff is the part of flight in which an aircraft goes from moving along the ground (taxiing) to flying in the air, usually on a runway. For balloons, helicopters and some special aircraft (such as the Harrier), no runway is needed.  Takeoff is the opposite of landing.', 'title': 'Takeoff', 'wiki_id': '20231101.simple_68945_0', 'url': 'https://simple.wikipedia.org/wiki/Takeoff'}\n",
      "{'text': 'Since early times, air has been used to create technology. Ships moved with sails and windmills used the mechanical motion of air. Aircraft use propellers to move air over a wing, which allows them to fly. Pneumatics use air pressure to move things. Since the late 1900s, air power is also used to generate electricity.', 'title': 'Air', 'wiki_id': '20231101.simple_9_4', 'url': 'https://simple.wikipedia.org/wiki/Air'}\n",
      "{'text': 'A pilot is a person that drives a vehicle (form of transportation) such as an airplane, spacecraft, or boat. All types of pilots must pass a number of tests and obtain a license before they can operate the vehicle. The pilot of a flying machine is usually in charge for the whole trip. A ship pilot usually only guides the ship through an especially difficult place such as a harbor.', 'title': 'Pilot', 'wiki_id': '20231101.simple_19076_0', 'url': 'https://simple.wikipedia.org/wiki/Pilot'}\n"
     ]
    }
   ],
   "source": [
    "wiki = client.collections.get(\"Wiki\")\n",
    "\n",
    "response = wiki.generate.near_text(\n",
    "    query=\"How do planes fly\",\n",
    "    # auto_limit=1,\n",
    "    limit=5,\n",
    "\n",
    "    generative_provider=GenerativeConfig.openai(\n",
    "        model=\"gpt-4o-mini\",\n",
    "    ),\n",
    "\n",
    "    grouped_task=\"Explain, how do planes fly? Please only use the provided content.\"\n",
    ")\n",
    "\n",
    "print(f\"{PURPLE}=== Generated Response ===\")\n",
    "print(response.generative.text)\n",
    "\n",
    "print(f\"{BLUE}=== Source ===\")\n",
    "for item in response.objects:\n",
    "    print(item.properties)"
   ]
  },
  {
   "cell_type": "markdown",
   "metadata": {},
   "source": [
    "#### Specify which properties to use for grouped task"
   ]
  },
  {
   "cell_type": "code",
   "execution_count": 8,
   "metadata": {},
   "outputs": [
    {
     "name": "stdout",
     "output_type": "stream",
     "text": [
      "\u001b[95m=== Generated Response ===\n",
      "Planes fly primarily due to their wings, which are crucial for generating lift, a force that opposes gravity. As the plane moves forward, air flows around the wings, and the shape of the wing pushes air downward, resulting in an upward force on the plane. This lift can also be understood through Bernoulli's principle, where the design of the wings ensures that air moves faster over the top than beneath, creating lower pressure on top and higher pressure below, thus pushing the plane upwards.\n",
      "\n",
      "Additionally, wings may have adjustable flaps on the back, which can be extended to increase the wing's surface area. This increase in size enhances lift but also raises drag, allowing the plane to fly at slower speeds without stalling. Flaps are commonly used during critical phases of flight, such as takeoff and landing.\n",
      "\u001b[94m=== Source ===\n",
      "{'text': \"The wings are the most important part because they are what makes the plane fly. The wings create a force called lift that goes against gravity which makes the plane get off the ground. When air flows around the wing (which happens when the plane moves forward) the wing pushes air down, which in turn pushes the plane up. Lift can also be explained using Bernoulli's principle; since wings are designed so that air goes faster on the top of the wing than on the bottom, the higher pressure on the bottom will push the plane up.  Some wings have panels on the back called flaps. Flaps can be extended to make the wing bigger. This makes the wing make more lift, but also more drag. This lets the plane fly slower without stalling, so flaps are often used during takeoff and landing.\", 'title': 'Fixed-wing aircraft', 'wiki_id': '20231101.simple_4700_4', 'url': 'https://simple.wikipedia.org/wiki/Fixed-wing%20aircraft'}\n"
     ]
    }
   ],
   "source": [
    "wiki = client.collections.get(\"Wiki\")\n",
    "\n",
    "response = wiki.generate.near_text(\n",
    "    query=\"How do planes fly\",\n",
    "    auto_limit=1,\n",
    "    grouped_task=\"Explain, how do planes fly? Please only use the provided content.\",\n",
    "    grouped_properties=[\"text\", \"title\"],\n",
    "\n",
    "    generative_provider=GenerativeConfig.openai(\n",
    "        model=\"gpt-4o-mini\",\n",
    "    ),\n",
    ")\n",
    "\n",
    "print(f\"{PURPLE}=== Generated Response ===\")\n",
    "print(response.generative.text)\n",
    "\n",
    "print(f\"{BLUE}=== Source ===\")\n",
    "for item in response.objects:\n",
    "    print(item.properties)"
   ]
  },
  {
   "cell_type": "markdown",
   "metadata": {},
   "source": [
    "## Set default Generative model"
   ]
  },
  {
   "cell_type": "code",
   "execution_count": 9,
   "metadata": {},
   "outputs": [],
   "source": [
    "from weaviate.classes.config import Reconfigure\n",
    "\n",
    "wiki = client.collections.get(\"Wiki\")\n",
    "\n",
    "wiki.config.update(\n",
    "    generative_config=Reconfigure.Generative.openai(\n",
    "        model=\"gpt-4o-mini\"  # Update the generative model\n",
    "    )\n",
    ")"
   ]
  },
  {
   "cell_type": "markdown",
   "metadata": {},
   "source": [
    "> Try generative query without providing the model"
   ]
  },
  {
   "cell_type": "code",
   "execution_count": 10,
   "metadata": {},
   "outputs": [
    {
     "name": "stdout",
     "output_type": "stream",
     "text": [
      "\u001b[95m=== Generated Response ===\n",
      "I'm sorry, but the provided content does not contain any information about how planes fly. If you have any other materials or topics you'd like to discuss, please let me know!\n",
      "\u001b[94m=== Source ===\n",
      "{'text': 'Lizards: Solomon Islands skinks, Madagascar giant day geckos, reticulated Gila monsters. blue tree monitors, African fat-tailed geckos, Razo Island skinks, Desert grassland whiptail lizards, and an ornate monitor.', 'title': 'Cincinnati Zoo and Botanical Garden', 'wiki_id': '20231101.simple_334964_22', 'url': 'https://simple.wikipedia.org/wiki/Cincinnati%20Zoo%20and%20Botanical%20Garden'}\n",
      "{'text': 'The animals of the genus Camelus are also called Afro-Asiatic Camelids. The animals of the genus Lama and genus Vicugna are also called South American Camelids.', 'title': 'Camelid', 'wiki_id': '20231101.simple_31585_1', 'url': 'https://simple.wikipedia.org/wiki/Camelid'}\n",
      "{'text': \"Intelligence is not limited to humans. Many animals also show signs of intelligence: animals also need to solve problems, and remembering how a problem is solved is useful to them.  Many animals use tools to solve problems. These animals include the Great Apes, dogs, dolphins, elephants, rats and mice, and some birds. All these animals are vertebrates, but tool use isn't limited to these: Even cephalopods and arthropods show signs of intelligence. To  be able to compare the behaviours of different species, scientists need to adapt the notion of intelligence.\", 'title': 'Intelligence', 'wiki_id': '20231101.simple_38080_5', 'url': 'https://simple.wikipedia.org/wiki/Intelligence'}\n",
      "{'text': 'Humans, many pigs, many bears, some primates, some rodents, opossums, rails, rheas, most seagulls, and other animals are omnivores.', 'title': 'Omnivore', 'wiki_id': '20231101.simple_4616_4', 'url': 'https://simple.wikipedia.org/wiki/Omnivore'}\n",
      "{'text': 'In this region, we find springbuck, oryx, and duiker; francolin, guinea fowl, bustard, and ostrich; and also various kinds of snake.', 'title': 'Khoekhoe language', 'wiki_id': '20231101.simple_1010103_25', 'url': 'https://simple.wikipedia.org/wiki/Khoekhoe%20language'}\n"
     ]
    }
   ],
   "source": [
    "response = wiki.generate.near_text(\n",
    "    query=\"What african animals do we have info on. Please only list those provided in here.\",\n",
    "    auto_limit=1,\n",
    "    \n",
    "    grouped_task=\"Explain, how do planes fly? Please only use the provided content.\",\n",
    ")\n",
    "\n",
    "print(f\"{PURPLE}=== Generated Response ===\")\n",
    "print(response.generative.text)\n",
    "\n",
    "print(f\"{BLUE}=== Source ===\")\n",
    "for item in response.objects:\n",
    "    print(item.properties)"
   ]
  },
  {
   "cell_type": "markdown",
   "metadata": {},
   "source": [
    "## Close the client"
   ]
  },
  {
   "cell_type": "code",
   "execution_count": 11,
   "metadata": {},
   "outputs": [],
   "source": [
    "client.close()"
   ]
  }
 ],
 "metadata": {
  "kernelspec": {
   "display_name": ".venv (3.11.9)",
   "language": "python",
   "name": "python3"
  },
  "language_info": {
   "codemirror_mode": {
    "name": "ipython",
    "version": 3
   },
   "file_extension": ".py",
   "mimetype": "text/x-python",
   "name": "python",
   "nbconvert_exporter": "python",
   "pygments_lexer": "ipython3",
   "version": "3.11.9"
  }
 },
 "nbformat": 4,
 "nbformat_minor": 2
}
