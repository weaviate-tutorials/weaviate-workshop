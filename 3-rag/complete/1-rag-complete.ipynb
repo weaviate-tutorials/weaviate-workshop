{
 "cells": [
  {
   "cell_type": "markdown",
   "metadata": {},
   "source": [
    "# RAG - How to query"
   ]
  },
  {
   "cell_type": "code",
   "execution_count": null,
   "metadata": {},
   "outputs": [],
   "source": [
    "import os\n",
    "from dotenv import load_dotenv\n",
    "\n",
    "load_dotenv()\n",
    "\n",
    "WEAVIATE_URL = os.getenv(\"WEAVIATE_URL\")\n",
    "WEAVIATE_KEY = os.getenv(\"WEAVIATE_KEY\")\n",
    "OPENAI_URL = os.getenv(\"OPENAI_URL\")\n",
    "OPENAI_API_KEY = os.getenv(\"OPENAI_API_KEY\")\n",
    "\n",
    "print(WEAVIATE_URL[:10])\n",
    "print(WEAVIATE_KEY[:10])\n",
    "print(OPENAI_API_KEY[:10])"
   ]
  },
  {
   "cell_type": "markdown",
   "metadata": {},
   "source": [
    "## Connect to Weaviate"
   ]
  },
  {
   "cell_type": "code",
   "execution_count": null,
   "metadata": {},
   "outputs": [],
   "source": [
    "import weaviate\n",
    "from weaviate.classes.init import Auth\n",
    "\n",
    "# Connect to the local instance\n",
    "client = weaviate.connect_to_local(\n",
    "  host=\"127.0.0.1\", # the address to the learner's instance\n",
    "  port=8080,\n",
    "  grpc_port=50051,\n",
    "  auth_credentials=Auth.api_key(WEAVIATE_KEY),\n",
    "  headers={\n",
    "    \"X-OpenAI-Api-Key\": OPENAI_API_KEY,\n",
    "    \"X-OpenAI-BaseURL\": OPENAI_URL\n",
    "  }\n",
    ")\n",
    "\n",
    "print(client.is_ready())"
   ]
  },
  {
   "cell_type": "markdown",
   "metadata": {},
   "source": [
    "### Start with (R) - Retrieval"
   ]
  },
  {
   "cell_type": "code",
   "execution_count": null,
   "metadata": {},
   "outputs": [],
   "source": [
    "wiki = client.collections.get(\"Wiki\")\n",
    "\n",
    "response = wiki.query.near_text(\n",
    "    query=\"How do planes fly\",\n",
    "    limit=5,\n",
    "    return_properties=[\"text\", \"title\"]\n",
    ")\n",
    "\n",
    "for item in response.objects:\n",
    "    print(item.properties)"
   ]
  },
  {
   "cell_type": "markdown",
   "metadata": {},
   "source": [
    "### Add (AG) - augmented generation - to make full RAG"
   ]
  },
  {
   "cell_type": "markdown",
   "metadata": {},
   "source": [
    "#### Single Prompt\n",
    "\n",
    "> Generate a response per **retrieved** object."
   ]
  },
  {
   "cell_type": "code",
   "execution_count": null,
   "metadata": {},
   "outputs": [],
   "source": [
    "# Let's add some colour to our lives :)\n",
    "BLUE   = \"\\033[94m\"\n",
    "PURPLE = \"\\033[95m\"\n",
    "RESET  = \"\\033[0\""
   ]
  },
  {
   "cell_type": "code",
   "execution_count": null,
   "metadata": {},
   "outputs": [],
   "source": [
    "from weaviate.classes.generate import GenerativeConfig\n",
    "\n",
    "wiki = client.collections.get(\"Wiki\")\n",
    "\n",
    "response = wiki.generate.near_text(\n",
    "    query=\"How do planes fly\",\n",
    "    # auto_limit=1,\n",
    "    limit=5,\n",
    "\n",
    "    # TODO: add GenerativeConfig with OpenAI and \"gpt-4o-mini\"\n",
    "    generative_provider=GenerativeConfig.ollama(\n",
    "        model=\"qwen2.5:0.5b\",\n",
    "        api_endpoint=OPENAI_URL,\n",
    "    ),\n",
    "    \n",
    "    # TODO: add a single prompt \"Explain what this is about? {text}\"\n",
    "    single_prompt=\"Explain what this is about? {text}\"\n",
    ")\n",
    "\n",
    "for item in response.objects:\n",
    "    print(f\"{BLUE}=== Source ===\")\n",
    "    print(item.properties)\n",
    "\n",
    "    print(f\"{PURPLE}=== Generated Response ===\")\n",
    "    print(item.generative.text)\n",
    "    print(\"\\n\")"
   ]
  },
  {
   "cell_type": "markdown",
   "metadata": {},
   "source": [
    "#### Grouped Task\n",
    "\n",
    "> Generate one response based on all **retrieved** objects."
   ]
  },
  {
   "cell_type": "code",
   "execution_count": null,
   "metadata": {},
   "outputs": [],
   "source": [
    "wiki = client.collections.get(\"Wiki\")\n",
    "\n",
    "response = wiki.generate.near_text(\n",
    "    query=\"How do planes fly\",\n",
    "    # auto_limit=1,\n",
    "    limit=5,\n",
    "\n",
    "    generative_provider=GenerativeConfig.ollama(\n",
    "        model=\"qwen2.5:0.5b\",\n",
    "        api_endpoint=OPENAI_URL,\n",
    "    ),\n",
    "\n",
    "    grouped_task=\"Explain, how do planes fly? Please only use the provided content.\"\n",
    ")\n",
    "\n",
    "print(f\"{PURPLE}=== Generated Response ===\")\n",
    "print(response.generative.text)\n",
    "\n",
    "print(f\"{BLUE}=== Source ===\")\n",
    "for item in response.objects:\n",
    "    print(item.properties)"
   ]
  },
  {
   "cell_type": "markdown",
   "metadata": {},
   "source": [
    "#### Specify which properties to use for grouped task"
   ]
  },
  {
   "cell_type": "code",
   "execution_count": null,
   "metadata": {},
   "outputs": [],
   "source": [
    "wiki = client.collections.get(\"Wiki\")\n",
    "\n",
    "response = wiki.generate.near_text(\n",
    "    query=\"How do planes fly\",\n",
    "    auto_limit=1,\n",
    "    grouped_task=\"Explain, how do planes fly? Please only use the provided content.\",\n",
    "    grouped_properties=[\"text\", \"title\"],\n",
    "\n",
    "    generative_provider=GenerativeConfig.ollama(\n",
    "        model=\"qwen2.5:0.5b\",\n",
    "        api_endpoint=OPENAI_URL\n",
    "    ),\n",
    ")\n",
    "\n",
    "print(f\"{PURPLE}=== Generated Response ===\")\n",
    "print(response.generative.text)\n",
    "\n",
    "print(f\"{BLUE}=== Source ===\")\n",
    "for item in response.objects:\n",
    "    print(item.properties)"
   ]
  },
  {
   "cell_type": "markdown",
   "metadata": {},
   "source": [
    "## Set default Generative model"
   ]
  },
  {
   "cell_type": "code",
   "execution_count": null,
   "metadata": {},
   "outputs": [],
   "source": [
    "from weaviate.classes.config import Reconfigure\n",
    "\n",
    "wiki = client.collections.get(\"Wiki\")\n",
    "\n",
    "wiki.config.update(\n",
    "    generative_config=Reconfigure.Generative.ollama(\n",
    "        model=\"qwen2.5:0.5b\",\n",
    "        api_endpoint=OPENAI_URL\n",
    "    )\n",
    ")"
   ]
  },
  {
   "cell_type": "markdown",
   "metadata": {},
   "source": [
    "> Try generative query without providing the model"
   ]
  },
  {
   "cell_type": "code",
   "execution_count": null,
   "metadata": {},
   "outputs": [],
   "source": [
    "response = wiki.generate.near_text(\n",
    "    query=\"What african animals do we have info on. Please only list those provided in here.\",\n",
    "    auto_limit=1,\n",
    "    \n",
    "    grouped_task=\"Explain, how do planes fly? Please only use the provided content.\",\n",
    ")\n",
    "\n",
    "print(f\"{PURPLE}=== Generated Response ===\")\n",
    "print(response.generative.text)\n",
    "\n",
    "print(f\"{BLUE}=== Source ===\")\n",
    "for item in response.objects:\n",
    "    print(item.properties)"
   ]
  },
  {
   "cell_type": "markdown",
   "metadata": {},
   "source": [
    "## Close the client"
   ]
  },
  {
   "cell_type": "code",
   "execution_count": null,
   "metadata": {},
   "outputs": [],
   "source": [
    "client.close()"
   ]
  }
 ],
 "metadata": {
  "kernelspec": {
   "display_name": ".venv (3.11.9)",
   "language": "python",
   "name": "python3"
  },
  "language_info": {
   "codemirror_mode": {
    "name": "ipython",
    "version": 3
   },
   "file_extension": ".py",
   "mimetype": "text/x-python",
   "name": "python",
   "nbconvert_exporter": "python",
   "pygments_lexer": "ipython3",
   "version": "3.11.9"
  }
 },
 "nbformat": 4,
 "nbformat_minor": 2
}
