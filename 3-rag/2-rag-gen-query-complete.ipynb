{
 "cells": [
  {
   "cell_type": "code",
   "execution_count": null,
   "metadata": {},
   "outputs": [],
   "source": [
    "!pip install cohere"
   ]
  },
  {
   "cell_type": "code",
   "execution_count": null,
   "metadata": {},
   "outputs": [],
   "source": [
    "import os\n",
    "from dotenv import load_dotenv\n",
    "\n",
    "load_dotenv()\n",
    "\n",
    "cohere_api_key = os.getenv(\"COHERE_API_KEY\")\n",
    "openai_api_key = os.getenv(\"OPENAI_API_KEY\")\n",
    "weaviate_cloud_url = os.getenv(\"WIKI_DEMO_URL\")\n",
    "weaviate_cloud_key = os.getenv(\"WIKI_DEMO_KEY_READ\")"
   ]
  },
  {
   "cell_type": "code",
   "execution_count": null,
   "metadata": {},
   "outputs": [],
   "source": [
    "import cohere\n",
    "co = cohere.Client(cohere_api_key)\n",
    "\n",
    "def generate_query_from_promt(prompt):\n",
    "    response = co.chat(\n",
    "        message=prompt,\n",
    "        search_queries_only=True\n",
    "    )\n",
    "    \n",
    "    return response.search_queries[0].text"
   ]
  },
  {
   "cell_type": "code",
   "execution_count": null,
   "metadata": {},
   "outputs": [],
   "source": [
    "# Example of how to generate a query from a prompt\n",
    "generate_query_from_promt(\"Where do the tallest penguins live?\")"
   ]
  },
  {
   "cell_type": "code",
   "execution_count": null,
   "metadata": {},
   "outputs": [],
   "source": [
    "import weaviate\n",
    "\n",
    "client = weaviate.connect_to_weaviate_cloud(\n",
    "    cluster_url=weaviate_cloud_url,\n",
    "    auth_credentials=weaviate.auth.AuthApiKey(weaviate_cloud_key),\n",
    "\n",
    "    headers={\n",
    "        \"X-OpenAI-Api-Key\": openai_api_key,\n",
    "        \"X-Cohere-Api-Key\": cohere_api_key,\n",
    "    },\n",
    "\n",
    "    additional_config=weaviate.config.AdditionalConfig(timeout=(500, 1500))\n",
    ")\n",
    "\n",
    "client.is_ready()"
   ]
  },
  {
   "cell_type": "code",
   "execution_count": null,
   "metadata": {},
   "outputs": [],
   "source": [
    "def two_step_rag(user_prompt):\n",
    "    # Step 1\n",
    "    prompt = user_prompt + \" Please only use the provided content with this prompt. Don't make things up.\"\n",
    "    \n",
    "    generated_query = generate_query_from_promt(prompt)\n",
    "    print(\"=== Generated Query ===\")\n",
    "    print(f\"Generated query: {generated_query}\")\n",
    "\n",
    "    # Step 2\n",
    "    wiki = client.collections.get(\"Wikipedia\")\n",
    "\n",
    "    response = wiki.generate.near_text(\n",
    "        query=generated_query,\n",
    "        limit=3,\n",
    "        grouped_task=prompt,\n",
    "        grouped_properties=[\"text\", \"title\"]\n",
    "    )\n",
    "\n",
    "    # Print results\n",
    "    print(\"=== Generated Response ===\")\n",
    "    print(response.generated)\n",
    "\n",
    "    print(\"=== Source ===\")\n",
    "    for item in response.objects:\n",
    "        print(item.properties)"
   ]
  },
  {
   "cell_type": "code",
   "execution_count": null,
   "metadata": {},
   "outputs": [],
   "source": [
    "# two_step_rag(\"What wild animals do we know about?\")\n",
    "two_step_rag(\"How do airplanes fly?\")"
   ]
  },
  {
   "cell_type": "code",
   "execution_count": null,
   "metadata": {},
   "outputs": [],
   "source": [
    "two_step_rag(\"What are the pros and cons of automation using computer?\")"
   ]
  },
  {
   "cell_type": "code",
   "execution_count": null,
   "metadata": {},
   "outputs": [],
   "source": [
    "two_step_rag(\"How do CPUs work?\")"
   ]
  }
 ],
 "metadata": {
  "kernelspec": {
   "display_name": ".venv",
   "language": "python",
   "name": "python3"
  },
  "language_info": {
   "codemirror_mode": {
    "name": "ipython",
    "version": 3
   },
   "file_extension": ".py",
   "mimetype": "text/x-python",
   "name": "python",
   "nbconvert_exporter": "python",
   "pygments_lexer": "ipython3",
   "version": "3.11.8"
  }
 },
 "nbformat": 4,
 "nbformat_minor": 2
}
