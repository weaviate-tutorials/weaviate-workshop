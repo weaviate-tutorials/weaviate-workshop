{
 "cells": [
  {
   "cell_type": "code",
   "execution_count": 1,
   "metadata": {},
   "outputs": [
    {
     "data": {
      "text/plain": [
       "True"
      ]
     },
     "execution_count": 1,
     "metadata": {},
     "output_type": "execute_result"
    }
   ],
   "source": [
    "import weaviate\n",
    "\n",
    "# Connect to the local instance deployed with Docker Compose\n",
    "client = weaviate.connect_to_local()\n",
    "\n",
    "client.is_ready()"
   ]
  },
  {
   "cell_type": "code",
   "execution_count": 4,
   "metadata": {},
   "outputs": [
    {
     "data": {
      "text/plain": [
       "<weaviate.collections.collection.Collection at 0x116a88410>"
      ]
     },
     "execution_count": 4,
     "metadata": {},
     "output_type": "execute_result"
    }
   ],
   "source": [
    "# new collection with 1k objects and vectorizer and generative model\n",
    "\n",
    "from weaviate.classes.config import Configure, Property, DataType\n",
    "\n",
    "if client.collections.exists(\"Questions\"):\n",
    "    client.collections.delete(\"Questions\")\n",
    "\n",
    "# Create a collection here - with Cohere as a vectorizer\n",
    "client.collections.create(\n",
    "    name=\"Questions\",\n",
    "\n",
    "    vectorizer_config=[\n",
    "        Configure.NamedVectors.text2vec_ollama(\n",
    "            name=\"main\",\n",
    "            api_endpoint=\"http://host.docker.internal:11434\", # If using Docker\n",
    "            # api_endpoint=\"http://ollama:11434\",             # If GitHub Codespaces\n",
    "            model=\"snowflake-arctic-embed\",                   # The model to use, e.g. \"nomic-embed-text\"\n",
    "        ),  \n",
    "    ],\n",
    "\n",
    "    generative_config=Configure.Generative.ollama(\n",
    "        api_endpoint=\"http://host.docker.internal:11434\", # If using Docker\n",
    "        # api_endpoint=\"http://ollama:11434\",             # If GitHub Codespaces\n",
    "        model=\"gemma2:2b\"           # The model to use, e.g. \"phi3\", or \"mistral\", \"command-r-plus\", \"gemma\"\n",
    "    ),\n",
    "\n",
    "    # properties=[  # Define properties (Optional)\n",
    "    #     Property(name=\"question\", data_type=DataType.TEXT),\n",
    "    #     Property(name=\"answer\", data_type=DataType.TEXT),\n",
    "    #     Property(name=\"category\", data_type=DataType.TEXT, skip_vectorization=True),\n",
    "    #     Property(name=\"round\", data_type=DataType.TEXT, skip_vectorization=True),\n",
    "    #     Property(name=\"points\", data_type=DataType.NUMBER),\n",
    "    #     Property(name=\"airDate\", data_type=DataType.DATE),\n",
    "    # ],\n",
    ")"
   ]
  },
  {
   "cell_type": "code",
   "execution_count": 5,
   "metadata": {},
   "outputs": [
    {
     "name": "stdout",
     "output_type": "stream",
     "text": [
      "[\n",
      "  {\n",
      "    \"AirDate\": \"2006-11-08T00:00:00+00:00\",\n",
      "    \"Round\": \"Double Jeopardy!\",\n",
      "    \"Points\": 800,\n",
      "    \"Category\": \"AMERICAN HISTORY\",\n",
      "    \"Question\": \"Abraham Lincoln died across the street from this theatre on April 15, 1865\",\n",
      "    \"Answer\": \"Ford's Theatre (the Ford Theatre accepted)\"\n",
      "  },\n",
      "  {\n",
      "    \"AirDate\": \"2005-11-18T00:00:00+00:00\",\n",
      "    \"Round\": \"Jeopardy!\",\n",
      "    \"Points\": 200,\n",
      "    \"Category\": \"RHYME TIME\",\n",
      "    \"Question\": \"Any pigment on the wall so faded you can barely see it\",\n",
      "    \"Answer\": \"faint paint\"\n",
      "  }\n",
      "]\n"
     ]
    }
   ],
   "source": [
    "import json\n",
    "\n",
    "with open(\"./jeopardy_1k.json\") as file:\n",
    "    data_1k = json.load(file)\n",
    "\n",
    "print(json.dumps(data_1k[0:2], indent=2))"
   ]
  },
  {
   "cell_type": "code",
   "execution_count": 6,
   "metadata": {},
   "outputs": [
    {
     "name": "stderr",
     "output_type": "stream",
     "text": [
      "100%|██████████| 1000/1000 [00:07<00:00, 142.51it/s]\n"
     ]
    }
   ],
   "source": [
    "from tqdm import tqdm\n",
    "\n",
    "questions = client.collections.get(\"Questions\")\n",
    "\n",
    "with questions.batch.dynamic() as batch:\n",
    "    for item in tqdm(data_1k):\n",
    "        batch.add_object(item)"
   ]
  },
  {
   "cell_type": "code",
   "execution_count": 7,
   "metadata": {},
   "outputs": [
    {
     "name": "stdout",
     "output_type": "stream",
     "text": [
      "The common thread connecting these items is that they **relate to music or sound in some way**. \n",
      "\n",
      "Let's break it down:\n",
      "\n",
      "* **\"Cute flute\":** This refers directly to a musical instrument. \n",
      "* **\"Behind the Music\":**  This phrase suggests an exploration of the behind-the-scenes aspects of music, often focused on scandals or hidden stories. \n",
      "* **\"A cue\":** A \"cue\" in acting is a signal or prompt that guides the actor's performance, directly linked to sound cues used during performances.\n",
      "\n",
      "\n",
      "Therefore, while they seem different, all three are related in some way to music and/or sound.  Let me know if you have more examples! \n",
      "\n"
     ]
    }
   ],
   "source": [
    "response = questions.generate.near_text(\n",
    "    query=\"musical instruments\",\n",
    "    limit=3,\n",
    "\n",
    "    grouped_properties=[\"question\", \"answer\"],\n",
    "    grouped_task=\"What do these instruments have in common?\"\n",
    ")\n",
    "\n",
    "print(response.generated)"
   ]
  }
 ],
 "metadata": {
  "kernelspec": {
   "display_name": ".venv",
   "language": "python",
   "name": "python3"
  },
  "language_info": {
   "codemirror_mode": {
    "name": "ipython",
    "version": 3
   },
   "file_extension": ".py",
   "mimetype": "text/x-python",
   "name": "python",
   "nbconvert_exporter": "python",
   "pygments_lexer": "ipython3",
   "version": "3.11.8"
  }
 },
 "nbformat": 4,
 "nbformat_minor": 2
}
