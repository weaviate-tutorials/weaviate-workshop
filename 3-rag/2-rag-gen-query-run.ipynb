{
 "cells": [
  {
   "cell_type": "code",
   "execution_count": null,
   "metadata": {},
   "outputs": [],
   "source": [
    "# !pip install openai"
   ]
  },
  {
   "cell_type": "code",
   "execution_count": null,
   "metadata": {},
   "outputs": [],
   "source": [
    "import os\n",
    "from dotenv import load_dotenv\n",
    "\n",
    "load_dotenv()\n",
    "\n",
    "WEAVIATE_HTTP_URL = os.getenv(\"WEAVIATE_HTTP_URL\")\n",
    "WEAVIATE_GRPC_URL = os.getenv(\"WEAVIATE_GRPC_URL\")\n",
    "AZURE_OPENAI_API_KEY = os.getenv(\"AZURE_OPENAI_API_KEY\")\n",
    "AZURE_BASE_URL = os.getenv(\"AZURE_BASE_URL\")\n",
    "AZURE_RESOURCE_NAME = os.getenv(\"AZURE_RESOURCE_NAME\")\n",
    "\n",
    "print(WEAVIATE_HTTP_URL)\n",
    "print(WEAVIATE_GRPC_URL)\n",
    "print(AZURE_OPENAI_API_KEY)\n",
    "print(AZURE_BASE_URL)\n",
    "print(AZURE_RESOURCE_NAME)"
   ]
  },
  {
   "cell_type": "markdown",
   "metadata": {},
   "source": [
    "## Generate query from prompt"
   ]
  },
  {
   "cell_type": "code",
   "execution_count": null,
   "metadata": {},
   "outputs": [],
   "source": [
    "from openai import AzureOpenAI\n",
    "\n",
    "# point to cert chain\n",
    "os.environ['SSL_CERT_FILE'] = 'ca-bundle-full.crt'\n",
    "# Notice the AZURE_OPENAI_API_KEY environment variable is required\n",
    "openai_client = AzureOpenAI(\n",
    "    azure_endpoint=AZURE_BASE_URL,\n",
    "    api_version=AZURE_RESOURCE_NAME, # \"2024-07-01-preview\",\n",
    "    api_key=AZURE_OPENAI_API_KEY\n",
    ")"
   ]
  },
  {
   "cell_type": "code",
   "execution_count": null,
   "metadata": {},
   "outputs": [],
   "source": [
    "# PURE OpenAI\n",
    "# from openai import OpenAI\n",
    "\n",
    "# openai_client = OpenAI(\n",
    "#     api_key=openai_key,\n",
    "#     # TODO: make sure this works with a custom openai url\n",
    "#     base_url=f\"{openai_url}/v1\",\n",
    "#     project=project\n",
    "# )"
   ]
  },
  {
   "cell_type": "code",
   "execution_count": null,
   "metadata": {},
   "outputs": [],
   "source": [
    "def generate_query_from_promt(prompt):\n",
    "    response = openai_client.chat.completions.create(\n",
    "        model=\"gpt-3.5-turbo\",\n",
    "        messages=[\n",
    "            { \"role\": \"system\", \"content\": \"Your job is to extract a query from the provided user prompt, the query will then be used to run a query in a vector database.\" },\n",
    "            { \n",
    "                \"role\": \"user\",\n",
    "                \"content\": f\"Please give me a 2-3 word query that can be used to find relevant info to the following prompt - {prompt}\"\n",
    "            },\n",
    "        ]\n",
    "    )\n",
    "    return response.choices[0].message.content"
   ]
  },
  {
   "cell_type": "code",
   "execution_count": null,
   "metadata": {},
   "outputs": [],
   "source": [
    "# Example of how to generate a query from a prompt\n",
    "generate_query_from_promt(\"Where do the tallest penguins live?\")"
   ]
  },
  {
   "cell_type": "markdown",
   "metadata": {},
   "source": [
    "## Connect to Weaviate"
   ]
  },
  {
   "cell_type": "code",
   "execution_count": null,
   "metadata": {},
   "outputs": [],
   "source": [
    "import weaviate\n",
    "# from weaviate.classes.init import AdditionalConfig, Timeout\n",
    "\n",
    "client = weaviate.connect_to_custom(\n",
    "    http_host=WEAVIATE_HTTP_URL,\n",
    "    http_port=80,\n",
    "    http_secure=False,\n",
    "    grpc_host=WEAVIATE_GRPC_URL,\n",
    "    grpc_port=50051,\n",
    "    grpc_secure=False,\n",
    "\n",
    "    additional_headers = {\n",
    "        \"X-Azure-Api-Key\": AZURE_OPENAI_API_KEY\n",
    "    },\n",
    "\n",
    "    # additional_config=AdditionalConfig(\n",
    "    #     timeout=Timeout(init=2, query=45, insert=120),  # Values in seconds\n",
    "    # )\n",
    ")\n",
    "\n",
    "client.is_ready()"
   ]
  },
  {
   "cell_type": "markdown",
   "metadata": {},
   "source": [
    "## Two-step RAG"
   ]
  },
  {
   "cell_type": "code",
   "execution_count": null,
   "metadata": {},
   "outputs": [],
   "source": [
    "def two_step_rag(user_prompt):\n",
    "    # Step 1\n",
    "    prompt = user_prompt + \" Please only use the provided content with this prompt. Don't make things up.\"\n",
    "    \n",
    "    generated_query = generate_query_from_promt(prompt)\n",
    "    print(\"=== Generated Query ===\")\n",
    "    print(f\"Generated query: {generated_query}\")\n",
    "\n",
    "    # Step 2\n",
    "    wiki = client.collections.get(\"Wiki\")\n",
    "\n",
    "    response = wiki.generate.near_text(\n",
    "        query=generated_query,\n",
    "        limit=3,\n",
    "        grouped_task=prompt,\n",
    "        grouped_properties=[\"text\", \"title\"]\n",
    "    )\n",
    "\n",
    "    # Print results\n",
    "    print(\"\\n=== Generated Response ===\")\n",
    "    print(response.generated)\n",
    "\n",
    "    print(\"\\n=== Source ===\")\n",
    "    for item in response.objects:\n",
    "        print(item.properties)"
   ]
  },
  {
   "cell_type": "code",
   "execution_count": null,
   "metadata": {},
   "outputs": [],
   "source": [
    "# two_step_rag(\"What wild animals do we know about?\")\n",
    "two_step_rag(\"Please provide an explanation at a highschool level. How do airplanes fly?\")"
   ]
  },
  {
   "cell_type": "code",
   "execution_count": null,
   "metadata": {},
   "outputs": [],
   "source": [
    "two_step_rag(\"What are the pros and cons of automation using computer?\")"
   ]
  },
  {
   "cell_type": "code",
   "execution_count": null,
   "metadata": {},
   "outputs": [],
   "source": [
    "two_step_rag(\"How do CPUs work?\")"
   ]
  },
  {
   "cell_type": "markdown",
   "metadata": {},
   "source": [
    "## Close the client"
   ]
  },
  {
   "cell_type": "code",
   "execution_count": null,
   "metadata": {},
   "outputs": [],
   "source": [
    "client.close()"
   ]
  }
 ],
 "metadata": {
  "kernelspec": {
   "display_name": ".venv",
   "language": "python",
   "name": "python3"
  },
  "language_info": {
   "codemirror_mode": {
    "name": "ipython",
    "version": 3
   },
   "file_extension": ".py",
   "mimetype": "text/x-python",
   "name": "python",
   "nbconvert_exporter": "python",
   "pygments_lexer": "ipython3",
   "version": "3.11.8"
  }
 },
 "nbformat": 4,
 "nbformat_minor": 2
}
