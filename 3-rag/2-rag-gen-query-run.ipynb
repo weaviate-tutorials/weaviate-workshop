{
 "cells": [
  {
   "cell_type": "code",
   "execution_count": 1,
   "metadata": {},
   "outputs": [],
   "source": [
    "# !pip install openai"
   ]
  },
  {
   "cell_type": "code",
   "execution_count": 2,
   "metadata": {},
   "outputs": [
    {
     "name": "stdout",
     "output_type": "stream",
     "text": [
      "cwzujlbgtk\n",
      "L1FUbzRPaU\n",
      "sk-proj-iu\n"
     ]
    }
   ],
   "source": [
    "import os\n",
    "from dotenv import load_dotenv\n",
    "\n",
    "load_dotenv()\n",
    "\n",
    "WEAVIATE_URL = os.getenv(\"WEAVIATE_URL\")\n",
    "WEAVIATE_KEY = os.getenv(\"WEAVIATE_KEY\")\n",
    "OPENAI_API_KEY = os.getenv(\"OPENAI_API_KEY\")\n",
    "\n",
    "print(WEAVIATE_URL[:10])\n",
    "print(WEAVIATE_KEY[:10])\n",
    "print(OPENAI_API_KEY[:10])"
   ]
  },
  {
   "cell_type": "markdown",
   "metadata": {},
   "source": [
    "## Generate query from prompt"
   ]
  },
  {
   "cell_type": "code",
   "execution_count": 3,
   "metadata": {},
   "outputs": [],
   "source": [
    "from openai import OpenAI\n",
    "\n",
    "openai_client = OpenAI(\n",
    "    api_key=OPENAI_API_KEY,\n",
    "    base_url=\"https://api.openai.com/v1\",\n",
    ")"
   ]
  },
  {
   "cell_type": "code",
   "execution_count": 4,
   "metadata": {},
   "outputs": [],
   "source": [
    "def generate_query_from_promt(prompt):\n",
    "    response = openai_client.chat.completions.create(\n",
    "        model=\"gpt-3.5-turbo\",\n",
    "        messages=[\n",
    "            { \"role\": \"system\", \"content\": \"Your job is to extract a query from the provided user prompt, the query will then be used to run a query in a vector database.\" },\n",
    "            { \n",
    "                \"role\": \"user\",\n",
    "                \"content\": f\"Please give me a 2-3 word query that can be used to find relevant info to the following prompt - {prompt}\"\n",
    "            },\n",
    "        ]\n",
    "    )\n",
    "    return response.choices[0].message.content"
   ]
  },
  {
   "cell_type": "code",
   "execution_count": 5,
   "metadata": {},
   "outputs": [
    {
     "data": {
      "text/plain": [
       "'\"Tallest penguins location\"'"
      ]
     },
     "execution_count": 5,
     "metadata": {},
     "output_type": "execute_result"
    }
   ],
   "source": [
    "# Example of how to generate a query from a prompt\n",
    "generate_query_from_promt(\"Where do the tallest penguins live?\")"
   ]
  },
  {
   "cell_type": "markdown",
   "metadata": {},
   "source": [
    "## Connect to Weaviate"
   ]
  },
  {
   "cell_type": "code",
   "execution_count": 6,
   "metadata": {},
   "outputs": [
    {
     "data": {
      "text/plain": [
       "True"
      ]
     },
     "execution_count": 6,
     "metadata": {},
     "output_type": "execute_result"
    }
   ],
   "source": [
    "import weaviate\n",
    "from weaviate.classes.init import Auth\n",
    "# from weaviate.classes.init import AdditionalConfig, Timeout\n",
    "\n",
    "client = weaviate.connect_to_weaviate_cloud(\n",
    "    cluster_url=WEAVIATE_URL,\n",
    "    auth_credentials=Auth.api_key(WEAVIATE_KEY),\n",
    "\n",
    "    headers = {\n",
    "        \"X-OpenAI-Api-Key\": OPENAI_API_KEY\n",
    "    },\n",
    "\n",
    "    # additional_config=AdditionalConfig(\n",
    "    #     timeout=Timeout(init=2, query=45, insert=120),  # Values in seconds\n",
    "    # )\n",
    ")\n",
    "\n",
    "client.is_ready()"
   ]
  },
  {
   "cell_type": "markdown",
   "metadata": {},
   "source": [
    "## Two-step RAG"
   ]
  },
  {
   "cell_type": "code",
   "execution_count": 7,
   "metadata": {},
   "outputs": [],
   "source": [
    "def two_step_rag(user_prompt):\n",
    "    # Step 1\n",
    "    prompt = user_prompt + \" Please only use the provided content with this prompt. Don't make things up.\"\n",
    "    \n",
    "    generated_query = generate_query_from_promt(prompt)\n",
    "    print(\"=== Generated Query ===\")\n",
    "    print(f\"Generated query: {generated_query}\")\n",
    "\n",
    "    # Step 2\n",
    "    wiki = client.collections.get(\"Wiki\")\n",
    "\n",
    "    response = wiki.generate.near_text(\n",
    "        query=generated_query,\n",
    "        limit=3,\n",
    "        grouped_task=prompt,\n",
    "        grouped_properties=[\"text\", \"title\"]\n",
    "    )\n",
    "\n",
    "    # Print results\n",
    "    print(\"\\n=== Generated Response ===\")\n",
    "    print(response.generative.text)\n",
    "\n",
    "    print(\"\\n=== Source ===\")\n",
    "    for item in response.objects:\n",
    "        print(item.properties)"
   ]
  },
  {
   "cell_type": "code",
   "execution_count": 8,
   "metadata": {},
   "outputs": [
    {
     "name": "stdout",
     "output_type": "stream",
     "text": [
      "=== Generated Query ===\n",
      "Generated query: How airplanes fly\n",
      "\n",
      "=== Generated Response ===\n",
      "Airplanes fly mainly because of their wings, which are crucial for creating a force called lift. Lift works against gravity, allowing the airplane to rise off the ground. Here's how it happens:\n",
      "\n",
      "When an airplane moves forward, air flows around its wings. The design of the wings helps push air downward. According to Bernoulli's principle, air moves faster over the top of the wing than underneath it. This creates a difference in pressure, with higher pressure on the bottom of the wing pushing the airplane upward.\n",
      "\n",
      "Wings can also have flaps at the back, which can be extended to increase the wing's surface area. This increased size generates more lift but also more drag, which can help the plane fly more slowly without stalling. That's why flaps are commonly used during takeoff and landing.\n",
      "\n",
      "In summary, airplanes utilize their wings to generate lift by manipulating airflow and air pressure, allowing them to soar through the skies.\n",
      "\n",
      "=== Source ===\n",
      "{'text': \"The wings are the most important part because they are what makes the plane fly. The wings create a force called lift that goes against gravity which makes the plane get off the ground. When air flows around the wing (which happens when the plane moves forward) the wing pushes air down, which in turn pushes the plane up. Lift can also be explained using Bernoulli's principle; since wings are designed so that air goes faster on the top of the wing than on the bottom, the higher pressure on the bottom will push the plane up.  Some wings have panels on the back called flaps. Flaps can be extended to make the wing bigger. This makes the wing make more lift, but also more drag. This lets the plane fly slower without stalling, so flaps are often used during takeoff and landing.\", 'title': 'Fixed-wing aircraft', 'wiki_id': '20231101.simple_4700_4', 'url': 'https://simple.wikipedia.org/wiki/Fixed-wing%20aircraft'}\n",
      "{'text': 'Since early times, air has been used to create technology. Ships moved with sails and windmills used the mechanical motion of air. Aircraft use propellers to move air over a wing, which allows them to fly. Pneumatics use air pressure to move things. Since the late 1900s, air power is also used to generate electricity.', 'title': 'Air', 'wiki_id': '20231101.simple_9_4', 'url': 'https://simple.wikipedia.org/wiki/Air'}\n",
      "{'text': 'Takeoff is the part of flight in which an aircraft goes from moving along the ground (taxiing) to flying in the air, usually on a runway. For balloons, helicopters and some special aircraft (such as the Harrier), no runway is needed.  Takeoff is the opposite of landing.', 'title': 'Takeoff', 'wiki_id': '20231101.simple_68945_0', 'url': 'https://simple.wikipedia.org/wiki/Takeoff'}\n"
     ]
    }
   ],
   "source": [
    "# two_step_rag(\"What wild animals do we know about?\")\n",
    "two_step_rag(\"Please provide an explanation at a highschool level. How do airplanes fly?\")"
   ]
  },
  {
   "cell_type": "code",
   "execution_count": 9,
   "metadata": {},
   "outputs": [
    {
     "name": "stdout",
     "output_type": "stream",
     "text": [
      "=== Generated Query ===\n",
      "Generated query: pros cons automation\n",
      "\n",
      "=== Generated Response ===\n",
      "**Pros of Automation Using Computers:**\n",
      "\n",
      "1. **Efficiency and Mastery:** Automation can enhance efficiency as tasks that are initially performed with conscious effort (declarative knowledge) can become semi-automatic or unconscious (procedural knowledge) with mastery, leading to smoother and quicker performance.\n",
      "\n",
      "2. **Reduction of Human Error:** By automating processes, the reliance on human factors decreases, potentially reducing errors that may occur due to fatigue or distraction.\n",
      "\n",
      "3. **Consistency:** Automated systems can provide consistent outputs without the variability that human input typically introduces.\n",
      "\n",
      "**Cons of Automation Using Computers:**\n",
      "\n",
      "1. **Dependency on Specific Drivers:** Automation often requires specific device drivers to function correctly, which can make the setup process time-consuming and dependent on the operating system.\n",
      "\n",
      "2. **Unconscious Biases:** Automation can sometimes lead to a tendency to stick with established choices (anchoring/status quo bias), which may not always be the best option.\n",
      "\n",
      "3. **Limited Accessibility of Processes:** As some processes become unconscious due to automation, they may become less accessible for evaluation or adjustment, potentially making it difficult to adapt when necessary.\n",
      "\n",
      "=== Source ===\n",
      "{'text': 'The obvious drawback is the need for a special device driver to understand the joystick input, and making its use time consuming and operating system-dependent, while the joystick is usually unusable without a special driver (unless multiple operating modes are supported).', 'title': 'Game port', 'wiki_id': '20231101.simple_237707_12', 'url': 'https://simple.wikipedia.org/wiki/Game%20port'}\n",
      "{'text': \"Obviously, by definition, unconscious processes are less available than conscious processes. Yet there is traffic between the two. For example, there is a well-known tendency for all training to move from halting, difficult conscious steps to smooth, semi-automatic performance. That, as Anderson recognised, is a shift from conscious to unconscious control as mastery is achieved. Anderson's key distinction is between 'declarative knowledge' (knowledge we are aware of and can talk about) and 'procedural knowledge', which guides action and decision-making, but which happens outside of conscious 'view'.\", 'title': 'Adaptive unconscious', 'wiki_id': '20231101.simple_321826_20', 'url': 'https://simple.wikipedia.org/wiki/Adaptive%20unconscious'}\n",
      "{'text': 'Anchoring/ Status Quo Bias: When given an option automatically, people tend to want to stay with that choice, whether or not that choice is what should be best for them.', 'title': 'Behavioral economics', 'wiki_id': '20231101.simple_446643_5', 'url': 'https://simple.wikipedia.org/wiki/Behavioral%20economics'}\n"
     ]
    }
   ],
   "source": [
    "two_step_rag(\"What are the pros and cons of automation using computer?\")"
   ]
  },
  {
   "cell_type": "code",
   "execution_count": 10,
   "metadata": {},
   "outputs": [
    {
     "name": "stdout",
     "output_type": "stream",
     "text": [
      "=== Generated Query ===\n",
      "Generated query: \"How CPUs work\"\n",
      "\n",
      "=== Generated Response ===\n",
      "CPUs, or Central Processing Units, are essential components of computers that carry out instructions from programs through a series of operations. Within the CPU, there are various units that perform specific tasks. One crucial part of the CPU is the execution unit. This execution unit is responsible for performing operations or calculations by executing the instructions provided to it.\n",
      "\n",
      "The execution unit might include its own internal control sequence unit to oversee the execution of instructions, and it also contains registers for temporarily holding data. Additionally, it may have specialized components, such as a sub-ALU (Arithmetic Logic Unit) or FPU (Floating Point Unit), which help in carrying out more complex mathematical operations or specific types of calculations efficiently.\n",
      "\n",
      "In summary, a CPU works by utilizing its execution units to perform computations and process instructions, orchestrating the necessary operations to manipulate data as required by software applications.\n",
      "\n",
      "=== Source ===\n",
      "{'text': 'In computer engineering, an execution unit is a part of a CPU (not to be confused with the CPUs main control unit) that performs specific operations or calculations. It may have its own internal control sequence unit, some registers, and other internal units such as a sub-ALU or FPU, or some smaller, more specific components.', 'title': 'Execution unit', 'wiki_id': '20231101.simple_139377_0', 'url': 'https://simple.wikipedia.org/wiki/Execution%20unit'}\n",
      "{'text': \"Lipscomb's later research was on the atomic structure of proteins. He studied how enzymes work. His group used x-ray diffraction to measure the three-dimensional structure of these proteins. He calculated the exact location of every single atom in these large molecules. Lipscomb then studied these details to learn how the molecules work in biological systems.\", 'title': 'William Lipscomb', 'wiki_id': '20231101.simple_311926_5', 'url': 'https://simple.wikipedia.org/wiki/William%20Lipscomb'}\n",
      "{'text': \"Fodor, Jerry A. 2000. The mind doesn't work that way:  the scope and limits of computational psychology.  MIT Press.\", 'title': 'Jerry Fodor', 'wiki_id': '20231101.simple_174363_5', 'url': 'https://simple.wikipedia.org/wiki/Jerry%20Fodor'}\n"
     ]
    }
   ],
   "source": [
    "two_step_rag(\"How do CPUs work?\")"
   ]
  },
  {
   "cell_type": "markdown",
   "metadata": {},
   "source": [
    "## Close the client"
   ]
  },
  {
   "cell_type": "code",
   "execution_count": 11,
   "metadata": {},
   "outputs": [],
   "source": [
    "client.close()"
   ]
  }
 ],
 "metadata": {
  "kernelspec": {
   "display_name": ".venv (3.11.9)",
   "language": "python",
   "name": "python3"
  },
  "language_info": {
   "codemirror_mode": {
    "name": "ipython",
    "version": 3
   },
   "file_extension": ".py",
   "mimetype": "text/x-python",
   "name": "python",
   "nbconvert_exporter": "python",
   "pygments_lexer": "ipython3",
   "version": "3.11.9"
  }
 },
 "nbformat": 4,
 "nbformat_minor": 2
}
