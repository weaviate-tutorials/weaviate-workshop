{
 "cells": [
  {
   "cell_type": "markdown",
   "metadata": {},
   "source": [
    "# RAG - How to query"
   ]
  },
  {
   "cell_type": "code",
   "execution_count": null,
   "metadata": {},
   "outputs": [],
   "source": [
    "import os\n",
    "from dotenv import load_dotenv\n",
    "\n",
    "load_dotenv()\n",
    "\n",
    "WEAVIATE_URL = os.getenv(\"WEAVIATE_URL\")\n",
    "WEAVIATE_KEY = os.getenv(\"WEAVIATE_KEY\")\n",
    "OPENAI_API_KEY = os.getenv(\"OPENAI_API_KEY\")\n",
    "\n",
    "print(WEAVIATE_URL)\n",
    "print(WEAVIATE_KEY)\n",
    "print(OPENAI_API_KEY)"
   ]
  },
  {
   "cell_type": "markdown",
   "metadata": {},
   "source": [
    "## Connect to Weaviate"
   ]
  },
  {
   "cell_type": "code",
   "execution_count": null,
   "metadata": {},
   "outputs": [],
   "source": [
    "import weaviate\n",
    "from weaviate.classes.init import Auth\n",
    "# from weaviate.classes.init import AdditionalConfig, Timeout\n",
    "\n",
    "client = weaviate.connect_to_weaviate_cloud(\n",
    "    cluster_url=WEAVIATE_URL,\n",
    "    auth_credentials=Auth.api_key(WEAVIATE_KEY),\n",
    "\n",
    "    headers = {\n",
    "        \"X-OpenAI-Api-Key\": OPENAI_API_KEY\n",
    "    },\n",
    "\n",
    "    # additional_config=AdditionalConfig(\n",
    "    #     timeout=Timeout(init=2, query=45, insert=120),  # Values in seconds\n",
    "    # )\n",
    ")\n",
    "\n",
    "client.is_ready()"
   ]
  },
  {
   "cell_type": "markdown",
   "metadata": {},
   "source": [
    "### Start with (R) - Retrieval"
   ]
  },
  {
   "cell_type": "code",
   "execution_count": null,
   "metadata": {},
   "outputs": [],
   "source": [
    "wiki = client.collections.get(\"Wiki\")\n",
    "\n",
    "response = wiki.query.near_text(\n",
    "    query=\"How do planes fly\",\n",
    "    limit=5,\n",
    "    return_properties=[\"text\", \"title\"]\n",
    ")\n",
    "\n",
    "for item in response.objects:\n",
    "    print(item.properties)"
   ]
  },
  {
   "cell_type": "markdown",
   "metadata": {},
   "source": [
    "### Add (AG) - augmented generation - to make full RAG"
   ]
  },
  {
   "cell_type": "markdown",
   "metadata": {},
   "source": [
    "#### Single Prompt\n",
    "\n",
    "> Generate a response per **retrieved** object."
   ]
  },
  {
   "cell_type": "code",
   "execution_count": null,
   "metadata": {},
   "outputs": [],
   "source": [
    "wiki = client.collections.get(\"Wiki\")\n",
    "\n",
    "response = wiki.generate.near_text(\n",
    "    query=\"How do planes fly\",\n",
    "    # auto_limit=1,\n",
    "    limit=5,\n",
    "    # TODO: add a single prompt \"Explain what this is about? {text}\"\n",
    ")\n",
    "\n",
    "# NOTE: the generated responses are included with the each object\n",
    "\n",
    "print(\"=== Source ===\")\n",
    "for item in response.objects:\n",
    "    print(item.properties)\n",
    "    # TODO: print the generated object\n",
    "    # print(item.)"
   ]
  },
  {
   "cell_type": "markdown",
   "metadata": {},
   "source": [
    "#### Grouped Task\n",
    "\n",
    "> Generate one response based on all **retrieved** objects."
   ]
  },
  {
   "cell_type": "code",
   "execution_count": null,
   "metadata": {},
   "outputs": [],
   "source": [
    "response = wiki.generate.near_text(\n",
    "    query=\"How do planes fly\",\n",
    "    # auto_limit=1,\n",
    "    limit=5,\n",
    "    # TODO: add a grouped task \"Explain, how do planes fly? Please only use the provided content.\"\n",
    ")\n",
    "\n",
    "print(\"=== Generated Response ===\")\n",
    "# NOTE: group task response is at response.generated\n",
    "# TODO: print the generated text\n",
    "# print()\n",
    "\n",
    "print(\"=== Source ===\")\n",
    "for item in response.objects:\n",
    "    print(item.properties)"
   ]
  },
  {
   "cell_type": "markdown",
   "metadata": {},
   "source": [
    "#### Specify which properties to use for grouped task"
   ]
  },
  {
   "cell_type": "code",
   "execution_count": null,
   "metadata": {},
   "outputs": [],
   "source": [
    "response = wiki.generate.near_text(\n",
    "    query=\"How do planes fly\",\n",
    "    auto_limit=1,\n",
    "    grouped_task=\"Explain, how do planes fly? Please only use the provided content.\",\n",
    "    # TODO: add grouped properties to only use \"text\" and \"title\" \n",
    "    # grouped_properties=[]\n",
    ")\n",
    "\n",
    "print(\"=== Generated Response ===\")\n",
    "print(response.generated)\n",
    "\n",
    "print(\"=== Source ===\")\n",
    "for item in response.objects:\n",
    "    print(item.properties)"
   ]
  },
  {
   "cell_type": "markdown",
   "metadata": {},
   "source": [
    "## Close the client"
   ]
  },
  {
   "cell_type": "code",
   "execution_count": null,
   "metadata": {},
   "outputs": [],
   "source": [
    "client.close()"
   ]
  }
 ],
 "metadata": {
  "kernelspec": {
   "display_name": ".venv",
   "language": "python",
   "name": "python3"
  },
  "language_info": {
   "codemirror_mode": {
    "name": "ipython",
    "version": 3
   },
   "file_extension": ".py",
   "mimetype": "text/x-python",
   "name": "python",
   "nbconvert_exporter": "python",
   "pygments_lexer": "ipython3",
   "version": "3.11.8"
  }
 },
 "nbformat": 4,
 "nbformat_minor": 2
}
