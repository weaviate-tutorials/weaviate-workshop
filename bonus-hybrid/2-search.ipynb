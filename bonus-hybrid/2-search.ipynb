{
  "cells": [
    {
      "cell_type": "markdown",
      "metadata": {
        "id": "rgL-mnMqVf0B"
      },
      "source": [
        "## Connect to Weaviate\n",
        "\n",
        "> Use the same connection as you used in `1-setup`"
      ]
    },
    {
      "cell_type": "markdown",
      "metadata": {},
      "source": [
        "### Connect to WCS"
      ]
    },
    {
      "cell_type": "code",
      "execution_count": null,
      "metadata": {
        "id": "-yrJZaNJwcCc"
      },
      "outputs": [],
      "source": [
        "import weaviate, os, json\n",
        "\n",
        "client = weaviate.connect_to_wcs(\n",
        "    cluster_url=os.getenv(\"WORKSHOP_DEMO_URL\"),\n",
        "    auth_credentials=weaviate.auth.AuthApiKey(os.getenv(\"WORKSHOP_DEMO_KEY_READ\")),\n",
        "    \n",
        "    headers={\n",
        "      \"X-OpenAI-Api-Key\": os.environ[\"OPENAI_API_KEY\"] # replace with your own openai key\n",
        "    }\n",
        ")\n",
        "\n",
        "client.is_ready()\n"
      ]
    },
    {
      "cell_type": "markdown",
      "metadata": {},
      "source": [
        "### Connect with Docker"
      ]
    },
    {
      "cell_type": "code",
      "execution_count": null,
      "metadata": {},
      "outputs": [],
      "source": [
        "import weaviate, os, json\n",
        "\n",
        "# Connect to your local Weaviate instance\n",
        "client = weaviate.connect_to_local(\n",
        "    headers={\n",
        "      \"X-OpenAI-Api-Key\": os.environ[\"OPENAI_API_KEY\"]\n",
        "    }\n",
        ")\n",
        "\n",
        "client.is_ready()"
      ]
    },
    {
      "cell_type": "markdown",
      "metadata": {
        "id": "NISdgAYebLyX"
      },
      "source": [
        "## Search"
      ]
    },
    {
      "cell_type": "markdown",
      "metadata": {
        "id": "svmbj8JC1y0g"
      },
      "source": [
        "The `alpha` parameter determines the weight given to the sparse and dense search methods. `alpha = 0` is pure sparse (bm25) search, whereas `alpha = 1` is pure dense (vector) search. \n",
        "\n",
        "Alpha is an optional parameter. The default is set to `0.75`."
      ]
    },
    {
      "cell_type": "markdown",
      "metadata": {
        "id": "_wsYL2vD5G_9"
      },
      "source": [
        "### Semantic Search"
      ]
    },
    {
      "cell_type": "code",
      "execution_count": null,
      "metadata": {},
      "outputs": [],
      "source": [
        "products = client.collections.get(\"Products\")\n",
        "\n",
        "response = products.query.near_text(\n",
        "    # query=\"yoga top\",\n",
        "    # query=\"running shoes\",\n",
        "    # query=\"buty do biegania dla kobiet\",\n",
        "    query=\"trainers for girls\",\n",
        "    limit=5\n",
        ")\n",
        "\n",
        "for item in response.objects:\n",
        "    print(item.properties[\"name\"])\n",
        "    # print(item.properties[\"sub_category\"], \"\\n\")\n",
        "    # print(json.dumps(item.properties, indent=2))"
      ]
    },
    {
      "cell_type": "markdown",
      "metadata": {},
      "source": [
        "### Keyword Search"
      ]
    },
    {
      "cell_type": "code",
      "execution_count": null,
      "metadata": {},
      "outputs": [],
      "source": [
        "import weaviate.classes.query as wq\n",
        "products = client.collections.get(\"Products\")\n",
        "\n",
        "response = products.query.bm25(\n",
        "    # query=\"running shoes\",\n",
        "    query=\"trainers for girls\",\n",
        "    query_properties=[\"name\"],\n",
        "    limit=5\n",
        ")\n",
        "\n",
        "for item in response.objects:\n",
        "    print(item.properties[\"name\"])"
      ]
    },
    {
      "cell_type": "markdown",
      "metadata": {},
      "source": [
        "### Hybrid Search"
      ]
    },
    {
      "cell_type": "code",
      "execution_count": null,
      "metadata": {
        "colab": {
          "base_uri": "https://localhost:8080/"
        },
        "id": "QI5P082I1yA-",
        "outputId": "ee5c048b-8bfd-4b64-82ff-4b3788180214"
      },
      "outputs": [],
      "source": [
        "products = client.collections.get(\"Products\")\n",
        "\n",
        "response = products.query.hybrid(\n",
        "    # query=\"yoga top\",\n",
        "    # query=\"running shoes\",\n",
        "    # query=\"running shoes for girls\",\n",
        "    query=\"trainers for girls\",\n",
        "    alpha=0.5,\n",
        "    query_properties=[\"name\"],\n",
        "    limit=5,\n",
        ")\n",
        "\n",
        "for item in response.objects:\n",
        "    print(item.properties[\"name\"])"
      ]
    },
    {
      "cell_type": "markdown",
      "metadata": {},
      "source": [
        "### Explain score"
      ]
    },
    {
      "cell_type": "code",
      "execution_count": null,
      "metadata": {},
      "outputs": [],
      "source": [
        "products = client.collections.get(\"Products\")\n",
        "\n",
        "response = products.query.hybrid(\n",
        "    query=\"trainers for girls\",\n",
        "    alpha=0.5,\n",
        "    query_properties=[\"name\"],\n",
        "    limit=5,\n",
        "    return_metadata=wq.MetadataQuery(score=True, explain_score=True)\n",
        ")\n",
        "\n",
        "for item in response.objects:\n",
        "    print(item.properties[\"name\"])\n",
        "\n",
        "    print(item.metadata.explain_score)\n",
        "    print(item.metadata.score)\n",
        "    print(\"=========\")\n"
      ]
    },
    {
      "cell_type": "markdown",
      "metadata": {
        "id": "JcmaLcry7De_"
      },
      "source": [
        "### Fusion Type"
      ]
    },
    {
      "cell_type": "code",
      "execution_count": null,
      "metadata": {
        "colab": {
          "base_uri": "https://localhost:8080/"
        },
        "id": "Cp3hhbNu6Lsv",
        "outputId": "2b2ec312-1d9e-4778-c004-1b624a8169c9"
      },
      "outputs": [],
      "source": [
        "import weaviate.classes.query as wq\n",
        "response = products.query.hybrid(\n",
        "    query=\"trainers for girls\",\n",
        "    query_properties=[\"name\", \"sub_category\"],\n",
        "    alpha=0.5,\n",
        "    limit=5,\n",
        "    fusion_type=wq.HybridFusion.RELATIVE_SCORE,\n",
        "    return_metadata=wq.MetadataQuery(score=True, explain_score=True)\n",
        ")\n",
        "\n",
        "for item in response.objects:\n",
        "    print(item.properties[\"name\"])\n",
        "\n",
        "    print(item.metadata.explain_score)\n",
        "    print(item.metadata.score)\n",
        "    print(\"=========\")"
      ]
    },
    {
      "cell_type": "code",
      "execution_count": null,
      "metadata": {},
      "outputs": [],
      "source": [
        "import weaviate.classes.query as wq\n",
        "response = products.query.hybrid(\n",
        "    query=\"trainers for girls\",\n",
        "    query_properties=[\"name\", \"sub_category\"],\n",
        "    alpha=0.5,\n",
        "    limit=5,\n",
        "    fusion_type=wq.HybridFusion.RANKED,\n",
        "    return_metadata=wq.MetadataQuery(score=True, explain_score=True)\n",
        ")\n",
        "\n",
        "for item in response.objects:\n",
        "    print(item.properties[\"name\"])\n",
        "\n",
        "    print(item.metadata.explain_score)\n",
        "    print(item.metadata.score)\n",
        "    print(\"=========\")"
      ]
    },
    {
      "cell_type": "markdown",
      "metadata": {
        "id": "kkX9rn-25rHC"
      },
      "source": [
        "### Hybrid Search with a `where` filter\n",
        "\n",
        "Find Jeopardy questions about elephants, where the category is set to Animals."
      ]
    },
    {
      "cell_type": "code",
      "execution_count": null,
      "metadata": {
        "colab": {
          "base_uri": "https://localhost:8080/"
        },
        "id": "76CgsOd451PB",
        "outputId": "ce246c90-7bb2-4414-e12c-3d91d3d4b78c"
      },
      "outputs": [],
      "source": [
        "import weaviate.classes.query as wq\n",
        "\n",
        "response = products.query.hybrid(\n",
        "    query=\"running trousers\",\n",
        "    alpha=0.7,\n",
        "    filters=wq.Filter.by_property(\"ratings\").greater_than(4),\n",
        "    limit=3\n",
        ")\n",
        "\n",
        "for item in response.objects:\n",
        "    print(item.properties[\"name\"])\n",
        "    print(item.properties[\"ratings\"])"
      ]
    },
    {
      "cell_type": "markdown",
      "metadata": {},
      "source": [
        "## Generative Search"
      ]
    },
    {
      "cell_type": "code",
      "execution_count": null,
      "metadata": {},
      "outputs": [],
      "source": [
        "response = products.generate.hybrid(\n",
        "    query=\"running trousers\",\n",
        "    alpha=0.5,\n",
        "    filters=wq.Filter.by_property(\"ratings\").greater_than(4),\n",
        "    limit=3,\n",
        "    single_prompt=\"Please give me a concise name for the following product, together with a one-paragraph description. {name}\"\n",
        ")\n",
        "\n",
        "for item in response.objects:\n",
        "    print(\"Original name:\", item.properties[\"name\"])\n",
        "    print(item.generated)\n",
        "    print(\"=======\\n\")"
      ]
    },
    {
      "cell_type": "code",
      "execution_count": null,
      "metadata": {},
      "outputs": [],
      "source": [
        "response = products.generate.hybrid(\n",
        "    query=\"running trousers\",\n",
        "    alpha=0.5,\n",
        "    filters=wq.Filter.by_property(\"ratings\").greater_than(4),\n",
        "    limit=3,\n",
        "    grouped_task=\"What do the provided products have in common? Please write a short advert I could post on LinkedIn.\",\n",
        "    grouped_properties=[\"name\"]\n",
        ")\n",
        "\n",
        "print(response.generated)"
      ]
    }
  ],
  "metadata": {
    "colab": {
      "provenance": []
    },
    "kernelspec": {
      "display_name": "Python 3.11.3 64-bit",
      "language": "python",
      "name": "python3"
    },
    "language_info": {
      "codemirror_mode": {
        "name": "ipython",
        "version": 3
      },
      "file_extension": ".py",
      "mimetype": "text/x-python",
      "name": "python",
      "nbconvert_exporter": "python",
      "pygments_lexer": "ipython3",
      "version": "3.12.2"
    },
    "vscode": {
      "interpreter": {
        "hash": "aee8b7b246df8f9039afb4144a1f6fd8d2ca17a180786b69acc140d282b71a49"
      }
    }
  },
  "nbformat": 4,
  "nbformat_minor": 0
}
