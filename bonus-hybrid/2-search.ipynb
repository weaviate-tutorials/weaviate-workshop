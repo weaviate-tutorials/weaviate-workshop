{
  "cells": [
    {
      "cell_type": "markdown",
      "metadata": {
        "id": "rgL-mnMqVf0B"
      },
      "source": [
        "## Connect to Weaviate\n",
        "\n",
        "> Use the same connection as you used in `1-setup`"
      ]
    },
    {
      "cell_type": "markdown",
      "metadata": {},
      "source": [
        "### Connect to WCS"
      ]
    },
    {
      "cell_type": "code",
      "execution_count": null,
      "metadata": {
        "id": "-yrJZaNJwcCc"
      },
      "outputs": [],
      "source": [
        "import weaviate, os, json\n",
        "\n",
        "client = weaviate.connect_to_wcs(\n",
        "    cluster_url=os.getenv(\"WORKSHOP_DEMO_URL\"),\n",
        "    auth_credentials=weaviate.auth.AuthApiKey(os.getenv(\"WORKSHOP_DEMO_KEY_READ\")),\n",
        "    \n",
        "    headers={\n",
        "      \"X-OpenAI-Api-Key\": os.environ[\"OPENAI_API_KEY\"] # replace with your own openai key\n",
        "    }\n",
        ")\n",
        "\n",
        "client.is_ready()\n"
      ]
    },
    {
      "cell_type": "markdown",
      "metadata": {},
      "source": [
        "### Connect with Docker"
      ]
    },
    {
      "cell_type": "code",
      "execution_count": null,
      "metadata": {},
      "outputs": [],
      "source": [
        "import weaviate, os, json\n",
        "\n",
        "# Connect to your local Weaviate instance\n",
        "client = weaviate.connect_to_local(\n",
        "    headers={\n",
        "      \"X-OpenAI-Api-Key\": os.environ[\"OPENAI_API_KEY\"]\n",
        "    }\n",
        ")\n",
        "\n",
        "client.is_ready()"
      ]
    },
    {
      "cell_type": "markdown",
      "metadata": {
        "id": "NISdgAYebLyX"
      },
      "source": [
        "## Search"
      ]
    },
    {
      "cell_type": "markdown",
      "metadata": {
        "id": "svmbj8JC1y0g"
      },
      "source": [
        "The `alpha` parameter determines the weight given to the sparse and dense search methods. `alpha = 0` is pure sparse (bm25) search, whereas `alpha = 1` is pure dense (vector) search. \n",
        "\n",
        "Alpha is an optional parameter. The default is set to `0.75`."
      ]
    },
    {
      "cell_type": "markdown",
      "metadata": {
        "id": "_wsYL2vD5G_9"
      },
      "source": [
        "### Semantic Search"
      ]
    },
    {
      "cell_type": "code",
      "execution_count": 8,
      "metadata": {},
      "outputs": [
        {
          "name": "stdout",
          "output_type": "stream",
          "text": [
            "Bulicorn Women's Cute Sports Running Shoes,Walking, Gym Casual Sneaker Lace-Up Shoes for Girl's\n",
            "Nike Women's WMNS Gts '16 Txt Training and Running Shoes\n",
            "MINARK Running, Walking, Gym, Training, Casual, Sports Shoes for Women\n",
            "Adidas Womens Racer Tr21 Running Shoe\n",
            "Adidas Girl's Hyperon W Running Shoes\n"
          ]
        }
      ],
      "source": [
        "products = client.collections.get(\"Products\")\n",
        "\n",
        "response = products.query.near_text(\n",
        "    # query=\"yoga top\",\n",
        "    # query=\"running shoes\",\n",
        "    # query=\"buty do biegania dla kobiet\",\n",
        "    query=\"trainers for girls\",\n",
        "    limit=5\n",
        ")\n",
        "\n",
        "for item in response.objects:\n",
        "    print(item.properties[\"name\"])\n",
        "    # print(item.properties[\"sub_category\"], \"\\n\")\n",
        "    # print(json.dumps(item.properties, indent=2))"
      ]
    },
    {
      "cell_type": "markdown",
      "metadata": {},
      "source": [
        "### Keyword Search"
      ]
    },
    {
      "cell_type": "code",
      "execution_count": 11,
      "metadata": {},
      "outputs": [
        {
          "name": "stdout",
          "output_type": "stream",
          "text": [
            "Bacca Bucci Impact Running Shoes/Trainers for Men for Gyming, Cross Training, Heavy Weight Lifting, Cross-fit with Natura...\n",
            "Puma Girls Outerwear\n",
            "Max Girls Leggings\n",
            "Max Baby-Girls Legging\n",
            "Hustle Bustle Always Weird Crop Hoodie fir Girls and Women Crop Sweatshirt and Crop Tops or Girls\n"
          ]
        }
      ],
      "source": [
        "import weaviate.classes.query as wq\n",
        "products = client.collections.get(\"Products\")\n",
        "\n",
        "response = products.query.bm25(\n",
        "    # query=\"running shoes\",\n",
        "    query=\"trainers for girls\",\n",
        "    query_properties=[\"name\"],\n",
        "    limit=5\n",
        ")\n",
        "\n",
        "for item in response.objects:\n",
        "    print(item.properties[\"name\"])"
      ]
    },
    {
      "cell_type": "markdown",
      "metadata": {},
      "source": [
        "### Hybrid Search"
      ]
    },
    {
      "cell_type": "code",
      "execution_count": 15,
      "metadata": {
        "colab": {
          "base_uri": "https://localhost:8080/"
        },
        "id": "QI5P082I1yA-",
        "outputId": "ee5c048b-8bfd-4b64-82ff-4b3788180214"
      },
      "outputs": [
        {
          "name": "stdout",
          "output_type": "stream",
          "text": [
            "Bacca Bucci Impact Running Shoes/Trainers for Men for Gyming, Cross Training, Heavy Weight Lifting, Cross-fit with Natura...\n",
            "Bulicorn Women's Cute Sports Running Shoes,Walking, Gym Casual Sneaker Lace-Up Shoes for Girl's\n",
            "Nike Women's WMNS Gts '16 Txt Training and Running Shoes\n",
            "MINARK Running, Walking, Gym, Training, Casual, Sports Shoes for Women\n",
            "Adidas Womens Racer Tr21 Running Shoe\n"
          ]
        }
      ],
      "source": [
        "products = client.collections.get(\"Products\")\n",
        "\n",
        "response = products.query.hybrid(\n",
        "    # query=\"yoga top\",\n",
        "    # query=\"running shoes\",\n",
        "    # query=\"running shoes for girls\",\n",
        "    query=\"trainers for girls\",\n",
        "    alpha=0.5,\n",
        "    query_properties=[\"name\"],\n",
        "    limit=5,\n",
        ")\n",
        "\n",
        "for item in response.objects:\n",
        "    print(item.properties[\"name\"])"
      ]
    },
    {
      "cell_type": "markdown",
      "metadata": {},
      "source": [
        "### Explain score"
      ]
    },
    {
      "cell_type": "code",
      "execution_count": 16,
      "metadata": {},
      "outputs": [
        {
          "name": "stdout",
          "output_type": "stream",
          "text": [
            "Bacca Bucci Impact Running Shoes/Trainers for Men for Gyming, Cross Training, Heavy Weight Lifting, Cross-fit with Natura...\n",
            "\n",
            "Hybrid (Result Set keyword) Document 6187ac08-ac14-413e-b5b4-0425c87b8684: original score 2.9932787, normalized score: 0.5\n",
            "0.5\n",
            "=========\n",
            "Bulicorn Women's Cute Sports Running Shoes,Walking, Gym Casual Sneaker Lace-Up Shoes for Girl's\n",
            "\n",
            "Hybrid (Result Set vector) Document 66f7bdb5-5dd0-4309-b5cd-ae502b12bbdd: original score 0.8463192, normalized score: 0.5\n",
            "0.5\n",
            "=========\n",
            "Nike Women's WMNS Gts '16 Txt Training and Running Shoes\n",
            "\n",
            "Hybrid (Result Set vector) Document 347a5778-3dd4-496d-b086-5f1654ff5747: original score 0.84567106, normalized score: 0.49073434\n",
            "0.490734338760376\n",
            "=========\n",
            "MINARK Running, Walking, Gym, Training, Casual, Sports Shoes for Women\n",
            "\n",
            "Hybrid (Result Set vector) Document 2238aa59-921d-4091-a844-c64e034959bd: original score 0.84338725, normalized score: 0.4580855\n",
            "0.4580855071544647\n",
            "=========\n",
            "Adidas Womens Racer Tr21 Running Shoe\n",
            "\n",
            "Hybrid (Result Set vector) Document 7e3b294a-53b3-451b-ab0b-d99d1910c630: original score 0.84074783, normalized score: 0.4203531\n",
            "0.42035311460494995\n",
            "=========\n"
          ]
        }
      ],
      "source": [
        "products = client.collections.get(\"Products\")\n",
        "\n",
        "response = products.query.hybrid(\n",
        "    query=\"trainers for girls\",\n",
        "    alpha=0.5,\n",
        "    query_properties=[\"name\"],\n",
        "    limit=5,\n",
        "    return_metadata=wq.MetadataQuery(score=True, explain_score=True)\n",
        ")\n",
        "\n",
        "for item in response.objects:\n",
        "    print(item.properties[\"name\"])\n",
        "\n",
        "    print(item.metadata.explain_score)\n",
        "    print(item.metadata.score)\n",
        "    print(\"=========\")\n"
      ]
    },
    {
      "cell_type": "markdown",
      "metadata": {
        "id": "JcmaLcry7De_"
      },
      "source": [
        "### Fusion Type"
      ]
    },
    {
      "cell_type": "code",
      "execution_count": 17,
      "metadata": {
        "colab": {
          "base_uri": "https://localhost:8080/"
        },
        "id": "Cp3hhbNu6Lsv",
        "outputId": "2b2ec312-1d9e-4778-c004-1b624a8169c9"
      },
      "outputs": [
        {
          "name": "stdout",
          "output_type": "stream",
          "text": [
            "Bacca Bucci Impact Running Shoes/Trainers for Men for Gyming, Cross Training, Heavy Weight Lifting, Cross-fit with Natura...\n",
            "\n",
            "Hybrid (Result Set keyword) Document 6187ac08-ac14-413e-b5b4-0425c87b8684: original score 2.1123748, normalized score: 0.5\n",
            "0.5\n",
            "=========\n",
            "Bulicorn Women's Cute Sports Running Shoes,Walking, Gym Casual Sneaker Lace-Up Shoes for Girl's\n",
            "\n",
            "Hybrid (Result Set vector) Document 66f7bdb5-5dd0-4309-b5cd-ae502b12bbdd: original score 0.84622574, normalized score: 0.5\n",
            "0.5\n",
            "=========\n",
            "Nike Women's WMNS Gts '16 Txt Training and Running Shoes\n",
            "\n",
            "Hybrid (Result Set vector) Document 347a5778-3dd4-496d-b086-5f1654ff5747: original score 0.8456566, normalized score: 0.49186045\n",
            "0.49186044931411743\n",
            "=========\n",
            "MINARK Running, Walking, Gym, Training, Casual, Sports Shoes for Women\n",
            "\n",
            "Hybrid (Result Set vector) Document 2238aa59-921d-4091-a844-c64e034959bd: original score 0.84333205, normalized score: 0.45861775\n",
            "0.4586177468299866\n",
            "=========\n",
            "KASGO Boys & Girls Training Shorts\n",
            "\n",
            "Hybrid (Result Set vector) Document 691cf2f5-a4e4-45d8-aa84-06084b7663de: original score 0.8248632, normalized score: 0.19449691 - \n",
            "Hybrid (Result Set keyword) Document 691cf2f5-a4e4-45d8-aa84-06084b7663de: original score 1.4390152, normalized score: 0.23979507\n",
            "0.4342919886112213\n",
            "=========\n"
          ]
        }
      ],
      "source": [
        "import weaviate.classes.query as wq\n",
        "response = products.query.hybrid(\n",
        "    query=\"trainers for girls\",\n",
        "    query_properties=[\"name\", \"sub_category\"],\n",
        "    alpha=0.5,\n",
        "    limit=5,\n",
        "    fusion_type=wq.HybridFusion.RELATIVE_SCORE,\n",
        "    return_metadata=wq.MetadataQuery(score=True, explain_score=True)\n",
        ")\n",
        "\n",
        "for item in response.objects:\n",
        "    print(item.properties[\"name\"])\n",
        "\n",
        "    print(item.metadata.explain_score)\n",
        "    print(item.metadata.score)\n",
        "    print(\"=========\")"
      ]
    },
    {
      "cell_type": "code",
      "execution_count": 18,
      "metadata": {},
      "outputs": [
        {
          "name": "stdout",
          "output_type": "stream",
          "text": [
            "KASGO Boys & Girls Training Shorts\n",
            "\n",
            "Hybrid (Result Set keyword) Document 691cf2f5-a4e4-45d8-aa84-06084b7663de contributed 0.007462686567164179 to the score\n",
            "Hybrid (Result Set vector) Document 691cf2f5-a4e4-45d8-aa84-06084b7663de contributed 0.005555555555555556 to the score\n",
            "0.013018242083489895\n",
            "=========\n",
            "Qiddo Sports Girls' T-Shirt\n",
            "\n",
            "Hybrid (Result Set keyword) Document 8cea5a2d-2979-4de3-b1b6-36c4c80cefbd contributed 0.0078125 to the score\n",
            "Hybrid (Result Set vector) Document 8cea5a2d-2979-4de3-b1b6-36c4c80cefbd contributed 0.0036496350364963502 to the score\n",
            "0.0114621352404356\n",
            "=========\n",
            "Ckarfe Cycling Shorts for Women and Girls Yoga Shorts Gym Shorts\n",
            "\n",
            "Hybrid (Result Set keyword) Document 7917a661-39fe-4833-a077-f22b3711d049 contributed 0.00510204081632653 to the score\n",
            "Hybrid (Result Set vector) Document 7917a661-39fe-4833-a077-f22b3711d049 contributed 0.00625 to the score\n",
            "0.01135204080492258\n",
            "=========\n",
            "Girls Cotton Lycra Leggings Black\n",
            "\n",
            "Hybrid (Result Set keyword) Document 8c9f6e10-6b8a-464c-a073-a38b65b8320f contributed 0.007692307692307693 to the score\n",
            "Hybrid (Result Set vector) Document 8c9f6e10-6b8a-464c-a073-a38b65b8320f contributed 0.0031847133757961785 to the score\n",
            "0.01087702065706253\n",
            "=========\n",
            "Keepfit™ Yoga Gym Workout and Active Sports Fitness Polyester Spandex Leggings for Girls/Jeggings for Girls & Women with S...\n",
            "\n",
            "Hybrid (Result Set keyword) Document a359bd8f-1f0c-4218-a837-e90577f20f13 contributed 0.005494505494505495 to the score\n",
            "Hybrid (Result Set vector) Document a359bd8f-1f0c-4218-a837-e90577f20f13 contributed 0.0049504950495049506 to the score\n",
            "0.010445000603795052\n",
            "=========\n"
          ]
        }
      ],
      "source": [
        "import weaviate.classes.query as wq\n",
        "response = products.query.hybrid(\n",
        "    query=\"trainers for girls\",\n",
        "    query_properties=[\"name\", \"sub_category\"],\n",
        "    alpha=0.5,\n",
        "    limit=5,\n",
        "    fusion_type=wq.HybridFusion.RANKED,\n",
        "    return_metadata=wq.MetadataQuery(score=True, explain_score=True)\n",
        ")\n",
        "\n",
        "for item in response.objects:\n",
        "    print(item.properties[\"name\"])\n",
        "\n",
        "    print(item.metadata.explain_score)\n",
        "    print(item.metadata.score)\n",
        "    print(\"=========\")"
      ]
    },
    {
      "cell_type": "markdown",
      "metadata": {
        "id": "kkX9rn-25rHC"
      },
      "source": [
        "### Hybrid Search with a `where` filter\n",
        "\n",
        "Find Jeopardy questions about elephants, where the category is set to Animals."
      ]
    },
    {
      "cell_type": "code",
      "execution_count": 23,
      "metadata": {
        "colab": {
          "base_uri": "https://localhost:8080/"
        },
        "id": "76CgsOd451PB",
        "outputId": "ce246c90-7bb2-4414-e12c-3d91d3d4b78c"
      },
      "outputs": [
        {
          "name": "stdout",
          "output_type": "stream",
          "text": [
            "hiker's way Track Pant for Men, Joggers for Men, Trackpants with Two Side Zipper Pocket for Sports Gym Athletic Training W...\n",
            "4.1\n",
            "FITINC Premium Track Pant for Men | Anti Microbial | Superdry | Breathable | Stretchable | 2 YKK Zipper Pockets\n",
            "4.3\n",
            "BLINKIN Women's 3/4 Gym Wear Tights for Women with Side Pockets : Perfect for Active Wear, Yoga & Workout - The Ultimate G...\n",
            "4.1\n"
          ]
        }
      ],
      "source": [
        "import weaviate.classes.query as wq\n",
        "\n",
        "response = products.query.hybrid(\n",
        "    query=\"running trousers\",\n",
        "    alpha=0.7,\n",
        "    filters=wq.Filter.by_property(\"ratings\").greater_than(4),\n",
        "    limit=3\n",
        ")\n",
        "\n",
        "for item in response.objects:\n",
        "    print(item.properties[\"name\"])\n",
        "    print(item.properties[\"ratings\"])"
      ]
    },
    {
      "cell_type": "markdown",
      "metadata": {},
      "source": [
        "## Generative Search"
      ]
    },
    {
      "cell_type": "code",
      "execution_count": 24,
      "metadata": {},
      "outputs": [
        {
          "name": "stdout",
          "output_type": "stream",
          "text": [
            "Original name: hiker's way Track Pant for Men, Joggers for Men, Trackpants with Two Side Zipper Pocket for Sports Gym Athletic Training W...\n",
            "Product Name: Hiker's Way Men's Athletic Track Pants\n",
            "\n",
            "Description: The Hiker's Way Men's Athletic Track Pants are designed for the active man, perfect for hiking, jogging, gym workouts, and athletic training. These versatile track pants feature two side zipper pockets for\n",
            "=======\n",
            "\n",
            "Original name: FITINC Premium Track Pant for Men | Anti Microbial | Superdry | Breathable | Stretchable | 2 YKK Zipper Pockets\n",
            "Product Name: FITINC Men's Premium Anti-Microbial Superdry Track Pants\n",
            "\n",
            "Description: The FITINC Men's Premium Anti-Microbial Superdry Track Pants are designed for the modern, active man. These track pants are not only stylish but also functional, featuring an anti-m\n",
            "=======\n",
            "\n",
            "Original name: BLINKIN Women's 3/4 Gym Wear Tights for Women with Side Pockets : Perfect for Active Wear, Yoga & Workout - The Ultimate G...\n",
            "Product Name: BLINKIN Women's 3/4 Gym Tights with Side Pockets\n",
            "\n",
            "Description: The BLINKIN Women's 3/4 Gym Tights with Side Pockets are the ultimate active wear for women who love to stay fit. These tights are perfect for yoga\n",
            "=======\n",
            "\n"
          ]
        }
      ],
      "source": [
        "response = products.generate.hybrid(\n",
        "    query=\"running trousers\",\n",
        "    alpha=0.5,\n",
        "    filters=wq.Filter.by_property(\"ratings\").greater_than(4),\n",
        "    limit=3,\n",
        "    single_prompt=\"Please give me a concise name for the following product, together with a one-paragraph description. {name}\"\n",
        ")\n",
        "\n",
        "for item in response.objects:\n",
        "    print(\"Original name:\", item.properties[\"name\"])\n",
        "    print(item.generated)\n",
        "    print(\"=======\\n\")"
      ]
    },
    {
      "cell_type": "code",
      "execution_count": 25,
      "metadata": {},
      "outputs": [
        {
          "name": "stdout",
          "output_type": "stream",
          "text": [
            "All the products listed are athletic wear, specifically track pants and gym tights, designed for active lifestyles. They all feature convenient side zipper pockets and are made with materials that ensure comfort and flexibility during workouts or sports activities.\n",
            "\n",
            "Advert: \n",
            "\"Upgrade your workout wardrobe with our range of premium athletic wear! Whether you're hitting the gym, going for a run, or exploring the great outdoors, our track pants and gym tights are the perfect fit. Designed for both men and women, they feature convenient side zipper pockets to keep your essentials safe. Made with breathable, stretchable, and anti-microbial materials, they ensure maximum comfort and flexibility. Don't compromise on style\n"
          ]
        }
      ],
      "source": [
        "response = products.generate.hybrid(\n",
        "    query=\"running trousers\",\n",
        "    alpha=0.5,\n",
        "    filters=wq.Filter.by_property(\"ratings\").greater_than(4),\n",
        "    limit=3,\n",
        "    grouped_task=\"What do the provided products have in common? Please write a short advert I could post on LinkedIn.\",\n",
        "    grouped_properties=[\"name\"]\n",
        ")\n",
        "\n",
        "print(response.generated)"
      ]
    }
  ],
  "metadata": {
    "colab": {
      "provenance": []
    },
    "kernelspec": {
      "display_name": "Python 3.11.3 64-bit",
      "language": "python",
      "name": "python3"
    },
    "language_info": {
      "codemirror_mode": {
        "name": "ipython",
        "version": 3
      },
      "file_extension": ".py",
      "mimetype": "text/x-python",
      "name": "python",
      "nbconvert_exporter": "python",
      "pygments_lexer": "ipython3",
      "version": "3.12.2"
    },
    "vscode": {
      "interpreter": {
        "hash": "aee8b7b246df8f9039afb4144a1f6fd8d2ca17a180786b69acc140d282b71a49"
      }
    }
  },
  "nbformat": 4,
  "nbformat_minor": 0
}
