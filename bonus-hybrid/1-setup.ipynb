{
 "cells": [
  {
   "cell_type": "markdown",
   "metadata": {},
   "source": [
    "## Connect to Weaviate"
   ]
  },
  {
   "cell_type": "markdown",
   "metadata": {},
   "source": [
    "### Connect with WCS\n",
    "> If you have a [WCS](https://console.weaviate.cloud/) instance, you can connect by providing your `WCS cluster URL` and `cluster API key`.\n",
    "\n",
    ">You also need to provide your OpenAI API key (note. this demo works with all Weaviate vectorizers)"
   ]
  },
  {
   "cell_type": "code",
   "execution_count": 1,
   "metadata": {},
   "outputs": [
    {
     "data": {
      "text/plain": [
       "True"
      ]
     },
     "execution_count": 1,
     "metadata": {},
     "output_type": "execute_result"
    }
   ],
   "source": [
    "import weaviate, os, json\n",
    "\n",
    "# Connect to your Weaviate Client Service cluster\n",
    "client = weaviate.connect_to_wcs(\n",
    "    cluster_url=os.getenv(\"WORKSHOP_DEMO_URL\"),\n",
    "    auth_credentials=weaviate.auth.AuthApiKey(os.getenv(\"WORKSHOP_DEMO_KEY_ADMIN\")),\n",
    "    headers={\n",
    "      \"X-OpenAI-Api-Key\": os.environ[\"OPENAI_API_KEY\"]\n",
    "    }\n",
    ")\n",
    "\n",
    "client.is_ready()"
   ]
  },
  {
   "cell_type": "markdown",
   "metadata": {},
   "source": [
    "### Connect with Docker\n",
    "> You can also run this project with Docker Compose. See the provided docker-compose.yml file."
   ]
  },
  {
   "cell_type": "code",
   "execution_count": null,
   "metadata": {},
   "outputs": [],
   "source": [
    "import weaviate, os, json\n",
    "\n",
    "# Connect to your local Weaviate instance\n",
    "client = weaviate.connect_to_local(\n",
    "    headers={\n",
    "      \"X-OpenAI-Api-Key\": os.environ[\"OPENAI_API_KEY\"]\n",
    "    }\n",
    ")\n",
    "\n",
    "client.is_ready()"
   ]
  },
  {
   "cell_type": "markdown",
   "metadata": {},
   "source": [
    "## Create a collection\n",
    "> Collection stores your data and vector embeddings."
   ]
  },
  {
   "cell_type": "code",
   "execution_count": 2,
   "metadata": {},
   "outputs": [
    {
     "name": "stdout",
     "output_type": "stream",
     "text": [
      "Successfully created collection: Products.\n"
     ]
    }
   ],
   "source": [
    "# Note: in practice, you shouldn't rerun this cell, as it deletes your data\n",
    "# in \"JeopardyQuestion\", and then you need to re-import it again.\n",
    "import weaviate.classes.config as wc\n",
    "\n",
    "# Delete the collection if it already exists\n",
    "if (client.collections.exists(\"Products\")):\n",
    "    client.collections.delete(\"Products\")\n",
    "\n",
    "client.collections.create(\n",
    "    name=\"Products\",\n",
    "\n",
    "    properties=[ # defining properties (data schema) is optional\n",
    "        wc.Property(name=\"name\", data_type=wc.DataType.TEXT), \n",
    "        wc.Property(name=\"category\", data_type=wc.DataType.TEXT, skip_vectorization=True), \n",
    "        wc.Property(name=\"sub_category\", data_type=wc.DataType.TEXT, skip_vectorization=True), \n",
    "        wc.Property(name=\"ratings\", data_type=wc.DataType.NUMBER), \n",
    "    ],\n",
    "\n",
    "    # add vectorizer\n",
    "    vectorizer_config=wc.Configure.Vectorizer.text2vec_openai(),\n",
    "    # add generator\n",
    "    generative_config=wc.Configure.Generative.openai(\"gpt-4\")\n",
    ")\n",
    "\n",
    "print(\"Successfully created collection: Products.\")"
   ]
  },
  {
   "cell_type": "markdown",
   "metadata": {},
   "source": [
    "## Import the Data"
   ]
  },
  {
   "cell_type": "code",
   "execution_count": 3,
   "metadata": {},
   "outputs": [
    {
     "name": "stdout",
     "output_type": "stream",
     "text": [
      "{\n",
      "  \"name\": \"QUXIS Portable High Pressure Foot Air Pump Heavy Compressor Cylinder with Pressure Gauge Floor Pump for Motorbike, for Car...\",\n",
      "  \"category\": \"sports & fitness\",\n",
      "  \"sub_category\": \"Cycling\",\n",
      "  \"ratings\": 4.0\n",
      "}\n",
      "{\n",
      "  \"name\": \"Amazon Brand - Symactive Men's Regular Fit T-Shirt\",\n",
      "  \"category\": \"sports & fitness\",\n",
      "  \"sub_category\": \"Running\",\n",
      "  \"ratings\": 4.0\n",
      "}\n",
      "{\n",
      "  \"name\": \"Dr Trust TPE Premium Luxfoam Yoga Mat for Gym Workout and Flooring Exercise Yoga Mat for Men and Women Fitness - 317\",\n",
      "  \"category\": \"sports & fitness\",\n",
      "  \"sub_category\": \"Yoga\",\n",
      "  \"ratings\": 4.4\n",
      "}\n"
     ]
    }
   ],
   "source": [
    "import csv\n",
    "\n",
    "def parse_rating(r):\n",
    "    try:\n",
    "        return float(r)\n",
    "    except ValueError:\n",
    "        return None\n",
    "\n",
    "def read_data(file_url):\n",
    "    data = []\n",
    "    with open(file_url, newline=\"\") as csvfile:\n",
    "        reader = csv.DictReader(csvfile, delimiter=\",\", quotechar='\"')\n",
    "        for row in reader:\n",
    "            data.append({\n",
    "                \"name\": row[\"name\"],\n",
    "                \"category\": row[\"main_category\"],\n",
    "                \"sub_category\": row[\"sub_category\"],\n",
    "                \"ratings\": parse_rating(row[\"ratings\"]),\n",
    "            })\n",
    "    return data\n",
    "\n",
    "cycling_data = read_data(\"data/Cycling.csv\")\n",
    "running_data = read_data(\"data/Running.csv\")\n",
    "yoga_data = read_data(\"data/Yoga.csv\")\n",
    "\n",
    "print(json.dumps(cycling_data[0], indent=2))\n",
    "print(json.dumps(running_data[0], indent=2))\n",
    "print(json.dumps(yoga_data[0], indent=2))"
   ]
  },
  {
   "cell_type": "code",
   "execution_count": 4,
   "metadata": {},
   "outputs": [
    {
     "name": "stdout",
     "output_type": "stream",
     "text": [
      "loading cycling data\n",
      "loading running data\n",
      "loading yoga data\n",
      "Import complete!\n"
     ]
    }
   ],
   "source": [
    "products = client.collections.get(\"Products\")\n",
    "\n",
    "print(\"loading cycling data\")\n",
    "products.data.insert_many(cycling_data)\n",
    "\n",
    "print(\"loading running data\")\n",
    "products.data.insert_many(running_data)\n",
    "\n",
    "print(\"loading yoga data\")\n",
    "products.data.insert_many(yoga_data)\n",
    "\n",
    "print(\"Import complete!\")"
   ]
  },
  {
   "cell_type": "code",
   "execution_count": 5,
   "metadata": {},
   "outputs": [
    {
     "data": {
      "text/plain": [
       "AggregateReturn(properties={}, total_count=3168)"
      ]
     },
     "execution_count": 5,
     "metadata": {},
     "output_type": "execute_result"
    }
   ],
   "source": [
    "products.aggregate.over_all()"
   ]
  }
 ],
 "metadata": {
  "kernelspec": {
   "display_name": ".venv",
   "language": "python",
   "name": "python3"
  },
  "language_info": {
   "codemirror_mode": {
    "name": "ipython",
    "version": 3
   },
   "file_extension": ".py",
   "mimetype": "text/x-python",
   "name": "python",
   "nbconvert_exporter": "python",
   "pygments_lexer": "ipython3",
   "version": "3.12.2"
  }
 },
 "nbformat": 4,
 "nbformat_minor": 2
}
