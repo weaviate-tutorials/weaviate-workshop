{
 "cells": [
  {
   "cell_type": "code",
   "execution_count": 4,
   "metadata": {},
   "outputs": [],
   "source": [
    "from huggingface_hub import list_repo_files, hf_hub_download\n",
    "\n",
    "def list_wiki_datasets():\n",
    "    all_files = list_repo_files(\"weaviate/wiki-sample\", repo_type=\"dataset\")\n",
    "    \n",
    "    # get items with 0001 parquet file, this way we avoid duplicates\n",
    "    items = list(filter(lambda path: path.endswith(\"0001.parquet\"), all_files))\n",
    "\n",
    "    # remove the parquet from the name\n",
    "    return [item.replace(\"/0001.parquet\", \"\") for item in items]\n",
    "\n",
    "def list_dataset_files(dataset):\n",
    "    dataset_files = list_repo_files(\"weaviate/wiki-sample\", repo_type=\"dataset\")\n",
    "\n",
    "    return list(filter(lambda path: path.startswith(dataset), dataset_files))\n",
    "\n",
    "def download_file(file):\n",
    "    hf_hub_download(\n",
    "        repo_id=\"weaviate/wiki-sample\",\n",
    "        filename=file,\n",
    "        repo_type=\"dataset\",\n",
    "        local_dir=\"wiki-data\",\n",
    "    )\n",
    "\n",
    "def download_source_files(dataset=\"no-vectors\", max_files=1000):\n",
    "    files_to_download = list_dataset_files(dataset)\n",
    "    print(f\"Files to download: {files_to_download}\")\n",
    "\n",
    "    for file in files_to_download:\n",
    "        print(f\"Downloading {file}\")\n",
    "        download_file(file)\n",
    "\n",
    "        max_files -= 1\n",
    "        if(max_files == 0): break"
   ]
  },
  {
   "cell_type": "code",
   "execution_count": 5,
   "metadata": {},
   "outputs": [
    {
     "data": {
      "text/plain": [
       "['aws/titan-embed-text-v2',\n",
       " 'cohere/embed-multilingual-v3',\n",
       " 'no-vectors',\n",
       " 'ollama/snowflake-arctic',\n",
       " 'openai/text-embedding-3-large',\n",
       " 'openai/text-embedding-3-small',\n",
       " 'weaviate/snowflake-arctic-v2']"
      ]
     },
     "execution_count": 5,
     "metadata": {},
     "output_type": "execute_result"
    }
   ],
   "source": [
    "list_wiki_datasets()"
   ]
  },
  {
   "cell_type": "code",
   "execution_count": 6,
   "metadata": {},
   "outputs": [
    {
     "name": "stderr",
     "output_type": "stream",
     "text": [
      "Xet Storage is enabled for this repo, but the 'hf_xet' package is not installed. Falling back to regular HTTP download. For better performance, install the package with: `pip install huggingface_hub[hf_xet]` or `pip install hf_xet`\n"
     ]
    },
    {
     "name": "stdout",
     "output_type": "stream",
     "text": [
      "Files to download: ['openai/text-embedding-3-small/0001.parquet', 'openai/text-embedding-3-small/0002.parquet', 'openai/text-embedding-3-small/0003.parquet', 'openai/text-embedding-3-small/0004.parquet', 'openai/text-embedding-3-small/0005.parquet', 'openai/text-embedding-3-small/0006.parquet', 'openai/text-embedding-3-small/0007.parquet', 'openai/text-embedding-3-small/0008.parquet', 'openai/text-embedding-3-small/0009.parquet', 'openai/text-embedding-3-small/0010.parquet', 'openai/text-embedding-3-small/0011.parquet', 'openai/text-embedding-3-small/0012.parquet', 'openai/text-embedding-3-small/0013.parquet', 'openai/text-embedding-3-small/0014.parquet', 'openai/text-embedding-3-small/0015.parquet', 'openai/text-embedding-3-small/0016.parquet', 'openai/text-embedding-3-small/0017.parquet', 'openai/text-embedding-3-small/0018.parquet', 'openai/text-embedding-3-small/0019.parquet', 'openai/text-embedding-3-small/0020.parquet', 'openai/text-embedding-3-small/0021.parquet', 'openai/text-embedding-3-small/0022.parquet', 'openai/text-embedding-3-small/0023.parquet', 'openai/text-embedding-3-small/0024.parquet', 'openai/text-embedding-3-small/0025.parquet', 'openai/text-embedding-3-small/0026.parquet', 'openai/text-embedding-3-small/0027.parquet', 'openai/text-embedding-3-small/0028.parquet', 'openai/text-embedding-3-small/0029.parquet', 'openai/text-embedding-3-small/0030.parquet', 'openai/text-embedding-3-small/0031.parquet', 'openai/text-embedding-3-small/0032.parquet', 'openai/text-embedding-3-small/0033.parquet', 'openai/text-embedding-3-small/0034.parquet', 'openai/text-embedding-3-small/0035.parquet', 'openai/text-embedding-3-small/0036.parquet', 'openai/text-embedding-3-small/0037.parquet', 'openai/text-embedding-3-small/0038.parquet', 'openai/text-embedding-3-small/0039.parquet', 'openai/text-embedding-3-small/0040.parquet', 'openai/text-embedding-3-small/0041.parquet', 'openai/text-embedding-3-small/0042.parquet', 'openai/text-embedding-3-small/0043.parquet', 'openai/text-embedding-3-small/0044.parquet', 'openai/text-embedding-3-small/0045.parquet', 'openai/text-embedding-3-small/0046.parquet', 'openai/text-embedding-3-small/0047.parquet', 'openai/text-embedding-3-small/0048.parquet', 'openai/text-embedding-3-small/0049.parquet', 'openai/text-embedding-3-small/0050.parquet', 'openai/text-embedding-3-small/0051.parquet', 'openai/text-embedding-3-small/0052.parquet', 'openai/text-embedding-3-small/0053.parquet', 'openai/text-embedding-3-small/0054.parquet', 'openai/text-embedding-3-small/0055.parquet', 'openai/text-embedding-3-small/0056.parquet', 'openai/text-embedding-3-small/0057.parquet', 'openai/text-embedding-3-small/0058.parquet', 'openai/text-embedding-3-small/0059.parquet', 'openai/text-embedding-3-small/0060.parquet', 'openai/text-embedding-3-small/0061.parquet', 'openai/text-embedding-3-small/0062.parquet', 'openai/text-embedding-3-small/0063.parquet', 'openai/text-embedding-3-small/0064.parquet', 'openai/text-embedding-3-small/0065.parquet']\n",
      "Downloading openai/text-embedding-3-small/0001.parquet\n"
     ]
    },
    {
     "data": {
      "application/vnd.jupyter.widget-view+json": {
       "model_id": "f08110950ca54ea8860767ddb17f61c4",
       "version_major": 2,
       "version_minor": 0
      },
      "text/plain": [
       "0001.parquet:   0%|          | 0.00/65.0M [00:00<?, ?B/s]"
      ]
     },
     "metadata": {},
     "output_type": "display_data"
    },
    {
     "name": "stderr",
     "output_type": "stream",
     "text": [
      "Xet Storage is enabled for this repo, but the 'hf_xet' package is not installed. Falling back to regular HTTP download. For better performance, install the package with: `pip install huggingface_hub[hf_xet]` or `pip install hf_xet`\n"
     ]
    },
    {
     "name": "stdout",
     "output_type": "stream",
     "text": [
      "Downloading openai/text-embedding-3-small/0002.parquet\n"
     ]
    },
    {
     "data": {
      "application/vnd.jupyter.widget-view+json": {
       "model_id": "9d772d7bfdff4c059529d2a6951dd7f5",
       "version_major": 2,
       "version_minor": 0
      },
      "text/plain": [
       "0002.parquet:   0%|          | 0.00/65.0M [00:00<?, ?B/s]"
      ]
     },
     "metadata": {},
     "output_type": "display_data"
    },
    {
     "name": "stderr",
     "output_type": "stream",
     "text": [
      "Xet Storage is enabled for this repo, but the 'hf_xet' package is not installed. Falling back to regular HTTP download. For better performance, install the package with: `pip install huggingface_hub[hf_xet]` or `pip install hf_xet`\n"
     ]
    },
    {
     "name": "stdout",
     "output_type": "stream",
     "text": [
      "Downloading openai/text-embedding-3-small/0003.parquet\n"
     ]
    },
    {
     "data": {
      "application/vnd.jupyter.widget-view+json": {
       "model_id": "3be0ca6a2ddc487c93899669206e5c5a",
       "version_major": 2,
       "version_minor": 0
      },
      "text/plain": [
       "0003.parquet:   0%|          | 0.00/65.0M [00:00<?, ?B/s]"
      ]
     },
     "metadata": {},
     "output_type": "display_data"
    },
    {
     "name": "stdout",
     "output_type": "stream",
     "text": [
      "Downloading openai/text-embedding-3-small/0004.parquet\n"
     ]
    },
    {
     "name": "stderr",
     "output_type": "stream",
     "text": [
      "Xet Storage is enabled for this repo, but the 'hf_xet' package is not installed. Falling back to regular HTTP download. For better performance, install the package with: `pip install huggingface_hub[hf_xet]` or `pip install hf_xet`\n"
     ]
    },
    {
     "data": {
      "application/vnd.jupyter.widget-view+json": {
       "model_id": "c4fa17ec13ed4349aae69298d5a5ba48",
       "version_major": 2,
       "version_minor": 0
      },
      "text/plain": [
       "0004.parquet:   0%|          | 0.00/65.0M [00:00<?, ?B/s]"
      ]
     },
     "metadata": {},
     "output_type": "display_data"
    },
    {
     "name": "stderr",
     "output_type": "stream",
     "text": [
      "Xet Storage is enabled for this repo, but the 'hf_xet' package is not installed. Falling back to regular HTTP download. For better performance, install the package with: `pip install huggingface_hub[hf_xet]` or `pip install hf_xet`\n"
     ]
    },
    {
     "name": "stdout",
     "output_type": "stream",
     "text": [
      "Downloading openai/text-embedding-3-small/0005.parquet\n"
     ]
    },
    {
     "data": {
      "application/vnd.jupyter.widget-view+json": {
       "model_id": "5a0c851441d14deb9a6b474a7618b206",
       "version_major": 2,
       "version_minor": 0
      },
      "text/plain": [
       "0005.parquet:   0%|          | 0.00/65.0M [00:00<?, ?B/s]"
      ]
     },
     "metadata": {},
     "output_type": "display_data"
    },
    {
     "name": "stderr",
     "output_type": "stream",
     "text": [
      "Xet Storage is enabled for this repo, but the 'hf_xet' package is not installed. Falling back to regular HTTP download. For better performance, install the package with: `pip install huggingface_hub[hf_xet]` or `pip install hf_xet`\n"
     ]
    },
    {
     "name": "stdout",
     "output_type": "stream",
     "text": [
      "Downloading openai/text-embedding-3-small/0006.parquet\n"
     ]
    },
    {
     "data": {
      "application/vnd.jupyter.widget-view+json": {
       "model_id": "b6e038c1b8e44d43a1c202aa7ec222f1",
       "version_major": 2,
       "version_minor": 0
      },
      "text/plain": [
       "0006.parquet:   0%|          | 0.00/65.0M [00:00<?, ?B/s]"
      ]
     },
     "metadata": {},
     "output_type": "display_data"
    },
    {
     "name": "stderr",
     "output_type": "stream",
     "text": [
      "Xet Storage is enabled for this repo, but the 'hf_xet' package is not installed. Falling back to regular HTTP download. For better performance, install the package with: `pip install huggingface_hub[hf_xet]` or `pip install hf_xet`\n"
     ]
    },
    {
     "name": "stdout",
     "output_type": "stream",
     "text": [
      "Downloading openai/text-embedding-3-small/0007.parquet\n"
     ]
    },
    {
     "data": {
      "application/vnd.jupyter.widget-view+json": {
       "model_id": "3f96ce4c517f4a2d98a76a3a80b5fc2c",
       "version_major": 2,
       "version_minor": 0
      },
      "text/plain": [
       "0007.parquet:   0%|          | 0.00/65.0M [00:00<?, ?B/s]"
      ]
     },
     "metadata": {},
     "output_type": "display_data"
    },
    {
     "name": "stderr",
     "output_type": "stream",
     "text": [
      "Xet Storage is enabled for this repo, but the 'hf_xet' package is not installed. Falling back to regular HTTP download. For better performance, install the package with: `pip install huggingface_hub[hf_xet]` or `pip install hf_xet`\n"
     ]
    },
    {
     "name": "stdout",
     "output_type": "stream",
     "text": [
      "Downloading openai/text-embedding-3-small/0008.parquet\n"
     ]
    },
    {
     "data": {
      "application/vnd.jupyter.widget-view+json": {
       "model_id": "5877a0266f1f48ffb957fe49fec8614f",
       "version_major": 2,
       "version_minor": 0
      },
      "text/plain": [
       "0008.parquet:   0%|          | 0.00/65.0M [00:00<?, ?B/s]"
      ]
     },
     "metadata": {},
     "output_type": "display_data"
    },
    {
     "name": "stderr",
     "output_type": "stream",
     "text": [
      "Xet Storage is enabled for this repo, but the 'hf_xet' package is not installed. Falling back to regular HTTP download. For better performance, install the package with: `pip install huggingface_hub[hf_xet]` or `pip install hf_xet`\n"
     ]
    },
    {
     "name": "stdout",
     "output_type": "stream",
     "text": [
      "Downloading openai/text-embedding-3-small/0009.parquet\n"
     ]
    },
    {
     "data": {
      "application/vnd.jupyter.widget-view+json": {
       "model_id": "01f31549cfe94ea590c28f4dcaf9e56e",
       "version_major": 2,
       "version_minor": 0
      },
      "text/plain": [
       "0009.parquet:   0%|          | 0.00/65.0M [00:00<?, ?B/s]"
      ]
     },
     "metadata": {},
     "output_type": "display_data"
    },
    {
     "name": "stderr",
     "output_type": "stream",
     "text": [
      "Xet Storage is enabled for this repo, but the 'hf_xet' package is not installed. Falling back to regular HTTP download. For better performance, install the package with: `pip install huggingface_hub[hf_xet]` or `pip install hf_xet`\n"
     ]
    },
    {
     "name": "stdout",
     "output_type": "stream",
     "text": [
      "Downloading openai/text-embedding-3-small/0010.parquet\n"
     ]
    },
    {
     "data": {
      "application/vnd.jupyter.widget-view+json": {
       "model_id": "308926063f0240ef87de781f857ccb5f",
       "version_major": 2,
       "version_minor": 0
      },
      "text/plain": [
       "0010.parquet:   0%|          | 0.00/65.0M [00:00<?, ?B/s]"
      ]
     },
     "metadata": {},
     "output_type": "display_data"
    }
   ],
   "source": [
    "download_source_files(\"openai/text-embedding-3-small\", 10)"
   ]
  }
 ],
 "metadata": {
  "kernelspec": {
   "display_name": ".venv",
   "language": "python",
   "name": "python3"
  },
  "language_info": {
   "codemirror_mode": {
    "name": "ipython",
    "version": 3
   },
   "file_extension": ".py",
   "mimetype": "text/x-python",
   "name": "python",
   "nbconvert_exporter": "python",
   "pygments_lexer": "ipython3",
   "version": "3.11.8"
  }
 },
 "nbformat": 4,
 "nbformat_minor": 2
}
