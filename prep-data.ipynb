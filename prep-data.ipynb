{
 "cells": [
  {
   "cell_type": "code",
   "execution_count": null,
   "metadata": {},
   "outputs": [],
   "source": [
    "from huggingface_hub import list_repo_files, hf_hub_download\n",
    "\n",
    "def list_wiki_datasets():\n",
    "    all_files = list_repo_files(\"weaviate/wiki-sample\", repo_type=\"dataset\")\n",
    "    \n",
    "    # get items with 0001 parquet file, this way we avoid duplicates\n",
    "    items = list(filter(lambda path: path.endswith(\"0001.parquet\"), all_files))\n",
    "\n",
    "    # remove the parquet from the name\n",
    "    return [item.replace(\"/0001.parquet\", \"\") for item in items]\n",
    "\n",
    "def list_dataset_files(dataset):\n",
    "    dataset_files = list_repo_files(\"weaviate/wiki-sample\", repo_type=\"dataset\")\n",
    "\n",
    "    return list(filter(lambda path: path.startswith(dataset), dataset_files))\n",
    "\n",
    "def download_file(file):\n",
    "    hf_hub_download(\n",
    "        repo_id=\"weaviate/wiki-sample\",\n",
    "        filename=file,\n",
    "        repo_type=\"dataset\",\n",
    "        local_dir=\"wiki-data\",\n",
    "    )\n",
    "\n",
    "def download_source_files(dataset=\"no-vectors\", max_files=1000):\n",
    "    files_to_download = list_dataset_files(dataset)\n",
    "    print(f\"Files to download: {files_to_download}\")\n",
    "\n",
    "    for file in files_to_download:\n",
    "        print(f\"Downloading {file}\")\n",
    "        download_file(file)\n",
    "\n",
    "        max_files -= 1\n",
    "        if(max_files == 0): break"
   ]
  },
  {
   "cell_type": "code",
   "execution_count": null,
   "metadata": {},
   "outputs": [],
   "source": [
    "list_wiki_datasets()"
   ]
  },
  {
   "cell_type": "code",
   "execution_count": null,
   "metadata": {},
   "outputs": [],
   "source": [
    "download_source_files(\"openai/text-embedding-3-small\", 5)"
   ]
  }
 ],
 "metadata": {
  "language_info": {
   "name": "python"
  }
 },
 "nbformat": 4,
 "nbformat_minor": 2
}
