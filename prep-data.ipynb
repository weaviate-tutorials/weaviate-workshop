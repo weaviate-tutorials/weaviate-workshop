{
 "cells": [
  {
   "cell_type": "code",
   "execution_count": 1,
   "metadata": {},
   "outputs": [],
   "source": [
    "from huggingface_hub import list_repo_files, hf_hub_download\n",
    "\n",
    "def list_wiki_datasets():\n",
    "    all_files = list_repo_files(\"weaviate/wiki-sample\", repo_type=\"dataset\")\n",
    "    \n",
    "    # get items with 0001 parquet file, this way we avoid duplicates\n",
    "    items = list(filter(lambda path: path.endswith(\"0001.parquet\"), all_files))\n",
    "\n",
    "    # remove the parquet from the name\n",
    "    return [item.replace(\"/0001.parquet\", \"\") for item in items]\n",
    "\n",
    "def list_dataset_files(dataset):\n",
    "    dataset_files = list_repo_files(\"weaviate/wiki-sample\", repo_type=\"dataset\")\n",
    "\n",
    "    return list(filter(lambda path: path.startswith(dataset), dataset_files))\n",
    "\n",
    "def download_file(file):\n",
    "    hf_hub_download(\n",
    "        repo_id=\"weaviate/wiki-sample\",\n",
    "        filename=file,\n",
    "        repo_type=\"dataset\",\n",
    "        local_dir=\"wiki-data\",\n",
    "    )\n",
    "\n",
    "def download_source_files(dataset=\"no-vectors\", max_files=1000):\n",
    "    files_to_download = list_dataset_files(dataset)\n",
    "    print(f\"Files to download: {files_to_download}\")\n",
    "\n",
    "    for file in files_to_download:\n",
    "        print(f\"Downloading {file}\")\n",
    "        download_file(file)\n",
    "\n",
    "        max_files -= 1\n",
    "        if(max_files == 0): break"
   ]
  },
  {
   "cell_type": "code",
   "execution_count": 2,
   "metadata": {},
   "outputs": [
    {
     "data": {
      "text/plain": [
       "['aws/titan-embed-text-v2',\n",
       " 'cohere/embed-multilingual-v3',\n",
       " 'no-vectors',\n",
       " 'ollama/snowflake-arctic',\n",
       " 'openai/text-embedding-3-large',\n",
       " 'openai/text-embedding-3-small',\n",
       " 'weaviate/snowflake-arctic-v2']"
      ]
     },
     "execution_count": 2,
     "metadata": {},
     "output_type": "execute_result"
    }
   ],
   "source": [
    "list_wiki_datasets()"
   ]
  },
  {
   "cell_type": "code",
   "execution_count": 3,
   "metadata": {},
   "outputs": [
    {
     "name": "stdout",
     "output_type": "stream",
     "text": [
      "Files to download: ['weaviate/snowflake-arctic-v2/0001.parquet', 'weaviate/snowflake-arctic-v2/0002.parquet', 'weaviate/snowflake-arctic-v2/0003.parquet', 'weaviate/snowflake-arctic-v2/0004.parquet', 'weaviate/snowflake-arctic-v2/0005.parquet', 'weaviate/snowflake-arctic-v2/0006.parquet', 'weaviate/snowflake-arctic-v2/0007.parquet', 'weaviate/snowflake-arctic-v2/0008.parquet', 'weaviate/snowflake-arctic-v2/0009.parquet', 'weaviate/snowflake-arctic-v2/0010.parquet', 'weaviate/snowflake-arctic-v2/0011.parquet', 'weaviate/snowflake-arctic-v2/0012.parquet', 'weaviate/snowflake-arctic-v2/0013.parquet', 'weaviate/snowflake-arctic-v2/0014.parquet', 'weaviate/snowflake-arctic-v2/0015.parquet', 'weaviate/snowflake-arctic-v2/0016.parquet', 'weaviate/snowflake-arctic-v2/0017.parquet', 'weaviate/snowflake-arctic-v2/0018.parquet', 'weaviate/snowflake-arctic-v2/0019.parquet', 'weaviate/snowflake-arctic-v2/0020.parquet', 'weaviate/snowflake-arctic-v2/0021.parquet', 'weaviate/snowflake-arctic-v2/0022.parquet', 'weaviate/snowflake-arctic-v2/0023.parquet', 'weaviate/snowflake-arctic-v2/0024.parquet', 'weaviate/snowflake-arctic-v2/0025.parquet']\n",
      "Downloading weaviate/snowflake-arctic-v2/0001.parquet\n"
     ]
    },
    {
     "data": {
      "application/vnd.jupyter.widget-view+json": {
       "model_id": "3e519cbe906e4ab0bead274161edfaf4",
       "version_major": 2,
       "version_minor": 0
      },
      "text/plain": [
       "0001.parquet:   0%|          | 0.00/54.4M [00:00<?, ?B/s]"
      ]
     },
     "metadata": {},
     "output_type": "display_data"
    },
    {
     "name": "stdout",
     "output_type": "stream",
     "text": [
      "Downloading weaviate/snowflake-arctic-v2/0002.parquet\n"
     ]
    },
    {
     "data": {
      "application/vnd.jupyter.widget-view+json": {
       "model_id": "363ba301025f4f40b36604c3dd6fb768",
       "version_major": 2,
       "version_minor": 0
      },
      "text/plain": [
       "0002.parquet:   0%|          | 0.00/54.4M [00:00<?, ?B/s]"
      ]
     },
     "metadata": {},
     "output_type": "display_data"
    },
    {
     "name": "stdout",
     "output_type": "stream",
     "text": [
      "Downloading weaviate/snowflake-arctic-v2/0003.parquet\n"
     ]
    },
    {
     "data": {
      "application/vnd.jupyter.widget-view+json": {
       "model_id": "3934403c5c6344f3b0187b6ca9179fcd",
       "version_major": 2,
       "version_minor": 0
      },
      "text/plain": [
       "0003.parquet:   0%|          | 0.00/54.4M [00:00<?, ?B/s]"
      ]
     },
     "metadata": {},
     "output_type": "display_data"
    },
    {
     "name": "stdout",
     "output_type": "stream",
     "text": [
      "Downloading weaviate/snowflake-arctic-v2/0004.parquet\n"
     ]
    },
    {
     "data": {
      "application/vnd.jupyter.widget-view+json": {
       "model_id": "0e5c8f679d0a4b35b808ad4eb22f4769",
       "version_major": 2,
       "version_minor": 0
      },
      "text/plain": [
       "0004.parquet:   0%|          | 0.00/54.4M [00:00<?, ?B/s]"
      ]
     },
     "metadata": {},
     "output_type": "display_data"
    },
    {
     "name": "stdout",
     "output_type": "stream",
     "text": [
      "Downloading weaviate/snowflake-arctic-v2/0005.parquet\n"
     ]
    },
    {
     "data": {
      "application/vnd.jupyter.widget-view+json": {
       "model_id": "fa78645edf2c428b89a2c897b1164a54",
       "version_major": 2,
       "version_minor": 0
      },
      "text/plain": [
       "0005.parquet:   0%|          | 0.00/54.4M [00:00<?, ?B/s]"
      ]
     },
     "metadata": {},
     "output_type": "display_data"
    },
    {
     "name": "stdout",
     "output_type": "stream",
     "text": [
      "Downloading weaviate/snowflake-arctic-v2/0006.parquet\n"
     ]
    },
    {
     "data": {
      "application/vnd.jupyter.widget-view+json": {
       "model_id": "41fb417a13354565b1605eecbada0345",
       "version_major": 2,
       "version_minor": 0
      },
      "text/plain": [
       "0006.parquet:   0%|          | 0.00/54.5M [00:00<?, ?B/s]"
      ]
     },
     "metadata": {},
     "output_type": "display_data"
    },
    {
     "name": "stdout",
     "output_type": "stream",
     "text": [
      "Downloading weaviate/snowflake-arctic-v2/0007.parquet\n"
     ]
    },
    {
     "data": {
      "application/vnd.jupyter.widget-view+json": {
       "model_id": "993d8cf6f6304d4488fa201f198471b7",
       "version_major": 2,
       "version_minor": 0
      },
      "text/plain": [
       "0007.parquet:   0%|          | 0.00/54.4M [00:00<?, ?B/s]"
      ]
     },
     "metadata": {},
     "output_type": "display_data"
    },
    {
     "name": "stdout",
     "output_type": "stream",
     "text": [
      "Downloading weaviate/snowflake-arctic-v2/0008.parquet\n"
     ]
    },
    {
     "data": {
      "application/vnd.jupyter.widget-view+json": {
       "model_id": "bc2143d20d6e4e51bc6f312426b1d8cc",
       "version_major": 2,
       "version_minor": 0
      },
      "text/plain": [
       "0008.parquet:   0%|          | 0.00/54.4M [00:00<?, ?B/s]"
      ]
     },
     "metadata": {},
     "output_type": "display_data"
    },
    {
     "name": "stdout",
     "output_type": "stream",
     "text": [
      "Downloading weaviate/snowflake-arctic-v2/0009.parquet\n"
     ]
    },
    {
     "data": {
      "application/vnd.jupyter.widget-view+json": {
       "model_id": "039176317d5a4046b03a1c28ca074c10",
       "version_major": 2,
       "version_minor": 0
      },
      "text/plain": [
       "0009.parquet:   0%|          | 0.00/54.4M [00:00<?, ?B/s]"
      ]
     },
     "metadata": {},
     "output_type": "display_data"
    },
    {
     "name": "stdout",
     "output_type": "stream",
     "text": [
      "Downloading weaviate/snowflake-arctic-v2/0010.parquet\n"
     ]
    },
    {
     "data": {
      "application/vnd.jupyter.widget-view+json": {
       "model_id": "b3dcbb7376984250a6f9ae7461190045",
       "version_major": 2,
       "version_minor": 0
      },
      "text/plain": [
       "0010.parquet:   0%|          | 0.00/54.4M [00:00<?, ?B/s]"
      ]
     },
     "metadata": {},
     "output_type": "display_data"
    }
   ],
   "source": [
    "download_source_files(\"weaviate/snowflake-arctic-v2\", 10)"
   ]
  }
 ],
 "metadata": {
  "kernelspec": {
   "display_name": ".venv (3.11.9)",
   "language": "python",
   "name": "python3"
  },
  "language_info": {
   "codemirror_mode": {
    "name": "ipython",
    "version": 3
   },
   "file_extension": ".py",
   "mimetype": "text/x-python",
   "name": "python",
   "nbconvert_exporter": "python",
   "pygments_lexer": "ipython3",
   "version": "3.11.9"
  }
 },
 "nbformat": 4,
 "nbformat_minor": 2
}
