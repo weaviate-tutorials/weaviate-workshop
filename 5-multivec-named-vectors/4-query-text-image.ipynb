{
 "cells": [
  {
   "cell_type": "code",
   "execution_count": null,
   "metadata": {},
   "outputs": [],
   "source": [
    "%env OPENAI_API_KEY=sk-add-your-key"
   ]
  },
  {
   "cell_type": "code",
   "execution_count": null,
   "metadata": {},
   "outputs": [],
   "source": [
    "import weaviate, os\n",
    "\n",
    "# Connect to the local instance deployed with Docker Compose\n",
    "client = weaviate.connect_to_local(\n",
    "    headers={\n",
    "        \"X-OpenAI-Api-Key\": os.getenv(\"OPENAI_API_KEY\"),\n",
    "    }\n",
    ")\n",
    "\n",
    "client.is_ready()"
   ]
  },
  {
   "cell_type": "markdown",
   "metadata": {},
   "source": [
    "## Search\n",
    "### On `title` vector"
   ]
  },
  {
   "cell_type": "code",
   "execution_count": null,
   "metadata": {},
   "outputs": [],
   "source": [
    "import weaviate.classes.query as wq\n",
    "\n",
    "# Get the collection\n",
    "movies = client.collections.get(\"MoviesMM\")\n",
    "\n",
    "# Perform query\n",
    "response = movies.query.near_text(\n",
    "    query=\"A joyful holiday film\",\n",
    "    target_vector=\"title\",  # The target vector to search against\n",
    "    limit=5,\n",
    "    return_metadata=wq.MetadataQuery(distance=True),\n",
    ")\n",
    "\n",
    "# Inspect the response\n",
    "for o in response.objects:\n",
    "    # Print the title and release year (note the release date is a datetime object)\n",
    "    print(\n",
    "        o.properties[\"title\"],\n",
    "        o.properties[\"release_date\"].year,\n",
    "        o.properties[\"tmdb_id\"],\n",
    "        o.properties[\"poster_url\"]\n",
    "    )\n",
    "\n",
    "    # Print the distance of the object from the query\n",
    "    print(\n",
    "        f\"Distance to query: {o.metadata.distance:.3f}\\n\"\n",
    "    )"
   ]
  },
  {
   "cell_type": "markdown",
   "metadata": {},
   "source": [
    "### On `overview` vector"
   ]
  },
  {
   "cell_type": "code",
   "execution_count": null,
   "metadata": {},
   "outputs": [],
   "source": [
    "import weaviate.classes.query as wq\n",
    "\n",
    "# Get the collection\n",
    "movies = client.collections.get(\"MoviesMM\")\n",
    "\n",
    "# Perform query\n",
    "response = movies.query.near_text(\n",
    "    query=\"A joyful holiday film\",\n",
    "    target_vector=\"overview\",  # The target vector to search against\n",
    "    limit=5,\n",
    "    return_properties=[\"title\", \"release_date\", \"tmdb_id\", \"poster_path\"],\n",
    "    return_metadata=wq.MetadataQuery(distance=True),\n",
    ")\n",
    "\n",
    "# Inspect the response\n",
    "for o in response.objects:\n",
    "    # Print the title and release year (note the release date is a datetime object)\n",
    "    print(\n",
    "        o.properties[\"title\"],\n",
    "        o.properties[\"release_date\"].year,\n",
    "        o.properties[\"tmdb_id\"],\n",
    "        o.properties[\"poster_path\"]\n",
    "    )\n",
    "\n",
    "    # Print the distance of the object from the query\n",
    "    print(\n",
    "        f\"Distance to query: {o.metadata.distance:.3f}\\n\"\n",
    "    )"
   ]
  },
  {
   "cell_type": "markdown",
   "metadata": {},
   "source": [
    "### On `poster` vector"
   ]
  },
  {
   "cell_type": "code",
   "execution_count": null,
   "metadata": {},
   "outputs": [],
   "source": [
    "import weaviate.classes.query as wq\n",
    "\n",
    "# Get the collection\n",
    "movies = client.collections.get(\"MoviesMM\")\n",
    "\n",
    "# Perform query\n",
    "response = movies.query.near_text(\n",
    "    query=\"A joyful holiday film\",\n",
    "    target_vector=\"poster\",  # The target vector to search against\n",
    "    limit=5,\n",
    "    return_properties=[\"title\", \"release_date\", \"tmdb_id\", \"poster_path\"],\n",
    "    return_metadata=wq.MetadataQuery(distance=True),\n",
    ")\n",
    "\n",
    "# Inspect the response\n",
    "for o in response.objects:\n",
    "    # Print the title and release year (note the release date is a datetime object)\n",
    "    print(\n",
    "        o.properties[\"title\"],\n",
    "        o.properties[\"release_date\"].year,\n",
    "        o.properties[\"tmdb_id\"],\n",
    "        o.properties[\"poster_path\"]\n",
    "    )\n",
    "\n",
    "    # Print the distance of the object from the query\n",
    "    print(\n",
    "        f\"Distance to query: {o.metadata.distance:.3f}\\n\"\n",
    "    )"
   ]
  },
  {
   "cell_type": "markdown",
   "metadata": {},
   "source": [
    "### `Image search` on `poster` vector"
   ]
  },
  {
   "cell_type": "code",
   "execution_count": null,
   "metadata": {},
   "outputs": [],
   "source": [
    "import weaviate.classes.query as wq\n",
    "from pathlib import Path\n",
    "\n",
    "# Get the collection\n",
    "movies = client.collections.get(\"MoviesMM\")\n",
    "\n",
    "# Perform query\n",
    "response = movies.query.near_image(\n",
    "    # near_image=Path(\"./test/pirate_ship.jpeg\"),\n",
    "    near_image=Path(\"./test/homer.png\"),\n",
    "    target_vector=\"poster\",  # The target vector to search against\n",
    "    limit=5,\n",
    "    return_metadata=wq.MetadataQuery(distance=True),\n",
    ")\n",
    "\n",
    "# Inspect the response\n",
    "for o in response.objects:\n",
    "    # Print the title and release year (note the release date is a datetime object)\n",
    "    print(\n",
    "        o.properties[\"title\"],\n",
    "        o.properties[\"release_date\"].year,\n",
    "        o.properties[\"tmdb_id\"],\n",
    "        o.properties[\"poster_path\"]\n",
    "    )\n",
    "\n",
    "    # Print the distance of the object from the query\n",
    "    print(\n",
    "        f\"Distance to query: {o.metadata.distance:.3f}\\n\"\n",
    "    )"
   ]
  }
 ],
 "metadata": {
  "kernelspec": {
   "display_name": ".venv",
   "language": "python",
   "name": "python3"
  },
  "language_info": {
   "codemirror_mode": {
    "name": "ipython",
    "version": 3
   },
   "file_extension": ".py",
   "mimetype": "text/x-python",
   "name": "python",
   "nbconvert_exporter": "python",
   "pygments_lexer": "ipython3",
   "version": "3.11.8"
  }
 },
 "nbformat": 4,
 "nbformat_minor": 2
}
