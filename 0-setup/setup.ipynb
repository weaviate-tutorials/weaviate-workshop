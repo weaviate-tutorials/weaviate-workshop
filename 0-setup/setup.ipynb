{
 "cells": [
  {
   "cell_type": "code",
   "execution_count": null,
   "metadata": {},
   "outputs": [],
   "source": [
    "!pip install weaviate-client==4.6.1"
   ]
  },
  {
   "cell_type": "code",
   "execution_count": null,
   "metadata": {},
   "outputs": [],
   "source": [
    "import boto3\n",
    "import weaviate\n",
    "import weaviate.classes as wvc\n",
    "\n",
    "# Initialize AWS clients\n",
    "ecs_client = boto3.client('ecs')\n",
    "ec2_client = boto3.client('ec2') \n",
    "\n",
    "# Get the task ARN\n",
    "response = ecs_client.list_tasks(cluster='weaviate-cluster', serviceName='weaviate-service')\n",
    "task_arn = response['taskArns'][0]\n",
    "\n",
    "# Get the ENI ID\n",
    "response = ecs_client.describe_tasks(cluster='weaviate-cluster', tasks=[task_arn])\n",
    "eni_id = next(\n",
    "    detail['value']\n",
    "    for task in response['tasks']\n",
    "    for attachment in task['attachments']\n",
    "    for detail in attachment['details']\n",
    "    if detail['name'] == 'networkInterfaceId'\n",
    ")\n",
    "\n",
    "# Get the Weaviate IP\n",
    "response = ec2_client.describe_network_interfaces(NetworkInterfaceIds=[eni_id])\n",
    "WEAVIATE_IP = response['NetworkInterfaces'][0]['Association']['PublicIp']\n",
    "\n",
    "print(f\"Weaviate IP: {WEAVIATE_IP}\")\n",
    "%store WEAVIATE_IP\n",
    "\n",
    "# Connect to Weaviate\n",
    "client = weaviate.connect_to_custom(\n",
    "    http_host=WEAVIATE_IP,\n",
    "    http_port=\"8080\",\n",
    "    http_secure=False,\n",
    "    grpc_host=WEAVIATE_IP,\n",
    "    grpc_port=\"50051\",\n",
    "    grpc_secure=False\n",
    ")\n",
    "\n",
    "collection = client.collections.get(name='TestCollection')\n",
    "if collection is None:\n",
    "    collection = client.collections.create(\n",
    "        name=\"TestCollection\",\n",
    "        properties=[\n",
    "            wvc.config.Property(\n",
    "                name=\"title\",\n",
    "                data_type=wvc.config.DataType.TEXT\n",
    "            )\n",
    "        ]\n",
    "    )\n",
    "    print(\"Created collection.\")\n",
    "\n",
    "collections = client.collections.list_all()\n",
    "print(collections)\n",
    "client.close()"
   ]
  }
 ],
 "metadata": {
  "language_info": {
   "name": "python"
  }
 },
 "nbformat": 4,
 "nbformat_minor": 2
}
