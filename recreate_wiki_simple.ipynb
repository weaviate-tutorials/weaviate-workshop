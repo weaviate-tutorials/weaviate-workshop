{
 "cells": [
  {
   "cell_type": "markdown",
   "id": "0",
   "metadata": {},
   "source": [
    "# Recreate Wiki Collection with nomic-embed-text"
   ]
  },
  {
   "cell_type": "code",
   "execution_count": null,
   "id": "1",
   "metadata": {},
   "outputs": [],
   "source": [
    "import os\n",
    "from dotenv import load_dotenv\n",
    "\n",
    "load_dotenv()\n",
    "\n",
    "WEAVIATE_KEY = os.getenv(\"WEAVIATE_KEY\")\n",
    "OPENAI_API_KEY = os.getenv(\"OPENAI_API_KEY\")\n",
    "OPENAI_URL = os.getenv(\"OPENAI_URL\")\n",
    "EMBEDDING_MODEL = os.getenv(\"EMBEDDING_MODEL\")\n",
    "\n",
    "print(f\"Weaviate Key: {WEAVIATE_KEY}\")\n",
    "print(f\"OpenAI URL: {OPENAI_URL}\")\n",
    "print(f\"Embedding Model: {EMBEDDING_MODEL}\")"
   ]
  },
  {
   "cell_type": "code",
   "execution_count": null,
   "id": "2",
   "metadata": {},
   "outputs": [],
   "source": [
    "import weaviate\n",
    "from weaviate.classes.init import Auth\n",
    "from weaviate.classes.config import Configure\n",
    "\n",
    "# Connect to Weaviate\n",
    "client = weaviate.connect_to_local(\n",
    "    host=\"localhost\",\n",
    "    port=8080,\n",
    "    grpc_port=50051,\n",
    "    auth_credentials=Auth.api_key(WEAVIATE_KEY),\n",
    "    headers={\n",
    "        \"X-OpenAI-Api-Key\": OPENAI_API_KEY,\n",
    "        \"X-OpenAI-BaseURL\": OPENAI_URL\n",
    "    }\n",
    ")\n",
    "\n",
    "print(f\"Connected: {client.is_ready()}\")"
   ]
  },
  {
   "cell_type": "code",
   "execution_count": null,
   "id": "3",
   "metadata": {},
   "outputs": [],
   "source": [
    "# Delete existing Wiki collection\n",
    "try:\n",
    "    client.collections.delete(\"Wikinew\")\n",
    "    print(\"✓ Deleted existing Wiki collection\")\n",
    "except Exception as e:\n",
    "    print(f\"Collection didn't exist or error: {e}\")"
   ]
  },
  {
   "cell_type": "code",
   "execution_count": null,
   "id": "4",
   "metadata": {},
   "outputs": [],
   "source": [
    "client.collections.create(\n",
    "    name=\"TestCollection\",\n",
    "    \n",
    "    # Using local ollama embedding model\n",
    "    vector_config=Configure.Vectors.text2vec_ollama(\n",
    "        model=\"nomic-embed-text\",\n",
    "        api_endpoint=OPENAI_URL\n",
    "    ),\n",
    "    \n",
    "    # Using local ollama generative model\n",
    "    generative_config=Configure.Generative.ollama(\n",
    "        model=\"qwen2.5:0.5b\",\n",
    "        api_endpoint=OPENAI_URL\n",
    "    ),\n",
    ")"
   ]
  },
  {
   "cell_type": "code",
   "execution_count": null,
   "id": "5",
   "metadata": {},
   "outputs": [],
   "source": [
    "# Create new collection with nomic-embed-text\n",
    "collection = client.collections.create(\n",
    "    name=\"Wikinew\",\n",
    "    # Using local ollama embedding model\n",
    "    vector_config=Configure.Vectors.text2vec_ollama(\n",
    "        model=\"nomic-embed-text\",\n",
    "        api_endpoint=OPENAI_URL\n",
    "    ),\n",
    "    \n",
    "    # Using local ollama generative model\n",
    "    generative_config=Configure.Generative.ollama(\n",
    "        model=\"qwen2.5:0.5b\",\n",
    "        api_endpoint=OPENAI_URL\n",
    "    ),\n",
    ")\n",
    "\n",
    "print(\"✓ Created new Wiki collection with nomic-embed-text\")"
   ]
  },
  {
   "cell_type": "code",
   "execution_count": null,
   "id": "6",
   "metadata": {},
   "outputs": [],
   "source": [
    "# Load data and import\n",
    "from datasets import load_dataset\n",
    "from tqdm import tqdm\n",
    "from weaviate.util import generate_uuid5\n",
    "\n",
    "print(\"Loading data...\")\n",
    "dataset = load_dataset('parquet',\n",
    "                      data_files={'train': ['wiki-data/weaviate/snowflake-arctic-v2/*.parquet']},\n",
    "                      split=\"train\",\n",
    "                      streaming=False)\n",
    "\n",
    "print(f\"Loaded {len(dataset)} items\")\n",
    "\n",
    "# Import data (let Weaviate vectorize)\n",
    "print(\"Importing and vectorizing...\")\n",
    "with collection.batch.fixed_size(batch_size=200, concurrent_requests=2) as batch:\n",
    "    for item in tqdm(dataset, desc=\"Importing\"):\n",
    "        # Only text fields, no vectors\n",
    "        data_obj = {\n",
    "            \"title\": item[\"title\"],\n",
    "            \"text\": item[\"text\"],\n",
    "            \"wiki_id\": item[\"wiki_id\"],\n",
    "            \"url\": item[\"url\"]\n",
    "        }\n",
    "        \n",
    "        id = generate_uuid5(item[\"wiki_id\"])\n",
    "        batch.add_object(data_obj, uuid=id)\n",
    "        \n",
    "        if batch.number_errors > 10:\n",
    "            print(f\"Too many errors: {batch.number_errors}\")\n",
    "            break\n",
    "\n",
    "print(f\"✓ Import completed. Collection count: {len(collection)}\")"
   ]
  },
  {
   "cell_type": "code",
   "execution_count": null,
   "id": "7",
   "metadata": {},
   "outputs": [],
   "source": [
    "client.close()\n",
    "print(\"✓ Done!\")"
   ]
  }
 ],
 "metadata": {
  "kernelspec": {
   "display_name": ".venv (3.11.9)",
   "language": "python",
   "name": "python3"
  },
  "language_info": {
   "codemirror_mode": {
    "name": "ipython",
    "version": 3
   },
   "file_extension": ".py",
   "mimetype": "text/x-python",
   "name": "python",
   "nbconvert_exporter": "python",
   "pygments_lexer": "ipython3",
   "version": "3.11.9"
  }
 },
 "nbformat": 4,
 "nbformat_minor": 5
}
