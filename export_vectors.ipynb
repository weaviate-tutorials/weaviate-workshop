{
 "cells": [
  {
   "cell_type": "markdown",
   "id": "cell-0",
   "metadata": {},
   "source": [
    "# Export Vectorized Data to Parquet Files"
   ]
  },
  {
   "cell_type": "code",
   "execution_count": 1,
   "id": "cell-1",
   "metadata": {},
   "outputs": [
    {
     "name": "stdout",
     "output_type": "stream",
     "text": [
      "Weaviate Key: root-user-key\n",
      "OpenAI URL: http://host.docker.internal:11434\n"
     ]
    }
   ],
   "source": [
    "import os\n",
    "import pandas as pd\n",
    "from dotenv import load_dotenv\n",
    "from tqdm import tqdm\n",
    "\n",
    "load_dotenv()\n",
    "\n",
    "WEAVIATE_KEY = os.getenv(\"WEAVIATE_KEY\")\n",
    "OPENAI_API_KEY = os.getenv(\"OPENAI_API_KEY\")\n",
    "OPENAI_URL = os.getenv(\"OPENAI_URL\")\n",
    "\n",
    "print(f\"Weaviate Key: {WEAVIATE_KEY}\")\n",
    "print(f\"OpenAI URL: {OPENAI_URL}\")"
   ]
  },
  {
   "cell_type": "code",
   "execution_count": 2,
   "id": "cell-2",
   "metadata": {},
   "outputs": [
    {
     "name": "stdout",
     "output_type": "stream",
     "text": [
      "Connected: True\n"
     ]
    }
   ],
   "source": [
    "import weaviate\n",
    "from weaviate.classes.init import Auth\n",
    "\n",
    "# Connect to Weaviate\n",
    "client = weaviate.connect_to_local(\n",
    "    host=\"localhost\",\n",
    "    port=8080,\n",
    "    grpc_port=50051,\n",
    "    auth_credentials=Auth.api_key(WEAVIATE_KEY),\n",
    "    headers={\n",
    "        \"X-OpenAI-Api-Key\": OPENAI_API_KEY,\n",
    "        \"X-OpenAI-BaseURL\": OPENAI_URL\n",
    "    }\n",
    ")\n",
    "\n",
    "print(f\"Connected: {client.is_ready()}\")"
   ]
  },
  {
   "cell_type": "code",
   "execution_count": 3,
   "id": "cell-3",
   "metadata": {},
   "outputs": [
    {
     "name": "stdout",
     "output_type": "stream",
     "text": [
      "Found 0 items in Wiki collection\n"
     ]
    }
   ],
   "source": [
    "# Get Wiki collection and check count\n",
    "wiki = client.collections.get(\"Wiki\")\n",
    "total_count = len(wiki)\n",
    "print(f\"Found {total_count} items in Wiki collection\")"
   ]
  },
  {
   "cell_type": "code",
   "execution_count": 4,
   "id": "cell-4",
   "metadata": {},
   "outputs": [
    {
     "name": "stdout",
     "output_type": "stream",
     "text": [
      "Exporting to: wiki-data/weaviate/nomic-embed-text\n"
     ]
    }
   ],
   "source": [
    "# Create output directory\n",
    "output_dir = \"wiki-data/weaviate/nomic-embed-text\"\n",
    "os.makedirs(output_dir, exist_ok=True)\n",
    "print(f\"Exporting to: {output_dir}\")"
   ]
  },
  {
   "cell_type": "code",
   "execution_count": 5,
   "id": "cell-5",
   "metadata": {},
   "outputs": [
    {
     "name": "stdout",
     "output_type": "stream",
     "text": [
      "Exporting data...\n"
     ]
    },
    {
     "name": "stderr",
     "output_type": "stream",
     "text": [
      "Fetching batches: 0it [00:00, ?it/s]"
     ]
    },
    {
     "name": "stdout",
     "output_type": "stream",
     "text": [
      "Collected 0 items\n"
     ]
    },
    {
     "name": "stderr",
     "output_type": "stream",
     "text": [
      "\n"
     ]
    }
   ],
   "source": [
    "# Export data in batches\n",
    "all_data = []\n",
    "batch_size = 1000\n",
    "\n",
    "print(\"Exporting data...\")\n",
    "for i in tqdm(range(0, total_count, batch_size), desc=\"Fetching batches\"):\n",
    "    response = wiki.query.fetch_objects(\n",
    "        limit=batch_size,\n",
    "        offset=i,\n",
    "        include_vector=True\n",
    "    )\n",
    "\n",
    "    for obj in response.objects:\n",
    "        all_data.append({\n",
    "            \"title\": obj.properties[\"title\"],\n",
    "            \"text\": obj.properties[\"text\"],\n",
    "            \"wiki_id\": obj.properties[\"wiki_id\"],\n",
    "            \"url\": obj.properties[\"url\"],\n",
    "            \"vector\": obj.vector[\"default\"]  # Get the 768-dim vector\n",
    "        })\n",
    "\n",
    "print(f\"Collected {len(all_data)} items\")"
   ]
  },
  {
   "cell_type": "code",
   "execution_count": 6,
   "id": "cell-6",
   "metadata": {},
   "outputs": [
    {
     "name": "stdout",
     "output_type": "stream",
     "text": [
      "Splitting into 0 files...\n",
      "✅ Export completed! 0 files saved to wiki-data/weaviate/nomic-embed-text/\n",
      "Total items exported: 0\n"
     ]
    }
   ],
   "source": [
    "# Convert to DataFrame and save as parquet files\n",
    "df = pd.DataFrame(all_data)\n",
    "\n",
    "# Split into files of 25k each (like original)\n",
    "items_per_file = 25000\n",
    "total_files = (len(df) + items_per_file - 1) // items_per_file\n",
    "\n",
    "print(f\"Splitting into {total_files} files...\")\n",
    "for i in range(total_files):\n",
    "    start_idx = i * items_per_file\n",
    "    end_idx = min((i + 1) * items_per_file, len(df))\n",
    "\n",
    "    file_df = df.iloc[start_idx:end_idx]\n",
    "    filename = f\"{output_dir}/{i+1:04d}.parquet\"\n",
    "    file_df.to_parquet(filename, index=False)\n",
    "    print(f\"✓ Saved {filename} with {len(file_df)} items\")\n",
    "\n",
    "print(f\"✅ Export completed! {total_files} files saved to {output_dir}/\")\n",
    "print(f\"Total items exported: {len(all_data)}\")"
   ]
  },
  {
   "cell_type": "code",
   "execution_count": null,
   "id": "cell-7",
   "metadata": {},
   "outputs": [],
   "source": [
    "# Verify the exported data\n",
    "test_file = f\"{output_dir}/0001.parquet\"\n",
    "test_df = pd.read_parquet(test_file)\n",
    "print(f\"Sample file shape: {test_df.shape}\")\n",
    "print(f\"Columns: {test_df.columns.tolist()}\")\n",
    "print(f\"Vector dimensions: {len(test_df['vector'].iloc[0])}\")"
   ]
  },
  {
   "cell_type": "code",
   "execution_count": null,
   "id": "cell-8",
   "metadata": {},
   "outputs": [],
   "source": [
    "client.close()\n",
    "print(\"✓ Done!\")"
   ]
  }
 ],
 "metadata": {
  "kernelspec": {
   "display_name": ".venv (3.11.9)",
   "language": "python",
   "name": "python3"
  },
  "language_info": {
   "codemirror_mode": {
    "name": "ipython",
    "version": 3
   },
   "file_extension": ".py",
   "mimetype": "text/x-python",
   "name": "python",
   "nbconvert_exporter": "python",
   "pygments_lexer": "ipython3",
   "version": "3.11.9"
  }
 },
 "nbformat": 4,
 "nbformat_minor": 5
}
