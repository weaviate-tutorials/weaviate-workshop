{
 "cells": [
  {
   "cell_type": "code",
   "execution_count": null,
   "metadata": {},
   "outputs": [],
   "source": [
    "import os\n",
    "from dotenv import load_dotenv\n",
    "\n",
    "load_dotenv()\n",
    "\n",
    "WEAVIATE_URL = os.getenv(\"WEAVIATE_URL\")\n",
    "WEAVIATE_KEY = os.getenv(\"WEAVIATE_KEY\")\n",
    "\n",
    "print(WEAVIATE_URL)\n",
    "print(WEAVIATE_KEY)"
   ]
  },
  {
   "cell_type": "markdown",
   "metadata": {},
   "source": [
    "# Setup\n"
   ]
  },
  {
   "cell_type": "code",
   "execution_count": null,
   "metadata": {},
   "outputs": [],
   "source": [
    "import weaviate\n",
    "from weaviate.classes.init import Auth\n",
    "\n",
    "client = weaviate.connect_to_weaviate_cloud(\n",
    "    cluster_url=WEAVIATE_URL,\n",
    "    auth_credentials=Auth.api_key(WEAVIATE_KEY),\n",
    ")\n",
    "\n",
    "client.is_ready()"
   ]
  },
  {
   "cell_type": "markdown",
   "metadata": {},
   "source": [
    "## Create Tenant-ready collection"
   ]
  },
  {
   "cell_type": "code",
   "execution_count": null,
   "metadata": {},
   "outputs": [],
   "source": [
    "from weaviate.classes.config import Configure\n",
    "\n",
    "if (client.collections.exists(\"Play\")):\n",
    "    client.collections.delete(\"Play\")\n",
    "\n",
    "client.collections.create(\n",
    "    \"Play\",\n",
    "    vectorizer_config=Configure.Vectorizer.none(),\n",
    "\n",
    "    multi_tenancy_config=Configure.multi_tenancy(True)\n",
    "\n",
    "    # multi_tenancy_config=Configure.multi_tenancy(\n",
    "    #     enabled=True,\n",
    "    #     auto_tenant_creation=True,\n",
    "    #     auto_tenant_activation=True\n",
    "    # )\n",
    ")"
   ]
  },
  {
   "cell_type": "markdown",
   "metadata": {},
   "source": [
    "## Create tenants\n",
    "> tenant name – must be made of alphanumeric characters (a-z, A-Z, 0-9), underscore (_), and hyphen (-), with a length between 1 and 64 characters'\n"
   ]
  },
  {
   "cell_type": "code",
   "execution_count": null,
   "metadata": {},
   "outputs": [],
   "source": [
    "from weaviate.classes.tenants import Tenant\n",
    "\n",
    "play = client.collections.get(\"Play\")\n",
    "\n",
    "play.tenants.create([\n",
    "    Tenant(name=\"ten_A\"),\n",
    "    Tenant(name=\"ten_B\"),\n",
    "    Tenant(name=\"ten_C\"),\n",
    "    Tenant(name=\"ten_D\"),\n",
    "])"
   ]
  },
  {
   "cell_type": "markdown",
   "metadata": {},
   "source": [
    "## List Tenants"
   ]
  },
  {
   "cell_type": "code",
   "execution_count": null,
   "metadata": {},
   "outputs": [],
   "source": [
    "play.tenants.get()"
   ]
  },
  {
   "cell_type": "code",
   "execution_count": null,
   "metadata": {},
   "outputs": [],
   "source": [
    "play.tenants.exists(\"ten_E\")"
   ]
  },
  {
   "cell_type": "markdown",
   "metadata": {},
   "source": [
    "## Access Tenants"
   ]
  },
  {
   "cell_type": "code",
   "execution_count": null,
   "metadata": {},
   "outputs": [],
   "source": [
    "# this will fail – multi-tenant collections require us to use tenants\n",
    "play.aggregate.over_all()"
   ]
  },
  {
   "cell_type": "code",
   "execution_count": null,
   "metadata": {},
   "outputs": [],
   "source": [
    "tenA = play.with_tenant(\"ten_A\")\n",
    "\n",
    "tenA.aggregate.over_all()"
   ]
  },
  {
   "cell_type": "markdown",
   "metadata": {},
   "source": [
    "### Insert data"
   ]
  },
  {
   "cell_type": "code",
   "execution_count": null,
   "metadata": {},
   "outputs": [],
   "source": [
    "# tenA = client.collections.get(\"Play\").with_tenant(\"ten_A\")\n",
    "play = client.collections.get(\"Play\")\n",
    "tenA = play.with_tenant(\"ten_A\")\n",
    "\n",
    "tenA.data.insert_many([\n",
    "    {\n",
    "       \"title\": \"A book about vector databases\"\n",
    "    },\n",
    "    {\n",
    "       \"title\": \"Tutorial for multimodal collections\"\n",
    "    },\n",
    "])\n",
    "\n",
    "tenA.aggregate.over_all()"
   ]
  },
  {
   "cell_type": "markdown",
   "metadata": {},
   "source": [
    "### Query Example"
   ]
  },
  {
   "cell_type": "code",
   "execution_count": null,
   "metadata": {},
   "outputs": [],
   "source": [
    "from weaviate.classes.query import Filter\n",
    "\n",
    "tenA = client.collections.get(\"Play\").with_tenant(\"ten_A\")\n",
    "\n",
    "response = tenA.query.fetch_objects(\n",
    "    filters=Filter.by_property(\"title\").like(\"about\")\n",
    ")\n",
    "\n",
    "for item in response.objects:\n",
    "    print(item.properties)"
   ]
  },
  {
   "cell_type": "markdown",
   "metadata": {},
   "source": [
    "### Delete Tenants"
   ]
  },
  {
   "cell_type": "code",
   "execution_count": null,
   "metadata": {},
   "outputs": [],
   "source": [
    "play.tenants.remove([\"ten_D\"])\n",
    "play.tenants.get()"
   ]
  },
  {
   "cell_type": "markdown",
   "metadata": {},
   "source": [
    "### Update Tenants – Active & Inactive & Offloaded\n",
    "Tenants can be:\n",
    "* `Active` (default) - active tenants use  `HOT` resources (RAM)\n",
    "* `Inacative` - inactive tenants cannot be search on, their index is not loaded into memory, they don't use (RAM)\n",
    "* `Offloaded` - offloaded tenants are moved to a cloud storage\n",
    "\n",
    "> Tenant offloading, requires an extra configuration, which is out of scope for this workshop.<br/>\n",
    "> You can learn more from [How-to: Configure - Tenant Offloading](https://weaviate.io/developers/weaviate/configuration/tenant-offloading)"
   ]
  },
  {
   "cell_type": "markdown",
   "metadata": {},
   "source": [
    "### Deactivate – make tenant `Inactive`"
   ]
  },
  {
   "cell_type": "code",
   "execution_count": null,
   "metadata": {},
   "outputs": [],
   "source": [
    "from weaviate.classes.tenants import Tenant, TenantActivityStatus\n",
    "\n",
    "play.tenants.update([\n",
    "    Tenant(name=\"ten_A\", activity_status=TenantActivityStatus.INACTIVE),\n",
    "])\n",
    "\n",
    "play.tenants.get()"
   ]
  },
  {
   "cell_type": "markdown",
   "metadata": {},
   "source": [
    "**Cannot search `Inactive` tenants**"
   ]
  },
  {
   "cell_type": "code",
   "execution_count": null,
   "metadata": {},
   "outputs": [],
   "source": [
    "# tenA = client.collections.get(\"Play\").with_tenant(\"ten_A\")\n",
    "\n",
    "response = tenA.query.fetch_objects(\n",
    "    filters=Filter.by_property(\"title\").like(\"about\")\n",
    ")\n",
    "\n",
    "for item in response.objects:\n",
    "    print(item.properties)"
   ]
  },
  {
   "cell_type": "markdown",
   "metadata": {},
   "source": [
    "### Activate - make tenant `Active`\n",
    "\n",
    "> You can't query an inactive tenant, but you can activate it."
   ]
  },
  {
   "cell_type": "code",
   "execution_count": null,
   "metadata": {},
   "outputs": [],
   "source": [
    "play.tenants.update([\n",
    "    Tenant(name=\"ten_A\", activity_status=TenantActivityStatus.ACTIVE),\n",
    "])\n",
    "\n",
    "play.tenants.get()"
   ]
  },
  {
   "cell_type": "code",
   "execution_count": null,
   "metadata": {},
   "outputs": [],
   "source": [
    "response = tenA.query.fetch_objects(\n",
    "    filters=Filter.by_property(\"title\").like(\"about\")\n",
    ")\n",
    "\n",
    "for item in response.objects:\n",
    "    print(item.properties)"
   ]
  },
  {
   "cell_type": "markdown",
   "metadata": {},
   "source": [
    "### Offload - make tenant `offloaded`\n",
    "\n",
    "> Tenant offloading, requires an extra configuration, which is out of scope for this workshop.<br/>\n",
    "> You can learn more from [How-to: Configure - Tenant Offloading](https://weaviate.io/developers/weaviate/configuration/tenant-offloading)"
   ]
  },
  {
   "cell_type": "code",
   "execution_count": null,
   "metadata": {},
   "outputs": [],
   "source": [
    "# play.tenants.update([\n",
    "#     Tenant(name=\"ten_A\", activity_status=TenantActivityStatus.OFFLOADED),\n",
    "# ])\n",
    "\n",
    "# play.tenants.get()"
   ]
  },
  {
   "cell_type": "markdown",
   "metadata": {},
   "source": [
    "## Clean up"
   ]
  },
  {
   "cell_type": "code",
   "execution_count": null,
   "metadata": {},
   "outputs": [],
   "source": [
    "client.collections.delete(\"Play\")"
   ]
  },
  {
   "cell_type": "markdown",
   "metadata": {},
   "source": [
    "## Don't close yet...\n",
    "\n",
    "> You can try again with `auto_tenant_creation=True` and `auto_tenant_activation=True`"
   ]
  },
  {
   "cell_type": "markdown",
   "metadata": {},
   "source": [
    "## Close the client"
   ]
  },
  {
   "cell_type": "code",
   "execution_count": null,
   "metadata": {},
   "outputs": [],
   "source": [
    "client.close()"
   ]
  }
 ],
 "metadata": {
  "kernelspec": {
   "display_name": ".venv",
   "language": "python",
   "name": "python3"
  },
  "language_info": {
   "codemirror_mode": {
    "name": "ipython",
    "version": 3
   },
   "file_extension": ".py",
   "mimetype": "text/x-python",
   "name": "python",
   "nbconvert_exporter": "python",
   "pygments_lexer": "ipython3",
   "version": "3.11.8"
  }
 },
 "nbformat": 4,
 "nbformat_minor": 2
}
