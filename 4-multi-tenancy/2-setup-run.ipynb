{
 "cells": [
  {
   "cell_type": "markdown",
   "metadata": {},
   "source": [
    "# Multi-tenant Chat with Papers - Setup\n",
    "## Get keys and urls"
   ]
  },
  {
   "cell_type": "code",
   "execution_count": null,
   "metadata": {},
   "outputs": [],
   "source": [
    "import os\n",
    "from dotenv import load_dotenv\n",
    "\n",
    "load_dotenv()\n",
    "\n",
    "WEAVIATE_URL = os.getenv(\"WEAVIATE_URL\")\n",
    "WEAVIATE_KEY = os.getenv(\"WEAVIATE_KEY\")\n",
    "\n",
    "print(WEAVIATE_URL[:10])\n",
    "print(WEAVIATE_KEY[:10])"
   ]
  },
  {
   "cell_type": "markdown",
   "metadata": {},
   "source": [
    "## Connect to Weaviate"
   ]
  },
  {
   "cell_type": "code",
   "execution_count": null,
   "metadata": {},
   "outputs": [],
   "source": [
    "import weaviate\n",
    "from weaviate.classes.init import Auth\n",
    "# from weaviate.classes.init import AdditionalConfig, Timeout\n",
    "\n",
    "client = weaviate.connect_to_weaviate_cloud(\n",
    "    cluster_url=WEAVIATE_URL,\n",
    "    auth_credentials=Auth.api_key(WEAVIATE_KEY),\n",
    "\n",
    "    # additional_config=AdditionalConfig(\n",
    "    #     timeout=Timeout(init=2, query=45, insert=120),  # Values in seconds\n",
    "    # )\n",
    ")\n",
    "\n",
    "client.is_ready()"
   ]
  },
  {
   "cell_type": "markdown",
   "metadata": {},
   "source": [
    "## Create Tenant-ready collection"
   ]
  },
  {
   "cell_type": "code",
   "execution_count": null,
   "metadata": {},
   "outputs": [],
   "source": [
    "from weaviate.classes.config import Configure\n",
    "\n",
    "if (client.collections.exists(\"Papers\")):\n",
    "    client.collections.delete(\"Papers\")\n",
    "\n",
    "client.collections.create(\n",
    "    \"Papers\",\n",
    "\n",
    "    vector_config=[\n",
    "        Configure.Vectors.text2vec_weaviate(\n",
    "            name=\"main_vector\",\n",
    "\n",
    "            model=\"Snowflake/snowflake-arctic-embed-l-v2.0\",\n",
    "            source_properties=[\"chunk\"]\n",
    "        )\n",
    "    ],\n",
    "\n",
    "    # supported models: https://weaviate.io/developers/weaviate/model-providers/openai/generative#available-models\n",
    "    generative_config=Configure.Generative.openai(\n",
    "        model=\"gpt-4o-mini\" # gpt-4\n",
    "    ),\n",
    "\n",
    "    multi_tenancy_config=Configure.multi_tenancy(True)\n",
    ")"
   ]
  },
  {
   "cell_type": "markdown",
   "metadata": {},
   "source": [
    "## List Tenants"
   ]
  },
  {
   "cell_type": "code",
   "execution_count": null,
   "metadata": {},
   "outputs": [],
   "source": [
    "papers = client.collections.use(\"Papers\")\n",
    "papers.tenants.get()"
   ]
  },
  {
   "cell_type": "markdown",
   "metadata": {},
   "source": [
    "## Close the client"
   ]
  },
  {
   "cell_type": "code",
   "execution_count": null,
   "metadata": {},
   "outputs": [],
   "source": [
    "client.close()"
   ]
  }
 ],
 "metadata": {
  "kernelspec": {
   "display_name": ".venv (3.11.9)",
   "language": "python",
   "name": "python3"
  },
  "language_info": {
   "codemirror_mode": {
    "name": "ipython",
    "version": 3
   },
   "file_extension": ".py",
   "mimetype": "text/x-python",
   "name": "python",
   "nbconvert_exporter": "python",
   "pygments_lexer": "ipython3",
   "version": "3.11.9"
  }
 },
 "nbformat": 4,
 "nbformat_minor": 2
}
