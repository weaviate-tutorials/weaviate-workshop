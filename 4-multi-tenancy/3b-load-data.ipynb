{
 "cells": [
  {
   "cell_type": "markdown",
   "metadata": {},
   "source": [
    "# Multi-tenant Chat with Papers - Load and chunk papers\n",
    "## Get keys and urls"
   ]
  },
  {
   "cell_type": "code",
   "execution_count": null,
   "metadata": {},
   "outputs": [],
   "source": [
    "import os\n",
    "from dotenv import load_dotenv\n",
    "\n",
    "load_dotenv()\n",
    "\n",
    "WEAVIATE_URL = os.getenv(\"WEAVIATE_URL\")\n",
    "WEAVIATE_KEY = os.getenv(\"WEAVIATE_KEY\")\n",
    "OPENAI_API_KEY = os.getenv(\"OPENAI_API_KEY\")\n",
    "\n",
    "print(WEAVIATE_URL)\n",
    "print(WEAVIATE_KEY)\n",
    "print(OPENAI_API_KEY)"
   ]
  },
  {
   "cell_type": "markdown",
   "metadata": {},
   "source": [
    "## Connect to Weaviate"
   ]
  },
  {
   "cell_type": "code",
   "execution_count": null,
   "metadata": {},
   "outputs": [],
   "source": [
    "import weaviate\n",
    "from weaviate.classes.init import Auth\n",
    "\n",
    "client = weaviate.connect_to_weaviate_cloud(\n",
    "    cluster_url=WEAVIATE_URL,\n",
    "    auth_credentials=Auth.api_key(WEAVIATE_KEY),\n",
    "\n",
    "    headers = {\n",
    "        \"X-OpenAI-Api-Key\": OPENAI_API_KEY\n",
    "    },\n",
    ")\n",
    "\n",
    "client.is_ready()"
   ]
  },
  {
   "cell_type": "markdown",
   "metadata": {},
   "source": [
    "## Load Data from arxiv\n",
    "\n",
    "1. Get chunks from paper - `get_chunks_from_paper`\n",
    "2. Create a tenant for the paper - `create_tenant`\n",
    "3. Batch import chunks - `batch_import_chunks`"
   ]
  },
  {
   "cell_type": "markdown",
   "metadata": {},
   "source": [
    "### 1. Get chunks from paper - `get_chunks_from_paper`"
   ]
  },
  {
   "cell_type": "code",
   "execution_count": null,
   "metadata": {},
   "outputs": [],
   "source": [
    "from distyll.text import from_arxiv_paper\n",
    "from distyll.utils import chunk_text\n",
    "\n",
    "def get_chunks_from_paper(url):\n",
    "    paper = from_arxiv_paper(url)\n",
    "    chunks = chunk_text(source_text=paper[\"text\"])\n",
    "\n",
    "    paper[\"arxiv_id\"] = url.replace(\"https://arxiv.org/pdf/\", \"\").replace(\".pdf\", \"\").replace(\".\", \"-\")\n",
    "    paper[\"chunks\"] = chunks\n",
    "    return paper"
   ]
  },
  {
   "cell_type": "code",
   "execution_count": null,
   "metadata": {},
   "outputs": [],
   "source": [
    "chunked_2212 = get_chunks_from_paper(\"https://arxiv.org/pdf/2212.10496.pdf\")\n",
    "chunked_2212"
   ]
  },
  {
   "cell_type": "markdown",
   "metadata": {},
   "source": [
    "### 2. Create a tenant for the paper - `create_tenant`"
   ]
  },
  {
   "cell_type": "code",
   "execution_count": null,
   "metadata": {},
   "outputs": [],
   "source": [
    "from weaviate.classes.tenants import Tenant\n",
    "papers = client.collections.get(\"Papers\")\n",
    "\n",
    "def create_tenant(chunked_paper):\n",
    "    tenant_name = chunked_paper[\"arxiv_id\"]\n",
    "\n",
    "    papers.tenants.create([\n",
    "        Tenant(name=tenant_name)\n",
    "    ])\n",
    "\n",
    "    return tenant_name"
   ]
  },
  {
   "cell_type": "code",
   "execution_count": null,
   "metadata": {},
   "outputs": [],
   "source": [
    "create_tenant(chunked_2212)"
   ]
  },
  {
   "cell_type": "code",
   "execution_count": null,
   "metadata": {},
   "outputs": [],
   "source": [
    "papers.tenants.get()"
   ]
  },
  {
   "cell_type": "markdown",
   "metadata": {},
   "source": [
    "### 3. Batch import chunks - `batch_import_chunks`"
   ]
  },
  {
   "cell_type": "code",
   "execution_count": null,
   "metadata": {},
   "outputs": [],
   "source": [
    "def batch_import_chunks(chunked_paper):\n",
    "    ten = papers.with_tenant(chunked_paper[\"arxiv_id\"])\n",
    "\n",
    "    i=0\n",
    "    with ten.batch.dynamic() as batch:\n",
    "        for chunk in chunked_paper[\"chunks\"]:\n",
    "            batch.add_object({\n",
    "                \"title\": chunked_paper[\"title\"],\n",
    "                \"url\": chunked_paper[\"url\"],\n",
    "                \"chunk\": chunk,\n",
    "                \"chunk_no\": i,\n",
    "            })\n",
    "            i+=1\n",
    "\n",
    "    # if(len(papers.batch.failed_objects)>0):\n",
    "    if(len(ten.batch.failed_objects)>0):\n",
    "        print(\"Import complete with errors\")\n",
    "        for err in papers.batch.failed_objects:\n",
    "            print(err)\n",
    "    else:\n",
    "        print(\"Import complete with no errors\")"
   ]
  },
  {
   "cell_type": "code",
   "execution_count": null,
   "metadata": {},
   "outputs": [],
   "source": [
    "batch_import_chunks(chunked_2212)"
   ]
  },
  {
   "cell_type": "markdown",
   "metadata": {},
   "source": [
    "## End-to-end paper load"
   ]
  },
  {
   "cell_type": "code",
   "execution_count": null,
   "metadata": {},
   "outputs": [],
   "source": [
    "def import_paper(url):\n",
    "    cp = get_chunks_from_paper(url)\n",
    "    tenant_name = create_tenant(cp)\n",
    "    batch_import_chunks(cp)"
   ]
  },
  {
   "cell_type": "code",
   "execution_count": null,
   "metadata": {},
   "outputs": [],
   "source": [
    "import_paper(\"https://arxiv.org/pdf/2401.00107.pdf\")"
   ]
  },
  {
   "cell_type": "markdown",
   "metadata": {},
   "source": [
    "## Close the client"
   ]
  },
  {
   "cell_type": "code",
   "execution_count": null,
   "metadata": {},
   "outputs": [],
   "source": [
    "client.close()"
   ]
  }
 ],
 "metadata": {
  "kernelspec": {
   "display_name": ".venv",
   "language": "python",
   "name": "python3"
  },
  "language_info": {
   "codemirror_mode": {
    "name": "ipython",
    "version": 3
   },
   "file_extension": ".py",
   "mimetype": "text/x-python",
   "name": "python",
   "nbconvert_exporter": "python",
   "pygments_lexer": "ipython3",
   "version": "3.11.8"
  }
 },
 "nbformat": 4,
 "nbformat_minor": 2
}
