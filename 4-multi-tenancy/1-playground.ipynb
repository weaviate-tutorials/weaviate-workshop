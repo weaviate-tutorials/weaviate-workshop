{
 "cells": [
  {
   "cell_type": "markdown",
   "metadata": {},
   "source": [
    "# Setup\n"
   ]
  },
  {
   "cell_type": "code",
   "execution_count": null,
   "metadata": {},
   "outputs": [],
   "source": [
    "import weaviate, os\n",
    "\n",
    "# Connect to a cloud instance of Weaviate (with WCS)\n",
    "# client = weaviate.connect_to_wcs(\n",
    "#     cluster_url=os.getenv(\"WORKSHOP_DEMO_URL\"),\n",
    "#     auth_credentials=weaviate.auth.AuthApiKey(os.getenv(\"WORKSHOP_DEMO_KEY_ADMIN\")),\n",
    "# )\n",
    "\n",
    "# Connect to the local instance deployed with Docker Compose\n",
    "client = weaviate.connect_to_local()\n",
    "\n",
    "client.is_ready()"
   ]
  },
  {
   "cell_type": "markdown",
   "metadata": {},
   "source": [
    "## Create Tenant-ready collection"
   ]
  },
  {
   "cell_type": "code",
   "execution_count": null,
   "metadata": {},
   "outputs": [],
   "source": [
    "from weaviate.classes.config import Configure\n",
    "\n",
    "if (client.collections.exists(\"Play\")):\n",
    "    client.collections.delete(\"Play\")\n",
    "\n",
    "client.collections.create(\n",
    "    \"Play\",\n",
    "    vectorizer_config=Configure.Vectorizer.none(),\n",
    "\n",
    "    multi_tenancy_config=Configure.multi_tenancy(True)\n",
    ")"
   ]
  },
  {
   "cell_type": "markdown",
   "metadata": {},
   "source": [
    "## Create tenants\n",
    "> tenant name – must be made of alphanumeric characters (a-z, A-Z, 0-9), underscore (_), and hyphen (-), with a length between 1 and 64 characters'\n"
   ]
  },
  {
   "cell_type": "code",
   "execution_count": null,
   "metadata": {},
   "outputs": [],
   "source": [
    "from weaviate.classes.tenants import Tenant\n",
    "\n",
    "play = client.collections.get(\"Play\")\n",
    "\n",
    "play.tenants.create([\n",
    "    Tenant(name=\"ten_A\"),\n",
    "    Tenant(name=\"ten_B\"),\n",
    "    Tenant(name=\"ten_C\"),\n",
    "    Tenant(name=\"ten_D\"),\n",
    "])"
   ]
  },
  {
   "cell_type": "markdown",
   "metadata": {},
   "source": [
    "## List Tenants"
   ]
  },
  {
   "cell_type": "code",
   "execution_count": null,
   "metadata": {},
   "outputs": [],
   "source": [
    "play.tenants.get()"
   ]
  },
  {
   "cell_type": "markdown",
   "metadata": {},
   "source": [
    "## Access Tenants"
   ]
  },
  {
   "cell_type": "code",
   "execution_count": null,
   "metadata": {},
   "outputs": [],
   "source": [
    "# this will fail – multi-tenant collections require us to use tenants\n",
    "play.aggregate.over_all()"
   ]
  },
  {
   "cell_type": "code",
   "execution_count": null,
   "metadata": {},
   "outputs": [],
   "source": [
    "play = client.collections.get(\"Play\")\n",
    "tenA = play.with_tenant(\"ten_A\")\n",
    "\n",
    "tenA.aggregate.over_all()"
   ]
  },
  {
   "cell_type": "markdown",
   "metadata": {},
   "source": [
    "### Insert data"
   ]
  },
  {
   "cell_type": "code",
   "execution_count": null,
   "metadata": {},
   "outputs": [],
   "source": [
    "# tenA = client.collections.get(\"Play\").with_tenant(\"ten_A\")\n",
    "play = client.collections.get(\"Play\")\n",
    "tenA = play.with_tenant(\"ten_A\")\n",
    "\n",
    "tenA.data.insert_many([\n",
    "    {\n",
    "       \"title\": \"A book about vector databases\"\n",
    "    },\n",
    "    {\n",
    "       \"title\": \"Tutorial for multimodal collections\"\n",
    "    },\n",
    "])\n",
    "\n",
    "tenA.aggregate.over_all()"
   ]
  },
  {
   "cell_type": "markdown",
   "metadata": {},
   "source": [
    "### Query Example"
   ]
  },
  {
   "cell_type": "code",
   "execution_count": null,
   "metadata": {},
   "outputs": [],
   "source": [
    "from weaviate.classes.query import Filter\n",
    "\n",
    "tenA = client.collections.get(\"Play\").with_tenant(\"ten_A\")\n",
    "\n",
    "response = tenA.query.fetch_objects(\n",
    "    filters=Filter.by_property(\"title\").like(\"about\")\n",
    ")\n",
    "\n",
    "for item in response.objects:\n",
    "    print(item.properties)"
   ]
  },
  {
   "cell_type": "markdown",
   "metadata": {},
   "source": [
    "### Delete Tenants"
   ]
  },
  {
   "cell_type": "code",
   "execution_count": null,
   "metadata": {},
   "outputs": [],
   "source": [
    "play.tenants.remove([\"ten_D\"])\n",
    "play.tenants.get()"
   ]
  },
  {
   "cell_type": "markdown",
   "metadata": {},
   "source": [
    "### Update Tenants – HOT & COLD\n",
    "Tenants can be:\n",
    "* `HOT` (default) - active tenant\n",
    "* `COLD` - inacative, cannot be search on, their index is not loaded into memory"
   ]
  },
  {
   "cell_type": "code",
   "execution_count": null,
   "metadata": {},
   "outputs": [],
   "source": [
    "from weaviate.classes.tenants import Tenant, TenantActivityStatus\n",
    "\n",
    "play.tenants.update([\n",
    "    Tenant(name=\"ten_A\", activity_status=TenantActivityStatus.COLD),\n",
    "    Tenant(name=\"ten_C\", activity_status=TenantActivityStatus.HOT),\n",
    "])\n",
    "\n",
    "play.tenants.get()"
   ]
  },
  {
   "cell_type": "markdown",
   "metadata": {},
   "source": [
    "### Cannot search `COLD` tenants"
   ]
  },
  {
   "cell_type": "code",
   "execution_count": null,
   "metadata": {},
   "outputs": [],
   "source": [
    "# tenA = client.collections.get(\"Play\").with_tenant(\"ten_A\")\n",
    "\n",
    "response = tenA.query.fetch_objects(\n",
    "    filters=Filter.by_property(\"title\").like(\"about\")\n",
    ")\n",
    "\n",
    "for item in response.objects:\n",
    "    print(item.properties)"
   ]
  },
  {
   "cell_type": "markdown",
   "metadata": {},
   "source": [
    "### But you can turn them `HOT` again"
   ]
  },
  {
   "cell_type": "code",
   "execution_count": null,
   "metadata": {},
   "outputs": [],
   "source": [
    "play.tenants.update([\n",
    "    Tenant(name=\"ten_A\", activity_status=TenantActivityStatus.HOT),\n",
    "])\n",
    "\n",
    "play.tenants.get()"
   ]
  },
  {
   "cell_type": "code",
   "execution_count": null,
   "metadata": {},
   "outputs": [],
   "source": [
    "response = tenA.query.fetch_objects(\n",
    "    filters=Filter.by_property(\"title\").like(\"about\")\n",
    ")\n",
    "\n",
    "for item in response.objects:\n",
    "    print(item.properties)"
   ]
  },
  {
   "cell_type": "markdown",
   "metadata": {},
   "source": [
    "## Clean up"
   ]
  },
  {
   "cell_type": "code",
   "execution_count": null,
   "metadata": {},
   "outputs": [],
   "source": [
    "client.collections.delete(\"Play\")"
   ]
  }
 ],
 "metadata": {
  "kernelspec": {
   "display_name": ".venv",
   "language": "python",
   "name": "python3"
  },
  "language_info": {
   "codemirror_mode": {
    "name": "ipython",
    "version": 3
   },
   "file_extension": ".py",
   "mimetype": "text/x-python",
   "name": "python",
   "nbconvert_exporter": "python",
   "pygments_lexer": "ipython3",
   "version": "3.11.8"
  }
 },
 "nbformat": 4,
 "nbformat_minor": 2
}
