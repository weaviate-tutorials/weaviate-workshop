{
 "cells": [
  {
   "cell_type": "markdown",
   "metadata": {},
   "source": [
    "# Setup\n"
   ]
  },
  {
   "cell_type": "code",
   "execution_count": null,
   "metadata": {},
   "outputs": [],
   "source": [
    "import weaviate\n",
    "\n",
    "client = weaviate.connect_to_local()\n",
    "\n",
    "client.is_ready()"
   ]
  },
  {
   "cell_type": "markdown",
   "metadata": {},
   "source": [
    "## Create Tenant-ready collection"
   ]
  },
  {
   "cell_type": "code",
   "execution_count": null,
   "metadata": {},
   "outputs": [],
   "source": [
    "from weaviate.classes.config import Configure\n",
    "\n",
    "if (client.collections.exists(\"Papers\")):\n",
    "    client.collections.delete(\"Papers\")\n",
    "\n",
    "client.collections.create(\n",
    "    \"Papers\",\n",
    "    vectorizer_config=[\n",
    "        Configure.NamedVectors.text2vec_ollama(\n",
    "            name=\"title_vector\",\n",
    "            # source_properties=[\"\"],\n",
    "            api_endpoint=\"http://ollama:11434\", # If using Docker, use this to contact your local Ollama instance\n",
    "            model=\"snowflake-arctic-embed\",     # The model to use, e.g. \"nomic-embed-text\"\n",
    "        )\n",
    "    ],\n",
    "\n",
    "    generative_config=Configure.Generative.ollama(\n",
    "        api_endpoint=\"http://ollama:11434\",  # If using Docker, use this to contact your local Ollama instance\n",
    "        model=\"llama3\"                       # The model to use, e.g. \"phi3\", or \"mistral\", \"command-r-plus\", \"gemma\"\n",
    "    ),\n",
    "\n",
    "    multi_tenancy_config=Configure.multi_tenancy(True)\n",
    ")"
   ]
  },
  {
   "cell_type": "markdown",
   "metadata": {},
   "source": [
    "## List Tenants"
   ]
  },
  {
   "cell_type": "code",
   "execution_count": null,
   "metadata": {},
   "outputs": [],
   "source": [
    "papers = client.collections.get(\"Papers\")\n",
    "papers.tenants.get()"
   ]
  }
 ],
 "metadata": {
  "kernelspec": {
   "display_name": ".venv",
   "language": "python",
   "name": "python3"
  },
  "language_info": {
   "codemirror_mode": {
    "name": "ipython",
    "version": 3
   },
   "file_extension": ".py",
   "mimetype": "text/x-python",
   "name": "python",
   "nbconvert_exporter": "python",
   "pygments_lexer": "ipython3",
   "version": "3.11.8"
  }
 },
 "nbformat": 4,
 "nbformat_minor": 2
}
