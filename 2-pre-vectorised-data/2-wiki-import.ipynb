{
 "cells": [
  {
   "cell_type": "markdown",
   "metadata": {},
   "source": [
    "# Load Data with Vectors\n",
    "\n",
    "## Get keys and urls"
   ]
  },
  {
   "cell_type": "code",
   "execution_count": null,
   "metadata": {},
   "outputs": [],
   "source": [
    "import os\n",
    "from dotenv import load_dotenv\n",
    "\n",
    "load_dotenv()\n",
    "\n",
    "WEAVIATE_HTTP_URL = os.getenv(\"WEAVIATE_URL\")\n",
    "# OPENAI_API_KEY = os.getenv(\"OPENAI_API_KEY\") # we don't need the OpenAI key for this\n",
    "OPENAI_URL = os.getenv(\"OPENAI_URL\")\n",
    "\n",
    "USERNAME = os.getenv(\"USERNAME\")\n",
    "WIKI_NAME = f\"{USERNAME}_wiki\"\n",
    "\n",
    "print(WIKI_NAME)"
   ]
  },
  {
   "cell_type": "markdown",
   "metadata": {},
   "source": [
    "## Connect to Weaviate"
   ]
  },
  {
   "cell_type": "code",
   "execution_count": null,
   "metadata": {},
   "outputs": [],
   "source": [
    "import weaviate\n",
    "\n",
    "client = weaviate.connect_to_local(\n",
    "    host=WEAVIATE_HTTP_URL,\n",
    "\n",
    "    # we don't need the OpenAI key for this - we already have the vectors\n",
    "    # headers={\n",
    "    #     \"X-OpenAI-Api-Key\": OPENAI_API_KEY,\n",
    "    # },\n",
    ")\n",
    "\n",
    "client.is_ready()"
   ]
  },
  {
   "cell_type": "code",
   "execution_count": null,
   "metadata": {},
   "outputs": [],
   "source": [
    "from weaviate.classes.config import Configure\n",
    "\n",
    "def create_wiki_collection():\n",
    "    if client.collections.exists(WIKI_NAME):\n",
    "        client.collections.delete(WIKI_NAME)\n",
    "\n",
    "    # Create a collection here - with OpenAI vectorizer and define source properties\n",
    "    client.collections.create(\n",
    "        name=WIKI_NAME,\n",
    "\n",
    "        vectorizer_config=[\n",
    "            Configure.NamedVectors.text2vec_openai(\n",
    "                name=\"main_vector\",\n",
    "\n",
    "                model=\"text-embedding-3-small\",\n",
    "                base_url=OPENAI_URL,\n",
    "\n",
    "                # we don't need source_properties in this example - unless we expect to add data without providing vectors\n",
    "                # source_properties=['title', 'text']\n",
    "            )\n",
    "        ],\n",
    "    )\n",
    "\n",
    "create_wiki_collection()"
   ]
  },
  {
   "cell_type": "markdown",
   "metadata": {},
   "source": [
    "## Load the data from parquet files"
   ]
  },
  {
   "cell_type": "code",
   "execution_count": null,
   "metadata": {},
   "outputs": [],
   "source": [
    "from datasets import load_dataset\n",
    "\n",
    "def prepare_parquet_dataset():\n",
    "    return load_dataset('parquet', data_files={'train': ['../wiki-data/openai/text-embedding-3-small/*.parquet']}, split=\"train\")\n",
    "    # return load_dataset(\"weaviate/wiki-sample\", \"openai-text-embedding-3-small\", split=\"train\", streaming=True)"
   ]
  },
  {
   "cell_type": "markdown",
   "metadata": {},
   "source": [
    "### Dataset Test\n",
    "The parquet files should be located in \"wiki-data\"."
   ]
  },
  {
   "cell_type": "code",
   "execution_count": null,
   "metadata": {},
   "outputs": [],
   "source": [
    "dataset = prepare_parquet_dataset()\n",
    "print(f\"The dataset contains {len(dataset)} objects\")\n",
    "\n",
    "counter = 10\n",
    "for i in dataset:\n",
    "    print(i)\n",
    "\n",
    "    counter -= 1\n",
    "    if(counter == 0): break"
   ]
  },
  {
   "cell_type": "markdown",
   "metadata": {},
   "source": [
    "### The import function\n",
    "\n",
    "`TODO:`\n",
    "* add a function to add objects to batch"
   ]
  },
  {
   "cell_type": "code",
   "execution_count": null,
   "metadata": {},
   "outputs": [],
   "source": [
    "from tqdm import tqdm\n",
    "from weaviate.util import generate_uuid5\n",
    "\n",
    "def import_wiki_data(max_rows=10_000):\n",
    "    print(f\"Importing {max_rows} data items\")\n",
    "\n",
    "    dataset = prepare_parquet_dataset()\n",
    "    wiki = client.collections.get(WIKI_NAME)\n",
    "\n",
    "    counter = 0\n",
    "\n",
    "    with wiki.batch.fixed_size(batch_size=2000, concurrent_requests=2) as batch:\n",
    "        for item in tqdm(dataset, total=max_rows):\n",
    "\n",
    "            data_to_insert = {   \n",
    "                \"wiki_id\": item[\"wiki_id\"],\n",
    "                \"text\": item[\"text\"],\n",
    "                \"title\": item[\"title\"],\n",
    "                \"url\": item[\"url\"],\n",
    "            }\n",
    "\n",
    "            item_id = generate_uuid5(item[\"wiki_id\"])\n",
    "\n",
    "            item_vector = {\n",
    "                \"main_vector\": item[\"vector\"]\n",
    "            }\n",
    "\n",
    "            # TODO: add objects to batch using\n",
    "            batch.add_object(\n",
    "                # * data_to_insert\n",
    "                # * item_id\n",
    "                # * item_vector\n",
    "            )\n",
    "\n",
    "            # Check number of errors while running\n",
    "            if(batch.number_errors > 10):\n",
    "                print(f\"Reached {batch.number_errors} Errors during batch import\")\n",
    "                break\n",
    "            \n",
    "            # stop after the request number reaches = max_rows\n",
    "            counter += 1\n",
    "            if counter >= max_rows:\n",
    "                break\n",
    "    \n",
    "    # check for errors at the end\n",
    "    if (len(wiki.batch.failed_objects)>0):\n",
    "        print(\"Final error check\")\n",
    "        print(f\"Some errors {len(wiki.batch.failed_objects)}\")\n",
    "        print(wiki.batch.failed_objects[-1])\n",
    "    \n",
    "    print(f\"Imported {counter} items\")\n",
    "    print(\"-----------------------------------\")"
   ]
  },
  {
   "cell_type": "code",
   "execution_count": null,
   "metadata": {},
   "outputs": [],
   "source": [
    "import_wiki_data(10_000)"
   ]
  },
  {
   "cell_type": "markdown",
   "metadata": {},
   "source": [
    "## Check if data loaded correctly"
   ]
  },
  {
   "cell_type": "code",
   "execution_count": null,
   "metadata": {},
   "outputs": [],
   "source": [
    "wiki = client.collections.get(WIKI_NAME)\n",
    "len(wiki)"
   ]
  },
  {
   "cell_type": "code",
   "execution_count": null,
   "metadata": {},
   "outputs": [],
   "source": [
    "res = wiki.query.fetch_objects(limit=1, include_vector=True)\n",
    "print(res.objects[0].properties)\n",
    "print(res.objects[0].vector)"
   ]
  },
  {
   "cell_type": "markdown",
   "metadata": {},
   "source": [
    "## Close the client"
   ]
  },
  {
   "cell_type": "code",
   "execution_count": null,
   "metadata": {},
   "outputs": [],
   "source": [
    "client.close()"
   ]
  }
 ],
 "metadata": {
  "kernelspec": {
   "display_name": ".venv",
   "language": "python",
   "name": "python3"
  },
  "language_info": {
   "codemirror_mode": {
    "name": "ipython",
    "version": 3
   },
   "file_extension": ".py",
   "mimetype": "text/x-python",
   "name": "python",
   "nbconvert_exporter": "python",
   "pygments_lexer": "ipython3",
   "version": "3.11.8"
  }
 },
 "nbformat": 4,
 "nbformat_minor": 2
}
