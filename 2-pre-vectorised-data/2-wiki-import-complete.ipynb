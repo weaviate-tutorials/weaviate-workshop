{
 "cells": [
  {
   "cell_type": "code",
   "execution_count": null,
   "metadata": {},
   "outputs": [],
   "source": [
    "import weaviate\n",
    "\n",
    "client = weaviate.connect_to_local()\n",
    "\n",
    "client.is_ready()"
   ]
  },
  {
   "cell_type": "code",
   "execution_count": null,
   "metadata": {},
   "outputs": [],
   "source": [
    "from weaviate.classes.config import Configure #, Property, DataType\n",
    "\n",
    "client.collections.delete(\"Wikipedia\")\n",
    "\n",
    "# Create a collection here - with Cohere as a vectorizer\n",
    "client.collections.create(\n",
    "    name=\"Wikipedia\",\n",
    "    \n",
    "    vectorizer_config=Configure.Vectorizer.text2vec_cohere(\n",
    "        model=\"embed-multilingual-v3.0\"\n",
    "    ),\n",
    "\n",
    "    # Optional - example of how to define property schema\n",
    "    # properties=[\n",
    "    #     Property(name=\"text\", data_type=DataType.TEXT),\n",
    "    #     Property(name=\"title\", data_type=DataType.TEXT, skip_vectorization=True),\n",
    "    #     Property(name=\"wiki_id\", data_type=DataType.INT, skip_vectorization=True),\n",
    "    #     Property(name=\"url\", data_type=DataType.TEXT, skip_vectorization=True),\n",
    "    #     Property(name=\"lang\", data_type=DataType.TEXT, skip_vectorization=True),\n",
    "    #     Property(name=\"lang_id\", data_type=DataType.INT, skip_vectorization=True),\n",
    "    #     Property(name=\"views\", data_type=DataType.NUMBER, skip_vectorization=True),\n",
    "    # ]\n",
    ")"
   ]
  },
  {
   "cell_type": "code",
   "execution_count": null,
   "metadata": {},
   "outputs": [],
   "source": [
    "from datasets import load_dataset\n",
    "from tqdm import tqdm\n",
    "\n",
    "def import_wiki_data(lang, max_rows, skip_rows=0):\n",
    "    print(f\"Importing {max_rows} data items for {lang}\")\n",
    "\n",
    "    dataset = load_dataset(\"Cohere/wikipedia-2023-11-embed-multilingual-v3\", lang, split=\"train\", streaming=True)\n",
    "    dataset = dataset.skip(skip_rows)\n",
    "\n",
    "    counter = skip_rows\n",
    "\n",
    "    wikipedia = client.collections.get(\"Wikipedia\")\n",
    "\n",
    "    with wikipedia.batch.fixed_size(batch_size=1000, concurrent_requests=4) as batch:\n",
    "        for item in tqdm(dataset, initial=skip_rows, total=max_rows):\n",
    "            vector = item[\"emb\"]\n",
    "\n",
    "            data_to_insert = {   \n",
    "                \"wiki_id\": item[\"_id\"],\n",
    "                \"text\": item[\"text\"],\n",
    "                \"title\": item[\"title\"],\n",
    "                \"url\": item[\"url\"],\n",
    "                \"lang\": lang,\n",
    "            }\n",
    "\n",
    "            batch.add_object(\n",
    "                properties=data_to_insert,\n",
    "                vector=vector\n",
    "            )\n",
    "            \n",
    "            # stop after the request number reaches = max_rows\n",
    "            counter += 1\n",
    "            if counter >= max_rows:\n",
    "                break\n",
    "    \n",
    "    # check for errors at the end\n",
    "    if (len(wikipedia.batch.failed_objects)>0):\n",
    "        print(\"Final error check\")\n",
    "        print(f\"Some errors {len(wikipedia.batch.failed_objects)}\")\n",
    "        print(wikipedia.batch.failed_objects[-1])\n",
    "    \n",
    "    print(f\"Imported {counter} items for {lang}\")\n",
    "    print(\"-----------------------------------\")"
   ]
  },
  {
   "cell_type": "code",
   "execution_count": null,
   "metadata": {},
   "outputs": [],
   "source": [
    "import_per_country = 25_000\n",
    "\n",
    "import_wiki_data(\"en\", import_per_country)\n",
    "import_wiki_data(\"de\", import_per_country)\n",
    "import_wiki_data(\"fr\", import_per_country)\n",
    "# import_wiki_data(\"es\", import_per_country)\n",
    "# import_wiki_data(\"it\", import_per_country)"
   ]
  }
 ],
 "metadata": {
  "kernelspec": {
   "display_name": ".venv",
   "language": "python",
   "name": "python3"
  },
  "language_info": {
   "codemirror_mode": {
    "name": "ipython",
    "version": 3
   },
   "file_extension": ".py",
   "mimetype": "text/x-python",
   "name": "python",
   "nbconvert_exporter": "python",
   "pygments_lexer": "ipython3",
   "version": "3.11.8"
  }
 },
 "nbformat": 4,
 "nbformat_minor": 2
}
