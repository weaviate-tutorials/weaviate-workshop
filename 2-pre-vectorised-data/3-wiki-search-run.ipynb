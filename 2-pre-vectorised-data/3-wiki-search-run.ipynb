{
 "cells": [
  {
   "cell_type": "markdown",
   "metadata": {},
   "source": [
    "# Query Data - show it works\n",
    "\n",
    "## Get keys and urls"
   ]
  },
  {
   "cell_type": "code",
   "execution_count": 11,
   "metadata": {},
   "outputs": [
    {
     "name": "stdout",
     "output_type": "stream",
     "text": [
      "Weaviate Key:root-user-key\n",
      "OpenAI API Key: sk-dummy-key-for-local-testing\n",
      "OpenAI URL: http://host.docker.internal:11434\n"
     ]
    }
   ],
   "source": [
    "import os\n",
    "from dotenv import load_dotenv\n",
    "\n",
    "load_dotenv()\n",
    "\n",
    "WEAVIATE_KEY = os.getenv(\"WEAVIATE_KEY\")\n",
    "OPENAI_API_KEY = os.getenv(\"OPENAI_API_KEY\")\n",
    "OPENAI_URL = os.getenv(\"OPENAI_URL\")\n",
    "\n",
    "print(f\"Weaviate Key:{WEAVIATE_KEY}\")\n",
    "print(f\"OpenAI API Key: {OPENAI_API_KEY}\")\n",
    "print(f\"OpenAI URL: {OPENAI_URL}\")\n",
    "\n"
   ]
  },
  {
   "cell_type": "code",
   "execution_count": 12,
   "metadata": {},
   "outputs": [
    {
     "name": "stdout",
     "output_type": "stream",
     "text": [
      "True\n"
     ]
    }
   ],
   "source": [
    "import weaviate\n",
    "from weaviate.classes.init import Auth\n",
    "\n",
    "# Connect to the local instance\n",
    "client = weaviate.connect_to_local(\n",
    "  host=\"127.0.0.1\", # the address to the learner's instance\n",
    "  port=8080,\n",
    "  grpc_port=50051,\n",
    "  auth_credentials=Auth.api_key(WEAVIATE_KEY),\n",
    "  headers={\n",
    "    \"X-OpenAI-Api-Key\": OPENAI_API_KEY,\n",
    "    \"X-OpenAI-BaseURL\": OPENAI_URL\n",
    "  }\n",
    ")\n",
    "\n",
    "print(client.is_ready())"
   ]
  },
  {
   "cell_type": "markdown",
   "metadata": {},
   "source": [
    "## Vector search"
   ]
  },
  {
   "cell_type": "code",
   "execution_count": 13,
   "metadata": {},
   "outputs": [
    {
     "name": "stdout",
     "output_type": "stream",
     "text": [
      "{'text': 'Lunar time refers to the time on a clock on the moon. As of early 2023, there is no standard lunar time.  Instead, the time on the moon is different for each country involved.  Thus, American activities on the moon run on an American time zone, and Chinese activities on the moon run on China Standard Time.  As more countries are active in the moon and interact with each other, a different, unified system will be needed.', 'title': 'Lunar time', 'wiki_id': '20231101.simple_998154_0', 'url': 'https://simple.wikipedia.org/wiki/Lunar%20time'}\n",
      "{'text': 'Zinc can be used in the pipes of a pipe organ. An alloy of tin and lead was used in the past. Zinc is used in the US penny, which only has a thin layer of copper. The core is zinc. Older pennies were made completely out of bronze.', 'title': 'Zinc', 'wiki_id': '20231101.simple_955_20', 'url': 'https://simple.wikipedia.org/wiki/Zinc'}\n",
      "{'text': 'Luminescence is light emitted by a substance not caused by heat. In contrast, incandescence is light emitted by a substance as a result of heating.', 'title': 'Luminescence', 'wiki_id': '20231101.simple_415814_0', 'url': 'https://simple.wikipedia.org/wiki/Luminescence'}\n",
      "{'text': 'A spoon is a tool for eating. It is usually used for eating foods that are like liquids (like soup and yogurt), and it can also be used for stirring. Humans use spoons every day. Some solids (like cereal and ice cream) are also usually eaten with spoons. A ladle is a bigger type of serving spoon used for soup, stew, or other foods.', 'title': 'Spoon', 'wiki_id': '20231101.simple_18482_0', 'url': 'https://simple.wikipedia.org/wiki/Spoon'}\n",
      "{'text': 'Data transmission is the process of transferring data from one point to another. There are two methods for transmitting data: Serial communication and Parallel communication. There are different types of devices for data transmission: Wireless, Optical fiber, Infrared and more.', 'title': 'Data transmission', 'wiki_id': '20231101.simple_901846_0', 'url': 'https://simple.wikipedia.org/wiki/Data%20transmission'}\n"
     ]
    }
   ],
   "source": [
    "wiki = client.collections.get(\"Wiki\")\n",
    "\n",
    "response = wiki.query.near_text(\n",
    "    query=\"musical instruments\",\n",
    "    limit=5\n",
    ")\n",
    "\n",
    "for item in response.objects:\n",
    "    print(item.properties)"
   ]
  },
  {
   "cell_type": "markdown",
   "metadata": {},
   "source": [
    "## Close the client"
   ]
  },
  {
   "cell_type": "code",
   "execution_count": 4,
   "metadata": {},
   "outputs": [],
   "source": [
    "client.close()"
   ]
  }
 ],
 "metadata": {
  "kernelspec": {
   "display_name": ".venv (3.11.9)",
   "language": "python",
   "name": "python3"
  },
  "language_info": {
   "codemirror_mode": {
    "name": "ipython",
    "version": 3
   },
   "file_extension": ".py",
   "mimetype": "text/x-python",
   "name": "python",
   "nbconvert_exporter": "python",
   "pygments_lexer": "ipython3",
   "version": "3.11.9"
  }
 },
 "nbformat": 4,
 "nbformat_minor": 2
}
