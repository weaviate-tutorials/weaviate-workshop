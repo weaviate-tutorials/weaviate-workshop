{
 "cells": [
  {
   "cell_type": "markdown",
   "metadata": {},
   "source": [
    "# Query Data - show it works\n",
    "\n",
    "## Get keys and urls"
   ]
  },
  {
   "cell_type": "code",
   "execution_count": 1,
   "metadata": {},
   "outputs": [
    {
     "name": "stdout",
     "output_type": "stream",
     "text": [
      "cwzujlbgtk\n",
      "L1FUbzRPaU\n"
     ]
    }
   ],
   "source": [
    "import os\n",
    "from dotenv import load_dotenv\n",
    "\n",
    "load_dotenv()\n",
    "\n",
    "WEAVIATE_URL = os.getenv(\"WEAVIATE_URL\")\n",
    "WEAVIATE_KEY = os.getenv(\"WEAVIATE_KEY\")\n",
    "\n",
    "print(WEAVIATE_URL[:10])\n",
    "print(WEAVIATE_KEY[:10])"
   ]
  },
  {
   "cell_type": "code",
   "execution_count": 2,
   "metadata": {},
   "outputs": [
    {
     "data": {
      "text/plain": [
       "True"
      ]
     },
     "execution_count": 2,
     "metadata": {},
     "output_type": "execute_result"
    }
   ],
   "source": [
    "import weaviate\n",
    "from weaviate.classes.init import Auth\n",
    "\n",
    "client = weaviate.connect_to_weaviate_cloud(\n",
    "    cluster_url=WEAVIATE_URL,\n",
    "    auth_credentials=Auth.api_key(WEAVIATE_KEY),\n",
    ")\n",
    "\n",
    "client.is_ready()"
   ]
  },
  {
   "cell_type": "markdown",
   "metadata": {},
   "source": [
    "## Vector search"
   ]
  },
  {
   "cell_type": "code",
   "execution_count": 3,
   "metadata": {},
   "outputs": [
    {
     "name": "stdout",
     "output_type": "stream",
     "text": [
      "{'text': 'A saxophone is a type of musical instrument in the woodwind family. The saxophone uses a piece of wood, called a reed, to make sound. The player blows air into the mouthpiece, which vibrates the reed. The saxophone also uses keys to change pitch, and the player closes or opens holes to choose the note. Commonly, saxophones have about 22 keys.', 'title': 'Saxophone', 'wiki_id': '20231101.simple_7210_0', 'url': 'https://simple.wikipedia.org/wiki/Saxophone'}\n",
      "{'text': 'Untuned percussion instruments include: bass drum, side drum (snare drum), maracas, castanets, cymbals, tambourine, claves and many more.', 'title': 'Percussion instrument', 'wiki_id': '20231101.simple_29852_2', 'url': 'https://simple.wikipedia.org/wiki/Percussion%20instrument'}\n",
      "{'text': 'Drum machine is an electronic musical instrument made to imitate the sound of percussion instruments. Drum machines are commonly used in electronic music genres, but also used in other genres.', 'title': 'Drum machine', 'wiki_id': '20231101.simple_565335_0', 'url': 'https://simple.wikipedia.org/wiki/Drum%20machine'}\n",
      "{'text': 'The music of Austria includes many different types of music. Yodeling is one form of singing, and some popular instruments include the lute, fiddle and harp.', 'title': 'Music of Austria', 'wiki_id': '20231101.simple_622087_0', 'url': 'https://simple.wikipedia.org/wiki/Music%20of%20Austria'}\n",
      "{'text': 'The word amplifier (sometimes called an amp) usually refers to an electronic amplifier. Electronic amplifiers make a signal from a radio or electric musical instrument (such as an electric guitar or an electric bass guitar) louder and stronger. Amplifiers are also hidden in any electronic thing that makes sound with loudspeakers. This includes televisions, radios, computers, and mp3 players, to name a few.', 'title': 'Amplifier', 'wiki_id': '20231101.simple_47843_0', 'url': 'https://simple.wikipedia.org/wiki/Amplifier'}\n"
     ]
    }
   ],
   "source": [
    "wiki = client.collections.get(\"Wiki\")\n",
    "\n",
    "response = wiki.query.near_text(\n",
    "    query=\"musical instruments\",\n",
    "    limit=5\n",
    ")\n",
    "\n",
    "for item in response.objects:\n",
    "    print(item.properties)"
   ]
  },
  {
   "cell_type": "markdown",
   "metadata": {},
   "source": [
    "## Close the client"
   ]
  },
  {
   "cell_type": "code",
   "execution_count": 4,
   "metadata": {},
   "outputs": [],
   "source": [
    "client.close()"
   ]
  }
 ],
 "metadata": {
  "kernelspec": {
   "display_name": ".venv (3.11.9)",
   "language": "python",
   "name": "python3"
  },
  "language_info": {
   "codemirror_mode": {
    "name": "ipython",
    "version": 3
   },
   "file_extension": ".py",
   "mimetype": "text/x-python",
   "name": "python",
   "nbconvert_exporter": "python",
   "pygments_lexer": "ipython3",
   "version": "3.11.9"
  }
 },
 "nbformat": 4,
 "nbformat_minor": 2
}
