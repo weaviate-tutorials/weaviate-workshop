{
 "cells": [
  {
   "cell_type": "code",
   "execution_count": null,
   "metadata": {},
   "outputs": [],
   "source": [
    "import os\n",
    "from dotenv import load_dotenv\n",
    "\n",
    "load_dotenv()\n",
    "\n",
    "WEAVIATE_URL = os.getenv(\"WEAVIATE_URL\")\n",
    "WEAVIATE_KEY = os.getenv(\"WEAVIATE_KEY\")\n",
    "\n",
    "print(WEAVIATE_URL)\n",
    "print(WEAVIATE_KEY)"
   ]
  },
  {
   "cell_type": "markdown",
   "metadata": {},
   "source": [
    "## Connect to Weaviate"
   ]
  },
  {
   "cell_type": "code",
   "execution_count": null,
   "metadata": {},
   "outputs": [],
   "source": [
    "import weaviate\n",
    "from weaviate.classes.init import Auth\n",
    "\n",
    "client = weaviate.connect_to_weaviate_cloud(\n",
    "    cluster_url=WEAVIATE_URL,\n",
    "    auth_credentials=Auth.api_key(WEAVIATE_KEY),\n",
    ")\n",
    "\n",
    "client.is_ready()"
   ]
  },
  {
   "cell_type": "markdown",
   "metadata": {},
   "source": [
    "## Create a collection with no vectorizer"
   ]
  },
  {
   "cell_type": "code",
   "execution_count": null,
   "metadata": {},
   "outputs": [],
   "source": [
    "# Note: in practice, you shouldn't rerun this cell, as it deletes your data\n",
    "# in \"MyCollection\", and then you need to re-import it again.\n",
    "from  weaviate.classes.config import Configure, VectorDistances\n",
    "\n",
    "\n",
    "\n",
    "# Delete the collection if it already exists\n",
    "if (client.collections.exists(\"MyCollection\")):\n",
    "    client.collections.delete(\"MyCollection\")\n",
    "\n",
    "client.collections.create(\n",
    "    name=\"MyCollection\",\n",
    "\n",
    "    vectorizer_config=Configure.Vectorizer.none(), # No vectorizer needed\n",
    "\n",
    "    vector_index_config=Configure.VectorIndex.hnsw( # Optional\n",
    "        distance_metric=VectorDistances.COSINE # select prefered distance metric\n",
    "    ),\n",
    ")\n",
    "\n",
    "print(f\"Successfully created collection: {\"MyCollection\"}.\")"
   ]
  },
  {
   "cell_type": "markdown",
   "metadata": {},
   "source": [
    "## Insert an object with a vector"
   ]
  },
  {
   "cell_type": "code",
   "execution_count": null,
   "metadata": {},
   "outputs": [],
   "source": [
    "my_collection = client.collections.get(\"MyCollection\")\n",
    "my_collection.data.insert(\n",
    "    properties={\n",
    "        \"title\": \"First Object\",\n",
    "        \"foo\": 11, \n",
    "    },\n",
    "    vector=[0.1, 0.1, 0.1, 0.1, 0.1, 0.1]\n",
    ")"
   ]
  },
  {
   "cell_type": "code",
   "execution_count": null,
   "metadata": {},
   "outputs": [],
   "source": [
    "res = my_collection.query.fetch_objects(include_vector=True)\n",
    "\n",
    "print(res.objects[0].properties)\n",
    "print(res.objects[0].vector)"
   ]
  },
  {
   "cell_type": "markdown",
   "metadata": {},
   "source": [
    "## Insert many objects with their vectors using batch"
   ]
  },
  {
   "cell_type": "code",
   "execution_count": null,
   "metadata": {},
   "outputs": [],
   "source": [
    "source = [\n",
    "    {\n",
    "        \"title\": \"Second Object\",\n",
    "        \"foo\": 22,\n",
    "        \"vector\": [0.2, 0.3, 0.4, 0.5, 0.6, 0.7]\n",
    "    },\n",
    "    {\n",
    "        \"title\": \"Third Object\",\n",
    "        \"foo\": 33,\n",
    "        \"vector\": [0.3, 0.1, -0.1, -0.3, -0.5, -0.7]\n",
    "    },\n",
    "    {\n",
    "        \"title\": \"Fourth Object\",\n",
    "        \"foo\": 44,\n",
    "        \"vector\": [0.4, 0.41, 0.42, 0.43, 0.44, 0.45]\n",
    "    },\n",
    "    {\n",
    "        \"title\": \"Fifth Object\",\n",
    "        \"foo\": 55,\n",
    "        \"vector\": [0.5, 0.5, 0, 0, 0, 0]\n",
    "    },\n",
    "]"
   ]
  },
  {
   "cell_type": "code",
   "execution_count": null,
   "metadata": {},
   "outputs": [],
   "source": [
    "\n",
    "with my_collection.batch.dynamic() as batch:\n",
    "    for item in source:\n",
    "        batch.add_object(\n",
    "            properties={\n",
    "                \"title\": item[\"title\"],\n",
    "                \"foo\": item[\"foo\"],\n",
    "            },\n",
    "            vector=item[\"vector\"]\n",
    "        )"
   ]
  },
  {
   "cell_type": "markdown",
   "metadata": {},
   "source": [
    "## Example with insert_many"
   ]
  },
  {
   "cell_type": "code",
   "execution_count": null,
   "metadata": {},
   "outputs": [],
   "source": [
    "# sample_data = [\n",
    "#    wc.DataObject(\n",
    "#       properties={\n",
    "#          \"title\": \"First Object\",\n",
    "#          \"foo\": 11, \n",
    "#       },\n",
    "#       vector=[0.1, 0.1, 0.1, 0.1, 0.1, 0.1]\n",
    "#    ),\n",
    "#    wc.DataObject(\n",
    "#       properties={\n",
    "#          \"title\": \"Second Object\",\n",
    "#          \"foo\": 22,\n",
    "#       },\n",
    "#       vector=[0.2, 0.3, 0.4, 0.5, 0.6, 0.7]\n",
    "#    ),\n",
    "#    wc.DataObject(\n",
    "#       properties={\n",
    "#          \"title\": \"Third Object\",\n",
    "#          \"foo\": 33,\n",
    "#       },\n",
    "#       vector=[0.3, 0.1, -0.1, -0.3, -0.5, -0.7]\n",
    "#    ),\n",
    "#    wc.DataObject(\n",
    "#       properties={\n",
    "#          \"title\": \"Fourth Object\",\n",
    "#         \"foo\": 44,\n",
    "#       },\n",
    "#       vector=[0.4, 0.41, 0.42, 0.43, 0.44, 0.45]\n",
    "#    ),\n",
    "#    wc.DataObject(\n",
    "#       properties={\n",
    "#          \"title\": \"Fifth Object\",\n",
    "#          \"foo\": 55,\n",
    "#       },\n",
    "#       vector=[0.5, 0.5, 0, 0, 0, 0]\n",
    "#    ),\n",
    "# ]\n",
    "\n",
    "# my_collection.data.insert_many(sample_data)"
   ]
  },
  {
   "cell_type": "markdown",
   "metadata": {},
   "source": [
    "## Query\n",
    "Available types of queries you can run when working with vector embeddings (without modules) in **Weaviate**:\n",
    "\n",
    "1. [near_vector](https://weaviate.io/developers/weaviate/search/similarity#search-with-a-vector)\n",
    "\n",
    "2. [near_object](https://weaviate.io/developers/weaviate/search/similarity#search-with-an-existing-object)"
   ]
  },
  {
   "cell_type": "markdown",
   "metadata": {},
   "source": [
    "### nearVector Example\n",
    "**First example** - Search Weaviate with a vector embedding, and return title property.\n",
    "\n",
    "See [the docs](https://weaviate.io/developers/weaviate/search/similarity#search-with-a-vector) for more."
   ]
  },
  {
   "cell_type": "code",
   "execution_count": null,
   "metadata": {},
   "outputs": [],
   "source": [
    "response = my_collection.query.near_vector(\n",
    "    near_vector=[-0.012, 0.021, -0.23, -0.42, 0.5, 0.5],\n",
    "    limit=2,\n",
    ")\n",
    "\n",
    "for item in response.objects:\n",
    "    print(item.uuid)\n",
    "    print(item.properties, \"\\n\")"
   ]
  },
  {
   "cell_type": "markdown",
   "metadata": {},
   "source": [
    "**Second example** - The same search query, but this time also return `distance`, and `vector`."
   ]
  },
  {
   "cell_type": "code",
   "execution_count": null,
   "metadata": {},
   "outputs": [],
   "source": [
    "from weaviate.classes.query import MetadataQuery\n",
    "\n",
    "response = my_collection.query.near_vector(\n",
    "    near_vector=[-0.012, 0.021, -0.23, -0.42, 0.5, 0.5],\n",
    "    include_vector=True,\n",
    "    return_metadata=MetadataQuery(distance=True),\n",
    "    limit=2,\n",
    ")\n",
    "\n",
    "for item in response.objects:\n",
    "    print(item.properties)\n",
    "    print(item.metadata.distance)\n",
    "    print(item.vector, \"\\n\")"
   ]
  },
  {
   "cell_type": "markdown",
   "metadata": {},
   "source": [
    "**Third example** – Same vector query, but this time we will filter on \"foo\" (which should be greater than 44). Also, let's return \"title\" and \"foo\".\n",
    "\n",
    "See [the docs](https://weaviate.io/developers/weaviate/search/filters#filter-with-one-condition) for more."
   ]
  },
  {
   "cell_type": "code",
   "execution_count": null,
   "metadata": {},
   "outputs": [],
   "source": [
    "from weaviate.classes.query import Filter, MetadataQuery\n",
    "\n",
    "response = my_collection.query.near_vector(\n",
    "    near_vector=[-0.012, 0.021, -0.23, -0.42, 0.5, 0.5],\n",
    "    return_metadata=MetadataQuery(distance=True),\n",
    "    filters=Filter.by_property(\"foo\").greater_than(30),\n",
    "    limit=2,\n",
    ")\n",
    "\n",
    "for item in response.objects:\n",
    "    print(item.properties)\n",
    "    print(item.metadata.distance, \"\\n\")"
   ]
  },
  {
   "cell_type": "markdown",
   "metadata": {},
   "source": [
    "### nearObject Example\n",
    "\n",
    "Weaviate also allows you to search for similar objects.\n",
    "\n",
    "See [the docs](https://weaviate.io/developers/weaviate/search/similarity#search-with-an-existing-object) for more.\n",
    "\n",
    "**Fourth example** - \n",
    "Search through `MyCollection` for similar objects, by providing an id from the previous query. \n",
    "\n",
    "> Note #1: The id was taken from the query above <br/>\n",
    "> The generated id for you might be different.\n",
    "\n",
    "> Note #2: The first object returned is always itself."
   ]
  },
  {
   "cell_type": "code",
   "execution_count": null,
   "metadata": {},
   "outputs": [],
   "source": [
    "from weaviate.classes.query import MetadataQuery\n",
    "\n",
    "response = my_collection.query.near_object(\n",
    "    near_object=\"0852a81c-5d54-4480-8ff4-2211295112f2\",\n",
    "    return_metadata=MetadataQuery(distance=True),\n",
    "    limit=3,\n",
    ")\n",
    "\n",
    "for item in response.objects:\n",
    "    print(item.uuid)\n",
    "    print(item.properties)\n",
    "    print(item.metadata.distance, \"\\n\")"
   ]
  },
  {
   "cell_type": "markdown",
   "metadata": {},
   "source": [
    "## Close the client"
   ]
  },
  {
   "cell_type": "code",
   "execution_count": null,
   "metadata": {},
   "outputs": [],
   "source": [
    "client.close()"
   ]
  }
 ],
 "metadata": {
  "kernelspec": {
   "display_name": ".venv",
   "language": "python",
   "name": "python3"
  },
  "language_info": {
   "codemirror_mode": {
    "name": "ipython",
    "version": 3
   },
   "file_extension": ".py",
   "mimetype": "text/x-python",
   "name": "python",
   "nbconvert_exporter": "python",
   "pygments_lexer": "ipython3",
   "version": "3.11.8"
  }
 },
 "nbformat": 4,
 "nbformat_minor": 2
}
