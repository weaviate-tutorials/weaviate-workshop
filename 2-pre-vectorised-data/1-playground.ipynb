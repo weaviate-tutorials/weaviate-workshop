{
 "cells": [
  {
   "cell_type": "code",
   "execution_count": null,
   "metadata": {},
   "outputs": [],
   "source": [
    "import weaviate, os\n",
    "\n",
    "# Connect to a cloud instance of Weaviate (with WCS)\n",
    "client = weaviate.connect_to_wcs(\n",
    "    cluster_url=os.getenv(\"WORKSHOP_DEMO_URL\"),\n",
    "    auth_credentials=weaviate.auth.AuthApiKey(os.getenv(\"WORKSHOP_DEMO_KEY_ADMIN\")),\n",
    ")\n",
    "\n",
    "client.is_ready()"
   ]
  },
  {
   "cell_type": "markdown",
   "metadata": {},
   "source": [
    "## Create a collection with no vectorizer"
   ]
  },
  {
   "cell_type": "code",
   "execution_count": null,
   "metadata": {},
   "outputs": [],
   "source": [
    "from weaviate.classes.config import Configure, VectorDistances, Property, DataType\n",
    "\n",
    "# Delete the collection if it already exists\n",
    "# if (client.collections.exists(\"MyCollection\")):\n",
    "    # client.collections.delete(\"MyCollection\")\n",
    "\n",
    "client.collections.create(\n",
    "    name=\"MyCollection\",\n",
    "\n",
    "    # vectorizer_config=, # TODO: select none vectorizer\n",
    "\n",
    "    vector_index_config=Configure.VectorIndex.hnsw( # Optional\n",
    "        # TODO: add distance_metric with cosine  select prefered distance metric\n",
    "    ),\n",
    "\n",
    "    properties=[ # defining properties (data schema) is optional\n",
    "        Property(name=\"title\", data_type=DataType.TEXT), \n",
    "        # TODO: add Property foo of type INT\n",
    "    ]\n",
    ")\n",
    "\n",
    "print(\"Successfully created collection: MyCollection.\")"
   ]
  },
  {
   "cell_type": "markdown",
   "metadata": {},
   "source": [
    "## Insert an object with a vector"
   ]
  },
  {
   "cell_type": "code",
   "execution_count": null,
   "metadata": {},
   "outputs": [],
   "source": [
    "my_collection = client.collections.get(\"MyCollection\")\n",
    "\n",
    "# TODO:  insert vector=[0.1, 0.1, 0.1, 0.1, 0.1, 0.1]\n"
   ]
  },
  {
   "cell_type": "markdown",
   "metadata": {},
   "source": [
    "Fetch objects with vectors"
   ]
  },
  {
   "cell_type": "code",
   "execution_count": null,
   "metadata": {},
   "outputs": [],
   "source": [
    "# TODO:  fetch objects to display your vector\n"
   ]
  },
  {
   "cell_type": "markdown",
   "metadata": {},
   "source": [
    "## Insert many objects with their vectors using batch"
   ]
  },
  {
   "cell_type": "code",
   "execution_count": null,
   "metadata": {},
   "outputs": [],
   "source": [
    "source = [\n",
    "    {\n",
    "        \"title\": \"Second Object\",\n",
    "        \"foo\": 22,\n",
    "        \"vector\": [0.2, 0.3, 0.4, 0.5, 0.6, 0.7]\n",
    "    },\n",
    "    {\n",
    "        \"title\": \"Third Object\",\n",
    "        \"foo\": 33,\n",
    "        \"vector\": [0.3, 0.1, -0.1, -0.3, -0.5, -0.7]\n",
    "    },\n",
    "    {\n",
    "        \"title\": \"Fourth Object\",\n",
    "        \"foo\": 44,\n",
    "        \"vector\": [0.4, 0.41, 0.42, 0.43, 0.44, 0.45]\n",
    "    },\n",
    "    {\n",
    "        \"title\": \"Fifth Object\",\n",
    "        \"foo\": 55,\n",
    "        \"vector\": [0.5, 0.5, 0, 0, 0, 0]\n",
    "    },\n",
    "]"
   ]
  },
  {
   "cell_type": "code",
   "execution_count": null,
   "metadata": {},
   "outputs": [],
   "source": [
    "\n",
    "with my_collection.batch.dynamic() as batch:\n",
    "    # TODO:  iterate through objects here and add them using batch"
   ]
  },
  {
   "cell_type": "markdown",
   "metadata": {},
   "source": [
    "## Example with insert_many"
   ]
  },
  {
   "cell_type": "code",
   "execution_count": null,
   "metadata": {},
   "outputs": [],
   "source": [
    "# sample_data = [\n",
    "#    wc.DataObject(\n",
    "#       properties={\n",
    "#          \"title\": \"First Object\",\n",
    "#          \"foo\": 11, \n",
    "#       },\n",
    "#       vector=[0.1, 0.1, 0.1, 0.1, 0.1, 0.1]\n",
    "#    ),\n",
    "#    wc.DataObject(\n",
    "#       properties={\n",
    "#          \"title\": \"Second Object\",\n",
    "#          \"foo\": 22,\n",
    "#       },\n",
    "#       vector=[0.2, 0.3, 0.4, 0.5, 0.6, 0.7]\n",
    "#    ),\n",
    "#    wc.DataObject(\n",
    "#       properties={\n",
    "#          \"title\": \"Third Object\",\n",
    "#          \"foo\": 33,\n",
    "#       },\n",
    "#       vector=[0.3, 0.1, -0.1, -0.3, -0.5, -0.7]\n",
    "#    ),\n",
    "#    wc.DataObject(\n",
    "#       properties={\n",
    "#          \"title\": \"Fourth Object\",\n",
    "#         \"foo\": 44,\n",
    "#       },\n",
    "#       vector=[0.4, 0.41, 0.42, 0.43, 0.44, 0.45]\n",
    "#    ),\n",
    "#    wc.DataObject(\n",
    "#       properties={\n",
    "#          \"title\": \"Fifth Object\",\n",
    "#          \"foo\": 55,\n",
    "#       },\n",
    "#       vector=[0.5, 0.5, 0, 0, 0, 0]\n",
    "#    ),\n",
    "# ]\n",
    "\n",
    "# my_collection.data.insert_many(sample_data)"
   ]
  },
  {
   "cell_type": "markdown",
   "metadata": {},
   "source": [
    "## Query\n",
    "Available types of queries you can run when working with vector embeddings (without modules) in **Weaviate**:\n",
    "\n",
    "1. [near_vector](https://weaviate.io/developers/weaviate/search/similarity#search-with-a-vector)\n",
    "\n",
    "2. [near_object](https://weaviate.io/developers/weaviate/search/similarity#search-with-an-existing-object)"
   ]
  },
  {
   "cell_type": "markdown",
   "metadata": {},
   "source": [
    "### nearVector Example\n",
    "**First example** - Search Weaviate with a vector embedding, and return title property.\n",
    "\n",
    "See [the docs](https://weaviate.io/developers/weaviate/search/similarity#search-with-a-vector) for more."
   ]
  },
  {
   "cell_type": "code",
   "execution_count": null,
   "metadata": {},
   "outputs": [],
   "source": [
    "# TODO:  search near vector [-0.012, 0.021, -0.23, -0.42, 0.5, 0.5],\n",
    "# display the uuid and properties\n",
    "\n",
    "# response = my_collection.query\n",
    "\n",
    "for item in response.objects:\n",
    "    print(item.uuid)\n",
    "    print(item.properties, \"\\n\")"
   ]
  },
  {
   "cell_type": "markdown",
   "metadata": {},
   "source": [
    "**Second example** - The same search query, but this time also return `distance`, and `vector`."
   ]
  },
  {
   "cell_type": "code",
   "execution_count": null,
   "metadata": {},
   "outputs": [],
   "source": [
    "from weaviate.classes.query import MetadataQuery\n",
    "\n",
    "response = my_collection.query.near_vector(\n",
    "    near_vector=[-0.012, 0.021, -0.23, -0.42, 0.5, 0.5],\n",
    "    include_vector=True,\n",
    "    # return_metadata=,  # TODO: request distance from metadata \n",
    "    limit=2,\n",
    ")\n",
    "\n",
    "for item in response.objects:\n",
    "    print(item.properties)\n",
    "    print(item.metadata.distance)\n",
    "    print(item.vector, \"\\n\")"
   ]
  },
  {
   "cell_type": "markdown",
   "metadata": {},
   "source": [
    "**Third example** – Same vector query, but this time we will filter on \"foo\" (which should be greater than 44). Also, let's return \"title\" and \"foo\".\n",
    "\n",
    "See [the docs](https://weaviate.io/developers/weaviate/search/filters#filter-with-one-condition) for more."
   ]
  },
  {
   "cell_type": "code",
   "execution_count": null,
   "metadata": {},
   "outputs": [],
   "source": [
    "from weaviate.classes.query import Filter, MetadataQuery\n",
    "\n",
    "response = my_collection.query.near_vector(\n",
    "    near_vector=[-0.012, 0.021, -0.23, -0.42, 0.5, 0.5],\n",
    "    return_metadata=MetadataQuery(distance=True),\n",
    "    limit=2,\n",
    "    # filters= #  TODO: add filter where foo is greater_than 30\n",
    ")\n",
    "\n",
    "for item in response.objects:\n",
    "    print(item.properties)\n",
    "    print(item.metadata.distance, \"\\n\")"
   ]
  },
  {
   "cell_type": "markdown",
   "metadata": {},
   "source": [
    "### nearObject Example\n",
    "\n",
    "Weaviate also allows you to search for similar objects.\n",
    "\n",
    "See [the docs](https://weaviate.io/developers/weaviate/search/similarity#search-with-an-existing-object) for more.\n",
    "\n",
    "**Fourth example** - \n",
    "Search through `MyCollection` for similar objects, by providing an id from the previous query. \n",
    "\n",
    "> Note #1: The id was taken from the query above <br/>\n",
    "> The generated id for you might be different.\n",
    "\n",
    "> Note #2: The first object returned is always itself."
   ]
  },
  {
   "cell_type": "code",
   "execution_count": null,
   "metadata": {},
   "outputs": [],
   "source": [
    "from weaviate.classes.query import MetadataQuery\n",
    "\n",
    "#  TODO: search for similar objects based on uuid from a previous example\n",
    "response = my_collection.query.near_object\n",
    "\n",
    "for item in response.objects:\n",
    "    print(item.uuid)\n",
    "    print(item.properties)\n",
    "    print(item.metadata.distance, \"\\n\")"
   ]
  }
 ],
 "metadata": {
  "kernelspec": {
   "display_name": ".venv",
   "language": "python",
   "name": "python3"
  },
  "language_info": {
   "codemirror_mode": {
    "name": "ipython",
    "version": 3
   },
   "file_extension": ".py",
   "mimetype": "text/x-python",
   "name": "python",
   "nbconvert_exporter": "python",
   "pygments_lexer": "ipython3",
   "version": "3.11.8"
  }
 },
 "nbformat": 4,
 "nbformat_minor": 2
}
