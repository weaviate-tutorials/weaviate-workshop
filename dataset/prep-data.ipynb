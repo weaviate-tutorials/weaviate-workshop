{
 "cells": [
  {
   "cell_type": "code",
   "execution_count": null,
   "metadata": {},
   "outputs": [],
   "source": [
    "import requests\n",
    "import zipfile\n",
    "import io\n",
    "\n",
    "def download_and_extract_zip(url, extract_to='.'):\n",
    "    try:\n",
    "        # Send a GET request to the URL\n",
    "        response = requests.get(url)\n",
    "        \n",
    "        # Raise an exception if the request was unsuccessful\n",
    "        response.raise_for_status()\n",
    "        \n",
    "        # Create a ZipFile object from the response content\n",
    "        with zipfile.ZipFile(io.BytesIO(response.content)) as zip_file:\n",
    "            # Extract all the contents into the specified directory\n",
    "            zip_file.extractall(extract_to)\n",
    "        \n",
    "        print(f'Files extracted to {extract_to}')\n",
    "    except requests.exceptions.RequestException as e:\n",
    "        print(f\"Error during the download: {e}\")\n",
    "    except zipfile.BadZipFile as e:\n",
    "        print(f\"Error during the extraction: {e}\")\n",
    "\n"
   ]
  },
  {
   "cell_type": "code",
   "execution_count": null,
   "metadata": {},
   "outputs": [],
   "source": [
    "# Example usage\n",
    "url = 'https://<service_url>/datasets/wiki-samples'\n",
    "download_and_extract_zip(url, extract_to='./openai')"
   ]
  }
 ],
 "metadata": {
  "language_info": {
   "name": "python"
  }
 },
 "nbformat": 4,
 "nbformat_minor": 2
}
